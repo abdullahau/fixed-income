{
 "cells": [
  {
   "cell_type": "code",
   "execution_count": 34,
   "metadata": {},
   "outputs": [],
   "source": [
    "import numpy as np\n",
    "from bond_pricing import bond_price, bond_coupon_periods, bond_yield\n",
    "from scipy.optimize import newton"
   ]
  },
  {
   "cell_type": "markdown",
   "metadata": {},
   "source": [
    "### Original Issue Discount Bonds"
   ]
  },
  {
   "cell_type": "markdown",
   "metadata": {},
   "source": [
    "The key tax aspect of an OID bond is that the yearly movement along the constant‐yield price trajectory is the reported ordinary interest income to the investor and interest expense to the issuer.\n",
    "\n",
    "An investor who buys and holds to maturity an OID bond will not have a capital gain because the discount will be taxed as ordinary income over the lifetime of the bond. The problem is that this is “phantom” income in that there is a tax liability each year despite the absence of a cash receipt to pay the tax. That creates a market segmentation effect—most zero‐coupon bonds such as Treasury STRIPS are owned by defined benefit pension funds or by individuals in their retirement savings accounts, for example, 401(k)s. \n",
    "\n",
    "The other significant aspect to OID taxation is that capital gains and losses are measured from the constant‐yield price trajectory if the bond is sold prior to maturity.\n",
    "\n",
    "These tax rules for OID bonds match the economic fundamentals in that interest income is the price change caused purely by the passage of time. A capital gain or loss is the price movement caused by the change in value, meaning a change in the bond yield.\n",
    "\n",
    "The investor’s after‐tax rate of return depends on the ordinary tax rates that prevail in each year and on the capital gains rate if the zero‐coupon bond is sold prior to maturity.\n",
    "\n",
    "The investor *credits* interest income and *debits* the bond investment by the interest income generated through passage of time. Those entries raise the *carrying book value* (and the basis for taxation) of the zero‐coupon bond. The capital gain represents the profit from selling at a price above the carrying book value amount."
   ]
  },
  {
   "cell_type": "code",
   "execution_count": 52,
   "metadata": {},
   "outputs": [
    {
     "name": "stdout",
     "output_type": "stream",
     "text": [
      "Holding Period Return 6.357% (s.a.), 2 years\n",
      "Constant Yield Price (5.174%) = 63.145, year 1\n",
      "Taxable Interest Income 3.145 Income Tax = 0.786\n",
      "Constant Yield Price (5.174%) = 66.454, year 2\n",
      "Taxable Interest Income 3.309 Income Tax = 0.827\n",
      "Capital Gains Tax = 0.232 on Capital Gain = 1.546\n",
      "After-Tax Rate of Return = 4.912% (s.a.)\n"
     ]
    }
   ],
   "source": [
    "n_mat = 10\n",
    "buy_price = 60\n",
    "sell_price = 68\n",
    "face = 100\n",
    "n_sell = 2\n",
    "per = 2 #semiannual compounding\n",
    "ytm = ((face/buy_price)**(1/(n_mat*per)) - 1) * per\n",
    "income_tax = 0.25\n",
    "capital_tax = 0.15\n",
    "\n",
    "horizon_yield = ((sell_price/buy_price)**(1/(n_sell*per)) - 1)*per\n",
    "print(f'Holding Period Return {horizon_yield:.3%} (s.a.), {n_sell} years')\n",
    "\n",
    "constant_yield_price = [face / ((1 + ytm/per)**((n_mat-i)*per)) for i in range(n_mat)]\n",
    "taxable_int_income = [constant_yield_price[i] - constant_yield_price[i-1] for i in range(1, n_mat)]\n",
    "income_tax = [inc * (income_tax) for inc in taxable_int_income]\n",
    "\n",
    "for i in range(n_sell):\n",
    "    print(f'Constant Yield Price ({ytm:.3%}) = {constant_yield_price[i+1]:0.3f}, year {i+1}')\n",
    "    print(f'Taxable Interest Income {taxable_int_income[i]:0.3f}', f'Income Tax = {income_tax[i]:.3f}')\n",
    "\n",
    "taxable_capital_gain = sell_price - constant_yield_price[2] \n",
    "capital_gain_tax = taxable_capital_gain * capital_tax\n",
    "print(f'Capital Gains Tax = {capital_gain_tax:0.3f} on Capital Gain = {taxable_capital_gain:0.3f}')\n",
    "\n",
    "\n",
    "at_cf = np.array([-income_tax[0], sell_price-capital_gain_tax-income_tax[1]])\n",
    "period = np.arange(1, n_sell+1)\n",
    "\n",
    "def aty(price, cash_flow, periods, per):\n",
    "    def present_value(rate, cash_flow, periods, per):\n",
    "        discount_factor = (1 + rate/per)**(-periods*per)\n",
    "        return np.dot(cash_flow, discount_factor)\n",
    "    def f(x):\n",
    "        return present_value(rate=x, cash_flow=cash_flow, periods=periods, per=per) - price\n",
    "    root = newton(f, 0, disp=False)\n",
    "    return root\n",
    "\n",
    "at_return = aty(price = buy_price, cash_flow=at_cf, periods=np.arange(1, n_sell+1), per=2)\n",
    "print(f'After-Tax Rate of Return = {at_return:0.3%} (s.a.)')"
   ]
  },
  {
   "cell_type": "markdown",
   "metadata": {},
   "source": [
    "### Municipal Bonds"
   ]
  },
  {
   "cell_type": "markdown",
   "metadata": {},
   "source": [
    "Municipal bonds (munis) issued by state and local governments in the U.S. are **exempt from federal taxation**. Additionally, if the investor residers in the issuer's locality, the investor may also be exempt from state and local income taxes.\n",
    "\n",
    "Investors often evaluate a municipal bond based on its **equivalent taxable yield** (ETY) statistic. The intent is to be able to compare directly the yield on a tax‐exempt bond to otherwise comparable fully taxable corporate offerings. This comparison is not as easy as it might sound because the bond rating agencies have different criteria for each bond type—that is, a double A‐rated muni does not necessarily have the same projected probability of default (and recovery rate) as a double A‐rated corporate bond.\n",
    "\n",
    "The commonly used ETY statistic, which we can call the *street* version because it is widely used in practice, is the *after‐tax yield divided by one minus the assumed ordinary income tax rate*. Note that the after‐tax yield on the muni is not just its quoted, or pretax, yield to maturity. When a muni is purchased at a premium or discount and either held to maturity or sold prior to maturity, there still are federal tax implications, it generates taxable capital gains and losses for de minimis OID bonds or ordinary income tax for OID bonds on the discount portion.\n",
    "\n",
    "These taxes are not economically justified. In principle, the “gain” from buying at a market discount is just deferred interest income and should be tax exempt similar to the coupon payments. Two bonds issued by the same state government, maturing on the same date with the same credit risk should have the same after-tax yield to maturity despite their coupon rates (differing due to liquidity, perhaps). However, the current tax regulationn penalizes the lower coupon discount bond because its coupon deficiency is classified as gains and is taxed as ordinary income—not as tax-exempt interest income."
   ]
  },
  {
   "cell_type": "markdown",
   "metadata": {},
   "source": [
    "Equivalent taxable yield (ETY) - Street Version:\n",
    "$$ETY = \\frac{\\text{After-Tax YTM}}{(1 - \\text{Ordinary Income Tax Rate})}$$\n",
    "\n",
    "Equivalent taxable yield (ETY) - Theoretical Version:\n",
    "$$PV=\\left(\\frac{PMT}{1-\\text{Oridnary Income Tax Rate}}\\right)\\left(\\frac{1-(1+ETY)^{-N}}{ETY}\\right)+\\frac{FV}{(1+ETY)^N}$$\n",
    "\n",
    "The second, theoretical version, solve for the internal rate of return on a taxable offering that generates the same after‐tax cash flows as the muni. Note that the redemption amount does not need to be adjusted because both the taxable corporate and the “tax‐exempt” muni face capital gains taxation on the de minimis OID or ordinary income tax on market discount bonds.\n",
    "\n",
    "The latter function (or the expanded version of the closed-form function) allows for more flexibility in including **term structure of tax rates** over time as the investor's ordinary tax rate increases. To incorporate this assumption into the street ETY calculation, one could input some form of weighted average of the tax rates."
   ]
  },
  {
   "cell_type": "code",
   "execution_count": 75,
   "metadata": {},
   "outputs": [
    {
     "name": "stdout",
     "output_type": "stream",
     "text": [
      "Muni 1: After-Tax Rate of Return = 4.159% (annually), Equiv. Taxable Yield (ETY) = 5.545%\n",
      "Muni 2: After-Tax Rate of Return = 3.444% (annually), Equiv. Taxable Yield (ETY) = 4.592%\n"
     ]
    }
   ],
   "source": [
    "muni_n = 4\n",
    "muni_face = 100\n",
    "muni1_cpn = 0.04\n",
    "muni1_price = 99.342 # qualifies for de minimis OID rule as discount < (4 x 0.25)\n",
    "muni2_cpn = 0.01\n",
    "muni2_price = 88.499 # OID classification \n",
    "\n",
    "income_tax = 0.25\n",
    "capital_tax = 0.15\n",
    "\n",
    "muni1_cf = np.full(muni_n, muni1_cpn*100)\n",
    "muni1_cf[-1] += muni_face - (muni_face - muni1_price)*capital_tax # discount taxed as capital gains (de minimis OID)\n",
    "\n",
    "muni2_cf = np.full(muni_n, muni2_cpn*100)\n",
    "muni2_cf[-1] += muni_face - (muni_face - muni2_price)*income_tax # discount taxes as ordinary interest income\n",
    "\n",
    "def aty(price, cash_flow, periods, per):\n",
    "    def present_value(rate, cash_flow, periods, per):\n",
    "        discount_factor = (1 + rate/per)**(-periods*per)\n",
    "        return np.dot(cash_flow, discount_factor)\n",
    "    def f(x):\n",
    "        return present_value(rate=x, cash_flow=cash_flow, periods=periods, per=per) - price\n",
    "    root = newton(f, 0, disp=False)\n",
    "    return root\n",
    "\n",
    "muni1_at_return = aty(price = muni1_price, cash_flow=muni1_cf, periods=np.arange(1, muni_n+1), per=1)\n",
    "street_ety_muni1 = muni1_at_return / (1 - income_tax)\n",
    "print(f'Muni 1: After-Tax Rate of Return = {muni1_at_return:0.3%} (annually), Equiv. Taxable Yield (ETY) = {street_ety_muni1:0.3%}')\n",
    "\n",
    "muni2_at_return = aty(price = muni2_price, cash_flow=muni2_cf, periods=np.arange(1, muni_n+1), per=1)\n",
    "street_ety_muni2 = muni2_at_return / (1 - income_tax)\n",
    "print(f'Muni 2: After-Tax Rate of Return = {muni2_at_return:0.3%} (annually), Equiv. Taxable Yield (ETY) = {street_ety_muni2:0.3%}')"
   ]
  },
  {
   "cell_type": "code",
   "execution_count": 76,
   "metadata": {},
   "outputs": [
    {
     "name": "stdout",
     "output_type": "stream",
     "text": [
      "Muni 1: Pre-Tax Rate of Return = 4.182% (annually)\n",
      "Muni 2: Pre-Tax Rate of Return = 4.182% (annually)\n"
     ]
    }
   ],
   "source": [
    "muni1_cf = np.full(muni_n, muni1_cpn*100)\n",
    "muni1_cf[-1] += muni_face\n",
    "\n",
    "muni2_cf = np.full(muni_n, muni2_cpn*100)\n",
    "muni2_cf[-1] += muni_face\n",
    "\n",
    "muni1_at_return = aty(price = muni1_price, cash_flow=muni1_cf, periods=np.arange(1, muni_n+1), per=1)\n",
    "print(f'Muni 1: Pre-Tax Rate of Return = {muni1_at_return:0.3%} (annually)')\n",
    "\n",
    "muni2_at_return = aty(price = muni2_price, cash_flow=muni2_cf, periods=np.arange(1, muni_n+1), per=1)\n",
    "print(f'Muni 2: Pre-Tax Rate of Return = {muni2_at_return:0.3%} (annually)')"
   ]
  },
  {
   "cell_type": "code",
   "execution_count": 78,
   "metadata": {},
   "outputs": [
    {
     "name": "stdout",
     "output_type": "stream",
     "text": [
      "Muni 1: After-Tax Rate of Return = 5.521% (annually)\n",
      "Muni 2: After-Tax Rate of Return = 4.542% (annually)\n"
     ]
    }
   ],
   "source": [
    "def aty(price, at_pmt, years, face):\n",
    "    def present_value(rate, years, pmt, fv):\n",
    "        old_settings = np.seterr(invalid='ignore')\n",
    "        pvPMT = np.where(rate == 0, years, np.divide(1 - (1+rate)**-years, rate)) * pmt\n",
    "        np.seterr(**old_settings)\n",
    "        pvFV = fv / (1 + rate)**years\n",
    "        return pvPMT + pvFV\n",
    "    def f(x):\n",
    "        return present_value(rate=x, years=years, pmt=at_pmt, fv=face) - price\n",
    "    root = newton(f, 0, disp=False)\n",
    "    return root\n",
    "\n",
    "muni1_at_return = aty(price=muni1_price, at_pmt=(muni1_cpn*100)/(1-income_tax), years=muni_n, face=muni_face)\n",
    "print(f'Muni 1: After-Tax Rate of Return = {muni1_at_return:0.3%} (annually)')\n",
    "\n",
    "muni2_at_return = aty(price=muni2_price, at_pmt=(muni2_cpn*100)/(1-income_tax), years=muni_n, face=muni_face)\n",
    "print(f'Muni 2: After-Tax Rate of Return = {muni2_at_return:0.3%} (annually)')"
   ]
  }
 ],
 "metadata": {
  "kernelspec": {
   "display_name": "fin",
   "language": "python",
   "name": "python3"
  },
  "language_info": {
   "codemirror_mode": {
    "name": "ipython",
    "version": 3
   },
   "file_extension": ".py",
   "mimetype": "text/x-python",
   "name": "python",
   "nbconvert_exporter": "python",
   "pygments_lexer": "ipython3",
   "version": "3.12.6"
  }
 },
 "nbformat": 4,
 "nbformat_minor": 2
}
