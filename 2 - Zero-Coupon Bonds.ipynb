{
 "cells": [
  {
   "cell_type": "markdown",
   "metadata": {},
   "source": [
    "### Imports"
   ]
  },
  {
   "cell_type": "code",
   "execution_count": 32,
   "metadata": {},
   "outputs": [],
   "source": [
    "import numpy as np\n",
    "from bond_pricing import equiv_rate, annuity_pv, annuity_fv, annuity_rate, annuity_instalment\n",
    "import matplotlib.pyplot as plt\n",
    "from matplotlib.ticker import PercentFormatter"
   ]
  },
  {
   "cell_type": "markdown",
   "metadata": {},
   "source": [
    "### Yields to Maturity on Zero-Coupon Bonds"
   ]
  },
  {
   "cell_type": "markdown",
   "metadata": {},
   "source": [
    "$$PV=\\frac{FV}{(1+\\frac{APR_{PER}}{PER})^{Years \\times PER}}$$\n",
    "$$APR_{PER}=\\left[\\left(\\frac{FV}{PV}\\right)^{\\frac{1}{Years\\times PER}} - 1\\right]\\times PER$$\n",
    "\n",
    "- PV = present value, or price, of the bond, \n",
    "- FV = future value, which usually is 100 (percent of par value) at maturity, \n",
    "- Years = number of years to maturity, \n",
    "- PER = periodicity—the number of evenly-spaced periods in the year; and \n",
    "- $APR_{PER}$ = yield to maturity, stated as an annual percentage rate corresponding to PER.\n",
    "\n",
    "The “s.a.” tag, commonly used in bond markets, means that the yield is stated on a semiannual bond basis and is an annual percentage rate that has a periodicity of 2. The assumption of two periods in the year, while totally arbitrary, is common in financial markets because the yield on the zero then can be compared directly to yields to maturity on traditional semiannual payment fi xedincome bonds."
   ]
  },
  {
   "cell_type": "code",
   "execution_count": 2,
   "metadata": {},
   "outputs": [
    {
     "name": "stdout",
     "output_type": "stream",
     "text": [
      "ytm =  0.10239 (s.a)\n"
     ]
    }
   ],
   "source": [
    "pv = 50\n",
    "fv = 1000\n",
    "years = 30\n",
    "per = 2\n",
    "\n",
    "ytm = ((fv/pv)**(1/(years*per)) - 1) * per\n",
    "print(f'{ytm = : 0.5f} (s.a)')"
   ]
  },
  {
   "cell_type": "code",
   "execution_count": 3,
   "metadata": {},
   "outputs": [
    {
     "name": "stdout",
     "output_type": "stream",
     "text": [
      "ytm =  0.10239 (s.a)\n"
     ]
    }
   ],
   "source": [
    "pv = 50\n",
    "fv = 1000\n",
    "years = 30\n",
    "per = 2\n",
    "\n",
    "ytm = annuity_rate(n_periods=years, instalment=0, pv=pv, terminal_payment=fv, immediate_start=False, cf_freq=1, comp_freq=2)\n",
    "print(f'{ytm = : 0.5f} (s.a)')"
   ]
  },
  {
   "cell_type": "code",
   "execution_count": 4,
   "metadata": {},
   "outputs": [
    {
     "name": "stdout",
     "output_type": "stream",
     "text": [
      "ytm =  0.10151 (s.a)\n"
     ]
    }
   ],
   "source": [
    "pv = 250\n",
    "fv = 1000\n",
    "years = 14\n",
    "per = 2\n",
    "\n",
    "ytm = ((fv/pv)**(1/(years)) - 1)\n",
    "ytm = equiv_rate(rate=ytm, from_freq=1, to_freq=2)\n",
    "print(f'{ytm = : 0.5f} (s.a)')"
   ]
  },
  {
   "cell_type": "code",
   "execution_count": 5,
   "metadata": {},
   "outputs": [
    {
     "name": "stdout",
     "output_type": "stream",
     "text": [
      "ytm =  0.05174 (s.a)\n"
     ]
    }
   ],
   "source": [
    "pv = 60\n",
    "fv = 100\n",
    "years = 10\n",
    "per = 2\n",
    "\n",
    "ytm = ((fv/pv)**(1/(years*per)) - 1) * per\n",
    "print(f'{ytm = : 0.5f} (s.a)')"
   ]
  },
  {
   "cell_type": "markdown",
   "metadata": {},
   "source": [
    "### Continuous Compounding "
   ]
  },
  {
   "cell_type": "markdown",
   "metadata": {},
   "source": [
    "There are times in bond math when it is convenient to assume continuous compounding. That is, there are assumed to be an infinite number of compounding periods in the year. Continuous-time finance is particularly useful in **interest rate term structure** and **option valuation models**. The formula for the APR given PER = ∞ and the two cash flows PV and FV involves the natural logarithm (LN):\n",
    "\n",
    "$$APR_{∞}=\\frac{1}{Years}\\times\\ln\\left(\\frac{FV}{PV}\\right)$$\n",
    "$$APR_{∞}=PER\\times\\ln\\left(1+\\frac{APR_{PER}}{PER}\\right)$$\n",
    "$$APR_{PER}=PER\\times\\left[EXP\\left(\\frac{APR_{∞}}{PER}\\right)-1\\right]"
   ]
  },
  {
   "cell_type": "code",
   "execution_count": 6,
   "metadata": {},
   "outputs": [
    {
     "name": "stdout",
     "output_type": "stream",
     "text": [
      "ytm_1 = 0.05108\n",
      "ytm_2 = 0.05108\n",
      "ytm_3 = 0.05108\n"
     ]
    }
   ],
   "source": [
    "pv = 60\n",
    "fv = 100\n",
    "years = 10\n",
    "\n",
    "ytm_1 = np.log(fv/pv) * 1/years\n",
    "ytm_2 = np.log(1 + 0.05174/2) * 2\n",
    "ytm_3 = equiv_rate(rate=0.05174, from_freq=2, to_freq=np.inf)\n",
    "print(f'{ytm_1 = :0.5f}\\n{ytm_2 = :0.5f}\\n{ytm_3 = :0.5f}')"
   ]
  },
  {
   "cell_type": "code",
   "execution_count": 7,
   "metadata": {},
   "outputs": [
    {
     "name": "stdout",
     "output_type": "stream",
     "text": [
      "ytm_1 = 0.05174\n",
      "ytm_2 = 0.05174\n"
     ]
    }
   ],
   "source": [
    "pv = 60\n",
    "fv = 100\n",
    "years = 10\n",
    "\n",
    "ytm_1 = 2 * (np.exp(0.05108/2) - 1)\n",
    "ytm_2 = equiv_rate(rate=0.05108, from_freq=np.inf, to_freq=2)\n",
    "print(f'{ytm_1 = :0.5f}\\n{ytm_2 = :0.5f}')"
   ]
  },
  {
   "cell_type": "markdown",
   "metadata": {},
   "source": [
    "### Constant-Yield Price Trajectory / Carrying Value & Horizon Yield"
   ]
  },
  {
   "cell_type": "markdown",
   "metadata": {},
   "source": [
    "A useful yardstick for assessing a **horizon yield** (holding-period rate of return) when the bond is sold prior to maturity is the **constant-yield price trajectory**. This is the path the bond price will take over the time to maturity assuming no default.\n",
    "\n",
    "The movement along the constant-yield price trajectory represents **interest earned** and is also called the **carrying values** for the bond."
   ]
  },
  {
   "cell_type": "code",
   "execution_count": 8,
   "metadata": {},
   "outputs": [
    {
     "name": "stdout",
     "output_type": "stream",
     "text": [
      "rate = 0.05174\n",
      "Year 0 PV = 60.0\n",
      "Year 1 PV = 63.145\n",
      "Year 2 PV = 66.454\n",
      "Year 3 PV = 69.937\n",
      "Year 4 PV = 73.602\n",
      "Year 5 PV = 77.46\n",
      "Year 6 PV = 81.519\n",
      "Year 7 PV = 85.792\n",
      "Year 8 PV = 90.288\n",
      "Year 9 PV = 95.02\n"
     ]
    },
    {
     "data": {
      "image/png": "[encoded data removed]",
      "text/plain": [
       "<Figure size 960x720 with 1 Axes>"
      ]
     },
     "metadata": {},
     "output_type": "display_data"
    }
   ],
   "source": [
    "pv = 60\n",
    "fv = 100\n",
    "per = 2\n",
    "years = 10\n",
    "rate = ((fv/pv)**(1/(years*per)) - 1) * per\n",
    "print(f'{rate = :0.5f}')\n",
    "\n",
    "years_x = np.arange(0, 11)\n",
    "\n",
    "def pv(fv, rate, years, per):\n",
    "  return fv / ((1 + rate/per)**(years*per))\n",
    "\n",
    "pv_y = pv(fv, rate, years_x, per)\n",
    "\n",
    "plt.figure(num=0, dpi=150)\n",
    "plt.plot(10-years_x, pv_y)\n",
    "plt.ylim(ymin=0)\n",
    "plt.title('Constant-Yield Price Trajectory, 10-Year, \\n Zero-Coupon Corporate Bond Priced to Yield 5.174% (s.a.)')\n",
    "plt.xlabel('Years')\n",
    "plt.ylabel('Price')\n",
    "\n",
    "for i in range(10):\n",
    "  print(f\"Year {i} PV =\", round(fv/(1 + rate/per)**((10-i)*per), 3))"
   ]
  },
  {
   "cell_type": "markdown",
   "metadata": {},
   "source": [
    "When the investor is able to sell the corporate zero in 2 years at a yield less than 5.174% (s.a.), the sale price will be above the trajectory and there will be a capital gain. For example, suppose that the investor sells the zero at year 2 for a price of 68 (percent of par value). At that time, the now 8-year corporate zero is trading at 4.879% (s.a.)."
   ]
  },
  {
   "cell_type": "code",
   "execution_count": 9,
   "metadata": {},
   "outputs": [
    {
     "name": "stdout",
     "output_type": "stream",
     "text": [
      "ytm = 4.87935%\n"
     ]
    }
   ],
   "source": [
    "fv = 100\n",
    "pv = 68\n",
    "years = 8\n",
    "per = 2\n",
    "\n",
    "ytm = ((fv/pv)**(1/(years*per)) - 1) * per * 100\n",
    "print(f'{ytm = :.5f}%')"
   ]
  },
  {
   "cell_type": "markdown",
   "metadata": {},
   "source": [
    "The investor’s realized 2-year holding-period rate of return turns out to be 6.357% (s.a.), which is greater than the original yield of 5.174% because the **price is above the constant-yield trajectory**.\n",
    "\n",
    "Notice that we set FV equal to 68—the redemption value of 100 is irrelevant here because the bond is sold for 68."
   ]
  },
  {
   "cell_type": "code",
   "execution_count": 10,
   "metadata": {},
   "outputs": [
    {
     "name": "stdout",
     "output_type": "stream",
     "text": [
      "ytm = 6.35710%\n"
     ]
    }
   ],
   "source": [
    "fv = 68\n",
    "pv = 60\n",
    "years = 2\n",
    "per = 2\n",
    "\n",
    "ytm = ((fv/pv)**(1/(years*per)) - 1) * per * 100\n",
    "print(f'{ytm = :.5f}%')"
   ]
  },
  {
   "cell_type": "markdown",
   "metadata": {},
   "source": [
    "How much is the capital gain if the bond that is purchased at 60 is sold in year 2 at 68? Unlike equity, it should not be 8, the difference between the sale and purchase price. The movement along the constant-yield price trajectory shown in plot above represents interest earned. So, interest income is 3.145 for the first year (= 63.145 – 60) and 3.309 for the second year (= 66.454 – 63.145). The key point is that, in principle, interest income is the change in price associated with the **passage of time**.\n",
    "\n",
    "Capital gains and losses are the changes in price related to **changes in value**—for bonds that means a **change in the yield** and a **price above or below the carrying value**. "
   ]
  },
  {
   "cell_type": "markdown",
   "metadata": {},
   "source": [
    "Suppose that the investor does not sell after two years and instead holds on to the bond for seven years. At that time, the now 3-year corporate zero is sold for 83 because it is being priced to yield 6.308% (s.a.)."
   ]
  },
  {
   "cell_type": "code",
   "execution_count": 11,
   "metadata": {},
   "outputs": [
    {
     "name": "stdout",
     "output_type": "stream",
     "text": [
      "6.308432926101526\n"
     ]
    }
   ],
   "source": [
    "# Yield at which the bond is sold\n",
    "pv = 83\n",
    "fv = 100\n",
    "years = 3 # remaining years\n",
    "per = 2\n",
    "\n",
    "ytm = ((fv/pv)**(1/(years*per)) - 1) * per\n",
    "print(ytm*100)"
   ]
  },
  {
   "cell_type": "markdown",
   "metadata": {},
   "source": [
    "The investor’s realized 7-year holding-period rate of return is 4.690% (s.a.), which is less than 5.174% because the sale price is below the trajectory.\n",
    "\n",
    "In this case, there is a capital loss even though the investor buys at 60 and sells later at the much higher price of 83. The relevant comparison is between 83 and 85.792, the carrying value on the constant-yield price trajectory."
   ]
  },
  {
   "cell_type": "code",
   "execution_count": 12,
   "metadata": {},
   "outputs": [
    {
     "name": "stdout",
     "output_type": "stream",
     "text": [
      "4.689798589683569\n"
     ]
    }
   ],
   "source": [
    "# Realized return \n",
    "pv = 60\n",
    "fv = 83\n",
    "years = 7 # remaining years\n",
    "per = 2\n",
    "\n",
    "ytm = ((fv/pv)**(1/(years*per)) - 1) * per\n",
    "print(ytm*100)"
   ]
  },
  {
   "cell_type": "markdown",
   "metadata": {},
   "source": [
    "There in an important investment lesson in these scenarios. Suppose the buyer of the 10-year corporate zero actually has an investment horizon of 10 years and plans to hold the bond to maturity. Then the unrealized gain in year 2 caused by the lower yield at that time, as well as the unrealized loss in year 7 caused by the higher yield, has no impact on the realized total return. The bull market prevailing in year 2 and the bear market in year 7 are irrelevant news\n",
    "stories to this investor. The bond buyer achieves a locked-in yield to maturity of 5.174% (s.a.) regardless of the path that the price takes to its destination of par value—before taxes and inflation and assuming no default."
   ]
  },
  {
   "cell_type": "code",
   "execution_count": 13,
   "metadata": {},
   "outputs": [
    {
     "name": "stdout",
     "output_type": "stream",
     "text": [
      "-2.791720044409516 25.791720044409516 0.06308432926101526\n",
      "0.04689798589683569\n"
     ]
    }
   ],
   "source": [
    "# Horizon Yield & Capital Gains\n",
    "\n",
    "def horizon_yield(purchase_price, current_price, years, per):\n",
    "  return ((current_price/purchase_price)**(1/(years*per)) - 1) * per\n",
    "\n",
    "def capital_gains(purchase_price, current_price, par_value, years_to_maturity_purchase, years_to_mat, per):\n",
    "  purchase_ytm = ((par_value/purchase_price)**(1/(years_to_maturity_purchase*per)) - 1) * per\n",
    "  constant_yield_price = par_value / ((1 + purchase_ytm/per)**(years_to_mat*per))\n",
    "  current_ytm = ((par_value/current_price)**(1/(years_to_mat*per)) - 1) * per\n",
    "  return (current_price - constant_yield_price), (constant_yield_price - purchase_price), current_ytm\n",
    "\n",
    "purchase_price = 60\n",
    "current_price = 83\n",
    "par_value = 100\n",
    "years_to_maturity_purchase = 10\n",
    "years_to_mat = 3\n",
    "per = 2\n",
    "\n",
    "capital_gain, interest_earned, current_ytm = capital_gains(purchase_price, current_price, par_value, years_to_maturity_purchase, years_to_mat, per)\n",
    "print(capital_gain, interest_earned, current_ytm)\n",
    "print(horizon_yield(purchase_price, current_price, years_to_maturity_purchase-years_to_mat, per))"
   ]
  },
  {
   "cell_type": "markdown",
   "metadata": {},
   "source": [
    "### Breakeven Curve & Rate"
   ]
  },
  {
   "cell_type": "markdown",
   "metadata": {},
   "source": [
    "This breakeven curve represents the rate changes required over a one year time horizon such that investors in all maturities have the same realized return; specifically the current 1-year yield.\n",
    "\n",
    "The mechanics of the break-even curve are easily revealed – with an upward sloping curve, an investor earns a higher yield by investing in longer duration securities. As such, if rates were to remain unchanged, an investor holding the 10-year Treasury note would outperform an investor holding the 1-year Treasury bill. The *break-even curve simply solves for the rate increase required for the return on the 10-year Treasury to equal that of the 1-year Treasury.* \n",
    "\n",
    "Of course, if the yield curve is perfectly flat, the break-even curve would be identical to the current yield curve. If the yield curve is inverted, break-even rates would be below the prevailing curve. Additionally, break-even curves can be calculated for a range of horizons – in each case the yield changes correspond to rate changes required to break-even with that horizon’s zero coupon Treasury security.\n",
    "\n",
    "The importance of the break-even curve for investors considering tactical interest rate investing is that it provides a framework for implementing interest rate views. For an investor to profit from a bearish view on bonds over a given time horizon, the investor must expect rates to rise more than the break-even level over that period. For an investor to profit from a bullish view on bonds, the investor must expect rates to rise less than the horizon break-even level.\n",
    "\n",
    "A breakeven rate is very useful in assessing the risk in the “maturity extension” strategy.\n",
    "\n",
    "Reference: [The Break-Even Yield Curve - NISA](https://nisa.com/wp-content/uploads/2011/08/NISA-Break-Even-Yield-Curve.pdf)"
   ]
  },
  {
   "cell_type": "markdown",
   "metadata": {},
   "source": [
    "Break-even yield curves are calculated to understand the yield you need to earn on an investment to equate it to another investment over different maturities. It's a way to compare the attractiveness of investments.\n",
    "\n",
    "Here’s a simplified view:\n",
    "1. **Select Short and Long Maturity**: Choose the starting point (e.g., 1 year) and the ending point (e.g., 2 years).\n",
    "2. **Discount Factors**: Compute the discount factors for both short and long maturities. Discount factor = $(1 + yield)^{maturity}$.\n",
    "3. **Ratio of Discount Factors**: Divide the long maturity discount factor by the short maturity discount factor.\n",
    "4. **Adjust for Time**: Calculate the *geometric average rate over the difference in maturities*.\n",
    "5. **Compute Break-Even Yield**: Adjust the geometric rate to find the break-even yield.\n",
    "In mathematical terms, for short maturity $S$ with yield $Y_{S}$, and long maturity $L$ with yield $Y_{L}$:\n",
    "$$\\text{Short Discount} = (1 + Y_S)^{S}$$\n",
    "$$\\text{Long Discount} = (1 + Y_L)^{L}$$\n",
    "$$\\text{Break-Even Yield} = \\left( \\frac{\\text{Long Discount}}{\\text{Short Discount}} \\right)^{\\frac{1}{L-S}} - 1$$\n",
    "This process allows you to see the required yield for different maturities to make investments equivalent in terms of returns.\n"
   ]
  },
  {
   "cell_type": "code",
   "execution_count": 14,
   "metadata": {},
   "outputs": [
    {
     "data": {
      "text/plain": [
       "<matplotlib.legend.Legend at 0x1215c22d0>"
      ]
     },
     "execution_count": 14,
     "metadata": {},
     "output_type": "execute_result"
    },
    {
     "data": {
      "image/png": "[encoded data removed]",
      "text/plain": [
       "<Figure size 960x720 with 1 Axes>"
      ]
     },
     "metadata": {},
     "output_type": "display_data"
    }
   ],
   "source": [
    "# For ease of comparison, this description approximates the break-even calculation for a “constant maturity” 10-year security. \n",
    "# A similar result would apply to a bond that is allowed to age over the horizon.\n",
    "\n",
    "# June 30th, 2011 - Daily Treasury Par Yield Curve Rates\n",
    "yield_curve = {1: 0.0019,\n",
    "               2: 0.0045,\n",
    "               3: 0.0081,\n",
    "               5: 0.0176,\n",
    "               7: 0.0250,\n",
    "               10: 0.0318,\n",
    "               20: 0.0409,\n",
    "               30: 0.0438}\n",
    "\n",
    "mat_x = [year for year in yield_curve.keys() if year != 1]\n",
    "\n",
    "def breakeven_rate(short_maturity, short_yield, long_maturity, long_yield, per):\n",
    "  short_discount = (1 + short_yield/per)**(short_maturity*per)\n",
    "  long_discount = (1 + long_yield/per)**(long_maturity*per)\n",
    "  return ((long_discount / short_discount)**(1/((long_maturity - short_maturity)*per)) - 1) * per\n",
    "\n",
    "breakeven_y = [breakeven_rate(short_maturity=1,short_yield=yield_curve[1], long_maturity=year, long_yield=yield_curve[year], per=1) for year in mat_x]\n",
    "\n",
    "plt.figure(num=0, dpi=150)\n",
    "plt.plot(yield_curve.keys(), yield_curve.values(), label='Yield Curve')\n",
    "plt.plot(mat_x, breakeven_y, label='Break-Even Yield Curve')\n",
    "plt.ylim(ymin=0, ymax=0.05)\n",
    "plt.gca().yaxis.set_major_formatter(PercentFormatter(xmax=1, decimals=0))\n",
    "plt.title('Daily Treasury Par Yield Curve Rates & Break-Even Yield Curve')\n",
    "plt.xlabel('Maturity (Years)')\n",
    "plt.ylabel('Yield, %')\n",
    "plt.legend()"
   ]
  },
  {
   "cell_type": "code",
   "execution_count": 15,
   "metadata": {},
   "outputs": [
    {
     "name": "stdout",
     "output_type": "stream",
     "text": [
      "Mat. = 2 short_fv = 99.29, long_sale = 99.29, yield_diff = 26bps\n",
      "Mat. = 3 short_fv = 97.79, long_sale = 97.79, yield_diff = 31bps\n",
      "Mat. = 5 short_fv = 91.82, long_sale = 91.82, yield_diff = 40bps\n",
      "Mat. = 7 short_fv = 84.29, long_sale = 84.29, yield_diff = 39bps\n",
      "Mat. = 10 short_fv = 73.26, long_sale = 73.26, yield_diff = 34bps\n",
      "Mat. = 20 short_fv = 44.94, long_sale = 44.94, yield_diff = 21bps\n",
      "Mat. = 30 short_fv = 27.69, long_sale = 27.69, yield_diff = 15bps\n"
     ]
    }
   ],
   "source": [
    "for i in range(len(breakeven_y)):\n",
    "  long_purchase = 100 / (1 + yield_curve[mat_x[i]])**mat_x[i]\n",
    "  short_fv = long_purchase * (1 + yield_curve[1])\n",
    "  long_sale = 100 / (1 + breakeven_y[i])**(mat_x[i] - 1)\n",
    "  yield_diff = (breakeven_y[i] - yield_curve[mat_x[i]])*10_000\n",
    "  print(f'Mat. = {mat_x[i]} {short_fv = :0.2f}, {long_sale = :0.2f}, {yield_diff = :0.0f}bps')"
   ]
  },
  {
   "cell_type": "markdown",
   "metadata": {},
   "source": [
    "For calculating break-even yields above a Treasury yield curve:\n",
    "1. **Rate Changes Over One Year**: The break-even curve indicates how rates need to adjust over one year so that all investors, regardless of the bond's maturity, realize the same return as if they had invested in a 1-year Treasury bill.\n",
    "2. **Short and Long Maturities**:\n",
    "   - **Short Maturity**: This is typically the 1-year Treasury yield, which serves as the baseline or starting point for the break-even calculations.\n",
    "   - **Long Maturity**: This can be any maturity in the yield curve (2, 3, 5, 7, 10, 20, 30 years).\n",
    "3. **Calculating Break-Even Yield**: For each maturity on the curve (2 years, 3 years, etc.), you need to determine the rate change required so that the yield of the longer-maturity bond, adjusted over one year, matches the yield of the 1-year Treasury bill.\n",
    "\n",
    "In essence, you’re figuring out what yield (i.e., what rate change) is needed for different maturities so investors get the same return as they would from a 1-year Treasury. That’s how these yields are plotted against the Treasury yield curve. It’s an elegant way to compare the returns of different maturities with a constant short-term benchmark.\n",
    "\n",
    "This makes it possible to visualize, at a glance, how yields across various maturities would need to change for investors to remain indifferent between long-term and short-term bonds."
   ]
  },
  {
   "cell_type": "code",
   "execution_count": 16,
   "metadata": {},
   "outputs": [
    {
     "name": "stdout",
     "output_type": "stream",
     "text": [
      "long_pv = 74.409, Year = 0, YTM = 3.00%\n",
      "short_fv = 82.154, Year = 0, YTM = 2.00%\n",
      "\n",
      "long_pv = 86.261, Year = 5, YTM = 3.00%\n",
      "long_pv = 82.154, Year = 5, Break-Even YTM = 4.009804%\n"
     ]
    }
   ],
   "source": [
    "short_yield = 0.02\n",
    "short_mat = 5\n",
    "long_yield = 0.03\n",
    "long_mat = 10\n",
    "\n",
    "breakeven = breakeven_rate(short_maturity=short_mat, short_yield=short_yield, long_maturity=long_mat, long_yield=long_yield, per=1)\n",
    "\n",
    "long_pv = 100 / (1+long_yield)**(long_mat)\n",
    "print(f'{long_pv = :0.3f}, Year = 0, YTM = 3.00%')\n",
    "short_fv = long_pv * (1+short_yield)**(short_mat)\n",
    "print(f'{short_fv = :0.3f}, Year = 0, YTM = 2.00%')\n",
    "print()\n",
    "long_pv = 100 / (1+long_yield)**(long_mat - short_mat)\n",
    "print(f'{long_pv = :0.3f}, Year = 5, YTM = 3.00%')\n",
    "long_pv = 100 / (1+breakeven)**(long_mat - short_mat)\n",
    "print(f'{long_pv = :0.3f}, Year = 5, Break-Even YTM = {breakeven :%}')"
   ]
  },
  {
   "cell_type": "markdown",
   "metadata": {},
   "source": [
    "Consider a 2-year corporate zeros are priced at 95 to yield only 2.581% (s.a) and a 10-year zero yielding 5.174%"
   ]
  },
  {
   "cell_type": "code",
   "execution_count": 17,
   "metadata": {},
   "outputs": [
    {
     "name": "stdout",
     "output_type": "stream",
     "text": [
      "short_ytm = 0.025811789959920173\n",
      "short_fv = 63.15789473684209\n",
      "short_interest = 3.1578947368420884\n",
      "\n",
      "long_ytm = 0.051740509078987085\n",
      "long_fv = 66.45398059489737\n",
      "long_interest = 6.453980594897374\n",
      "\n",
      "profit = 3.296085858055285\n",
      "breakeven_yield = 0.05827437795383439\n"
     ]
    }
   ],
   "source": [
    "# Short Bond\n",
    "short_years = 2\n",
    "short_pv = 95\n",
    "# Long Bond\n",
    "long_years = 10\n",
    "long_pv = 60\n",
    "\n",
    "fv = 100\n",
    "per = 2\n",
    "\n",
    "short_ytm = ((fv/short_pv)**(1/(short_years*per)) - 1) * per\n",
    "print(f'{short_ytm = }')\n",
    "# Short FV if brought at Long PV\n",
    "short_fv = long_pv * (1 + (short_ytm/per))**(short_years * per)\n",
    "print(f'{short_fv = }')\n",
    "short_interest = short_fv - long_pv\n",
    "print(f'{short_interest = }')\n",
    "print()\n",
    "\n",
    "long_ytm = ((fv/long_pv)**(1/(long_years*per)) - 1) * per\n",
    "print(f'{long_ytm = }')\n",
    "# Value of Long Bond when Short Bond Matures\n",
    "long_fv = long_pv * (1 + (long_ytm/per))**(short_years * per)\n",
    "print(f'{long_fv = }')\n",
    "# Interest Earned During The period\n",
    "long_interest = long_fv - long_pv\n",
    "print(f'{long_interest = }')\n",
    "print()\n",
    "\n",
    "profit = long_interest - short_interest\n",
    "print(f'{profit = }')\n",
    "\n",
    "breakeven_yield = ((100/short_fv)**(1/((long_years-short_years)*per)) - 1) * per\n",
    "print(f'{breakeven_yield = }')"
   ]
  },
  {
   "cell_type": "code",
   "execution_count": 18,
   "metadata": {},
   "outputs": [
    {
     "name": "stdout",
     "output_type": "stream",
     "text": [
      "long_pv = 60.000, Year = 0, YTM = 5.174051%\n",
      "short_fv = 63.158, Year = 0, YTM = 2.581179%\n",
      "\n",
      "long_pv = 66.454, Year = 2, YTM = 5.174051%\n",
      "\n",
      "long_pv = 63.158, Year = 2, Break-Even = 5.827438%\n"
     ]
    }
   ],
   "source": [
    "short_mat = 2\n",
    "short_yield = ((100/95)**(1/(short_mat*2)) - 1) * 2\n",
    "long_mat = 10\n",
    "long_yield = ((100/60)**(1/(long_mat*2)) - 1) * 2\n",
    "\n",
    "\n",
    "breakeven = breakeven_rate(short_maturity=short_mat, short_yield=short_yield, long_maturity=long_mat, long_yield=long_yield, per=2)\n",
    "\n",
    "long_pv = 100 / (1+long_yield/2)**(long_mat*2)\n",
    "print(f'{long_pv = :0.3f}, Year = 0, YTM = {long_yield :%}')\n",
    "short_fv = long_pv * (1+short_yield/2)**(short_mat*2)\n",
    "print(f'{short_fv = :0.3f}, Year = 0, YTM = {short_yield :%}')\n",
    "print()\n",
    "long_pv = 100 / (1+long_yield/2)**((long_mat - short_mat)*2)\n",
    "print(f'{long_pv = :0.3f}, Year = 2, YTM = {long_yield :%}')\n",
    "print()\n",
    "long_pv = 100 / (1+breakeven/2)**((long_mat - short_mat)*2)\n",
    "print(f'{long_pv = :0.3f}, Year = 2, Break-Even = {breakeven :%}')"
   ]
  },
  {
   "cell_type": "code",
   "execution_count": 19,
   "metadata": {},
   "outputs": [],
   "source": [
    "def breakeven_rate(short_maturity, short_yield, long_maturity, long_yield, per):\n",
    "  long_pv = 100 / (1 + long_yield/per)**(long_maturity*per)\n",
    "  short_fv = long_pv * (1 + short_yield/per)**(short_maturity*per)\n",
    "  return ((100/short_fv)**(1/((long_years-short_years)*per)) - 1) * per"
   ]
  },
  {
   "cell_type": "markdown",
   "metadata": {},
   "source": [
    "### Changes in Bond Prices and Yields"
   ]
  },
  {
   "cell_type": "markdown",
   "metadata": {},
   "source": [
    "Bond prices change from day to day because of the **passage of time**, changes in **benchmark** and **spread** over (or under) the benchmark. Think of the yield as the investor’s **required rate of return** for holding the bond to its maturity and bearing the default risk. If for some reason investors require a higher (or lower) return for the bond, the price must fall (or rise).\n",
    "\n",
    "It is useful for analysis to break a corporate bond yield into a **benchmark** and a **spread** over (or, perhaps, under) that benchmark. Then changes in the corporate yield are due to changes in the benchmark, changes in the spread, or some combination thereof. \n",
    "\n",
    "**Changes in Benchmark (Macroeconomic)**:\n",
    "- Expected inflation\n",
    "- Foreign exchange rates\n",
    "- International capital flows\n",
    "- Business cycles\n",
    "- Monetary and fiscal policy\n",
    "\n",
    "**Changes in Spread (Microeconomic)**\n",
    "- Liquidity\n",
    "- Tax status\n",
    "- Potential losses if issuer defaults"
   ]
  },
  {
   "cell_type": "markdown",
   "metadata": {},
   "source": [
    "### Credit Spreads and the Implied Probability of Default"
   ]
  },
  {
   "attachments": {
    "image.png": {
     "image/png": "[encoded data removed]"
    }
   },
   "cell_type": "markdown",
   "metadata": {},
   "source": [
    "A bondholder’s rate of return depends on when the default occurs and on any remaining value to the bond. Given all the possible outcomes for the realized rates of return, the mean of the probability distribution—that is, the *expected value*—will be less than the yield to maturity.\n",
    "\n",
    "![image.png](attachment:image.png)\n",
    "Probability Distribution for Rates of Return on a Corporate Bond to a Buy-and-Hold Investor\n",
    "\n",
    "The key feature of the figure above is that the probability distribution is highly *skewed*. That’s because the yield to maturity is the maximum rate the hold-to-maturity investor will ever experience. As we’ve seen, the horizon yield could be higher or lower if the bond is sold prior to maturity, but now we’re assuming the intent is to the hold the bond for its full lifetime.\n",
    "\n",
    "A nice application of bond math is to infer the probability of default given the prices on the risky zero-coupon corporate bond and an otherwise comparable risk-free security."
   ]
  },
  {
   "cell_type": "markdown",
   "metadata": {},
   "source": [
    "An approximation for the implied default probability directly uses the credit spread.\n",
    "\n",
    "$$\\text{Default Probability}=\\frac{\\text{Credit Spread}}{1-\\text{Recovery Rate}}$$"
   ]
  },
  {
   "cell_type": "code",
   "execution_count": 20,
   "metadata": {},
   "outputs": [],
   "source": [
    "per = 2\n",
    "\n",
    "# 10-year zero-coupon corporate bond\n",
    "cop_mat = 10\n",
    "cop_pv = 60\n",
    "cop_yield = ((100/cop_pv)**(1/(cop_mat*per)) - 1) * per\n",
    "\n",
    "# Equivalent 10-year zero-coupon government bond\n",
    "gov_mat = 10\n",
    "gov_pv = 64\n",
    "gov_yield = ((100/gov_pv)**(1/(gov_mat*per)) - 1) * per\n",
    "\n",
    "credit_spread = cop_yield - gov_yield\n",
    "price_spread = gov_pv - cop_pv"
   ]
  },
  {
   "cell_type": "code",
   "execution_count": 21,
   "metadata": {},
   "outputs": [
    {
     "name": "stdout",
     "output_type": "stream",
     "text": [
      "+------+------------------+-----------------+----------+--------------+--------------------+---------------+\n",
      "| Year | Prob. of Default | Risk-Free Value | Recovery | Default Loss | PV of Default Loss | Expected Loss |\n",
      "+------+------------------+-----------------+----------+--------------+--------------------+---------------+\n",
      "|  1   |        Q         |      66.921     |  26.768  |    40.153    |        38.4        |    38.4 * Q   |\n",
      "|  2   |        Q         |      69.975     |  27.99   |    41.985    |        38.4        |    38.4 * Q   |\n",
      "|  3   |        Q         |      73.169     |  29.268  |    43.901    |        38.4        |    38.4 * Q   |\n",
      "|  4   |        Q         |      76.508     |  30.603  |    45.905    |        38.4        |    38.4 * Q   |\n",
      "|  5   |        Q         |       80.0      |   32.0   |     48.0     |        38.4        |    38.4 * Q   |\n",
      "|  6   |        Q         |      83.651     |  33.46   |    50.191    |        38.4        |    38.4 * Q   |\n",
      "|  7   |        Q         |      87.469     |  34.988  |    52.481    |        38.4        |    38.4 * Q   |\n",
      "|  8   |        Q         |      91.461     |  36.584  |    54.877    |        38.4        |    38.4 * Q   |\n",
      "|  9   |        Q         |      95.635     |  38.254  |    57.381    |        38.4        |    38.4 * Q   |\n",
      "|  10  |        Q         |      100.0      |   40.0   |     60.0     |        38.4        |    38.4 * Q   |\n",
      "+------+------------------+-----------------+----------+--------------+--------------------+---------------+\n",
      "Q = 1.041667%\n",
      "approx_implied_default_prob = 1.101691%\n"
     ]
    }
   ],
   "source": [
    "from prettytable import PrettyTable\n",
    "\n",
    "# Probability of Default Calculation - Unconditional Probability\n",
    "year = np.arange(1, cop_mat+1)\n",
    "probability_default = ['Q' for _ in year]\n",
    "\n",
    "# Risk-Free Value (value of the corporate bond if it were risk free) - constant-yield price trajectory\n",
    "riskfree_value = np.array([round(100 / (1+gov_yield/per)**((gov_mat-i)*per), 3) for i in year])\n",
    "\n",
    "# Recovery assuming a recovery rate of 40% of risk-free value\n",
    "recovery_rate = 0.4 # Depending on the industry and the rank of the bond in the debt structure\n",
    "recovery = np.array([round(value * recovery_rate, 3) for value in riskfree_value])\n",
    "\n",
    "# Loss Severity\n",
    "loss_severity = np.array([100 - value for value in recovery])\n",
    "\n",
    "# Default Loss - loss at that time if default occurs—it is the riskfree value minus recovery\n",
    "default_loss = np.array([round(riskfree_value[i-1] - recovery[i-1], 3) for i in year])\n",
    "\n",
    "# Present value of default loss - risk-free rate is used to discount the losses\n",
    "pv_default = np.array([round(default_loss[i-1]/((1+gov_yield/per)**(i*per)),3) for i in year])\n",
    "# Here the present values turn out to be the same for each year—that’s because the bond is zero-coupon \n",
    "# and the recovery rate is assumed to be a constant share of the loss.\n",
    "\n",
    "# Present Value of Expected Loss\n",
    "expected_loss = np.array([str(default) + ' * Q' for default in pv_default])\n",
    "\n",
    "# Output Table\n",
    "table = PrettyTable()\n",
    "table.add_column(\"Year\", year)\n",
    "table.add_column(\"Prob. of Default\", probability_default)\n",
    "table.add_column(\"Risk-Free Value\", riskfree_value)\n",
    "table.add_column(\"Recovery\", recovery)\n",
    "table.add_column(\"Default Loss\", default_loss)\n",
    "table.add_column(\"PV of Default Loss\", pv_default)\n",
    "table.add_column(\"Expected Loss\", expected_loss)\n",
    "print(table)\n",
    "\n",
    "Q = price_spread/np.sum(pv_default)\n",
    "print(f'{Q = :%}')\n",
    "\n",
    "approx_implied_default_prob = credit_spread/(1 - recovery_rate)\n",
    "print(f'{approx_implied_default_prob = :%}')"
   ]
  },
  {
   "cell_type": "code",
   "execution_count": 22,
   "metadata": {},
   "outputs": [
    {
     "name": "stdout",
     "output_type": "stream",
     "text": [
      "+------+------------------+-----------------+----------+--------------+--------------------+---------------+\n",
      "| Year | Prob. of Default | Risk-Free Value | Recovery | Default Loss | PV of Default Loss | Expected Loss |\n",
      "+------+------------------+-----------------+----------+--------------+--------------------+---------------+\n",
      "|  1   |      0.0104      |      66.921     |  26.768  |    40.153    |        38.4        |      0.4      |\n",
      "|  2   |      0.0104      |      69.975     |  27.99   |    41.985    |        38.4        |      0.4      |\n",
      "|  3   |      0.0104      |      73.169     |  29.268  |    43.901    |        38.4        |      0.4      |\n",
      "|  4   |      0.0104      |      76.508     |  30.603  |    45.905    |        38.4        |      0.4      |\n",
      "|  5   |      0.0104      |       80.0      |   32.0   |     48.0     |        38.4        |      0.4      |\n",
      "|  6   |      0.0104      |      83.651     |  33.46   |    50.191    |        38.4        |      0.4      |\n",
      "|  7   |      0.0104      |      87.469     |  34.988  |    52.481    |        38.4        |      0.4      |\n",
      "|  8   |      0.0104      |      91.461     |  36.584  |    54.877    |        38.4        |      0.4      |\n",
      "|  9   |      0.0104      |      95.635     |  38.254  |    57.381    |        38.4        |      0.4      |\n",
      "|  10  |      0.0104      |      100.0      |   40.0   |     60.0     |        38.4        |      0.4      |\n",
      "+------+------------------+-----------------+----------+--------------+--------------------+---------------+\n",
      "4.0\n"
     ]
    }
   ],
   "source": [
    "probability_default = [round(Q,4) for _ in year]\n",
    "expected_loss = np.array([default * Q for default in pv_default])\n",
    "\n",
    "\n",
    "# Output Table\n",
    "table = PrettyTable()\n",
    "table.add_column(\"Year\", year)\n",
    "table.add_column(\"Prob. of Default\", probability_default)\n",
    "table.add_column(\"Risk-Free Value\", riskfree_value)\n",
    "table.add_column(\"Recovery\", recovery)\n",
    "table.add_column(\"Default Loss\", default_loss)\n",
    "table.add_column(\"PV of Default Loss\", pv_default)\n",
    "table.add_column(\"Expected Loss\", expected_loss)\n",
    "print(table)\n",
    "\n",
    "print(np.sum(expected_loss))"
   ]
  },
  {
   "cell_type": "markdown",
   "metadata": {},
   "source": [
    "The probability calculated above is an unconditional probability of default. An alternative approach (which is harder to illustrate but more theoretically correct) is to estimate the probability of default for each year conditional on no prior default.\n",
    "\n",
    "An important choice in this calculation is the risk-free rate. Using Treasury rates may not necessarily be the appropriate choice as Treasury bonds are more liquid (unlike corporate bonds that are illiquid and require liquidity premiums) and exempt from state and local income taxes. Ideally, the risk-free rate in this analysis is the yield on a bond having the same maturity, liquidity, and taxation as the corporate but default risk that approaches zero."
   ]
  },
  {
   "cell_type": "markdown",
   "metadata": {},
   "source": [
    "The advantage of the tabular method of calculating expected loss from default is its flexibility and explicit use of the time value of money. You can make the following modification to improve the computation:\n",
    "- You can easily **vary the recovery rate** across the years, for example, if it is assumed that the current fixed assets of the issuer depreciate over time, or if there is an impending legal change that could affect creditors’ rights in bankruptcy court. \n",
    "- Also, you could **introduce a term structure of risk-free rates** instead of the flat yield curve assumed in the example."
   ]
  },
  {
   "cell_type": "markdown",
   "metadata": {},
   "source": [
    "### Questions"
   ]
  },
  {
   "cell_type": "code",
   "execution_count": 23,
   "metadata": {},
   "outputs": [],
   "source": [
    "def zero_bond_ymt(n, pv, fv=100, freq=2):\n",
    "    if freq == np.inf:\n",
    "        return np.log(fv/pv) * (1/n)\n",
    "    return ((fv/pv)**(1/(n*freq)) - 1) * freq\n",
    "\n",
    "def zero_bond_pv(n, rate, fv=100, freq=2):\n",
    "    if freq == np.inf:\n",
    "        return fv / np.exp(rate*n)\n",
    "    return fv / ((1 + rate/freq)**(n*freq))\n",
    "\n",
    "def zero_bond_fv(n, rate, pv, freq):\n",
    "    if freq == np.inf:\n",
    "        return pv * np.exp(rate*n)    \n",
    "    return pv * ((1 + rate/freq)**(n*freq))\n",
    "\n",
    "def equivRate(rate, from_freq=1, to_freq=1):\n",
    "  if from_freq == np.inf:\n",
    "    return (np.exp(rate / to_freq) - 1) * to_freq\n",
    "  elif to_freq == np.inf:\n",
    "    return np.log(1 + rate / from_freq) * from_freq\n",
    "  else:\n",
    "    return to_freq * ((1 + rate/from_freq)**(from_freq/to_freq) - 1)"
   ]
  },
  {
   "cell_type": "markdown",
   "metadata": {},
   "source": [
    "1. A buy-and-hold institutional investor expects market interest rates to be going up in the next few years. Which types of securities, differentiated only by coupon rate and time to maturity, are mostly likely to be preferred by the investor?\n",
    "   1. High coupon rate, long-term securities\n",
    "   2. **High coupon rate, short-term securities**\n",
    "   3. Low coupon rate, long-term securities\n",
    "   4. Low coupon rate, short-term securities\n",
    "\n",
    "Buy-and-hold investors are concerned with cash flow reinvestment risk arising from coupon payments and the redemption of principal. If market rates are expected to be rising, the investor would prefer high coupon rates over low coupon rates because there is more cash flow to be reinvested at the higher rates. Also, the investor would prefer short-term over long-term securities because the principal can be reinvested sooner at the higher rates. Of course, this question neglects concerns over credit risk, liquidity, and transactions costs."
   ]
  },
  {
   "cell_type": "markdown",
   "metadata": {},
   "source": [
    "2. Coupon-stripping is the fixed-income arbitrage strategy of buying a coupon bond and selling its interest and principal cash flows separately as zero-coupon bonds as in the creation of TIGRS, CATS, and LIONS in the 1980s. Suppose a 3-year, 5% annual payment bond can be purchased at par value. Which pattern of zero-coupon bond prices allows an arbitrageur to carry out the strategy of coupon stripping, neglecting transactions costs? [Note that the bond prices are given per one unit of future or face value, i.e., they are discount factor.]\n",
    "   1. **1 year, 0.97; 2-year, 0.92; 3-year, 0.87**\n",
    "   2. 1 year, 0.96; 2-year, 0.91; 3-year, 0.86\n",
    "   3. 1 year, 0.95; 2-year, 0.90; 3-year, 0.85\n",
    "   4. 1 year, 0.94; 2-year, 0.89; 3-year, 0.84\n",
    "\n",
    "Hint: Calculate the value of the stripped coupon bond by multiplying each cash flow by the zero-coupon bond price."
   ]
  },
  {
   "cell_type": "code",
   "execution_count": 33,
   "metadata": {},
   "outputs": [
    {
     "name": "stdout",
     "output_type": "stream",
     "text": [
      "[0.95238095 0.90702948 0.8638376 ]\n",
      "100.0\n"
     ]
    }
   ],
   "source": [
    "n = 3\n",
    "coupon = 5\n",
    "ytm = 0.05\n",
    "cash_flows = np.full(n, coupon)\n",
    "cash_flows[-1] += 100\n",
    "# Discount Factor of Purchased Coupon Bond\n",
    "discount_factor = np.full(n, (1 + ytm))**(-np.arange(1,n+1)) \n",
    "print(discount_factor)\n",
    "# Price Paid for the Coupons\n",
    "price = np.sum(cash_flows * discount_factor)\n",
    "print(price)"
   ]
  },
  {
   "cell_type": "code",
   "execution_count": 34,
   "metadata": {},
   "outputs": [
    {
     "name": "stdout",
     "output_type": "stream",
     "text": [
      "[100.8   99.65  98.5   97.35]\n"
     ]
    }
   ],
   "source": [
    "# Discount Factor of Selling Coupon Bonds\n",
    "factors = np.array([[0.97, 0.92, 0.87],\n",
    "                    [0.96, 0.91, 0.86],\n",
    "                    [0.95, 0.90, 0.85],\n",
    "                    [0.94, 0.89, 0.84]])\n",
    "# Calculate the value of the stripped coupon bond for each pattern of zero-coupon bond prices.\n",
    "prices = np.sum(cash_flows * factors, axis=1)\n",
    "print(prices)"
   ]
  },
  {
   "cell_type": "markdown",
   "metadata": {},
   "source": [
    "3. Bond reconstitution is the fixed-income arbitrage strategy of buying a series of zero-coupon bonds such as C-STRIPS and P-STRIPS and selling the rebuilt coupon bond. Suppose a 3-year, 4% annual payment bond can be sold at par value. Which pattern of zero-coupon bond prices allows an arbitrageur to carry out the strategy of bond reconstitution, neglecting transactions costs?\n",
    "   1. 1 year, 0.99; 2-year, 0.95; 3-year, 0.90\n",
    "   2. 1 year, 0.98; 2-year, 0.94; 3-year, 0.89\n",
    "   3. **1 year, 0.99; 2-year, 0.94; 3-year, 0.88**\n",
    "   4. 1 year, 0.97; 2-year, 0.95; 3-year, 0.90"
   ]
  },
  {
   "cell_type": "code",
   "execution_count": 35,
   "metadata": {},
   "outputs": [
    {
     "name": "stdout",
     "output_type": "stream",
     "text": [
      "[101.36 100.24  99.24 101.28]\n"
     ]
    }
   ],
   "source": [
    "n = 3\n",
    "coupon = 4\n",
    "cash_flows = np.full(n, coupon)\n",
    "cash_flows[-1] += 100\n",
    "factors = np.array([[0.99, 0.95, 0.90],\n",
    "                    [0.98, 0.94, 0.89],\n",
    "                    [0.99, 0.94, 0.88],\n",
    "                    [0.97, 0.95, 0.90]])\n",
    "prices = np.sum(cash_flows * factors, axis=1)\n",
    "print(prices)"
   ]
  },
  {
   "cell_type": "markdown",
   "metadata": {},
   "source": [
    "4. Suppose that a 2-year, USD10 million par value, 2% annual coupon payment government bond can be bought or sold at 101. Zero-coupon government bonds can be bought or sold at 99.20 for a maturity of one year and at 96.50 for two years. Each price is the percentage of par value. Which statement is best describes the arbitrage opportunity that is available?\n",
    "   1. The potential profit from coupon stripping is $58,600.\n",
    "   2. The potential profit from bond reconstitution is $58,600.\n",
    "   3. The potential profit from coupon stripping is $100,000.\n",
    "   4. The potential profit from bond reconstitution is $100,000."
   ]
  },
  {
   "cell_type": "markdown",
   "metadata": {},
   "source": [
    "The cash flows on the 2-year, $10 million par value, 2% annual coupon payment government bond are $200,000 at the end of the first year (0.02 * $10,000,000) and $10,200,000 at the end of the second year when the principal is redeemed. The purchase or sale price for the bond is $10,100,000, which is 1.01 * $10,000,000. The break-even, or no-arbitrage, value for the 2-year, 2% government bond is the amount based on the prices of the zero-coupon bonds. \n",
    "\n",
    "($200,000 * 0.9920) + ($10,200,000 * 0.9650) = $10,041,400\n",
    "\n",
    "The arbitrage strategy that is available, neglecting transactions costs, is bond reconstitution. Buy the zero-coupon bonds—the 1-year zero for a face value of $200,000 and 2-year zero for a face value of $10,200,000. The total cost is $10,041,400. Sell the reconstituted 2-year, 2% coupon bond for $10,100,000. The profit is the difference, $58,600."
   ]
  },
  {
   "cell_type": "code",
   "execution_count": 27,
   "metadata": {},
   "outputs": [
    {
     "name": "stdout",
     "output_type": "stream",
     "text": [
      "profit = 58_600.0\n"
     ]
    }
   ],
   "source": [
    "# Zero-coupon gov. bonds stated as discount factor\n",
    "discount_factor = np.array([0.992, 0.965])\n",
    "# Cash flow from gov. coupon bond\n",
    "cash_flows = np.array([200_000, 10_200_000])\n",
    "coupon_bond_price = 10_100_000\n",
    "\n",
    "# Price to reconstitute the zero-coupons\n",
    "price_reconstitution = np.sum(cash_flows * discount_factor)\n",
    "# Profit/Loss\n",
    "profit = coupon_bond_price - price_reconstitution\n",
    "\n",
    "print(f'{profit = :_}')"
   ]
  },
  {
   "cell_type": "markdown",
   "metadata": {},
   "source": [
    "5. Which statement best explains why long-term P-STRIPS usually are priced a bit higher than C-STRIPS maturing on the same date?\n",
    "   1. C-STRIPS are more liquid than P-STRIPS.\n",
    "   2. **P-STRIPS are available in greater supply.**\n",
    "   3. C-STRIPS have greater “optionality” because they can be used in a bond reconstitution arbitrage strategy.\n",
    "   4. P-STRIPS are federal tax-exempt whereas C-STRIPS are taxable."
   ]
  },
  {
   "cell_type": "markdown",
   "metadata": {},
   "source": [
    "Long-term P-STRIPS are more liquid than C-STRIPS because they are available in greater supply; hence the price of P-STRIPS is usually higher than C-STRIPS having the same maturity date. Also, owning P-STRIPS can facilitate bond reconstitution because only the sequence of C-STRIPS is needed to rebuild the coupon bond. The taxation of P-STRIPS and C-STRIPS is the same"
   ]
  },
  {
   "cell_type": "markdown",
   "metadata": {},
   "source": [
    "6. A 10-year zero-coupon bond is priced at 57.5 (per 100 of par value). The bond’s yield to maturity, stated as an annual percentage rate for semiannual compounding (i.e., a semiannual bond basis having a periodicity of 2) is closest to:"
   ]
  },
  {
   "cell_type": "code",
   "execution_count": 28,
   "metadata": {},
   "outputs": [
    {
     "name": "stdout",
     "output_type": "stream",
     "text": [
      "ytm = 5.611%\n"
     ]
    }
   ],
   "source": [
    "pv = 57.5\n",
    "n = 10\n",
    "freq = 2\n",
    "ytm = zero_bond_ymt(n=n, pv=pv, fv=100, freq=freq)\n",
    "print(f'{ytm = :0.3%}')"
   ]
  },
  {
   "cell_type": "markdown",
   "metadata": {},
   "source": [
    "7. A 20-year zero-coupon bond is priced at 30 (per 100 of par value). The bond’s yield to maturity, stated as an annual percentage rate for daily compounding (a periodicity of 365) is closest to:"
   ]
  },
  {
   "cell_type": "code",
   "execution_count": 29,
   "metadata": {},
   "outputs": [
    {
     "name": "stdout",
     "output_type": "stream",
     "text": [
      "ytm = 6.020%\n"
     ]
    }
   ],
   "source": [
    "pv = 30\n",
    "n = 20\n",
    "freq = 365\n",
    "ytm = zero_bond_ymt(n=n, pv=pv, fv=100, freq=freq)\n",
    "print(f'{ytm = :0.3%}')"
   ]
  },
  {
   "cell_type": "markdown",
   "metadata": {},
   "source": [
    "8. A 5-year zero-coupon bond is priced at 80 (per 100 of par value). The bond’s yield to maturity, stated as an annual percentage rate for continuous compounding (a periodicity of infinity) is closest to:"
   ]
  },
  {
   "cell_type": "code",
   "execution_count": 30,
   "metadata": {},
   "outputs": [
    {
     "name": "stdout",
     "output_type": "stream",
     "text": [
      "ytm = 4.463%\n"
     ]
    }
   ],
   "source": [
    "pv = 80\n",
    "n = 5\n",
    "freq = np.inf\n",
    "ytm = zero_bond_ymt(n=n, pv=pv, fv=100, freq=freq)\n",
    "print(f'{ytm = :0.3%}')"
   ]
  },
  {
   "cell_type": "markdown",
   "metadata": {},
   "source": [
    "9. The annual yield to maturity on a 30-year zero-coupon bond is stated to be 6.824% on a continuously compounded basis. That yield converted to a semiannual bond basis (a periodicity of 2) is closest to:"
   ]
  },
  {
   "cell_type": "code",
   "execution_count": 31,
   "metadata": {},
   "outputs": [
    {
     "name": "stdout",
     "output_type": "stream",
     "text": [
      "apr_2 = 6.942%\n"
     ]
    }
   ],
   "source": [
    "continous_rate = 0.06824\n",
    "apr_2 = equivRate(continous_rate, from_freq=np.inf, to_freq=2)\n",
    "print(f'{apr_2 = :0.3%}')"
   ]
  },
  {
   "cell_type": "markdown",
   "metadata": {},
   "source": [
    "10.\tSuppose an investor buys a $100,000, 15-year zero-coupon bond at a price of $48,000. Two years later, the investor sells the bond at a price of $55,000. In principle, the capital gain associated with this investment is:\n",
    "    1. 0, the difference between the sale price of $55,000 and the purchase price of $48,000 is all interest income to the investor.\n",
    "    2. **$2,065, the difference between the sale price of $55,000 and $52,935, the carrying value at the time of sale, is the capital gain to the investor.**\n",
    "    3. $7,000, the difference between the sale price $55,000 and the purchase price of $48,000 is all capital gain to the investor.\n",
    "\n",
    "Note that this is the economic capital gain; the taxable capital gain might differ depending on the tax rules that are in effect."
   ]
  },
  {
   "cell_type": "code",
   "execution_count": 88,
   "metadata": {},
   "outputs": [
    {
     "data": {
      "text/plain": [
       "2065.0623685145474"
      ]
     },
     "execution_count": 88,
     "metadata": {},
     "output_type": "execute_result"
    }
   ],
   "source": [
    "def capital_gains(purchase_price, current_price, par_value, years_to_maturity_purchase, years_to_mat, per):\n",
    "    purchase_ytm = ((par_value/purchase_price)**(1/(years_to_maturity_purchase*per)) - 1) * per\n",
    "    constant_yield_price = par_value / ((1 + purchase_ytm/per)**(years_to_mat*per))\n",
    "    current_ytm = ((par_value/current_price)**(1/(years_to_mat*per)) - 1) * per\n",
    "    return (current_price - constant_yield_price), (constant_yield_price - purchase_price), current_ytm\n",
    "\n",
    "capital_gains(purchase_price=48_000, current_price=55_000, par_value=100_000, years_to_maturity_purchase=15,years_to_mat=13, per=1)[0]"
   ]
  },
  {
   "cell_type": "markdown",
   "metadata": {},
   "source": [
    "11.\tA 3-year, zero-coupon corporate bond is priced at 78 (percent of par value) to yield 8.4559% (s.a.). A 3-year, zero-coupon government bond, which is assumed to be (default) risk-free, is priced at 82.5 (percent of par value) to yield 6.5163% (s.a.). Assume that the recovery rate if the corporate bond defaults would be 30% of the risk-free value. Using the tabular method, the probability of default for each year is closest to:"
   ]
  },
  {
   "cell_type": "code",
   "execution_count": 62,
   "metadata": {},
   "outputs": [],
   "source": [
    "# Probability of Default Calculation - Unconditional Probability\n",
    "per = 2\n",
    "mat = 3\n",
    "\n",
    "# Zero-coupon corporate bond\n",
    "cop_pv = 78\n",
    "cop_yield = ((100/cop_pv)**(1/(mat*per)) - 1) * per\n",
    "\n",
    "# Zero-coupon government bond\n",
    "gov_pv = 82.5\n",
    "gov_yield = ((100/gov_pv)**(1/(mat*per)) - 1) * per\n",
    "\n",
    "credit_spread = cop_yield - gov_yield\n",
    "price_spread = gov_pv - cop_pv"
   ]
  },
  {
   "cell_type": "code",
   "execution_count": 87,
   "metadata": {},
   "outputs": [
    {
     "name": "stdout",
     "output_type": "stream",
     "text": [
      "Q = 2.597403%\n",
      "+------+----------+----------+--------------+--------------------+---------------+\n",
      "| Year | Rf Value | Recovery | Default Loss | PV of Default Loss | Expected Loss |\n",
      "+------+----------+----------+--------------+--------------------+---------------+\n",
      "|  1   |  87.964  |  26.389  |    61.574    |       57.75        |      1.5      |\n",
      "|  2   |  93.789  |  28.137  |    65.652    |       57.75        |      1.5      |\n",
      "|  3   |  100.0   |   30.0   |     70.0     |       57.75        |      1.5      |\n",
      "+------+----------+----------+--------------+--------------------+---------------+\n"
     ]
    }
   ],
   "source": [
    "year = np.arange(mat) + 1\n",
    "\n",
    "# Risk-Free Value - constant-yield price trajectory\n",
    "riskfree_value = np.full(mat, 100) * (1 + gov_yield/per)**(-(year[::-1]-1)*per)\n",
    "\n",
    "# Recovery of 30% of risk-free value\n",
    "recovery_rate = 0.3\n",
    "recovery = riskfree_value * recovery_rate\n",
    "\n",
    "# Default Loss - loss at that time if default occurs\n",
    "default_loss = riskfree_value - recovery\n",
    "\n",
    "# Present value of default loss - risk-free rate is used to discount the losses\n",
    "pv_default = default_loss * (1 + gov_yield/per)**(-year*per)\n",
    "Q = price_spread/np.sum(pv_default)\n",
    "expected_loss = pv_default * Q\n",
    "\n",
    "print(f'{Q = :%}')\n",
    "\n",
    "table = PrettyTable()\n",
    "table.add_column(\"Year\", year)\n",
    "table.add_column(\"Rf Value\", riskfree_value.round(3))\n",
    "table.add_column(\"Recovery\", recovery.round(3))\n",
    "table.add_column(\"Default Loss\", default_loss.round(3))\n",
    "table.add_column(\"PV of Default Loss\", pv_default.round(3))\n",
    "table.add_column(\"Expected Loss\", expected_loss.round(3))\n",
    "print(table)"
   ]
  },
  {
   "cell_type": "markdown",
   "metadata": {},
   "source": [
    "12.\tSuppose an investor buys a $50,000, 10-year zero-coupon bond for a price of $33,500. One year later, the investor sells the bond at a price of $38,000. In principle, the interest income for the 1-year holding period is:\n",
    "    1. 0, there is no interest income on a zero-coupon bond.\n",
    "    2. $4,500, the difference between the purchase and sale prices is the interest income.\n",
    "    3. **$1,369, the difference between the carrying value at the time of sale and the purchase price is the interest income.**\n",
    "    4. $3,131, the difference between the sale price and carrying value at the time of sale is the interest income."
   ]
  },
  {
   "cell_type": "code",
   "execution_count": 93,
   "metadata": {},
   "outputs": [
    {
     "name": "stdout",
     "output_type": "stream",
     "text": [
      "interest_income = 1369\n"
     ]
    }
   ],
   "source": [
    "def capital_gains(purchase_price, current_price, par_value, years_to_maturity_purchase, years_to_mat, per):\n",
    "    purchase_ytm = ((par_value/purchase_price)**(1/(years_to_maturity_purchase*per)) - 1) * per\n",
    "    constant_yield_price = par_value / ((1 + purchase_ytm/per)**(years_to_mat*per))\n",
    "    current_ytm = ((par_value/current_price)**(1/(years_to_mat*per)) - 1) * per\n",
    "    return (current_price - constant_yield_price), (constant_yield_price - purchase_price), current_ytm\n",
    "\n",
    "interest_income = capital_gains(purchase_price=33_500, current_price=38_000, par_value=50_000, years_to_maturity_purchase=10,years_to_mat=9, per=1)[1]\n",
    "print(f'{interest_income = :0.0f}')"
   ]
  },
  {
   "cell_type": "markdown",
   "metadata": {},
   "source": [
    "13.\tA 5-year, zero-coupon corporate bond is priced at 75.75 (percent of par value). A 5-year, zero-coupon government bond, which is assumed to be (default) risk-free, is priced at 78.25 (percent of par value). Assume that the recovery rate if the corporate bond defaults would be 40% of the risk-free value. Using the tabular method, the probability of default for each year is closest to:"
   ]
  },
  {
   "cell_type": "code",
   "execution_count": 97,
   "metadata": {},
   "outputs": [
    {
     "name": "stdout",
     "output_type": "stream",
     "text": [
      "Q = 1.064963%\n",
      "+------+----------+----------+--------------+--------------------+---------------+\n",
      "| Year | Rf Value | Recovery | Default Loss | PV of Default Loss | Expected Loss |\n",
      "+------+----------+----------+--------------+--------------------+---------------+\n",
      "|  1   |  82.184  |  32.874  |    49.31     |       46.95        |      0.5      |\n",
      "|  2   |  86.316  |  34.526  |    51.79     |       46.95        |      0.5      |\n",
      "|  3   |  90.655  |  36.262  |    54.393    |       46.95        |      0.5      |\n",
      "|  4   |  95.213  |  38.085  |    57.128    |       46.95        |      0.5      |\n",
      "|  5   |  100.0   |   40.0   |     60.0     |       46.95        |      0.5      |\n",
      "+------+----------+----------+--------------+--------------------+---------------+\n"
     ]
    }
   ],
   "source": [
    "# Probability of Default Calculation - Unconditional Probability\n",
    "per = 1\n",
    "mat = 5\n",
    "\n",
    "# Zero-coupon corporate bond\n",
    "cop_pv = 75.75\n",
    "cop_yield = ((100/cop_pv)**(1/(mat*per)) - 1) * per\n",
    "\n",
    "# Zero-coupon government bond\n",
    "gov_pv = 78.25\n",
    "gov_yield = ((100/gov_pv)**(1/(mat*per)) - 1) * per\n",
    "\n",
    "credit_spread = cop_yield - gov_yield\n",
    "price_spread = gov_pv - cop_pv\n",
    "\n",
    "year = np.arange(mat) + 1\n",
    "\n",
    "# Risk-Free Value - constant-yield price trajectory\n",
    "riskfree_value = np.full(mat, 100) * (1 + gov_yield/per)**(-(year[::-1]-1)*per)\n",
    "\n",
    "# Recovery of 30% of risk-free value\n",
    "recovery_rate = 0.4\n",
    "recovery = riskfree_value * recovery_rate\n",
    "\n",
    "# Default Loss - loss at that time if default occurs\n",
    "default_loss = riskfree_value - recovery\n",
    "\n",
    "# Present value of default loss - risk-free rate is used to discount the losses\n",
    "pv_default = default_loss * (1 + gov_yield/per)**(-year*per)\n",
    "Q = price_spread/np.sum(pv_default)\n",
    "expected_loss = pv_default * Q\n",
    "\n",
    "print(f'{Q = :%}')\n",
    "\n",
    "table = PrettyTable()\n",
    "table.add_column(\"Year\", year)\n",
    "table.add_column(\"Rf Value\", riskfree_value.round(3))\n",
    "table.add_column(\"Recovery\", recovery.round(3))\n",
    "table.add_column(\"Default Loss\", default_loss.round(3))\n",
    "table.add_column(\"PV of Default Loss\", pv_default.round(3))\n",
    "table.add_column(\"Expected Loss\", expected_loss.round(3))\n",
    "print(table)"
   ]
  }
 ],
 "metadata": {
  "kernelspec": {
   "display_name": "fin",
   "language": "python",
   "name": "python3"
  },
  "language_info": {
   "codemirror_mode": {
    "name": "ipython",
    "version": 3
   },
   "file_extension": ".py",
   "mimetype": "text/x-python",
   "name": "python",
   "nbconvert_exporter": "python",
   "pygments_lexer": "ipython3",
   "version": "3.12.7"
  }
 },
 "nbformat": 4,
 "nbformat_minor": 2
}
