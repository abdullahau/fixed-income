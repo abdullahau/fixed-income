{
 "cells": [
  {
   "cell_type": "markdown",
   "metadata": {},
   "source": [
    "### Import"
   ]
  },
  {
   "cell_type": "code",
   "execution_count": 1,
   "metadata": {},
   "outputs": [],
   "source": [
    "import numpy as np\n",
    "from numpy import array, log, exp, where, vectorize\n",
    "from bond_pricing import annuity_pv, equiv_rate, annuity_fv, annuity_rate, annuity_instalment"
   ]
  },
  {
   "cell_type": "markdown",
   "metadata": {},
   "source": [
    "### Standard Inputs"
   ]
  },
  {
   "cell_type": "code",
   "execution_count": 10,
   "metadata": {},
   "outputs": [],
   "source": [
    "rate = 0.045 / 2\n",
    "price = 102.216554087217\n",
    "n_period = 5 * 2\n",
    "installment = 5 / 2\n",
    "terminal_payment = 100\n",
    "cf_freq = 1\n",
    "comp_freq = 1\n",
    "beg = False"
   ]
  },
  {
   "cell_type": "markdown",
   "metadata": {},
   "source": [
    "### Converting Between Rate Periodicity "
   ]
  },
  {
   "cell_type": "markdown",
   "metadata": {},
   "source": [
    "Converting between discrete periodicities:\n",
    "$$\\Big(1+\\frac{APR_{m}}{m}\\Big)^{m} = \\Big(1+\\frac{APR_{n}}{n}\\Big)^{n}$$\n",
    "$$n\\times\\Big[\\Big(1+\\frac{APR_{m}}{m}\\Big)^{m/n}-1\\Big] = APR_{n}$$\n",
    "\n",
    "Converting to and from continuous compounding:\n",
    "$$FV = PV \\times e^{rt}$$\n",
    "$$R_{m} = m\\times(e^{R_{c}/m} - 1)$$\n",
    "$$R_{c}=\\ln\\Big(1 + \\frac{R_{c}}{m}\\Big) \\times m$$\n",
    "- $R_c$ = continuously compounded interest rate.\n",
    "- $R_m$ = periodically compounded interest rate, compounded m times per year\n",
    "- $m$ = compounding times per year.\n",
    "- $e$ = Euler's number, a constant with a value of roughly 2.71828."
   ]
  },
  {
   "cell_type": "code",
   "execution_count": 35,
   "metadata": {},
   "outputs": [],
   "source": [
    "rate = 0.04\n",
    "from_freq = 4\n",
    "to_freq = 1"
   ]
  },
  {
   "cell_type": "code",
   "execution_count": null,
   "metadata": {},
   "outputs": [],
   "source": [
    "print(equiv_rate(rate, from_freq=from_freq,to_freq=to_freq)*100)"
   ]
  },
  {
   "cell_type": "code",
   "execution_count": null,
   "metadata": {},
   "outputs": [],
   "source": [
    "def equivRate(rate, from_freq=1, to_freq=1):\n",
    "  if from_freq == np.inf:\n",
    "    return (exp(rate / to_freq) - 1) * to_freq\n",
    "  elif to_freq == np.inf:\n",
    "    return log(1 + rate / from_freq) * from_freq\n",
    "  else:\n",
    "    return to_freq * ((1 + rate/from_freq)**(from_freq/to_freq) - 1)\n",
    "\n",
    "print(equivRate(rate, from_freq, to_freq)*100)"
   ]
  },
  {
   "cell_type": "code",
   "execution_count": null,
   "metadata": {},
   "outputs": [],
   "source": [
    "def equivRate(rate, from_freq=1, to_freq=1):\n",
    "  if from_freq == np.inf:\n",
    "    return (exp(rate / to_freq) - 1) * to_freq\n",
    "  elif to_freq == np.inf:\n",
    "    return log(1 + rate / from_freq) * from_freq\n",
    "  else:\n",
    "    rate = log(1 + rate / from_freq) * from_freq\n",
    "    return (exp(rate / to_freq) - 1) * to_freq\n",
    "\n",
    "print(equivRate(rate, from_freq, to_freq)*100)"
   ]
  },
  {
   "cell_type": "code",
   "execution_count": null,
   "metadata": {},
   "outputs": [],
   "source": [
    "def equivRate(rate, from_freq=1, to_freq=1):\n",
    "  cc_rate = where(from_freq == np.inf, rate,\n",
    "                  log((1 + rate / from_freq)) * from_freq)  \n",
    "  res = where(from_freq == to_freq, rate,\n",
    "                where(to_freq == np.inf, cc_rate,\n",
    "                      to_freq * (exp(cc_rate / to_freq) - 1)))\n",
    "  return res\n",
    "  \n",
    "print(equivRate(rate, from_freq, to_freq)*100)"
   ]
  },
  {
   "cell_type": "markdown",
   "metadata": {},
   "source": [
    "### Annuity PV"
   ]
  },
  {
   "cell_type": "markdown",
   "metadata": {},
   "source": [
    "Simple specification of a term structure: \n",
    "$$d_t = \\Big(\\frac{1}{1+r}\\Big)^t=\\frac{1}{(1+r)^t}$$\n",
    "\n",
    "The current bond price $(PV_0)$ is the present value of the cash flows from the bond:\n",
    "$$PV_0=\\sum_{t=1}^{T}\\frac{PMT}{(1+r)^n}+\\frac{FV}{(1+r)^n}$$\n",
    "\n",
    "Simplified bond price formula (ordinary):\n",
    "$$PV_0=PMT\\Bigg(\\frac{1-(1+r)^{-n}}{r}\\Bigg)+\\frac{FV}{(1+r)^n}$$"
   ]
  },
  {
   "cell_type": "code",
   "execution_count": 3,
   "metadata": {},
   "outputs": [
    {
     "name": "stdout",
     "output_type": "stream",
     "text": [
      "102.21655408721713\n"
     ]
    }
   ],
   "source": [
    "print(annuity_pv(rate=rate, n_periods=n_period, instalment=installment, terminal_payment=terminal_payment, cf_freq=cf_freq, comp_freq=comp_freq, immediate_start=beg))"
   ]
  },
  {
   "cell_type": "code",
   "execution_count": 4,
   "metadata": {},
   "outputs": [
    {
     "name": "stdout",
     "output_type": "stream",
     "text": [
      "102.21655408721713\n"
     ]
    }
   ],
   "source": [
    "def pv(r, n, pmt, fv, beg=False):\n",
    "  old_settings = np.seterr(invalid='ignore')\n",
    "  pvPMT = where(r == 0, n, np.divide(1 - (1+r)**-n, r)) * pmt\n",
    "  np.seterr(**old_settings)\n",
    "  pvFV = fv / (1 + r)**n\n",
    "  \n",
    "  return where(beg, (pvPMT + pvFV) * (1 + r), pvPMT + pvFV)\n",
    "\n",
    "print(pv(rate, n_period, installment, terminal_payment, beg)) "
   ]
  },
  {
   "cell_type": "code",
   "execution_count": 5,
   "metadata": {},
   "outputs": [
    {
     "name": "stdout",
     "output_type": "stream",
     "text": [
      "102.21655408721716\n"
     ]
    }
   ],
   "source": [
    "def pv(r, n, pmt, fv, beg=False):\n",
    "  c = np.full(n, pmt)\n",
    "  t = np.arange(1, n+1)\n",
    "  d = (1. / np.power((1 + r), t))\n",
    "  B = np.sum(d * c)\n",
    "  tv = fv / (1 + r)**n\n",
    "\n",
    "  return where(beg, (B + tv) * (1 + r), B + tv)\n",
    "\n",
    "print(pv(rate, n_period, installment, terminal_payment, beg)) "
   ]
  },
  {
   "cell_type": "markdown",
   "metadata": {},
   "source": [
    "### Annuity FV"
   ]
  },
  {
   "cell_type": "markdown",
   "metadata": {},
   "source": [
    "Future value formula:\n",
    "$$FV_{n}=PV(1+r)^n$$\n",
    "\n",
    "Future Value ($FV_n$) of an Annuity formula (ordinary):\n",
    "$$FV_{n}=PMT\\Big[\\frac{(1+r)^{n}-1}{r}\\Big]+TV$$\n",
    "\n",
    "Future Value ($FV_n$) of an Annuity formula (due):\n",
    "$$FV_{n}=PMT\\Big[\\frac{(1+r)^{n}-1}{r}\\times (1+r)\\Big]+TV$$"
   ]
  },
  {
   "cell_type": "code",
   "execution_count": 11,
   "metadata": {},
   "outputs": [
    {
     "name": "stdout",
     "output_type": "stream",
     "text": [
      "127.68926960690285\n"
     ]
    }
   ],
   "source": [
    "print(annuity_fv(rate=rate, n_periods=n_period, instalment=installment, terminal_payment=terminal_payment, cf_freq=cf_freq, comp_freq=comp_freq,immediate_start=beg))"
   ]
  },
  {
   "cell_type": "code",
   "execution_count": 15,
   "metadata": {},
   "outputs": [
    {
     "name": "stdout",
     "output_type": "stream",
     "text": [
      "127.68926960690285\n"
     ]
    }
   ],
   "source": [
    "def fv(r, n, pmt, terminal_payment, beg=False):\n",
    "  old_settings = np.seterr(invalid='ignore')\n",
    "  fvPMT = where(r == 0, n, np.divide((1+r)**n - 1, r)) * pmt\n",
    "  np.seterr(**old_settings)\n",
    "  TV = terminal_payment\n",
    "  \n",
    "  return where(beg, fvPMT * (1 + r) + TV, fvPMT + TV)\n",
    "\n",
    "print(fv(rate, n_period, installment, terminal_payment, beg)) "
   ]
  },
  {
   "cell_type": "markdown",
   "metadata": {},
   "source": [
    "### Annuity Installments"
   ]
  },
  {
   "cell_type": "markdown",
   "metadata": {},
   "source": [
    "Coupon payment formula can be derived by rearranging the following PV formula:\n",
    "$$PV_0=PMT\\Bigg(\\frac{1-(1+r)^{-n}}{r}\\Bigg)+\\frac{FV}{(1+r)^n}$$\n",
    "\n",
    "$$PMT=\\Bigg[\\frac{PV_0 - \\frac{FV}{(1+r)^n}}{\\frac{1-(1+r)^{-n}}{r}}\\Bigg]$$"
   ]
  },
  {
   "cell_type": "code",
   "execution_count": 16,
   "metadata": {},
   "outputs": [
    {
     "name": "stdout",
     "output_type": "stream",
     "text": [
      "2.4999999999999853\n"
     ]
    }
   ],
   "source": [
    "print(annuity_instalment(rate, n_period, price, terminal_payment=terminal_payment, immediate_start=beg))"
   ]
  },
  {
   "cell_type": "code",
   "execution_count": 17,
   "metadata": {},
   "outputs": [
    {
     "data": {
      "text/plain": [
       "2.4999999999999853"
      ]
     },
     "execution_count": 17,
     "metadata": {},
     "output_type": "execute_result"
    }
   ],
   "source": [
    "def pmt(r, n, pv, fv, beg=False):\n",
    "    return (pv - (fv/(1+r)**n)) / np.divide(1 - (1+r)**-n, r)\n",
    "\n",
    "pmt(rate, n_period, price, terminal_payment, beg)"
   ]
  },
  {
   "cell_type": "markdown",
   "metadata": {},
   "source": [
    "### Annuity Rate"
   ]
  },
  {
   "cell_type": "markdown",
   "metadata": {},
   "source": [
    "https://en.wikipedia.org/wiki/Newton%27s_method\n",
    "\n",
    "https://en.wikipedia.org/wiki/Secant_method\n",
    "\n"
   ]
  },
  {
   "cell_type": "code",
   "execution_count": 22,
   "metadata": {},
   "outputs": [
    {
     "data": {
      "text/plain": [
       "0.02249999999990793"
      ]
     },
     "execution_count": 22,
     "metadata": {},
     "output_type": "execute_result"
    }
   ],
   "source": [
    "annuity_rate(n_periods=n_period, instalment=installment, pv=price, terminal_payment=terminal_payment, immediate_start=beg)"
   ]
  },
  {
   "cell_type": "code",
   "execution_count": 19,
   "metadata": {},
   "outputs": [
    {
     "name": "stdout",
     "output_type": "stream",
     "text": [
      "[-102.21655409    2.5           2.5           2.5           2.5\n",
      "    2.5           2.5           2.5           2.5           2.5\n",
      "  102.5       ]\n",
      "0.022500000000000187\n"
     ]
    }
   ],
   "source": [
    "from irr import irr_newton, irr_binary_search\n",
    "\n",
    "arr = np.array(-price)\n",
    "arr = np.append(arr, np.full(n_period, installment))\n",
    "arr[n_period] += terminal_payment\n",
    "print(arr)\n",
    "print(irr_newton(arr))"
   ]
  },
  {
   "cell_type": "code",
   "execution_count": 20,
   "metadata": {},
   "outputs": [
    {
     "name": "stdout",
     "output_type": "stream",
     "text": [
      "0.022500000000000853\n"
     ]
    }
   ],
   "source": [
    "arr = np.array(-price)\n",
    "arr = np.append(arr, np.full(n_period, installment))\n",
    "arr[n_period] += terminal_payment\n",
    "print(irr_binary_search(arr))"
   ]
  },
  {
   "cell_type": "code",
   "execution_count": 21,
   "metadata": {},
   "outputs": [
    {
     "name": "stdout",
     "output_type": "stream",
     "text": [
      "0.02249999999990799\n"
     ]
    }
   ],
   "source": [
    "from scipy.optimize import newton\n",
    "\n",
    "def f(r): # The function whose zero is to be found\n",
    "    return pv(r=r, n=n_period, pmt=installment, fv=terminal_payment, beg=False) - price\n",
    "    \n",
    "root, status = newton(f, 0, full_output=True, disp=False) \n",
    "print(root)"
   ]
  },
  {
   "cell_type": "code",
   "execution_count": 23,
   "metadata": {},
   "outputs": [
    {
     "name": "stdout",
     "output_type": "stream",
     "text": [
      "0.0225\n"
     ]
    }
   ],
   "source": [
    "from bond_pricing import my_irr\n",
    "\n",
    "def f(r): # The function whose zero is to be found\n",
    "    return pv(r=r, n=n_period, pmt=installment, fv=terminal_payment, beg=False) - price\n",
    "    \n",
    "root = my_irr(f, 0) \n",
    "print(root)"
   ]
  },
  {
   "cell_type": "code",
   "execution_count": 24,
   "metadata": {},
   "outputs": [
    {
     "data": {
      "text/plain": [
       "0.022533709978023245"
      ]
     },
     "execution_count": 24,
     "metadata": {},
     "output_type": "execute_result"
    }
   ],
   "source": [
    "def approx_rate(n_period, installment, pv, fv, beg=False):\n",
    "    return (installment + ((fv - pv) / n_period)) / ((fv + pv) / 2)\n",
    "\n",
    "approx_rate(n_period, installment, price, terminal_payment, beg)"
   ]
  }
 ],
 "metadata": {
  "kernelspec": {
   "display_name": "fin",
   "language": "python",
   "name": "python3"
  },
  "language_info": {
   "codemirror_mode": {
    "name": "ipython",
    "version": 3
   },
   "file_extension": ".py",
   "mimetype": "text/x-python",
   "name": "python",
   "nbconvert_exporter": "python",
   "pygments_lexer": "ipython3",
   "version": "3.12.6"
  }
 },
 "nbformat": 4,
 "nbformat_minor": 2
}
