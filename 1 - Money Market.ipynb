{
 "cells": [
  {
   "cell_type": "markdown",
   "metadata": {},
   "source": [
    "### Imports"
   ]
  },
  {
   "cell_type": "code",
   "execution_count": 1,
   "metadata": {},
   "outputs": [],
   "source": [
    "import numpy as np\n",
    "import bond_pricing"
   ]
  },
  {
   "cell_type": "markdown",
   "metadata": {},
   "source": [
    "### Day Count Convention"
   ]
  },
  {
   "cell_type": "markdown",
   "metadata": {},
   "source": [
    "The relevant time period in most financial markets is based on the number of days between the starting and ending dates. In other words, “parking lot rules”(whereby both the starting and ending dates count) do not apply."
   ]
  },
  {
   "cell_type": "code",
   "execution_count": 2,
   "metadata": {},
   "outputs": [],
   "source": [
    "from datetime import date\n",
    "from pandas import to_datetime, Timedelta, DateOffset\n",
    "from importlib import import_module\n",
    "\n",
    "daycount_dict = {'actual/360': 'actual360', \n",
    "                 'actual/365': 'actual365',\n",
    "                 'actual/actual': 'actualactual', \n",
    "                 'thirty/360': 'thirty360'}\n",
    "\n",
    "settle = to_datetime('2024-1-12')\n",
    "mat = to_datetime('2024-03-12')\n",
    "convention = 'actual/365'"
   ]
  },
  {
   "cell_type": "code",
   "execution_count": 3,
   "metadata": {},
   "outputs": [
    {
     "name": "stdout",
     "output_type": "stream",
     "text": [
      "days = 60\n",
      "year = 365\n"
     ]
    }
   ],
   "source": [
    "def days_year(settle, mat, convention='actual/360'):\n",
    "    name = 'isda_daycounters.'+ daycount_dict[convention]\n",
    "    days = import_module(name).day_count(settle, mat)\n",
    "    if convention == \"actual/360\" or convention == \"thirty/360\":\n",
    "      year = 360\n",
    "    elif convention == \"actual/365\":\n",
    "      year = 365\n",
    "    else:\n",
    "      oneyear = settle + DateOffset(years=1)\n",
    "      year = (oneyear - settle).days\n",
    "    return days, year\n",
    "    \n",
    "days, year = days_year(settle, mat, convention=convention)\n",
    "print(f'{days = }\\n{year = }')"
   ]
  },
  {
   "cell_type": "code",
   "execution_count": 4,
   "metadata": {},
   "outputs": [
    {
     "name": "stdout",
     "output_type": "stream",
     "text": [
      "dayYear = 6.083333333333334\n",
      "6.083333333333333\n",
      "yearDay = 0.1643835616438356\n",
      "0.1643835616438356\n"
     ]
    }
   ],
   "source": [
    "def year_frac(settle, mat, convention='actual/360', inverse=False):\n",
    "    name = 'isda_daycounters.'+ daycount_dict[convention]\n",
    "    fraction = import_module(name).year_fraction(settle, mat)\n",
    "    if inverse:\n",
    "      return fraction\n",
    "    else:\n",
    "      return 1/fraction\n",
    "\n",
    "dayYear = year_frac(settle, mat, convention=convention, inverse=False)\n",
    "print(f'{dayYear = }')\n",
    "print(year/days)\n",
    "\n",
    "yearDay = year_frac(settle, mat, convention=convention, inverse=True)\n",
    "print(f'{yearDay = }')\n",
    "print(days/year)"
   ]
  },
  {
   "cell_type": "markdown",
   "metadata": {},
   "source": [
    "### Add-On Rate"
   ]
  },
  {
   "cell_type": "markdown",
   "metadata": {},
   "source": [
    "The following rates are generally quoted on an add-on rate basis:\n",
    "- Commercial bank loans and deposits\n",
    "- Certificates of deposit (CD)\n",
    "- Repos\n",
    "- Fed funds\n",
    "- LIBOR\n",
    "- SOFR\n",
    "- Commercial paper (CP) in Euromarkets"
   ]
  },
  {
   "cell_type": "markdown",
   "metadata": {},
   "source": [
    "Add-on rates follow a simple interest calculations. The **interest is added on to the principal amount** to get the **redemption payment** at maturity.\n",
    "\n",
    "$$FV=PV+\\left[PV \\times AOR \\times \\frac{Days}{Year}\\right]$$\n",
    "$$FV=PV\\times\\left[1 + \\left(AOR \\times \\frac{Days}{Year}\\right)\\right]$$\n",
    "$$\\frac{FV}{PV}=\\left[1 + \\left(AOR \\times \\frac{Days}{Year}\\right)\\right]$$\n",
    "$$PV=\\frac{FV}{\\left[1 + \\left(AOR \\times \\frac{Days}{Year}\\right)\\right]}$$\n",
    "$$AOR=\\left(\\frac{Year}{Days}\\right)\\times\\left(\\frac{FV-PV}{PV}\\right)$$\n",
    "$$AOR\\times\\left(\\frac{Days}{Year}\\right)=\\left(\\frac{FV-PV}{PV}\\right)$$\n",
    "\n",
    "- AOR is the quoted add-on rate (annual percentage rate (APR))\n",
    "- PV the present value (the initial principal amount)\n",
    "- FV the future value (the redemption payment including interest)\n",
    "- Days the number of days until maturity, and \n",
    "- Year the number of days in the year"
   ]
  },
  {
   "cell_type": "code",
   "execution_count": 5,
   "metadata": {},
   "outputs": [
    {
     "name": "stdout",
     "output_type": "stream",
     "text": [
      "fv = 1,019,500.0\n",
      "periodicity = 2.0\n"
     ]
    }
   ],
   "source": [
    "def addon_fv(pv, aor, days, year=360):\n",
    "    return pv * (1 + (aor * days  / year))\n",
    "\n",
    "pv = 1_000_000\n",
    "aor = 0.039\n",
    "days = 180\n",
    "year = 360\n",
    "\n",
    "fv = addon_fv(pv, aor, days, year)\n",
    "print(f'fv ={round(fv, 2): ,}')\n",
    "periodicity = year/days\n",
    "print(f'{periodicity = }')"
   ]
  },
  {
   "cell_type": "code",
   "execution_count": 6,
   "metadata": {},
   "outputs": [
    {
     "name": "stdout",
     "output_type": "stream",
     "text": [
      "pv = 1,007,013.04\n",
      "periodicity = 3.0\n"
     ]
    }
   ],
   "source": [
    "def addon_pv(fv, aor, days, year=360):\n",
    "    return fv / (1 + (aor * days  / year))\n",
    "\n",
    "fv = 1_019_500\n",
    "aor = 0.0372\n",
    "days = 120\n",
    "year = 360\n",
    "\n",
    "pv = addon_pv(fv, aor, days, year)\n",
    "print(f'pv ={round(pv, 2): ,}')\n",
    "periodicity = year/days\n",
    "print(f'{periodicity = }')"
   ]
  },
  {
   "cell_type": "code",
   "execution_count": 7,
   "metadata": {},
   "outputs": [
    {
     "name": "stdout",
     "output_type": "stream",
     "text": [
      "aor =  0.0421\n",
      "periodicity = 6.0\n"
     ]
    }
   ],
   "source": [
    "def addon_rate(pv, fv, days, year=360):\n",
    "    return (year/days) * (fv - pv)/pv\n",
    "\n",
    "pv = 1_000_000\n",
    "fv = 1_007_013.04\n",
    "days = 60\n",
    "year = 360\n",
    "\n",
    "aor = addon_rate(pv, fv, days, year)\n",
    "print(f'{aor = : 0.4f}')\n",
    "periodicity = year/days\n",
    "print(f'{periodicity = }')"
   ]
  },
  {
   "cell_type": "code",
   "execution_count": 8,
   "metadata": {},
   "outputs": [
    {
     "name": "stdout",
     "output_type": "stream",
     "text": [
      "4.0\n"
     ]
    }
   ],
   "source": [
    "def periodicity(days, year):\n",
    "    return year / days\n",
    "\n",
    "days = 90\n",
    "year = 360\n",
    "\n",
    "print(periodicity(days, year))"
   ]
  },
  {
   "cell_type": "markdown",
   "metadata": {},
   "source": [
    "### Discount Rate"
   ]
  },
  {
   "cell_type": "markdown",
   "metadata": {},
   "source": [
    "The following rates are generally quoted on a discount rate basis:\n",
    "- T-Bills\n",
    "- Commercial paper (CP) \n",
    "- Banker's acceptance"
   ]
  },
  {
   "cell_type": "markdown",
   "metadata": {},
   "source": [
    "The price of the security is a **discount from the face value**. The future (or face) value times the annual discount rate times the fraction of the year. Interest is not “added on” to the principal; instead it is included in the face value.\n",
    "\n",
    "$$PV = FV - \\left[FV \\times DR \\times \\frac{Days}{Year}\\right]$$\n",
    "$$PV = FV \\times \\left[1 - \\left(DR \\times \\frac{Days}{Year}\\right)\\right]$$\n",
    "$$\\frac{PV}{FV} = \\left[1 - \\left(DR \\times \\frac{Days}{Year}\\right)\\right]$$\n",
    "$$FV = \\frac{PV}{\\left[1 - \\left(DR \\times \\frac{Days}{Year}\\right)\\right]}$$\n",
    "$$DR=\\left(\\frac{Year}{Days}\\right)\\times\\left(\\frac{FV-PV}{FV}\\right)$$\n",
    "$$DR\\times\\left(\\frac{Days}{Year}\\right)=\\left(\\frac{FV-PV}{FV}\\right)$$\n",
    "\n",
    "- DR is the discount rate\n",
    "- PV the present value (the initial principal amount)\n",
    "- FV the future value (the redemption payment including interest)\n",
    "- Days the number of days until maturity, and \n",
    "- Year the number of days in the year\n",
    "\n",
    "The “amount” of a transaction is the face value (the FV) for instruments quoted on a discount rate basis. In contrast, the “amount” is the original principal (the PV at issuance) for money market securities quoted on an add-on rate basis.\n",
    "\n",
    "Note:\n",
    "$$PV = FV - \\left[FV \\times DR \\times \\frac{Days}{Year}\\right]$$\n",
    "Can be simplified to:\n",
    "$$PV = FV - \\text{Dollar Discount}$$\n",
    "where $\\text{Dollar Discount} = FV  \\times DR \\times \\frac{Days}{Year}$"
   ]
  },
  {
   "cell_type": "code",
   "execution_count": 9,
   "metadata": {},
   "outputs": [
    {
     "name": "stdout",
     "output_type": "stream",
     "text": [
      "pv = 981,000.0\n",
      "periodicity = 2.0\n"
     ]
    }
   ],
   "source": [
    "def dr_pv(fv, dr, days, year=360):\n",
    "    return fv * (1 - (dr * days  / year))\n",
    "\n",
    "fv = 1_000_000\n",
    "dr = 0.038\n",
    "days = 180\n",
    "year = 360\n",
    "\n",
    "pv = dr_pv(fv, dr, days, year)\n",
    "print(f'pv ={round(pv, 2): ,}')\n",
    "periodicity = year/days\n",
    "print(f'{periodicity = }')"
   ]
  },
  {
   "cell_type": "code",
   "execution_count": 10,
   "metadata": {},
   "outputs": [
    {
     "name": "stdout",
     "output_type": "stream",
     "text": [
      "pv = 997,208.33\n",
      "periodicity = 12.0\n"
     ]
    }
   ],
   "source": [
    "def dr_pv(fv, dr, days, year=360):\n",
    "    return fv * (1 - (dr * days  / year))\n",
    "\n",
    "fv = 1_000_000\n",
    "dr = 0.0335\n",
    "days = 30\n",
    "year = 360\n",
    "\n",
    "pv = dr_pv(fv, dr, days, year)\n",
    "print(f'pv ={round(pv, 2): ,}')\n",
    "periodicity = year/days\n",
    "print(f'{periodicity = }')"
   ]
  },
  {
   "cell_type": "code",
   "execution_count": 11,
   "metadata": {},
   "outputs": [
    {
     "name": "stdout",
     "output_type": "stream",
     "text": [
      "fv = 1,032,300.53\n"
     ]
    }
   ],
   "source": [
    "def dr_fv(pv, dr, days, year=360):\n",
    "    return pv / (1 - (dr * days  / year))\n",
    "\n",
    "pv = 1_019_500\n",
    "dr = 0.0372\n",
    "days = 120\n",
    "year = 360\n",
    "\n",
    "fv = dr_fv(pv, dr, days, year)\n",
    "print(f'fv ={round(fv, 2): ,}')"
   ]
  },
  {
   "cell_type": "code",
   "execution_count": 12,
   "metadata": {},
   "outputs": [
    {
     "name": "stdout",
     "output_type": "stream",
     "text": [
      "dr =  0.0367\n"
     ]
    }
   ],
   "source": [
    "def dr_rate(pv, fv, days, year=360):\n",
    "    return (year/days) * (fv - pv)/fv\n",
    "\n",
    "pv = 1_007_013\n",
    "fv = 1_019_500\n",
    "days = 120\n",
    "year = 360\n",
    "\n",
    "dr = dr_rate(pv, fv, days, year)\n",
    "print(f'{dr = : 0.4f}')"
   ]
  },
  {
   "cell_type": "markdown",
   "metadata": {},
   "source": [
    "### Comparing Discount Rate and Add-on Rate"
   ]
  },
  {
   "cell_type": "markdown",
   "metadata": {},
   "source": [
    "General conversion formula between discount rates and addon rates (and vice versa) when quoted for the **same assumed number of days in the year**:\n",
    "\n",
    "$$AOR = \\frac{Year \\times DR}{Year - (Days \\times DR)}$$\n",
    "$$DR = \\frac{Year \\times AOR}{Year + (Days \\times AOR)}$$\n",
    "\n",
    "Note that the DR, unlike an AOR, is **not an APR** because the $\\frac{FV - PV}{FV}$ is not the periodic interest rate, it is the interest earned relative to the future value. This is not the way we think about an interest rate — the growth rate of an investment should be measured by the increase in value (FV − PV) given where we start (PV), not where we end (FV). The discount rate systematically understate the investor’s rate of return, as well as the borrower’s cost of funds. AOR will always be greater than the DR for the same cash flows, the more so the greater the number of days in the time period and the higher the level of interest rates."
   ]
  },
  {
   "cell_type": "code",
   "execution_count": 13,
   "metadata": {},
   "outputs": [
    {
     "name": "stdout",
     "output_type": "stream",
     "text": [
      "aor = 0.03873598369011213\n",
      "dr = 0.038\n"
     ]
    }
   ],
   "source": [
    "def equiv_rate(rate, days, year, aor=True):\n",
    "    if aor:\n",
    "        return (year * rate) / (year - (days * rate))\n",
    "    else:\n",
    "        return (year * rate) / (year + (days * rate))\n",
    "    \n",
    "\n",
    "dr = 0.038\n",
    "days = 180\n",
    "year = 360\n",
    "\n",
    "aor = equiv_rate(dr, days, year, aor=True)\n",
    "print(f'{aor = }')\n",
    "\n",
    "dr = equiv_rate(aor, days, year, aor=False)\n",
    "print(f'{dr = }')"
   ]
  },
  {
   "cell_type": "markdown",
   "metadata": {},
   "source": [
    "### Converting Between Rate Periodicity "
   ]
  },
  {
   "cell_type": "markdown",
   "metadata": {},
   "source": [
    "Converting between discrete periodicities:\n",
    "$$\\Big(1+\\frac{APR_{m}}{m}\\Big)^{m} = \\Big(1+\\frac{APR_{n}}{n}\\Big)^{n}$$\n",
    "$$n\\times\\Big[\\Big(1+\\frac{APR_{m}}{m}\\Big)^{m/n}-1\\Big] = APR_{n}$$"
   ]
  },
  {
   "cell_type": "code",
   "execution_count": 14,
   "metadata": {},
   "outputs": [
    {
     "name": "stdout",
     "output_type": "stream",
     "text": [
      "0.04039999999999999\n"
     ]
    }
   ],
   "source": [
    "quoted_apr = 0.04\n",
    "m = 360/180\n",
    "n = 1\n",
    "\n",
    "print(bond_pricing.equiv_rate(rate=quoted_apr, from_freq=m, to_freq=n))"
   ]
  },
  {
   "cell_type": "markdown",
   "metadata": {},
   "source": [
    "### Bond Equivalent Yield (BEY) or Investment Rate (IR)"
   ]
  },
  {
   "cell_type": "markdown",
   "metadata": {},
   "source": [
    "The intent of *bond equivalent yield* (BEY) is to report to investors an interest rate for the security that is more meaningful than the discount rate and that allows a comparison to Treasury note and bond yields.\n",
    "\n",
    "A **bond equivalent yield** (BEY) is a money market rate stated on a **365-day add-on rate basis**. \n",
    "\n",
    "$$BEY=\\left(\\frac{365}{Days}\\right)\\times\\left(\\frac{FV-PV}{PV}\\right)$$\n",
    "$$BEY=\\left(\\frac{365}{Days}\\right)\\times\\left(\\frac{\\text{Dollar Discount}}{PV}\\right)$$\n",
    "$$BEY=\\left(\\frac{365}{Days}\\right)\\times\\left(\\frac{FV  \\times DR \\times \\frac{Days}{Year}}{PV}\\right)$$\n",
    "$$BEY = \\frac{365 \\times DR}{Year_{\\text{DR Convention}} - (Days \\times DR)}$$"
   ]
  },
  {
   "cell_type": "markdown",
   "metadata": {},
   "source": [
    "The U.S. Treasury uses a different method to calculate its official Investment Rate (i.e., the bond equivalent yield) when the time to **maturity exceeds six months**. The BEY for the 52-week T-bill is based on the following formula:\n",
    "\n",
    "$$BEY=\\frac{-\\frac{2\\times Days}{365} + 2 \\times \\sqrt{\\left(\\frac{Days}{365}\\right)^{2}-\\left(\\frac{2\\times Days}{365}-1\\right)\\left(1-\\frac{100}{PV}\\right)}}{\\frac{2\\times Days}{365}-1}$$\n",
    "\n",
    "derived from:\n",
    "$$100=PV\\times \\left(1+\\frac{182.5}{365}\\times BEY\\right)\\times \\left(1+\\frac{Days - 182.5}{365}\\times BEY\\right)$$"
   ]
  },
  {
   "cell_type": "markdown",
   "metadata": {},
   "source": [
    "| Term    | Maturity Date | Discount Rate | Investment Rate | Price (per $100 in par value) |\n",
    "| ------- | ------------- | ------------- | --------------- | ----------------------------- |\n",
    "| 4 week  | 31/07/2008    | 1.850%         | 1.878%           | 99.856111                      |\n",
    "| 13 week | 02/10/2008    | 1.900%         | 1.936%           | 99.519722                      |\n",
    "| 26 week | 02/01/2009    | 2.135%         | 2.188%           | 98.914708                      |\n",
    "| 52 week | 03/07/2009    | 2.295%         | 2.368%           | 97.679500                       |"
   ]
  },
  {
   "cell_type": "code",
   "execution_count": 15,
   "metadata": {},
   "outputs": [
    {
     "name": "stdout",
     "output_type": "stream",
     "text": [
      "price = 99.85611, days = 28, bey = 0.01878\n",
      "price = 99.51972, days = 91, bey = 0.01936\n",
      "price = 98.91471, days = 183, bey = 0.02188\n",
      "price = 97.67312, days = 365, bey = 0.02382\n",
      "\n",
      "bey = 0.01878\n",
      "bey = 0.01936\n",
      "bey = 0.02188\n",
      "bey = 0.02382\n"
     ]
    }
   ],
   "source": [
    "settle = to_datetime(\"2008-7-3\")\n",
    "convention = 'actual/360'\n",
    "mat_dr = {'2008-7-31': 0.0185,\n",
    "             '2008-10-2': 0.019,\n",
    "             '2009-1-2': 0.02135,\n",
    "             '2009-7-3': 0.02295}\n",
    "\n",
    "days_pv = {}\n",
    "for mat, dr in mat_dr.items():\n",
    "    days, year = days_year(settle, to_datetime(mat), convention=convention)\n",
    "    price = dr_pv(100, dr, days, year)\n",
    "    days_pv[days] = price\n",
    "    bey = (365 * dr) / (360 - (days * dr)) # DR to BEY conversion formula\n",
    "    print(f'{price = :0.5f}, {days = }, {bey = :0.5f}')\n",
    "    \n",
    "print()\n",
    "\n",
    "for days, price in days_pv.items():\n",
    "    bey = addon_rate(price, 100, days, year=365) # AOR Cash flow formula set to 365 year\n",
    "    print(f'{bey = :0.5f}')"
   ]
  },
  {
   "cell_type": "code",
   "execution_count": 16,
   "metadata": {},
   "outputs": [
    {
     "data": {
      "text/plain": [
       "0.019263888888888886"
      ]
     },
     "execution_count": 16,
     "metadata": {},
     "output_type": "execute_result"
    }
   ],
   "source": [
    "def bey_short(rate, days, year, from_dr_rate=True):\n",
    "    if from_dr_rate:\n",
    "        return (365 * rate) / (year - (days * rate))\n",
    "    else:\n",
    "        premium = rate * (days/year) \n",
    "        return (365 / days) * premium \n",
    "    \n",
    "days = 91\n",
    "year = 360\n",
    "rate = 0.019\n",
    "from_dr_rate = False\n",
    "\n",
    "bey_short(rate, days, year, from_dr_rate)"
   ]
  },
  {
   "cell_type": "code",
   "execution_count": 17,
   "metadata": {},
   "outputs": [
    {
     "data": {
      "text/plain": [
       "0.02368170792870403"
      ]
     },
     "execution_count": 17,
     "metadata": {},
     "output_type": "execute_result"
    }
   ],
   "source": [
    "def bey_long(days, pv):\n",
    "    D = (2*days)/365\n",
    "    num = -D + 2 * ((days/365)**2 - (D - 1) * (1 - (100/pv)))**(1/2)\n",
    "    return num / (D - 1)\n",
    "\n",
    "days = 364\n",
    "pv = 97.6795\n",
    "\n",
    "bey_long(days, pv)"
   ]
  },
  {
   "cell_type": "markdown",
   "metadata": {},
   "source": [
    "### Semiannual Bond Basis (SABB)"
   ]
  },
  {
   "cell_type": "markdown",
   "metadata": {},
   "source": [
    "For comparability of Treasury securities such as bills, notes, and bonds across maturities, it is often advisable to convert rates to semiannual compounding because that is how yields to maturity on Treasury notes and bonds are calculated and presented. T-bill discount rates can be first converted to a **365-day add-on** basis and then converted to a **semiannual bond basis (SABB)**.\n",
    "\n",
    "Note that $SABB = APR_{2}$\n",
    "\n",
    "Step 1:\n",
    "$$BEY = \\frac{365 \\times DR}{Year_{\\text{DR}} - (Days \\times DR)}$$\n",
    "Step 2:\n",
    "$$\\left(1+\\frac{BEY}{Year/Days}\\right)^{Year/Days} = \\Big(1+\\frac{SABB}{2}\\Big)^{2}$$\n",
    "$$2\\times\\left[\\left(1+\\frac{BEY}{Year/Days}\\right)^{(Year/Days)/2}-1\\right] = SABB$$"
   ]
  },
  {
   "cell_type": "code",
   "execution_count": 18,
   "metadata": {},
   "outputs": [],
   "source": [
    "def sabb(rate, days, year, from_dr_rate=True):\n",
    "    bey = bey_short(rate, days, year, from_dr_rate)\n",
    "    year_frac = year/days\n",
    "    return 2 * ((1 + bey/year_frac)**(year_frac/2) - 1)"
   ]
  },
  {
   "cell_type": "code",
   "execution_count": 19,
   "metadata": {},
   "outputs": [
    {
     "name": "stdout",
     "output_type": "stream",
     "text": [
      "semiannual = 0.01886, bey = 0.01878, days = 28\n",
      "semiannual = 0.01940, bey = 0.01936, days = 91\n",
      "semiannual = 0.02188, bey = 0.02188, days = 183\n",
      "semiannual = 0.02368, bey = 0.02368, days = 365\n"
     ]
    }
   ],
   "source": [
    "mat_dr = {'2008-7-31': 0.0185,\n",
    "             '2008-10-2': 0.019,\n",
    "             '2009-1-2': 0.02135,\n",
    "             '2009-7-3': 0.02295}\n",
    "\n",
    "convention = 'actual/360'\n",
    "\n",
    "for mat, dr in mat_dr.items():\n",
    "    days, year = days_year(settle, to_datetime(mat), convention=convention)\n",
    "    bey = bey_short(dr, days, year) if days < 183 else bey_long(days, dr_pv(100, dr, days, year))\n",
    "    semiannual = sabb(dr, days, year)\n",
    "    print(f'{semiannual = :0.5f}, {bey = :0.5f}, {days = }')"
   ]
  },
  {
   "cell_type": "markdown",
   "metadata": {},
   "source": [
    "### Examples"
   ]
  },
  {
   "cell_type": "markdown",
   "metadata": {},
   "source": [
    "Suppose that a money market security can be purchased on January 12 for $64,000. The security matures on March 12, paying $65,000. Calculate the interest rate on the security to the nearest one-tenth of a basis point, given the following quotation methods and day-count conventions:\n",
    "- Add-on Rate, Actual/360\n",
    "- Add-on Rate, Actual/365\n",
    "- Add-on Rate, 30/360\n",
    "- Add-on Rate, Actual/370\n",
    "- Discount Rate, Actual/360"
   ]
  },
  {
   "cell_type": "code",
   "execution_count": 20,
   "metadata": {},
   "outputs": [
    {
     "name": "stdout",
     "output_type": "stream",
     "text": [
      "days = 59\n",
      "year = 360\n",
      "aor =  0.09534\n"
     ]
    }
   ],
   "source": [
    "pv = 64_000\n",
    "fv = 65_000\n",
    "settle = to_datetime('2025-1-12')\n",
    "mat = to_datetime('2025-3-12')\n",
    "convention = 'actual/360'\n",
    "\n",
    "days, year = days_year(settle, mat, convention)\n",
    "print(f'{days = }\\n{year = }')\n",
    "aor = addon_rate(pv, fv, days, year)\n",
    "print(f'{aor = : 0.5f}')"
   ]
  },
  {
   "cell_type": "code",
   "execution_count": 21,
   "metadata": {},
   "outputs": [
    {
     "name": "stdout",
     "output_type": "stream",
     "text": [
      "days = 59\n",
      "year = 365\n",
      "aor =  0.09666\n"
     ]
    }
   ],
   "source": [
    "pv = 64_000\n",
    "fv = 65_000\n",
    "settle = to_datetime('2025-1-12')\n",
    "mat = to_datetime('2025-3-12')\n",
    "convention = 'actual/365'\n",
    "\n",
    "days, year = days_year(settle, mat, convention)\n",
    "print(f'{days = }\\n{year = }')\n",
    "aor = addon_rate(pv, fv, days, year)\n",
    "print(f'{aor = : 0.5f}')"
   ]
  },
  {
   "cell_type": "code",
   "execution_count": 22,
   "metadata": {},
   "outputs": [
    {
     "name": "stdout",
     "output_type": "stream",
     "text": [
      "days = 60\n",
      "year = 360\n",
      "aor =  0.09375\n"
     ]
    }
   ],
   "source": [
    "pv = 64_000\n",
    "fv = 65_000\n",
    "settle = to_datetime('2025-1-12')\n",
    "mat = to_datetime('2025-3-12')\n",
    "convention = 'thirty/360'\n",
    "\n",
    "days, year = days_year(settle, mat, convention)\n",
    "print(f'{days = }\\n{year = }')\n",
    "aor = addon_rate(pv, fv, days, year)\n",
    "print(f'{aor = : 0.5f}')"
   ]
  },
  {
   "cell_type": "code",
   "execution_count": 23,
   "metadata": {},
   "outputs": [
    {
     "name": "stdout",
     "output_type": "stream",
     "text": [
      "days = 60\n",
      "year = 370\n",
      "aor =  0.09635\n"
     ]
    }
   ],
   "source": [
    "pv = 64_000\n",
    "fv = 65_000\n",
    "settle = to_datetime('2025-1-12')\n",
    "mat = to_datetime('2025-3-12')\n",
    "convention = 'thirty/360'\n",
    "\n",
    "days = days_year(settle, mat, convention)[0]\n",
    "year = 370\n",
    "print(f'{days = }\\n{year = }')\n",
    "aor = addon_rate(pv, fv, days, year)\n",
    "print(f'{aor = : 0.5f}')"
   ]
  },
  {
   "cell_type": "code",
   "execution_count": 24,
   "metadata": {},
   "outputs": [
    {
     "name": "stdout",
     "output_type": "stream",
     "text": [
      "days = 59\n",
      "year = 360\n",
      "dr =  0.09387\n"
     ]
    }
   ],
   "source": [
    "pv = 64_000\n",
    "fv = 65_000\n",
    "settle = to_datetime('2025-1-12')\n",
    "mat = to_datetime('2025-3-12')\n",
    "convention = 'actual/360'\n",
    "\n",
    "days, year = days_year(settle, mat, convention)\n",
    "print(f'{days = }\\n{year = }')\n",
    "dr = dr_rate(pv, fv, days, year)\n",
    "print(f'{dr = : 0.5f}')"
   ]
  },
  {
   "cell_type": "markdown",
   "metadata": {},
   "source": [
    "Suppose that sometime in the not-so-distant future the fastest-growing financial institution in the world is **Bank 24/7/52**. Its success owes to pioneering use of hourly interest rates for loans and deposits, an idea borrowed from the success of the hourly car rental businesses. Its (add-on) rates on short term large time deposits (>$1,000,000) are shown in table below. The APR quoted by Bank 24/7/52 assumes a 364-day year. For instance, 3.4944% is calculated as 0.0004% * 24 * 7 * 52.\n",
    "\n",
    "To see how hourly interest rates might work, suppose a corporation makes a 52-hour, $5,000,000 time deposit at Bank 24/7/52. The redemption amount on the deposit can be calculated using an hourly version of the below equation. The corporation will receive $5,001,560 when the deposit\n",
    "matures.\n",
    "\n",
    "$$FV=PV\\times\\left[1 + \\left(AOR \\times \\frac{Days}{Year}\\right)\\right]$$"
   ]
  },
  {
   "cell_type": "markdown",
   "metadata": {},
   "source": [
    "| Time Period | Rate per Hour | APR     |\n",
    "| ----------- | ------------- | ------- |\n",
    "| 1–8 Hours   | 0.0004%       | 3.4944% |\n",
    "| 9–24 Hours  | 0.0005%       | 4.3680% |\n",
    "| 25–72 Hours | 0.0006%       | 5.2416% |"
   ]
  },
  {
   "cell_type": "code",
   "execution_count": 25,
   "metadata": {},
   "outputs": [
    {
     "name": "stdout",
     "output_type": "stream",
     "text": [
      "[3.4944, 4.368000000000001, 5.2416]\n",
      "fv = 5_001_560\n"
     ]
    }
   ],
   "source": [
    "rate_per_hour = [4e-6, 5e-6, 6e-6]\n",
    "apr = [rate_per_hour[i] * 24 * 7 * 52 * 100 for i in range(len(rate_per_hour))]\n",
    "print(apr)\n",
    "\n",
    "pv = 5_000_000\n",
    "hours = 52\n",
    "days = hours/24\n",
    "year = 364\n",
    "\n",
    "fv = round(addon_fv(pv, apr[2]/100, days, year)) \n",
    "print(f'{fv = :_}')"
   ]
  },
  {
   "cell_type": "markdown",
   "metadata": {},
   "source": [
    "Now suppose that 30 hours after making the time deposit, the corporation has sudden need for liquidity. Bank 24/7/52’s policy is to buy back time deposits as a service to its regular corporate customers. The redemption amount is fixed once the deposit is issued. The present value of the time deposit after 30 hours have passed and 22 hours remain is computed using the equation used earlier.\n"
   ]
  },
  {
   "cell_type": "code",
   "execution_count": 26,
   "metadata": {},
   "outputs": [
    {
     "name": "stdout",
     "output_type": "stream",
     "text": [
      "pv_sold = 5_001_010\n"
     ]
    }
   ],
   "source": [
    "sold_hour = 22\n",
    "sold_days = sold_hour/24\n",
    "\n",
    "pv_sold = round(addon_pv(fv, aor=apr[1]/100, days=sold_days, year=year))\n",
    "print(f'{pv_sold = :_}')"
   ]
  },
  {
   "cell_type": "markdown",
   "metadata": {},
   "source": [
    "How did the corporation do on its short-term investment? The realized rate of return for its 30-hour holding period can be calculated with an hourly version of the equation below. That turns out to be 5.8822% on a 364-day add-on basis.\n",
    "\n",
    "$$AOR=\\left(\\frac{Year}{Days}\\right)\\times\\left(\\frac{FV-PV}{PV}\\right)$$"
   ]
  },
  {
   "cell_type": "code",
   "execution_count": 27,
   "metadata": {},
   "outputs": [
    {
     "name": "stdout",
     "output_type": "stream",
     "text": [
      "aor = 5.8822399999999995\n",
      "periodicity = 291.2\n"
     ]
    }
   ],
   "source": [
    "hours_held = 30\n",
    "days_held = hours_held/24\n",
    "\n",
    "aor = addon_rate(pv, pv_sold, days_held, year)*100\n",
    "print(f'{aor = }')\n",
    "periodicity = year/days_held\n",
    "print(f'{periodicity = }')"
   ]
  },
  {
   "cell_type": "markdown",
   "metadata": {},
   "source": [
    "Suppose that, for consistency, the money manager likes to convert all rates of return to a semiannual bond basis. Equation below can be used to convert that AOR to an SABB, but first one additional step is needed.\n",
    "\n",
    "$$2\\times\\left[\\left(1+\\frac{BEY}{Year/Days}\\right)^{(Year/Days)/2}-1\\right] = SABB$$\n",
    "\n",
    "In general, interest rates should be put on a full-year, 365-day basis before carrying out the periodicity conversion. That is because an SABB having a periodicity of 2 implicitly assumes two evenly spaced periods in the 365-day year, each period having 182.5 days. (Notice that this assumption is implicit in equation below)\n",
    "\n",
    "$$100=PV\\times \\left(1+\\frac{182.5}{365}\\times BEY\\right)\\times \\left(1+\\frac{Days - 182.5}{365}\\times BEY\\right)$$\n",
    "\n",
    "So, first we need to convert 5.8822% to an addon rate for 365 days in the year by multiplying by 365/364.\n",
    "\n",
    "$$AOR_{start}=\\left(\\frac{Year_{start}}{Days}\\right)\\times\\left(\\frac{FV-PV}{PV}\\right)$$\n",
    "$$\\left(\\frac{365}{Year_{start}}\\right)\\times AOR_{start}=\\left(\\frac{\\cancel{Year_{start}}}{Days}\\right)\\times\\left(\\frac{FV-PV}{PV}\\right)\\times \\left(\\frac{365}{\\cancel{Year_{start}}}\\right)$$\n",
    "$$AOR_{365}=\\left(\\frac{365}{Year_{start}}\\right)\\times AOR_{start}$$"
   ]
  },
  {
   "cell_type": "code",
   "execution_count": 28,
   "metadata": {},
   "outputs": [
    {
     "name": "stdout",
     "output_type": "stream",
     "text": [
      "5.8984\n",
      "periodicity_new = 292.0\n"
     ]
    }
   ],
   "source": [
    "year_new = 365\n",
    "aor_365 = (year_new/year) * aor\n",
    "print(aor_365)\n",
    "periodicity_new = year_new/days_held\n",
    "print(f'{periodicity_new = }')"
   ]
  },
  {
   "cell_type": "markdown",
   "metadata": {},
   "source": [
    "This rate is now an APR for 292 periods in the year: (365 * 24)/30 = 292. The holding-period rate of return converted to an SABB is 5.9856%."
   ]
  },
  {
   "cell_type": "code",
   "execution_count": 29,
   "metadata": {},
   "outputs": [
    {
     "name": "stdout",
     "output_type": "stream",
     "text": [
      "5.985625711839848\n"
     ]
    }
   ],
   "source": [
    "semiannual = sabb(aor_365/100, days_held, year_new, from_dr_rate=False)\n",
    "\n",
    "print(semiannual*100)"
   ]
  },
  {
   "cell_type": "markdown",
   "metadata": {},
   "source": [
    "https://www.youtube.com/watch?v=ufO_BScIHDQ"
   ]
  },
  {
   "cell_type": "markdown",
   "metadata": {},
   "source": [
    "### Compare Rates - Plot"
   ]
  },
  {
   "cell_type": "code",
   "execution_count": 30,
   "metadata": {},
   "outputs": [
    {
     "data": {
      "text/plain": [
       "<matplotlib.legend.Legend at 0x14e1e02f0>"
      ]
     },
     "execution_count": 30,
     "metadata": {},
     "output_type": "execute_result"
    },
    {
     "data": {
      "image/png": "[encoded data removed]",
      "text/plain": [
       "<Figure size 1200x800 with 1 Axes>"
      ]
     },
     "metadata": {
      "needs_background": "light"
     },
     "output_type": "display_data"
    }
   ],
   "source": [
    "import matplotlib.pyplot as plt\n",
    "\n",
    "fv = 100\n",
    "days = 90\n",
    "year = 360\n",
    "\n",
    "rate_x = np.linspace(0.005, 1, num=1000)\n",
    "addon_price_y = addon_pv(100, rate_x, days, year)\n",
    "dr_price_y = dr_pv(100, rate_x, days, year)\n",
    "\n",
    "plt.figure(num=0, dpi=200)\n",
    "plt.plot(rate_x, addon_price_y, label=\"Add-On Rate\")\n",
    "plt.plot(rate_x, dr_price_y, label=\"Discount Rate\")\n",
    "plt.title('Money Market Rate Comparison')\n",
    "plt.xlabel('Rate')\n",
    "plt.ylabel('Present Value')\n",
    "plt.legend()"
   ]
  }
 ],
 "metadata": {
  "kernelspec": {
   "display_name": "fin",
   "language": "python",
   "name": "python3"
  },
  "language_info": {
   "codemirror_mode": {
    "name": "ipython",
    "version": 3
   },
   "file_extension": ".py",
   "mimetype": "text/x-python",
   "name": "python",
   "nbconvert_exporter": "python",
   "pygments_lexer": "ipython3",
   "version": "3.12.6"
  }
 },
 "nbformat": 4,
 "nbformat_minor": 2
}
