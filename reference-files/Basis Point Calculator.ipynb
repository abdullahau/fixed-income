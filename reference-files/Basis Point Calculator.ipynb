{
 "cells": [
  {
   "cell_type": "code",
   "execution_count": 28,
   "metadata": {},
   "outputs": [],
   "source": [
    "from decimal import getcontext, Decimal"
   ]
  },
  {
   "cell_type": "markdown",
   "metadata": {},
   "source": [
    "A basis point (often denoted as BP and pronounced as \"bip\" or \"beep\") is a unit of measurement frequently used in finance and in particular bond math. It is equal to 1/100th of 1 percent, which is 1 permyriad. The concepts of percent, permille, permyriad, and basis point are related in the following manner:\n",
    "\n",
    "- `1 percent (1%) = 1/100`\n",
    "- `1 permille (1‰) = 1/1000`\n",
    "- `1 permyriad (1‱) = 1/10000`"
   ]
  },
  {
   "cell_type": "code",
   "execution_count": 44,
   "metadata": {},
   "outputs": [
    {
     "name": "stdout",
     "output_type": "stream",
     "text": [
      "decimal_value = 0.0039\n",
      "percent = 0.39000\n",
      "permille = 3.9000\n",
      "basis_points = 39.000\n"
     ]
    }
   ],
   "source": [
    "decimal_value = 0.0039\n",
    "\n",
    "getcontext().prec = len(str(decimal_value)) - 1\n",
    "\n",
    "percent = Decimal(decimal_value) * 100\n",
    "permille = Decimal(decimal_value) * 1000\n",
    "basis_points = Decimal(decimal_value) * 10_000\n",
    "\n",
    "print(f'{decimal_value = :,}\\n{percent = :,}\\n{permille = :,}\\n{basis_points = :,}')"
   ]
  },
  {
   "cell_type": "code",
   "execution_count": 36,
   "metadata": {},
   "outputs": [
    {
     "name": "stdout",
     "output_type": "stream",
     "text": [
      "97.5\n"
     ]
    }
   ],
   "source": [
    "# What is x bps of y?\n",
    "\n",
    "bps_x = 1.5\n",
    "y = 650_000\n",
    "\n",
    "amount = y * bps_x/10_000\n",
    "print(amount)"
   ]
  }
 ],
 "metadata": {
  "kernelspec": {
   "display_name": "fin",
   "language": "python",
   "name": "python3"
  },
  "language_info": {
   "codemirror_mode": {
    "name": "ipython",
    "version": 3
   },
   "file_extension": ".py",
   "mimetype": "text/x-python",
   "name": "python",
   "nbconvert_exporter": "python",
   "pygments_lexer": "ipython3",
   "version": "3.13.0"
  }
 },
 "nbformat": 4,
 "nbformat_minor": 2
}
