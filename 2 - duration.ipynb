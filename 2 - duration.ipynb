{
 "cells": [
  {
   "cell_type": "markdown",
   "metadata": {
    "vscode": {
     "languageId": "plaintext"
    }
   },
   "source": [
    "### Imports"
   ]
  },
  {
   "cell_type": "code",
   "execution_count": 1,
   "metadata": {},
   "outputs": [],
   "source": [
    "import numpy as np\n",
    "from numpy import array, log, exp, where, vectorize\n",
    "from bond_pricing import bond_duration, duration\n",
    "from datetime import datetime"
   ]
  },
  {
   "cell_type": "markdown",
   "metadata": {},
   "source": [
    "### Standard Inputs"
   ]
  },
  {
   "cell_type": "code",
   "execution_count": 2,
   "metadata": {},
   "outputs": [],
   "source": [
    "coupon = 0.032\n",
    "par = 100\n",
    "ytm = 0.032\n",
    "settle = datetime(2025, 10, 15)\n",
    "mat = datetime(2030, 10, 15)\n",
    "freq = 2"
   ]
  },
  {
   "cell_type": "markdown",
   "metadata": {},
   "source": [
    "### Macaulay Duration"
   ]
  },
  {
   "cell_type": "markdown",
   "metadata": {},
   "source": [
    "$$MacDur=\\left\\lbrace\\frac{1+r}{r}-\\frac{1+r+\\left\\lbrack N\\times\\left(c-r\\right)\\right\\rbrack}{c\\times\\left\\lbrack\\left(1+r\\right)^{N}-1+r\\right\\rbrack}\\right\\rbrace-\\frac{t}{T}$$\n",
    "\n",
    "- *r* is the yield-to-maturity per period;\n",
    "- *N* is the number of evenly spaced periods to maturity as of the beginning of the current period;\n",
    "- *c* is the coupon rate per period;\n",
    "- *t* is the number of days from the last coupon payment to the settlement date; and\n",
    "- *T* is the number of days in the coupon period."
   ]
  },
  {
   "cell_type": "code",
   "execution_count": 12,
   "metadata": {},
   "outputs": [
    {
     "name": "stdout",
     "output_type": "stream",
     "text": [
      "4.660146890283194\n"
     ]
    }
   ],
   "source": [
    "print(bond_duration(settle=settle, cpn=coupon, mat=mat, yld=ytm, freq=freq, face=par))"
   ]
  },
  {
   "cell_type": "code",
   "execution_count": 15,
   "metadata": {},
   "outputs": [
    {
     "name": "stdout",
     "output_type": "stream",
     "text": [
      "[1.6, 1.6, 1.6, 1.6, 1.6, 1.6, 1.6, 1.6, 1.6, 101.6]\n"
     ]
    },
    {
     "data": {
      "text/plain": [
       "4.660146890283189"
      ]
     },
     "execution_count": 15,
     "metadata": {},
     "output_type": "execute_result"
    }
   ],
   "source": [
    "n = (mat.year - settle.year)*2\n",
    "arr = np.full(n, coupon/2 * par)\n",
    "arr[n-1] += par\n",
    "print(list(arr))\n",
    "\n",
    "duration(cf=arr, rate=ytm, cf_freq=2, comp_freq=2)"
   ]
  },
  {
   "cell_type": "markdown",
   "metadata": {},
   "source": [
    "| Period | Time to Reciept | Cash Flow | PV       | Weight       | Time x Weight |\n",
    "| ------ | --------------- | --------- | -------- | ------------ | ------------- |\n",
    "| 1      | 1               | 1.6       | 1.5748   | 0.0157       | 0.0157        |\n",
    "| 2      | 2               | 1.6       | 1.5500   | 0.0155       | 0.0310        |\n",
    "| 3      | 3               | 1.6       | 1.5256   | 0.0153       | 0.0458        |\n",
    "| 4      | 4               | 1.6       | 1.5016   | 0.0150       | 0.0601        |\n",
    "| 5      | 5               | 1.6       | 1.4779   | 0.0148       | 0.0739        |\n",
    "| 6      | 6               | 1.6       | 1.4546   | 0.0145       | 0.0873        |\n",
    "| 7      | 7               | 1.6       | 1.4317   | 0.0143       | 0.1002        |\n",
    "| 8      | 8               | 1.6       | 1.4092   | 0.0141       | 0.1127        |\n",
    "| 9      | 9               | 1.6       | 1.3870   | 0.0139       | 0.1248        |\n",
    "| 10     | 10              | 101.6     | 86.6875  | 0.8669       | 8.6688        |\n",
    "|        |                 |           | 100.0000 | 1.0000       | 9.3203        |\n",
    "|        |                 |           |          | Mac Duration | 4.6601        |\n",
    "|        |                 |           |          | Mod Duration | 4.5868        |"
   ]
  },
  {
   "cell_type": "code",
   "execution_count": 18,
   "metadata": {},
   "outputs": [
    {
     "name": "stdout",
     "output_type": "stream",
     "text": [
      "[1.6, 1.6, 1.6, 1.6, 1.6, 1.6, 1.6, 1.6, 1.6, 101.6]\n"
     ]
    }
   ],
   "source": [
    "n = (mat.year - settle.year)*2\n",
    "\n",
    "cf = np.full(n, coupon/2 * par)\n",
    "cf[n-1] += par\n",
    "print(list(cf))\n",
    "\n",
    "\n",
    "\n",
    "#cf_t = array()"
   ]
  },
  {
   "cell_type": "markdown",
   "metadata": {},
   "source": [
    "### Modified Duration"
   ]
  },
  {
   "cell_type": "code",
   "execution_count": 16,
   "metadata": {},
   "outputs": [
    {
     "name": "stdout",
     "output_type": "stream",
     "text": [
      "4.586758750278734\n"
     ]
    }
   ],
   "source": [
    "print(bond_duration(settle=settle, cpn=coupon, mat=mat, yld=ytm, freq=freq, face=par, modified=True))"
   ]
  },
  {
   "cell_type": "code",
   "execution_count": 17,
   "metadata": {},
   "outputs": [
    {
     "name": "stdout",
     "output_type": "stream",
     "text": [
      "[1.6, 1.6, 1.6, 1.6, 1.6, 1.6, 1.6, 1.6, 1.6, 101.6]\n"
     ]
    },
    {
     "data": {
      "text/plain": [
       "4.586758750278729"
      ]
     },
     "execution_count": 17,
     "metadata": {},
     "output_type": "execute_result"
    }
   ],
   "source": [
    "n = (mat.year - settle.year)*2\n",
    "arr = np.full(n, coupon/2 * par)\n",
    "arr[n-1] += par\n",
    "print(list(arr))\n",
    "\n",
    "duration(cf=arr, rate=ytm, cf_freq=2, comp_freq=2,modified=True)"
   ]
  }
 ],
 "metadata": {
  "kernelspec": {
   "display_name": "fin",
   "language": "python",
   "name": "python3"
  },
  "language_info": {
   "codemirror_mode": {
    "name": "ipython",
    "version": 3
   },
   "file_extension": ".py",
   "mimetype": "text/x-python",
   "name": "python",
   "nbconvert_exporter": "python",
   "pygments_lexer": "ipython3",
   "version": "3.12.6"
  }
 },
 "nbformat": 4,
 "nbformat_minor": 2
}
