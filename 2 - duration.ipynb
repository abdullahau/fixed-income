{
 "cells": [
  {
   "cell_type": "markdown",
   "metadata": {
    "vscode": {
     "languageId": "plaintext"
    }
   },
   "source": [
    "### Imports"
   ]
  },
  {
   "cell_type": "code",
   "execution_count": 4,
   "metadata": {},
   "outputs": [],
   "source": [
    "import numpy as np\n",
    "from numpy import array, log, exp, where, vectorize\n",
    "from bond_pricing import bond_duration, duration\n",
    "from datetime import datetime"
   ]
  },
  {
   "cell_type": "markdown",
   "metadata": {},
   "source": [
    "### Standard Inputs"
   ]
  },
  {
   "cell_type": "code",
   "execution_count": 5,
   "metadata": {},
   "outputs": [],
   "source": [
    "coupon = 0.032\n",
    "par = 100\n",
    "ytm = 0.032\n",
    "settle = datetime(2025, 10, 15)\n",
    "mat = datetime(2030, 10, 15)\n",
    "freq = 2"
   ]
  },
  {
   "cell_type": "markdown",
   "metadata": {},
   "source": [
    "### Macaulay Duration"
   ]
  },
  {
   "cell_type": "markdown",
   "metadata": {},
   "source": [
    "$$MacDur=\\left\\lbrace\\frac{1+r}{r}-\\frac{1+r+\\left\\lbrack N\\times\\left(c-r\\right)\\right\\rbrack}{c\\times\\left\\lbrack\\left(1+r\\right)^{N}-1+r\\right\\rbrack}\\right\\rbrace-\\frac{t}{T}$$\n",
    "\n",
    "- *r* is the yield-to-maturity per period;\n",
    "- *N* is the number of evenly spaced periods to maturity as of the beginning of the current period;\n",
    "- *c* is the coupon rate per period;\n",
    "- *t* is the number of days from the last coupon payment to the settlement date; and\n",
    "- *T* is the number of days in the coupon period."
   ]
  },
  {
   "cell_type": "code",
   "execution_count": 10,
   "metadata": {},
   "outputs": [
    {
     "name": "stdout",
     "output_type": "stream",
     "text": [
      "4.660146890283194\n"
     ]
    }
   ],
   "source": [
    "print(bond_duration(settle=settle, cpn=coupon, mat=mat, yld=ytm, freq=freq, face=par))"
   ]
  },
  {
   "cell_type": "code",
   "execution_count": null,
   "metadata": {},
   "outputs": [],
   "source": [
    "def macduration(r, c, N, T, t, freq):\n",
    "    y = r/freq\n",
    "    c = c/freq\n",
    "    R = None\n",
    "    F = None\n",
    "    return (1+y)/y - (1+y + T*(c/R-y)) / (c*(F-1)/R + y)"
   ]
  },
  {
   "cell_type": "markdown",
   "metadata": {},
   "source": [
    "### Modified Duration"
   ]
  },
  {
   "cell_type": "code",
   "execution_count": 11,
   "metadata": {},
   "outputs": [
    {
     "name": "stdout",
     "output_type": "stream",
     "text": [
      "4.586758750278734\n"
     ]
    }
   ],
   "source": [
    "print(bond_duration(settle=settle, cpn=coupon, mat=mat, yld=ytm, freq=freq, face=par, modified=True))"
   ]
  }
 ],
 "metadata": {
  "kernelspec": {
   "display_name": "fin",
   "language": "python",
   "name": "python3"
  },
  "language_info": {
   "codemirror_mode": {
    "name": "ipython",
    "version": 3
   },
   "file_extension": ".py",
   "mimetype": "text/x-python",
   "name": "python",
   "nbconvert_exporter": "python",
   "pygments_lexer": "ipython3",
   "version": "3.12.6"
  }
 },
 "nbformat": 4,
 "nbformat_minor": 2
}
