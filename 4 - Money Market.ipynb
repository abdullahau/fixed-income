{
 "cells": [
  {
   "cell_type": "markdown",
   "metadata": {},
   "source": [
    "### Imports"
   ]
  },
  {
   "cell_type": "code",
   "execution_count": 3,
   "metadata": {},
   "outputs": [],
   "source": [
    "import numpy as np\n",
    "from pandas import to_datetime, Timedelta\n",
    "from importlib import import_module\n",
    "\n",
    "daycount_dict = {'actual/360': 'actual360', \n",
    "                 'actual/365': 'actual365', \n",
    "                 'actual/actual': 'actualactual', \n",
    "                 'thirty/360': 'thirty360'}"
   ]
  },
  {
   "cell_type": "markdown",
   "metadata": {},
   "source": [
    "### Add-On Rate"
   ]
  },
  {
   "cell_type": "markdown",
   "metadata": {},
   "source": [
    "The following rates are generally quoted on an add-on rate basis:\n",
    "- Commercial bank loans and deposits\n",
    "- Certificates of deposit (CD)\n",
    "- Repos\n",
    "- Fed funds\n",
    "- LIBOR\n",
    "- SOFR\n",
    "- Commercial paper (CP) in Euromarkets"
   ]
  },
  {
   "cell_type": "markdown",
   "metadata": {},
   "source": [
    "Add-on rates are logical and follow simple interest calculations. The **interest is added on to the principal amount** to get the **redemption payment** at maturity.\n",
    "\n",
    "$$FV=PV+\\Big[PV \\times AOR \\times \\frac{Days}{Year}\\Big]$$\n",
    "$$FV=PV\\times\\Big[1 + \\Big(AOR \\times \\frac{Days}{Year}\\Big)\\Big]$$\n",
    "\n",
    "- AOR is the quoted add-on rate\n",
    "- PV the present value (the initial principal amount)\n",
    "- FV the future value (the redemption payment including interest)\n",
    "- Days the number of days until maturity, and \n",
    "- Year the number of days in the year"
   ]
  },
  {
   "cell_type": "code",
   "execution_count": 25,
   "metadata": {},
   "outputs": [
    {
     "name": "stdout",
     "output_type": "stream",
     "text": [
      "fv = 1,019,500.0\n"
     ]
    }
   ],
   "source": [
    "def addon_fv(pv, aor, settle, mat, daycount='actual/360', year=360):\n",
    "    name = 'isda_daycounters.'+ daycount_dict[daycount]\n",
    "    days = import_module(name).day_count(settle, mat)\n",
    "    return pv * (1 + (aor * days  / year))\n",
    "\n",
    "pv = 1_000_000\n",
    "aor = 0.039\n",
    "daycount = 'actual/360'\n",
    "settle = to_datetime('2025-10-15')\n",
    "mat = to_datetime('2026-04-13')\n",
    "\n",
    "fv = addon_fv(pv, aor, settle, mat)\n",
    "print(f'fv ={round(fv, 2): ,}')"
   ]
  },
  {
   "cell_type": "code",
   "execution_count": 28,
   "metadata": {},
   "outputs": [
    {
     "name": "stdout",
     "output_type": "stream",
     "text": [
      "fv = 1,078,000.0\n"
     ]
    }
   ],
   "source": [
    "def addon_fv(pv, aor, settle, mat, daycount='actual/360'):\n",
    "    name = 'isda_daycounters.'+ daycount_dict[daycount]\n",
    "    days = import_module(name).day_count(settle, mat)\n",
    "    year = import_module(name).year_fraction(settle, mat) * days\n",
    "    return pv * (1 + (aor * days  / year))\n",
    "\n",
    "pv = 1_000_000\n",
    "aor = 0.039\n",
    "daycount = 'actual/360'\n",
    "settle = to_datetime('2025-10-15')\n",
    "mat = to_datetime('2026-04-13')\n",
    "\n",
    "fv = addon_fv(pv, aor, settle, mat)\n",
    "print(f'fv ={round(fv, 2): ,}')"
   ]
  },
  {
   "cell_type": "markdown",
   "metadata": {},
   "source": [
    "### Discount Rate"
   ]
  },
  {
   "cell_type": "markdown",
   "metadata": {},
   "source": [
    "The following rates are generally quoted on a discount rate basis:\n",
    "- T-Bills\n",
    "- Commercial paper (CP) \n",
    "- Banker's acceptance"
   ]
  }
 ],
 "metadata": {
  "kernelspec": {
   "display_name": "fin",
   "language": "python",
   "name": "python3"
  },
  "language_info": {
   "codemirror_mode": {
    "name": "ipython",
    "version": 3
   },
   "file_extension": ".py",
   "mimetype": "text/x-python",
   "name": "python",
   "nbconvert_exporter": "python",
   "pygments_lexer": "ipython3",
   "version": "3.12.6"
  }
 },
 "nbformat": 4,
 "nbformat_minor": 2
}
