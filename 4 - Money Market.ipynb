{
 "cells": [
  {
   "cell_type": "markdown",
   "metadata": {},
   "source": [
    "### Imports"
   ]
  },
  {
   "cell_type": "code",
   "execution_count": 79,
   "metadata": {},
   "outputs": [],
   "source": [
    "import numpy as np\n",
    "import bond_pricing"
   ]
  },
  {
   "cell_type": "markdown",
   "metadata": {},
   "source": [
    "### Day Count Convention"
   ]
  },
  {
   "cell_type": "markdown",
   "metadata": {},
   "source": [
    "The relevant time period in most financial markets is based on the number of days between the starting and ending dates. In other words, “parking lot rules”(whereby both the starting and ending dates count) do not apply."
   ]
  },
  {
   "cell_type": "code",
   "execution_count": 71,
   "metadata": {},
   "outputs": [],
   "source": [
    "from datetime import date\n",
    "from pandas import to_datetime, Timedelta, DateOffset\n",
    "from importlib import import_module\n",
    "\n",
    "daycount_dict = {'actual/360': 'actual360', \n",
    "                 'actual/365': 'actual365',\n",
    "                 'actual/actual': 'actualactual', \n",
    "                 'thirty/360': 'thirty360'}\n",
    "\n",
    "settle = to_datetime('2024-1-12')\n",
    "mat = to_datetime('2024-03-12')\n",
    "convention = 'actual/365'"
   ]
  },
  {
   "cell_type": "code",
   "execution_count": 83,
   "metadata": {},
   "outputs": [
    {
     "name": "stdout",
     "output_type": "stream",
     "text": [
      "days = 59\n",
      "year = 365\n"
     ]
    }
   ],
   "source": [
    "def days_year(settle, mat, convention='actual/360'):\n",
    "    name = 'isda_daycounters.'+ daycount_dict[convention]\n",
    "    days = import_module(name).day_count(settle, mat)\n",
    "    if convention == \"actual/360\" or convention == \"thirty/360\":\n",
    "      year = 360\n",
    "    elif convention == \"actual/365\":\n",
    "      year = 365\n",
    "    else:\n",
    "      oneyear = settle + DateOffset(years=1)\n",
    "      year = (oneyear - settle).days\n",
    "    return days, year\n",
    "    \n",
    "days, year = days_year(settle, mat, convention=convention)\n",
    "print(f'{days = }\\n{year = }')"
   ]
  },
  {
   "cell_type": "code",
   "execution_count": 73,
   "metadata": {},
   "outputs": [
    {
     "name": "stdout",
     "output_type": "stream",
     "text": [
      "dayYear = 6.083333333333334\n",
      "6.083333333333333\n",
      "yearDay = 0.1643835616438356\n",
      "0.1643835616438356\n"
     ]
    }
   ],
   "source": [
    "def year_frac(settle, mat, convention='actual/360', inverse=False):\n",
    "    name = 'isda_daycounters.'+ daycount_dict[convention]\n",
    "    fraction = import_module(name).year_fraction(settle, mat)\n",
    "    if inverse:\n",
    "      return fraction\n",
    "    else:\n",
    "      return 1/fraction\n",
    "\n",
    "dayYear = year_frac(settle, mat, convention=convention, inverse=False)\n",
    "print(f'{dayYear = }')\n",
    "print(year/days)\n",
    "\n",
    "yearDay = year_frac(settle, mat, convention=convention, inverse=True)\n",
    "print(f'{yearDay = }')\n",
    "print(days/year)"
   ]
  },
  {
   "cell_type": "markdown",
   "metadata": {},
   "source": [
    "### Add-On Rate"
   ]
  },
  {
   "cell_type": "markdown",
   "metadata": {},
   "source": [
    "The following rates are generally quoted on an add-on rate basis:\n",
    "- Commercial bank loans and deposits\n",
    "- Certificates of deposit (CD)\n",
    "- Repos\n",
    "- Fed funds\n",
    "- LIBOR\n",
    "- SOFR\n",
    "- Commercial paper (CP) in Euromarkets"
   ]
  },
  {
   "cell_type": "markdown",
   "metadata": {},
   "source": [
    "Add-on rates follow a simple interest calculations. The **interest is added on to the principal amount** to get the **redemption payment** at maturity.\n",
    "\n",
    "$$FV=PV+\\left[PV \\times AOR \\times \\frac{Days}{Year}\\right]$$\n",
    "$$FV=PV\\times\\left[1 + \\left(AOR \\times \\frac{Days}{Year}\\right)\\right]$$\n",
    "$$\\frac{FV}{PV}=\\left[1 + \\left(AOR \\times \\frac{Days}{Year}\\right)\\right]$$\n",
    "$$PV=\\frac{FV}{\\left[1 + \\left(AOR \\times \\frac{Days}{Year}\\right)\\right]}$$\n",
    "$$AOR=\\left(\\frac{Year}{Days}\\right)\\times\\left(\\frac{FV-PV}{PV}\\right)$$\n",
    "$$AOR\\times\\left(\\frac{Days}{Year}\\right)=\\left(\\frac{FV-PV}{PV}\\right)$$\n",
    "\n",
    "- AOR is the quoted add-on rate (annual percentage rate (APR))\n",
    "- PV the present value (the initial principal amount)\n",
    "- FV the future value (the redemption payment including interest)\n",
    "- Days the number of days until maturity, and \n",
    "- Year the number of days in the year"
   ]
  },
  {
   "cell_type": "code",
   "execution_count": 17,
   "metadata": {},
   "outputs": [
    {
     "name": "stdout",
     "output_type": "stream",
     "text": [
      "fv = 1,019,500.0\n",
      "periodicity = 2.0\n"
     ]
    }
   ],
   "source": [
    "def addon_fv(pv, aor, days, year=360):\n",
    "    return pv * (1 + (aor * days  / year))\n",
    "\n",
    "pv = 1_000_000\n",
    "aor = 0.039\n",
    "days = 180\n",
    "year = 360\n",
    "\n",
    "fv = addon_fv(pv, aor, days, year)\n",
    "print(f'fv ={round(fv, 2): ,}')\n",
    "periodicity = year/days\n",
    "print(f'{periodicity = }')"
   ]
  },
  {
   "cell_type": "code",
   "execution_count": 18,
   "metadata": {},
   "outputs": [
    {
     "name": "stdout",
     "output_type": "stream",
     "text": [
      "pv = 1,007,013.04\n",
      "periodicity = 3.0\n"
     ]
    }
   ],
   "source": [
    "def addon_pv(fv, aor, days, year=360):\n",
    "    return fv / (1 + (aor * days  / year))\n",
    "\n",
    "fv = 1_019_500\n",
    "aor = 0.0372\n",
    "days = 120\n",
    "year = 360\n",
    "\n",
    "pv = addon_pv(fv, aor, days, year)\n",
    "print(f'pv ={round(pv, 2): ,}')\n",
    "periodicity = year/days\n",
    "print(f'{periodicity = }')"
   ]
  },
  {
   "cell_type": "code",
   "execution_count": 19,
   "metadata": {},
   "outputs": [
    {
     "name": "stdout",
     "output_type": "stream",
     "text": [
      "aor =  0.0421\n",
      "periodicity = 6.0\n"
     ]
    }
   ],
   "source": [
    "def addon_rate(pv, fv, days, year=360):\n",
    "    return (year/days) * (fv - pv)/pv\n",
    "\n",
    "pv = 1_000_000\n",
    "fv = 1_007_013.04\n",
    "days = 60\n",
    "year = 360\n",
    "\n",
    "aor = addon_rate(pv, fv, days, year)\n",
    "print(f'{aor = : 0.4f}')\n",
    "periodicity = year/days\n",
    "print(f'{periodicity = }')"
   ]
  },
  {
   "cell_type": "code",
   "execution_count": 12,
   "metadata": {},
   "outputs": [
    {
     "name": "stdout",
     "output_type": "stream",
     "text": [
      "4.0\n"
     ]
    }
   ],
   "source": [
    "def periodicity(days, year):\n",
    "    return year / days\n",
    "\n",
    "days = 90\n",
    "year = 360\n",
    "\n",
    "print(periodicity(days, year))"
   ]
  },
  {
   "cell_type": "markdown",
   "metadata": {},
   "source": [
    "### Discount Rate"
   ]
  },
  {
   "cell_type": "markdown",
   "metadata": {},
   "source": [
    "The following rates are generally quoted on a discount rate basis:\n",
    "- T-Bills\n",
    "- Commercial paper (CP) \n",
    "- Banker's acceptance"
   ]
  },
  {
   "cell_type": "markdown",
   "metadata": {},
   "source": [
    "The price of the security is a **discount from the face value**. The future (or face) value times the annual discount rate times the fraction of the year. Interest is not “added on” to the principal; instead it is included in the face value.\n",
    "\n",
    "$$PV = FV - \\left[FV \\times DR \\times \\frac{Days}{Year}\\right]$$\n",
    "$$PV = FV \\times \\left[1 - \\left(DR \\times \\frac{Days}{Year}\\right)\\right]$$\n",
    "$$\\frac{PV}{FV} = \\left[1 - \\left(DR \\times \\frac{Days}{Year}\\right)\\right]$$\n",
    "$$FV = \\frac{PV}{\\left[1 - \\left(DR \\times \\frac{Days}{Year}\\right)\\right]}$$\n",
    "$$DR=\\left(\\frac{Year}{Days}\\right)\\times\\left(\\frac{FV-PV}{FV}\\right)$$\n",
    "$$DR\\times\\left(\\frac{Days}{Year}\\right)=\\left(\\frac{FV-PV}{FV}\\right)$$\n",
    "\n",
    "- DR is the discount rate\n",
    "- PV the present value (the initial principal amount)\n",
    "- FV the future value (the redemption payment including interest)\n",
    "- Days the number of days until maturity, and \n",
    "- Year the number of days in the year\n",
    "\n",
    "The “amount” of a transaction is the face value (the FV) for instruments quoted on a discount rate basis. In contrast, the “amount” is the original principal (the PV at issuance) for money market securities quoted on an add-on rate basis.\n",
    "\n",
    "Note:\n",
    "$$PV = FV - \\left[FV \\times DR \\times \\frac{Days}{Year}\\right]$$\n",
    "Can be simplified to:\n",
    "$$PV = FV - \\text{Dollar Discount}$$\n",
    "where $\\text{Dollar Discount} = FV  \\times DR \\times \\frac{Days}{Year}$"
   ]
  },
  {
   "cell_type": "code",
   "execution_count": 82,
   "metadata": {},
   "outputs": [
    {
     "name": "stdout",
     "output_type": "stream",
     "text": [
      "pv = 981,000.0\n",
      "periodicity = 2.0\n"
     ]
    }
   ],
   "source": [
    "def dr_pv(fv, dr, days, year=360):\n",
    "    return fv * (1 - (dr * days  / year))\n",
    "\n",
    "fv = 1_000_000\n",
    "dr = 0.038\n",
    "days = 180\n",
    "year = 360\n",
    "\n",
    "pv = dr_pv(fv, dr, days, year)\n",
    "print(f'pv ={round(pv, 2): ,}')\n",
    "periodicity = year/days\n",
    "print(f'{periodicity = }')"
   ]
  },
  {
   "cell_type": "code",
   "execution_count": 40,
   "metadata": {},
   "outputs": [
    {
     "name": "stdout",
     "output_type": "stream",
     "text": [
      "pv = 997,208.33\n",
      "periodicity = 12.0\n"
     ]
    }
   ],
   "source": [
    "def dr_pv(fv, dr, days, year=360):\n",
    "    return fv * (1 - (dr * days  / year))\n",
    "\n",
    "fv = 1_000_000\n",
    "dr = 0.0335\n",
    "days = 30\n",
    "year = 360\n",
    "\n",
    "pv = dr_pv(fv, dr, days, year)\n",
    "print(f'pv ={round(pv, 2): ,}')\n",
    "periodicity = year/days\n",
    "print(f'{periodicity = }')"
   ]
  },
  {
   "cell_type": "code",
   "execution_count": 41,
   "metadata": {},
   "outputs": [
    {
     "name": "stdout",
     "output_type": "stream",
     "text": [
      "fv = 1,032,300.53\n"
     ]
    }
   ],
   "source": [
    "def dr_fv(pv, dr, days, year=360):\n",
    "    return pv / (1 - (dr * days  / year))\n",
    "\n",
    "pv = 1_019_500\n",
    "dr = 0.0372\n",
    "days = 120\n",
    "year = 360\n",
    "\n",
    "fv = dr_fv(pv, dr, days, year)\n",
    "print(f'fv ={round(fv, 2): ,}')"
   ]
  },
  {
   "cell_type": "code",
   "execution_count": 42,
   "metadata": {},
   "outputs": [
    {
     "name": "stdout",
     "output_type": "stream",
     "text": [
      "dr =  0.0367\n"
     ]
    }
   ],
   "source": [
    "def dr_rate(pv, fv, days, year=360):\n",
    "    return (year/days) * (fv - pv)/fv\n",
    "\n",
    "pv = 1_007_013\n",
    "fv = 1_019_500\n",
    "days = 120\n",
    "year = 360\n",
    "\n",
    "dr = dr_rate(pv, fv, days, year)\n",
    "print(f'{dr = : 0.4f}')"
   ]
  },
  {
   "cell_type": "markdown",
   "metadata": {},
   "source": [
    "### Comparing Discount Rate and Add-on Rate"
   ]
  },
  {
   "cell_type": "markdown",
   "metadata": {},
   "source": [
    "General conversion formula between discount rates and addon rates (and vice versa) when quoted for the **same assumed number of days in the year**:\n",
    "\n",
    "$$AOR = \\frac{Year \\times DR}{Year - (Days \\times DR)}$$\n",
    "$$DR = \\frac{Year \\times AOR}{Year + (Days \\times AOR)}$$\n",
    "\n",
    "Note that the DR, unlike an AOR, is **not an APR** because the $\\frac{FV - PV}{FV}$ is not the periodic interest rate, it is the interest earned relative to the future value. This is not the way we think about an interest rate — the growth rate of an investment should be measured by the increase in value (FV − PV) given where we start (PV), not where we end (FV). The discount rate systematically understate the investor’s rate of return, as well as the borrower’s cost of funds. AOR will always be greater than the DR for the same cash flows, the more so the greater the number of days in the time period and the higher the level of interest rates."
   ]
  },
  {
   "cell_type": "code",
   "execution_count": 24,
   "metadata": {},
   "outputs": [
    {
     "name": "stdout",
     "output_type": "stream",
     "text": [
      "aor = 0.03873598369011213\n",
      "dr = 0.038\n"
     ]
    }
   ],
   "source": [
    "def equiv_rate(rate, days, year, aor=True):\n",
    "    if aor:\n",
    "        return (year * rate) / (year - (days * rate))\n",
    "    else:\n",
    "        return (year * rate) / (year + (days * rate))\n",
    "    \n",
    "\n",
    "dr = 0.038\n",
    "days = 180\n",
    "year = 360\n",
    "\n",
    "aor = equiv_rate(dr, days, year, aor=True)\n",
    "print(f'{aor = }')\n",
    "\n",
    "dr = equiv_rate(aor, days, year, aor=False)\n",
    "print(f'{dr = }')"
   ]
  },
  {
   "cell_type": "markdown",
   "metadata": {},
   "source": [
    "### Converting Between Rate Periodicity "
   ]
  },
  {
   "cell_type": "markdown",
   "metadata": {},
   "source": [
    "Converting between discrete periodicities:\n",
    "$$\\Big(1+\\frac{APR_{m}}{m}\\Big)^{m} = \\Big(1+\\frac{APR_{n}}{n}\\Big)^{n}$$\n",
    "$$n\\times\\Big[\\Big(1+\\frac{APR_{m}}{m}\\Big)^{m/n}-1\\Big] = APR_{n}$$"
   ]
  },
  {
   "cell_type": "code",
   "execution_count": 81,
   "metadata": {},
   "outputs": [
    {
     "name": "stdout",
     "output_type": "stream",
     "text": [
      "0.12682503013196977\n"
     ]
    }
   ],
   "source": [
    "quoted_apr = 0.12\n",
    "from_freq = 12\n",
    "to_freq = 1\n",
    "\n",
    "print(bond_pricing.equiv_rate(rate=quoted_apr, from_freq=from_freq, to_freq=to_freq))"
   ]
  },
  {
   "cell_type": "markdown",
   "metadata": {},
   "source": [
    "### Bond Equivalent Yield (BEY) or Investment Rate (IR)"
   ]
  },
  {
   "cell_type": "markdown",
   "metadata": {},
   "source": [
    "The intent of *bond equivalent yield* (BEY) is to report to investors an interest rate for the security that is more meaningful than the discount rate and that allows a comparison to Treasury note and bond yields.\n",
    "\n",
    "A **bond equivalent yield** (BEY) is a money market rate stated on a **365-day add-on rate basis**. \n",
    "\n",
    "$$BEY=\\left(\\frac{365}{Days}\\right)\\times\\left(\\frac{FV-PV}{PV}\\right)$$\n",
    "$$BEY=\\left(\\frac{365}{Days}\\right)\\times\\left(\\frac{\\text{Dollar Discount}}{PV}\\right)$$\n",
    "$$BEY=\\left(\\frac{365}{Days}\\right)\\times\\left(\\frac{FV  \\times DR \\times \\frac{Days}{Year}}{PV}\\right)$$\n",
    "$$BEY = \\frac{365 \\times DR}{Year_{\\text{DR Convention}} - (Days \\times DR)}$$"
   ]
  },
  {
   "cell_type": "markdown",
   "metadata": {},
   "source": [
    "The U.S. Treasury uses a different method to calculate its official Investment Rate (i.e., the bond equivalent yield) when the time to **maturity exceeds six months**. The BEY for the 52-week T-bill is based on the following formula:\n",
    "\n",
    "$$BEY=\\frac{-\\frac{2\\times Days}{365} + 2 \\times \\sqrt{\\left(\\frac{Days}{365}\\right)^{2}-\\left(\\frac{2\\times Days}{365}-1\\right)\\left(1-\\frac{100}{PV}\\right)}}{\\frac{2\\times Days}{365}-1}$$\n",
    "\n",
    "derived from:\n",
    "$$100=PV\\times \\left(1+\\frac{182.5}{365}\\times BEY\\right)\\times \\left(1+\\frac{Days - 182.5}{365}\\times BEY\\right)$$"
   ]
  },
  {
   "cell_type": "markdown",
   "metadata": {},
   "source": [
    "| Term    | Maturity Date | Discount Rate | Investment Rate | Price (per $100 in par value) |\n",
    "| ------- | ------------- | ------------- | --------------- | ----------------------------- |\n",
    "| 4 week  | 31/07/2008    | 1.850%         | 1.878%           | 99.856111                      |\n",
    "| 13 week | 02/10/2008    | 1.900%         | 1.936%           | 99.519722                      |\n",
    "| 26 week | 02/01/2009    | 2.135%         | 2.188%           | 98.914708                      |\n",
    "| 52 week | 03/07/2009    | 2.295%         | 2.368%           | 97.679500                       |"
   ]
  },
  {
   "cell_type": "code",
   "execution_count": 101,
   "metadata": {},
   "outputs": [
    {
     "name": "stdout",
     "output_type": "stream",
     "text": [
      "mat = '2008-7-31' price = 99.85611 days = 28 bey = 0.01878\n",
      "mat = '2008-10-2' price = 99.51972 days = 91 bey = 0.01936\n",
      "mat = '2009-1-2' price = 98.91471 days = 183 bey = 0.02188\n",
      "mat = '2009-7-3' price = 97.67312 days = 365 bey = 0.02382\n",
      "\n",
      "bey = 0.01878\n",
      "bey = 0.01936\n",
      "bey = 0.02188\n",
      "bey = 0.02382\n"
     ]
    }
   ],
   "source": [
    "settle = to_datetime(\"2008-7-3\")\n",
    "convention = 'actual/360'\n",
    "mat_dr = {'2008-7-31': 0.0185,\n",
    "             '2008-10-2': 0.019,\n",
    "             '2009-1-2': 0.02135,\n",
    "             '2009-7-3': 0.02295}\n",
    "\n",
    "days_pv = {}\n",
    "for mat, dr in mat_dr.items():\n",
    "    days, year = days_year(settle, to_datetime(mat), convention=convention)\n",
    "    price = dr_pv(100, dr, days, year)\n",
    "    days_pv[days] = price\n",
    "    bey = (365 * dr) / (360 - (days * dr)) # DR to BEY conversion formula\n",
    "    print(f'{mat = } {price = :0.5f} {days = } {bey = :0.5f}')\n",
    "    \n",
    "print()\n",
    "\n",
    "for days, price in days_pv.items():\n",
    "    bey = addon_rate(price, 100, days, year=365) # AOR Cash flow formula set to 365 year\n",
    "    print(f'{bey = :0.5f}')"
   ]
  },
  {
   "cell_type": "code",
   "execution_count": 125,
   "metadata": {},
   "outputs": [
    {
     "data": {
      "text/plain": [
       "0.019263888888888886"
      ]
     },
     "execution_count": 125,
     "metadata": {},
     "output_type": "execute_result"
    }
   ],
   "source": [
    "def bey_short(rate, days, year, from_dr_rate=True):\n",
    "    if from_dr_rate:\n",
    "        return (365 * rate) / (year - (days * rate))\n",
    "    else:\n",
    "        premium = rate * (days/year) \n",
    "        return (365 / days) * premium \n",
    "    \n",
    "days = 91\n",
    "year = 360\n",
    "rate = 0.019\n",
    "from_dr_rate = False\n",
    "\n",
    "bey_short(rate, days, year, from_dr_rate)"
   ]
  },
  {
   "cell_type": "code",
   "execution_count": 115,
   "metadata": {},
   "outputs": [
    {
     "data": {
      "text/plain": [
       "0.02368170792870403"
      ]
     },
     "execution_count": 115,
     "metadata": {},
     "output_type": "execute_result"
    }
   ],
   "source": [
    "def bey_long(days, pv):\n",
    "    D = (2*days)/365\n",
    "    num = -D + 2 * ((days/365)**2 - (D - 1) * (1 - (100/pv)))**(1/2)\n",
    "    return num / (D - 1)\n",
    "\n",
    "days = 364\n",
    "pv = 97.6795\n",
    "\n",
    "bey_long(days, pv)"
   ]
  },
  {
   "cell_type": "markdown",
   "metadata": {},
   "source": [
    "### Semiannual Bond Basis (SABB)"
   ]
  },
  {
   "cell_type": "markdown",
   "metadata": {},
   "source": [
    "For comparability of Treasury securities such as bills, notes, and bonds across maturities, it is often advisable to convert rates to semiannual compounding because that is how yields to maturity on Treasury notes and bonds are calculated and presented. T-bill discount rates can be first converted to a **365-day add-on** basis and then converted to a **semiannual bond basis (SABB)**.\n",
    "\n",
    "Note that $SABB = APR_{2}$\n",
    "\n",
    "Step 1:\n",
    "$$BEY = \\frac{365 \\times DR}{Year_{\\text{DR}} - (Days \\times DR)}$$\n",
    "Step 2:\n",
    "$$\\left(1+\\frac{BEY}{Year/Days}\\right)^{Year/Days} = \\Big(1+\\frac{SABB}{2}\\Big)^{2}$$\n",
    "$$2\\times\\left[\\left(1+\\frac{BEY}{Year/Days}\\right)^{(Year/Days)/2}-1\\right] = SABB$$"
   ]
  },
  {
   "cell_type": "code",
   "execution_count": 126,
   "metadata": {},
   "outputs": [],
   "source": [
    "def sabb(rate, days, year, from_dr_rate=True):\n",
    "    bey = bey_short(rate, days, year, from_dr_rate)\n",
    "    year_frac = year/days\n",
    "    return 2 * ((1 + bey/year_frac)**(year_frac/2) - 1)"
   ]
  },
  {
   "cell_type": "code",
   "execution_count": 127,
   "metadata": {},
   "outputs": [
    {
     "name": "stdout",
     "output_type": "stream",
     "text": [
      "semiannual = 0.01886 days = 28\n",
      "semiannual = 0.01940 days = 91\n",
      "semiannual = 0.02188 days = 183\n",
      "semiannual = 0.02368 days = 365\n"
     ]
    }
   ],
   "source": [
    "mat_dr = {'2008-7-31': 0.0185,\n",
    "             '2008-10-2': 0.019,\n",
    "             '2009-1-2': 0.02135,\n",
    "             '2009-7-3': 0.02295}\n",
    "\n",
    "for mat, dr in mat_dr.items():\n",
    "    days, year = days_year(settle, to_datetime(mat), convention=convention)\n",
    "    semiannual = sabb(dr, days, year)\n",
    "    print(f'{semiannual = :0.5f} {days = }')"
   ]
  },
  {
   "cell_type": "markdown",
   "metadata": {},
   "source": [
    "### Examples"
   ]
  },
  {
   "cell_type": "markdown",
   "metadata": {},
   "source": [
    "Suppose that a money market security can be purchased on January 12 for $64,000. The security matures on March 12, paying $65,000. Calculate the interest rate on the security to the nearest one-tenth of a basis point, given the following quotation methods and day-count conventions:\n",
    "- Add-on Rate, Actual/360\n",
    "- Add-on Rate, Actual/365\n",
    "- Add-on Rate, 30/360\n",
    "- Add-on Rate, Actual/370\n",
    "- Discount Rate, Actual/360"
   ]
  },
  {
   "cell_type": "code",
   "execution_count": 53,
   "metadata": {},
   "outputs": [
    {
     "name": "stdout",
     "output_type": "stream",
     "text": [
      "days = 59\n",
      "year = 360\n",
      "aor =  0.09534\n"
     ]
    }
   ],
   "source": [
    "pv = 64_000\n",
    "fv = 65_000\n",
    "settle = to_datetime('2025-1-12')\n",
    "mat = to_datetime('2025-3-12')\n",
    "convention = 'actual/360'\n",
    "\n",
    "days, year = days_year(settle, mat, convention)\n",
    "print(f'{days = }\\n{year = }')\n",
    "aor = addon_rate(pv, fv, days, year)\n",
    "print(f'{aor = : 0.5f}')"
   ]
  },
  {
   "cell_type": "code",
   "execution_count": 77,
   "metadata": {},
   "outputs": [
    {
     "name": "stdout",
     "output_type": "stream",
     "text": [
      "days = 59\n",
      "year = 365\n",
      "aor =  0.09666\n"
     ]
    }
   ],
   "source": [
    "pv = 64_000\n",
    "fv = 65_000\n",
    "settle = to_datetime('2025-1-12')\n",
    "mat = to_datetime('2025-3-12')\n",
    "convention = 'actual/365'\n",
    "\n",
    "days, year = days_year(settle, mat, convention)\n",
    "print(f'{days = }\\n{year = }')\n",
    "aor = addon_rate(pv, fv, days, year)\n",
    "print(f'{aor = : 0.5f}')"
   ]
  },
  {
   "cell_type": "code",
   "execution_count": 48,
   "metadata": {},
   "outputs": [
    {
     "name": "stdout",
     "output_type": "stream",
     "text": [
      "days = 60\n",
      "year = 360\n",
      "aor =  0.09375\n"
     ]
    }
   ],
   "source": [
    "pv = 64_000\n",
    "fv = 65_000\n",
    "settle = to_datetime('2025-1-12')\n",
    "mat = to_datetime('2025-3-12')\n",
    "convention = 'thirty/360'\n",
    "\n",
    "days, year = days_year(settle, mat, convention)\n",
    "print(f'{days = }\\n{year = }')\n",
    "aor = addon_rate(pv, fv, days, year)\n",
    "print(f'{aor = : 0.5f}')"
   ]
  },
  {
   "cell_type": "code",
   "execution_count": 50,
   "metadata": {},
   "outputs": [
    {
     "name": "stdout",
     "output_type": "stream",
     "text": [
      "days = 60\n",
      "year = 370\n",
      "aor =  0.09635\n"
     ]
    }
   ],
   "source": [
    "pv = 64_000\n",
    "fv = 65_000\n",
    "settle = to_datetime('2025-1-12')\n",
    "mat = to_datetime('2025-3-12')\n",
    "convention = 'thirty/360'\n",
    "\n",
    "days = days_year(settle, mat, convention)[0]\n",
    "year = 370\n",
    "print(f'{days = }\\n{year = }')\n",
    "aor = addon_rate(pv, fv, days, year)\n",
    "print(f'{aor = : 0.5f}')"
   ]
  },
  {
   "cell_type": "code",
   "execution_count": 51,
   "metadata": {},
   "outputs": [
    {
     "name": "stdout",
     "output_type": "stream",
     "text": [
      "days = 59\n",
      "year = 360\n",
      "dr =  0.09387\n"
     ]
    }
   ],
   "source": [
    "pv = 64_000\n",
    "fv = 65_000\n",
    "settle = to_datetime('2025-1-12')\n",
    "mat = to_datetime('2025-3-12')\n",
    "convention = 'actual/360'\n",
    "\n",
    "days, year = days_year(settle, mat, convention)\n",
    "print(f'{days = }\\n{year = }')\n",
    "dr = dr_rate(pv, fv, days, year)\n",
    "print(f'{dr = : 0.5f}')"
   ]
  }
 ],
 "metadata": {
  "kernelspec": {
   "display_name": "fin",
   "language": "python",
   "name": "python3"
  },
  "language_info": {
   "codemirror_mode": {
    "name": "ipython",
    "version": 3
   },
   "file_extension": ".py",
   "mimetype": "text/x-python",
   "name": "python",
   "nbconvert_exporter": "python",
   "pygments_lexer": "ipython3",
   "version": "3.12.6"
  }
 },
 "nbformat": 4,
 "nbformat_minor": 2
}
