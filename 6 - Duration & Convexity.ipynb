{
 "cells": [
  {
   "cell_type": "markdown",
   "metadata": {},
   "source": [
    "### Imports"
   ]
  },
  {
   "cell_type": "code",
   "execution_count": 1,
   "metadata": {},
   "outputs": [],
   "source": [
    "import numpy as np\n",
    "from pandas import to_datetime\n",
    "from bond_pricing import bond_coupon_periods, bond_duration\n",
    "from scipy.optimize import newton"
   ]
  },
  {
   "cell_type": "code",
   "execution_count": 2,
   "metadata": {},
   "outputs": [],
   "source": [
    "def equivRate(rate, from_freq=1, to_freq=1):\n",
    "  if from_freq == np.inf:\n",
    "    return (np.exp(rate / to_freq) - 1) * to_freq\n",
    "  elif to_freq == np.inf:\n",
    "    return np.log(1 + rate / from_freq) * from_freq\n",
    "  else:\n",
    "    return to_freq * ((1 + rate/from_freq)**(from_freq/to_freq) - 1)\n",
    "\n",
    "def coupon_bond_ytm(n, pmt, pv, fv=100, cf_freq=1, comp_freq=1, beg=False):\n",
    "    def f(x):\n",
    "        return coupon_bond_pv(n=n, pmt=pmt, rate=x, fv=fv, cf_freq=cf_freq, comp_freq=comp_freq, beg=beg) - pv\n",
    "    root = newton(f, 0)\n",
    "    return root\n",
    "\n",
    "def coupon_bond_pv(n, pmt, rate, fv=100, cf_freq=1, comp_freq=1, beg=False):\n",
    "    rate = equivRate(rate, from_freq=comp_freq, to_freq=cf_freq) / cf_freq\n",
    "    old_settings = np.seterr(invalid='ignore')\n",
    "    pvPMT = np.where(rate == 0, n, np.divide(1 - (1+rate)**-n, rate)) * pmt\n",
    "    np.seterr(**old_settings)\n",
    "    pvFV = fv / (1 + rate)**n\n",
    "    return np.where(beg, (pvPMT + pvFV) * (1 + rate), pvPMT + pvFV)\n",
    "\n",
    "def coupon_bond_fv(n, pmt, rate, terminal_payment, cf_freq=1, comp_freq=1, beg=False):\n",
    "    rate = equivRate(rate, from_freq=comp_freq, to_freq=cf_freq) / cf_freq\n",
    "    old_settings = np.seterr(invalid='ignore')\n",
    "    fvPMT = np.where(rate == 0, n, np.divide((1+rate)**n - 1, rate)) * pmt\n",
    "    np.seterr(**old_settings)        \n",
    "    return np.where(beg, fvPMT * (1 + rate) + terminal_payment, fvPMT + terminal_payment)\n",
    "\n",
    "def coupon_bond_pmt(n, rate, pv, fv, cf_freq=1, comp_freq=1):\n",
    "    rate = equivRate(rate, from_freq=comp_freq, to_freq=cf_freq) / cf_freq\n",
    "    pvaf = np.where(rate == 0, n, np.divide(1 - (1+rate)**-n, rate))\n",
    "    return (pv - (fv/(1+rate)**n)) / pvaf\n",
    "\n",
    "def zero_bond_ytm(n, pv, fv=100, freq=2):\n",
    "    if freq == np.inf:\n",
    "        return np.log(fv/pv) * (1/n)\n",
    "    return ((fv/pv)**(1/(n*freq)) - 1) * freq\n",
    "\n",
    "def zero_bond_pv(n, rate, fv=100, freq=2):\n",
    "    if freq == np.inf:\n",
    "        return fv / np.exp(rate*n)\n",
    "    return fv / ((1 + rate/freq)**(n*freq))\n",
    "\n",
    "def zero_bond_fv(n, rate, pv, freq):\n",
    "    if freq == np.inf:\n",
    "        return pv * np.exp(rate*n)    \n",
    "    return pv * ((1 + rate/freq)**(n*freq))\n",
    "\n",
    "def irr_newton(cf, cf_t, per=1):\n",
    "    def price(rate, cf, cf_t, per=1):\n",
    "        discount_factor = (1 + rate/per)**(-cf_t)\n",
    "        return np.dot(cf, discount_factor)\n",
    "    def f(x):\n",
    "        return price(x, cf, cf_t, per=per)\n",
    "    return newton(f, 0)\n",
    "\n",
    "def irr_newton_no_scipy(stream, cf_t, per=1, tol=1e-12):\n",
    "    rate = 0.0\n",
    "    for steps in range(50): \n",
    "        r = np.array(cf_t)\n",
    "        m = max(-rate * r / per)  \n",
    "        f = np.exp(-rate * r / per - m)\n",
    "        t = np.dot(f, stream)\n",
    "        if abs(t) < tol * np.exp(-m):\n",
    "            break\n",
    "        u = np.dot(f * r, stream)\n",
    "        rate = rate + np.clip(t / u, -1.0, 1.0)\n",
    "    annualized_rate = (np.exp(rate / per) - 1) * per \n",
    "    return annualized_rate\n",
    "\n",
    "def ifr(rate_t0t1, t1, rate_t0t2, t2, t0 = 0, per=2):\n",
    "    t2_term = (1 + rate_t0t2/per)**(t2 - t0)\n",
    "    t1_term = (1 + rate_t0t1/per)**(t1 - t0) \n",
    "    return ((t2_term / t1_term)**(1/(t2 - t1)) - 1) * per\n",
    "\n",
    "def ifr_mm(rate_t0t1, t1, rate_t0t2, t2, t0 = 0, year=360, aor=True):\n",
    "    rollover_avg = (t2 * rate_t0t2 - t1 * rate_t0t1) / (t2 - t1)\n",
    "    adjust = 1/(1 + (rate_t0t1 * t1/year)) if aor else 1/(1 - (rate_t0t1 * t1/year))\n",
    "    return rollover_avg * adjust"
   ]
  },
  {
   "cell_type": "code",
   "execution_count": 3,
   "metadata": {},
   "outputs": [],
   "source": [
    "def duration(N, r, c, tT, cf_freq=2, comp_freq=2, modified=True):\n",
    "    r = equivRate(r, from_freq=cf_freq, to_freq=comp_freq) / cf_freq \n",
    "    dur = ((1 + r)/r) - ((1 + r + N * (c - r))/(c * ((1 + r)**N - 1) + r)) - tT\n",
    "    dur /= cf_freq\n",
    "    return dur/(1 + r) if modified else dur\n",
    "\n",
    "def duration_cf(N, r, cf, tT, cf_freq=2, comp_freq=2, modified=True):\n",
    "    r = equivRate(r, from_freq=cf_freq, to_freq=comp_freq) / cf_freq\n",
    "    years = np.arange(N) + 1\n",
    "    df = 1 / (1 + r)**(years)\n",
    "    macdur = np.dot(cf*df, years) / np.dot(cf, df) - tT\n",
    "    macdur /= cf_freq\n",
    "    return macdur/(1 + r) if modified else macdur\n",
    "\n",
    "def convexity(N, r, c, tT, cf_freq=2, comp_freq=2):\n",
    "    y = equivRate(r, from_freq=cf_freq, to_freq=comp_freq) / cf_freq\n",
    "    Y = (1+y)**2\n",
    "    Yn = (1+y)**N\n",
    "    con_num = (2 * c * Y * (Yn - ((1+y+(y*N))/(1+y)))) + (N * (N + 1) * (y**2) * (y - c))\n",
    "    con_den = (y**2) * Y * (c * (Yn - 1) + y)\n",
    "    con = con_num / con_den\n",
    "    print(f'{con = :0.4f}')\n",
    "    \n",
    "    macdur = ((1 + y)/y) - ((1 + y + (N * (c - y)))/(c * (Yn - 1) + y))\n",
    "    print(f'{macdur = :0.4f}')\n",
    "    \n",
    "    con_tT = con - ((tT / Y) * (( 2 * macdur) + (1 - tT)))\n",
    "    print(f'{con_tT = :0.4f}')\n",
    "    return con_tT/cf_freq**2\n",
    "\n",
    "def convexity_cf(r, cf, cf_t=None, N=None, tT=0, cf_freq=2, comp_freq=2):\n",
    "    r = equivRate(r, from_freq=cf_freq, to_freq=comp_freq) / cf_freq\n",
    "    if cf_t is None:\n",
    "        cf_t = np.arange(N) + 1 - tT\n",
    "    pv_cf = cf * (1+r)**-cf_t\n",
    "    weight = pv_cf / np.sum(pv_cf)\n",
    "    cf_con = cf_t * (cf_t + 1) * weight * (1 + r)**-cf_freq\n",
    "    return np.sum(cf_con)/cf_freq**2"
   ]
  },
  {
   "cell_type": "markdown",
   "metadata": {},
   "source": [
    "### Introduction"
   ]
  },
  {
   "cell_type": "markdown",
   "metadata": {},
   "source": [
    "Duration and convexity are statistics that estimate the sensitivity of the market value of an asset or liability to a change in interest rates. Usually the asset or liability is a fixed‐income bond, but as measures of rate sensitivity, they apply to all sorts of securities and derivatives. We can ask meaningfully about the duration and convexity of a floating‐rate note, an inflation‐indexed bond, or an interest rate swap.\n",
    "\n",
    "- *Yield Duration* - the sensitivity of the bond price to a change in its yield to maturity, this includes the Macaulay and modified duration statistics.\n",
    "- *Yield Convexity* - the second‐order effect of that yield change.\n",
    "- *Curve Duration and Curve Convexity* - the sensitivity of the bond price to a shift in the benchmark Treasury yield curve."
   ]
  },
  {
   "cell_type": "markdown",
   "metadata": {},
   "source": [
    "Suppose that you are the fixed‐income strategist for an aggressively managed, high‐yield, international bond fund. You believe that the market prices of some country’s long‐term bonds will rally in the next week as the market digests what you expect to be very positive news about economic conditions. In particular, two long‐term sovereign bonds are trading at deeply discounted prices to yield 20%. Both bonds have an annual coupon rate of 6%, paid once a year. One bond matures in 20 years and the other in 30 years; otherwise they are identical. Which bond do you recommend, assuming that you anticipate both yields to drop by 100 basis points from 20% to 19%—the 20‐year or the 30‐year bond?\n",
    "\n",
    "Intuition suggests that other things being equal (meaning the coupon rate, yield to maturity, payment frequency, default risk, liquidity, taxation), the longer‐term 30‐year bond gains or loses more value on a percentage basis than the shorter‐term 20‐year bond given the same change in yield. That’s true—almost all of the time. But \"almost\". This scenario of two high‐yield, deeply discounted bonds demonstrates a real bond math curiosity—the 30‐year bond actually has lower sensitivity to a change in its yield to maturity than the 20‐year bond."
   ]
  },
  {
   "cell_type": "markdown",
   "metadata": {},
   "source": [
    "### Yield Duration and Convexity Relationships"
   ]
  },
  {
   "cell_type": "markdown",
   "metadata": {},
   "source": [
    "Let us derive the relationship between a change in the yield to maturity and the change in the market value of a standard fixed-income bond using algebra and calculus.\n",
    "\n",
    "Here is the general bond pricing equation: \n",
    "$$\\text{MV} = \\frac{PMT}{(1+y)^{1-t/T}} + \\frac{PMT}{(1+y)^{2-t/T}} + \\cdots + \\frac{PMT + FV}{(1+y)^{N-t/T}}$$\n",
    "\n",
    "The periodic coupon payments ($PMT$) and the principal ($FV$) to be redeemed in full at maturity are discounted at the yield per period ($y$). The settlement date is $t$ days into the $T$‐day period and there are $N$ periods to maturity counting from the beginning of the current period. Here the present value of the future cash flows is the market value ($MV$) of the bond, that is, the full (or “dirty”) price. The risk statistics for the bond are concerned with cash value, independent of how that amount is broken down for accounting into the flat (or “clean”) price and accrued interest.\n",
    "\n",
    "Yield duration and convexity entail estimating the change in market value, denoted $dMV$, caused by an instantaneous change in the yield to maturity per period, $dy$. A useful way of obtaining this estimation is with a [**Taylor series expansion**](https://en.wikipedia.org/wiki/Taylor_series). Technically, this assumes that the basic relationship in the general equation is continuous and differentiable with respect to the yield. This Taylor series can go out to any number of terms depending on the required degree of precision. All we need for bond math are the first two, as shown in equation:\n",
    "\n",
    "$$dMV\\approx\\left(\\frac{\\partial MV}{\\partial y}\\times dy\\right)+\\left(\\frac{1}{2}\\times\\frac{\\partial^{2}MV}{\\partial y^{2}}\\times(dy)^{2}\\right)$$\n",
    "\n",
    "In words, the change in market value is estimated by the first partial derivative of the bond pricing formula times the change in the yield plus one‐half of the second partial derivative times the change in the yield squared. The *first term is the essence of yield duration*; the *second term is the essence of yield convexity*. The partial derivatives are calculated holding the other variables (PMT, N, FV, t/T) constant when the yield changes."
   ]
  },
  {
   "cell_type": "markdown",
   "metadata": {},
   "source": [
    "Now we can define a number of versions of the yield duration statistic. \n",
    "$$\\text{Macaulay Duration}\\equiv-\\frac{\\partial MV}{\\partial y}\\times\\frac{1+y}{MV}$$\n",
    "\n",
    "This expression produces the famous statistic first described by Frederick Macaulay, a Canadian economist, in his study of U.S. railroad bond yields and stock prices between 1857 and 1936. The minus sign is part of the definition so that the duration will be a positive number. That’s because the first derivative is negative due to the usual inverse relationship between the bond yield and its market value. However, when the derivative actually is positive—we call that phenomenon *negative duration*."
   ]
  },
  {
   "cell_type": "markdown",
   "metadata": {},
   "source": [
    "Closely related and more commonly used is modified duration.\n",
    "$$\\text{Modified Duration}\\equiv-\\frac{\\partial MV}{\\partial y}\\times\\frac{1}{MV}=\\frac{\\text{Macaulay Duration}}{1+y}$$\n",
    "\n",
    "We’ll see that modified duration relates directly to the percentage change in the market value of the bond. \n",
    "\n",
    "Sometimes we want to estimate the change in value in terms of money (*money duration*), usually for a certain amount of par value. In the U.S., this statistic is often called the *dollar duration*.\n",
    "$$\\text{Money Duration}\\equiv-\\frac{\\partial MV}{\\partial y}=\\text{Modified Duration}\\times MV$$"
   ]
  },
  {
   "cell_type": "markdown",
   "metadata": {},
   "source": [
    "The convexity statistics for the bond similarly can be defined with respect to the second partial derivative.\n",
    "\n",
    "$$\\text{Convexity}\\equiv-\\frac{\\partial ^{2}MV}{\\partial y^{2}}\\times\\frac{1}{MV}$$\n",
    "\n",
    "$$\\text{Money Convexity}\\equiv-\\frac{\\partial^{2} MV}{\\partial y^{2}}=\\text{Convexity}\\times MV$$"
   ]
  },
  {
   "cell_type": "markdown",
   "metadata": {},
   "source": [
    "To integrate these definitions, divide both sides of Taylor series equation by MV:\n",
    "\n",
    "$$\\frac{dMV}{MV}\\approx\\left(\\frac{\\partial MV}{\\partial y}\\times\\frac{1}{MV}\\times dy\\right)+\\left(\\frac{1}{2}\\times\\frac{\\partial^{2}MV}{\\partial y^{2}}\\times\\frac{1}{MV}\\times(dy)^{2}\\right)$$\n",
    "\n",
    "This connects the percentage change in the market value ($dMV/MV$) to the change in the yield to maturity. Now substitute the definitions given in equations:\n",
    "\n",
    "$$\\frac{dMV}{MV}\\approx\\left(-\\text{Modified Duration}\\times dy\\right)+\\left(\\frac{1}{2}\\times\\text{Convexity}\\times(dy)^{2}\\right)$$\n",
    "\n",
    "The percentage change in the market value of the bond is approximated by the modified duration times the change in the yield to maturity, plus one-half the convexity statistic times the change in the yield squared. The latter is known as the **convexity adjustment to duration**. \n",
    "\n",
    "Similarly, the change in market value in money terms is approximated by the money duration and convexity statistics.\n",
    "\n",
    "$$dMV\\approx\\left(-\\text{Money Duration}\\times dy\\right)+\\left(\\frac{1}{2}\\times\\text{Money Convexity}\\times(dy)^{2}\\right)$$"
   ]
  },
  {
   "cell_type": "markdown",
   "metadata": {},
   "source": [
    "So far we have related the instantaneous change in the yield per period, $dy$, to the change in market value, $dMV$. In practice, **bond yield statistics invariably are annualized**. Therefore, a more useful expression is to estimate the change in market value, either on a **percentage basis** or in **money terms**, to the **change in the annual yield**. \n",
    "\n",
    "Let $Y$ be the annual percentage rate and $PER$ the number of periods in the year (i.e., the $APR$ and its periodicity). Then $Y=y\\times PER$, $dy=dY/PER$ and $(dY)^{2}=(dY)^{2}/PER^{2}$. Substitute these into the equation aboe to get an expression relating the percentage change in market value to the change in the annual yield to maturity.\n",
    "\n",
    "$$\\frac{dMV}{MV}\\approx\\left(-\\frac{\\text{Modified Duration}}{PER}\\times dY\\right)+\\left(\\frac{1}{2}\\times\\frac{\\text{Convexity}}{PER^{2}}\\times(dY)^{2}\\right)$$\n",
    "\n",
    "Modified duration divided by PER is the **annual modified duration** and the convexity divided by PER squared is the **annual convexity**.\n",
    "\n",
    "$$\\frac{dMV}{MV}\\approx\\left(-\\text{Annual Modified Duration}\\times dY\\right)+\\left(\\frac{1}{2}\\times\\text{Annual Convexity}\\times(dY)^{2}\\right)$$"
   ]
  },
  {
   "cell_type": "markdown",
   "metadata": {},
   "source": [
    "### Yield Duration"
   ]
  },
  {
   "cell_type": "markdown",
   "metadata": {},
   "source": [
    "Macaulay Duration - Closed‐form Formula\n",
    "\n",
    "$$MacDur=\\left\\lbrace\\frac{1+r}{r}-\\frac{1+r+\\left\\lbrack N\\times\\left(c-r\\right)\\right\\rbrack}{c\\times\\left\\lbrack\\left(1+r\\right)^{N}-1\\right\\rbrack +r}\\right\\rbrace-\\frac{t}{T}$$\n",
    "\n",
    "- *r* is the yield-to-maturity per period;\n",
    "- *N* is the number of evenly spaced periods to maturity as of the beginning of the current period;\n",
    "- *c* is the coupon rate per period, where c = PMT/FV;\n",
    "- *t* is the number of days from the last coupon payment to the settlement date; and\n",
    "- *T* is the number of days in the coupon period.\n",
    "- $t/T$ is the 'accrual fraction' or the fraction of the period that has gone by since the last coupon. Accrual fraction is dependent on the day-count convention.\n",
    "\n",
    "*Note that duration is the link between the change in market value and the change in yield, so how the yield is quoted matters (i.e., its periodicity and day‐count convention). Change one of those assumptions and you get a slightly different duration statistic.*"
   ]
  },
  {
   "cell_type": "markdown",
   "metadata": {},
   "source": [
    "**Macaulay Duration** weighted‐average formula:\n",
    "\n",
    "$$MacDur=\\left\\lbrace\\left(1-\\frac{t}{T}\\right)\\left\\lbrack\\frac{\\frac{PMT}{\\left(1+r\\right)^{1-\\frac{t}{T}}}}{PV^{Full}}\\right\\rbrack+\\left(2-\\frac{t}{T}\\right)\\left\\lbrack\\frac{\\frac{PMT}{\\left(1+r\\right)^{2-\\frac{t}{T}}}}{PV^{Full}}\\right\\rbrack+\\cdots+\\left(N-\\frac{t}{T}\\right)\\left\\lbrack\\frac{\\frac{PMT+FV}{\\left(1+r\\right)^{N-\\frac{t}{T}}}}{PV^{Full}}\\right\\rbrack\\right\\rbrace$$\n",
    "\n",
    "$$\\text{Macaulay Duration}= \\frac{\\left(1\\times\\frac{PMT}{(1+\\mathit{y})^{1}}\\right)+\\left(2\\times\\frac{PMT}{(1+\\mathit{y})^{2}}\\right)+ \\cdots + \\left(N\\times\\frac{PMT+PV}{(1+\\mathit{y})^{N}}\\right)}{\\frac{PMT}{(1+\\mathit{y})^{1}}+\\frac{PMT}{(1+\\mathit{y})^{2}}+ \\cdots + \\frac{PMT+PV}{(1+\\mathit{y})^{N}}}-t/T$$\n",
    "\n",
    "- *t* is the number of days from the last coupon payment to the settlement date;\n",
    "- *T* is the number of days in the coupon period;\n",
    "- *t*/*T* is the fraction of the coupon period that has passed since the last payment;\n",
    "- *PMT* is the coupon payment per period;\n",
    "- *FV* is the future value paid at maturity, or the par value of the bond;\n",
    "- *r* is the yield-to-maturity per period; and\n",
    "- *N* is the number of evenly spaced periods to maturity as of the beginning of the current period.\n",
    "- $PV^{Full}$ is the \"dirty\" or invoice price of the bond inclusive of accrued interest\n",
    "- Annualized MacDur = MacDur / number of coupon periods per year\n",
    "\n",
    "Simple interpretation: MacDur = Sum(Present value of the cash flow x Time to Receipt) / Present value of the bond\n",
    "\n",
    "Duration can be calculated as a weighted average of the times to receipt of cash flow, whereby the weights are the shares of market value corresponding to each payment date."
   ]
  },
  {
   "cell_type": "markdown",
   "metadata": {},
   "source": [
    "**Modified Duration** formula:\n",
    "\n",
    "$$\\text{Modified Duration}=\\frac{MacDur}{\\left(1+\\frac{r}{m}\\right)}$$\n",
    "$$\\text{Annualized Modified Duration}=\\frac{ModDur}{Coupon\\:Periods\\:Per\\:Year}$$\n",
    "\n",
    "In general, the modified duration is the Macaulay duration divided by *one plus the yield per period*. The numerical difference between the Macaulay and modified duration statistics\n",
    "depends on the level of interest rates and the periodicity. As rates are lower and/or as the periodicity increases, the difference diminishes. In fact, if the yield is quoted for continuous compounding, the Macaulay and modified durations are the same. In any case, once one is known, the other is easily obtained."
   ]
  },
  {
   "cell_type": "markdown",
   "metadata": {},
   "source": [
    "The **Macaulay duration of a zero‐coupon bond** is found by setting c = 0 or PMT = 0. In either case, it reduces to just $N – (t/T)$, the time to maturity measured in periods.\n",
    "\n",
    "$$MacDur_{\\text{Zero-Coupon}} = N - (t/T)$$\n",
    "\n",
    "High duration on zero-coupon bonds (or STRIPS) add duration to portfolios."
   ]
  },
  {
   "cell_type": "markdown",
   "metadata": {},
   "source": [
    "There are some circumstances when it is convenient to interpret duration in *terms of time*, but in general it’s better to think of it as the interest rate sensitivity factor. We can say that this bond will be about twice as sensitive to a shift in yield as one having duration of 4.05. I say “about” because duration alone is just the first‐order approximation and neglects the convexity term.\n",
    "\n",
    "By itself, duration is a *conservatively biased estimate* for the risk in a long position on a fixed‐income bond—it overestimates the loss when the yield goes up and underestimates the gain when the yield goes down. The convexity adjustment improves the estimate in each case."
   ]
  },
  {
   "cell_type": "markdown",
   "metadata": {},
   "source": [
    "We can say that this 28‐year, 12% coupon bond is the price‐risk equivalent of an 8.10‐year zero‐coupon bond because their prices should respond about the same on a percentage basis given an equivalent shift in their yields to maturity\n",
    "\n",
    "Suppose an investment bank back in the day created a 28‐year zero‐coupon bond via coupon stripping and sold it to a hedge fund manager for a deeply discounted price of just 3.80 (percent of par value) to yield 12.027% (s.a.). That yield is 76.5 basis points lower than the coupon bond, (0.12792 – 0.12027 = 0.00765). However, the zero‐coupon bond has an annual Macaulay duration statistic of 28.00—that’s about 3.5 times higher than 8.10. \n",
    "\n",
    "We often describe duration as a measure of risk, but it also is an opportunity statistic. In this example, the hedge fund was positioned for much greater percentage price appreciation than on the 28‐year coupon bond—in fact, about 3.5 times higher if yields fall on each by the same amount. A speculative investor having a short‐term horizon doesn’t care about the lower yield to maturity—all the action is in the duration."
   ]
  },
  {
   "cell_type": "code",
   "execution_count": 4,
   "metadata": {},
   "outputs": [
    {
     "name": "stdout",
     "output_type": "stream",
     "text": [
      "ytm_coupon = 12.792%\n",
      "macdur = 8.100\n",
      "moddur = 7.613\n"
     ]
    }
   ],
   "source": [
    "freq = 2\n",
    "N = 28 * freq\n",
    "coupon = 12 / freq\n",
    "price = 94\n",
    "ytm_coupon = coupon_bond_ytm(n=N, pmt=coupon, pv=price, fv=100, cf_freq=2, comp_freq=2)\n",
    "print(f'{ytm_coupon = :0.3%}')\n",
    "\n",
    "macdur = duration(N, ytm_coupon, coupon/100, tT=0, cf_freq=2, comp_freq=2, modified=False)\n",
    "moddur = duration(N, ytm_coupon, coupon/100, tT=0, cf_freq=2, comp_freq=2, modified=True)\n",
    "\n",
    "print(f'{macdur = :0.3f}')\n",
    "print(f'{moddur = :0.3f}')"
   ]
  },
  {
   "cell_type": "code",
   "execution_count": 5,
   "metadata": {},
   "outputs": [
    {
     "name": "stdout",
     "output_type": "stream",
     "text": [
      "ytm_zero = 12.027%\n",
      "Yield Difference = 76.5 bps\n",
      "macdur = 28.000\n",
      "moddur = 24.994\n"
     ]
    }
   ],
   "source": [
    "freq = 2\n",
    "N = 28\n",
    "price = 3.8\n",
    "ytm_zero = zero_bond_ytm(N, price, 100, 2)\n",
    "print(f'{ytm_zero = :0.3%}')\n",
    "print(\"Yield Difference =\", round((ytm_coupon - ytm_zero)*10_000,1),'bps')\n",
    "\n",
    "macdur = duration(N, ytm_zero, 0, tT=0, cf_freq=1, comp_freq=1, modified=False)\n",
    "moddur = duration(N, ytm_zero, 0, tT=0, cf_freq=1, comp_freq=1, modified=True)\n",
    "\n",
    "print(f'{macdur = :0.3f}')\n",
    "print(f'{moddur = :0.3f}')"
   ]
  },
  {
   "cell_type": "markdown",
   "metadata": {},
   "source": [
    "#### Closed-Form Method"
   ]
  },
  {
   "cell_type": "code",
   "execution_count": 6,
   "metadata": {},
   "outputs": [
    {
     "name": "stdout",
     "output_type": "stream",
     "text": [
      "macdur_t0 = 3.774\n",
      "moddur_t0 = 3.623\n",
      "\n",
      "macdur_t1 = 3.691\n",
      "moddur_t1 = 3.543\n",
      "\n",
      "macdur_t1 = 3.689\n",
      "moddur_t1 = 3.525\n"
     ]
    }
   ],
   "source": [
    "def duration(N, r, c, tT, cf_freq=2, comp_freq=2, modified=True):\n",
    "    r = equivRate(r, from_freq=cf_freq, to_freq=comp_freq) / cf_freq \n",
    "    dur = ((1 + r)/r) - ((1 + r + N * (c - r))/(c * ((1 + r)**N - 1) + r)) - tT\n",
    "    dur /= cf_freq\n",
    "    return dur/(1 + r) if modified else dur\n",
    "\n",
    "coupon = 0.04\n",
    "N = 4\n",
    "price = 99.342\n",
    "ytm = coupon_bond_ytm(N, coupon*100, price, 100, cf_freq=1, comp_freq=1)\n",
    "tT = 0/360\n",
    "\n",
    "macdur_t0 = duration(N, ytm, coupon, tT, cf_freq=1, comp_freq=1, modified=False)\n",
    "moddur_t0 = duration(N, ytm, coupon, tT, cf_freq=1, comp_freq=1, modified=True)\n",
    "\n",
    "print(f'{macdur_t0 = :0.3f}')\n",
    "print(f'{moddur_t0 = :0.3f}')\n",
    "\n",
    "\n",
    "tT_t1 = 30/360 # Increase in accrual fraction reduces duration\n",
    "\n",
    "macdur_t1 = duration(N, ytm, coupon, tT_t1, cf_freq=1, comp_freq=1, modified=False)\n",
    "moddur_t1 = duration(N, ytm, coupon, tT_t1, cf_freq=1, comp_freq=1, modified=True)\n",
    "\n",
    "print()\n",
    "print(f'{macdur_t1 = :0.3f}')\n",
    "print(f'{moddur_t1 = :0.3f}')\n",
    "\n",
    "ytm_t1 = 0.04650 # Increase in yield, reduces duration (inverse relationship)\n",
    "tT_t1 = 30/360\n",
    "\n",
    "macdur_t1 = duration(N, ytm_t1, coupon, tT_t1, cf_freq=1, comp_freq=1, modified=False)\n",
    "moddur_t1 = duration(N, ytm_t1, coupon, tT_t1, cf_freq=1, comp_freq=1, modified=True)\n",
    "\n",
    "print()\n",
    "print(f'{macdur_t1 = :0.3f}')\n",
    "print(f'{moddur_t1 = :0.3f}')"
   ]
  },
  {
   "cell_type": "code",
   "execution_count": 7,
   "metadata": {},
   "outputs": [
    {
     "name": "stdout",
     "output_type": "stream",
     "text": [
      "macdur = 3.691\n",
      "moddur = 3.543\n"
     ]
    }
   ],
   "source": [
    "settlement = to_datetime('2014-01-15')\n",
    "maturity = to_datetime('2017-12-15')\n",
    "last_coupon = to_datetime('2013-12-15')\n",
    "tT = 30/360\n",
    "coupon = 4\n",
    "price = 99.342\n",
    "ytm = coupon_bond_ytm(N, coupon, price, 100, cf_freq=1, comp_freq=1)\n",
    "\n",
    "macdur = bond_duration(settle=settlement, cpn=coupon/100, mat=maturity, yld=ytm, freq=1, comp_freq=1, face=100, daycount='thirty/360', modified=False)\n",
    "moddur = bond_duration(settle=settlement, cpn=coupon/100, mat=maturity, yld=ytm, freq=1, comp_freq=1, face=100, daycount='thirty/360', modified=True)\n",
    "\n",
    "print(f'{macdur = :0.3f}')\n",
    "print(f'{moddur = :0.3f}')"
   ]
  },
  {
   "cell_type": "code",
   "execution_count": 8,
   "metadata": {},
   "outputs": [
    {
     "name": "stdout",
     "output_type": "stream",
     "text": [
      "ytm = 12.792%\n",
      "macdur = 8.100\n",
      "moddur = 7.613\n"
     ]
    }
   ],
   "source": [
    "freq = 2\n",
    "N = 28 * freq\n",
    "coupon = 12 / freq\n",
    "price = 94\n",
    "ytm = coupon_bond_ytm(n=N, pmt=coupon, pv=price, fv=100, cf_freq=2, comp_freq=2)\n",
    "print(f'{ytm = :0.3%}')\n",
    "\n",
    "macdur = duration(N, ytm, coupon/100, tT=0, cf_freq=2, comp_freq=2, modified=False)\n",
    "moddur = duration(N, ytm, coupon/100, tT=0, cf_freq=2, comp_freq=2, modified=True)\n",
    "\n",
    "print(f'{macdur = :0.3f}')\n",
    "print(f'{moddur = :0.3f}')"
   ]
  },
  {
   "cell_type": "markdown",
   "metadata": {},
   "source": [
    "#### Weighted-Average Method"
   ]
  },
  {
   "cell_type": "code",
   "execution_count": 9,
   "metadata": {},
   "outputs": [
    {
     "name": "stdout",
     "output_type": "stream",
     "text": [
      "macdur = 3.691\n"
     ]
    }
   ],
   "source": [
    "freq = 1\n",
    "coupon = 4 / freq\n",
    "N = 4 * freq\n",
    "price = 99.342\n",
    "ytm = coupon_bond_ytm(N, coupon, price, 100, cf_freq=1, comp_freq=1)\n",
    "tT = 30/360\n",
    "\n",
    "years = np.arange(N) + 1\n",
    "cf = np.full(N, coupon)\n",
    "cf[-1] += 100\n",
    "df = 1 / (1 + ytm/freq)**(years * freq) # df = np.exp(-years * np.log(1 + ytm))\n",
    "\n",
    "macdur = np.dot(cf*df, years) / np.dot(cf, df) - tT\n",
    "moddur = macdur / (1 + ytm / freq)\n",
    "print(f'{macdur = :0.3f}')"
   ]
  },
  {
   "cell_type": "code",
   "execution_count": 10,
   "metadata": {},
   "outputs": [
    {
     "name": "stdout",
     "output_type": "stream",
     "text": [
      "macdur = 3.691\n",
      "moddur = 3.543\n"
     ]
    }
   ],
   "source": [
    "def duration_cf(N, r, cf, tT, cf_freq=2, comp_freq=2, modified=True):\n",
    "    r = equivRate(r, from_freq=cf_freq, to_freq=comp_freq) / cf_freq\n",
    "    years = np.arange(N) + 1\n",
    "    df = 1 / (1 + r)**(years)\n",
    "    macdur = np.dot(cf*df, years) / np.dot(cf, df) - tT\n",
    "    macdur /= cf_freq\n",
    "    return macdur/(1 + r) if modified else macdur\n",
    "\n",
    "freq = 1\n",
    "coupon = 4 / freq\n",
    "N = 4 * freq\n",
    "price = 99.342\n",
    "ytm = coupon_bond_ytm(N, coupon, price, 100, cf_freq=1, comp_freq=1)\n",
    "tT = 30/360\n",
    "\n",
    "cf = np.full(N, coupon)\n",
    "cf[-1] += 100\n",
    "\n",
    "macdur = duration_cf(N, ytm, cf, tT, cf_freq=1, comp_freq=1, modified=False)\n",
    "moddur = duration_cf(N, ytm, cf, tT, cf_freq=1, comp_freq=1, modified=True)\n",
    "print(f'{macdur = :0.3f}')\n",
    "print(f'{moddur = :0.3f}')"
   ]
  },
  {
   "cell_type": "code",
   "execution_count": null,
   "metadata": {},
   "outputs": [
    {
     "name": "stdout",
     "output_type": "stream",
     "text": [
      "+--------+-----------------+-----------+---------+--------+---------------+\n",
      "| Period | Time to Receipt | Cash Flow |    PV   | Weight | Time Weighted |\n",
      "+--------+-----------------+-----------+---------+--------+---------------+\n",
      "|   1    |      0.9167     |     4     |  3.8526 | 0.0386 |     0.0354    |\n",
      "|   2    |      1.9167     |     4     |  3.6979 | 0.0371 |     0.0711    |\n",
      "|   3    |      2.9167     |     4     |  3.5495 | 0.0356 |     0.1039    |\n",
      "|   4    |      3.9167     |    104    | 88.5818 | 0.8886 |     3.4805    |\n",
      "+--------+-----------------+-----------+---------+--------+---------------+\n",
      "macdur = np.float64(3.6909182611021216)\n",
      "moddur = np.float64(3.5427583079230955)\n"
     ]
    }
   ],
   "source": [
    "from prettytable import PrettyTable\n",
    "\n",
    "freq = 1\n",
    "coupon = 4\n",
    "N = 4\n",
    "price = 99.342\n",
    "ytm = coupon_bond_ytm(N, coupon, price, 100, cf_freq=1, comp_freq=1)\n",
    "tT = 30/360\n",
    "\n",
    "# Time to Receipt of Cash Flows\n",
    "cf_t = (np.arange(N) + 1) - tT\n",
    "\n",
    "# Bond Cash Flows\n",
    "cf = np.full(N, coupon)\n",
    "cf[-1] += 100\n",
    "\n",
    "# Discount Factor\n",
    "df = (1 + ytm/freq)**-cf_t\n",
    "\n",
    "\n",
    "# Present Value of Cash Flows\n",
    "pv_cf = cf * df\n",
    "\n",
    "# Time Weighted Present Value of Cash Flows\n",
    "pv_sum = np.sum(pv_cf)\n",
    "weight = pv_cf / pv_sum\n",
    "time_weighted = weight * cf_t\n",
    "\n",
    "# Duration computations\n",
    "macdur = np.sum(time_weighted) / freq\n",
    "moddur = macdur / (1 + ytm / freq)\n",
    "\n",
    "# Output Table\n",
    "table = PrettyTable()\n",
    "table.add_column(\"Period\", np.arange(N)+1)\n",
    "table.add_column(\"Time to Receipt\", np.round(cf_t, 4))\n",
    "table.add_column(\"Cash Flow\", cf)\n",
    "table.add_column(\"PV\", np.round(pv_cf, 4))\n",
    "table.add_column(\"Weight\", np.round(weight, 4))\n",
    "table.add_column(\"Time Weighted\", np.round(time_weighted, 4))\n",
    "print(table)\n",
    "\n",
    "print(f'{macdur = }')\n",
    "print(f'{moddur = }')"
   ]
  },
  {
   "cell_type": "code",
   "execution_count": 12,
   "metadata": {},
   "outputs": [
    {
     "name": "stdout",
     "output_type": "stream",
     "text": [
      "ytm = 12.792%\n",
      "macdur = 8.100\n",
      "moddur = 7.613\n"
     ]
    }
   ],
   "source": [
    "freq = 2\n",
    "N = 28 * freq\n",
    "coupon = 12 / freq\n",
    "price = 94\n",
    "ytm = coupon_bond_ytm(n=N, pmt=coupon, pv=price, fv=100, cf_freq=2, comp_freq=2)\n",
    "print(f'{ytm = :0.3%}')\n",
    "\n",
    "cf = np.full(N, coupon)\n",
    "cf[-1] += 100\n",
    "\n",
    "macdur = duration_cf(N=N,r=ytm, cf=cf, tT=0, cf_freq=freq, comp_freq=freq, modified=False)\n",
    "moddur = duration_cf(N=N,r=ytm, cf=cf, tT=0, cf_freq=freq, comp_freq=freq, modified=True)\n",
    "\n",
    "print(f'{macdur = :0.3f}')\n",
    "print(f'{moddur = :0.3f}')"
   ]
  },
  {
   "cell_type": "markdown",
   "metadata": {},
   "source": [
    "### The Relationship Between Yield Duration and Maturity"
   ]
  },
  {
   "cell_type": "markdown",
   "metadata": {},
   "source": [
    "Simplified general expression to apply to a coupon date (i.e., t/T = 0).\n",
    "\n",
    "$$MacDur(t/T=0)=\\frac{1+y}{y}-\\frac{1+y+\\left\\lbrack N\\times\\left(c-y\\right)\\right\\rbrack}{c\\times\\left\\lbrack\\left(1+y\\right)^{N}-1\\right\\rbrack +y}$$"
   ]
  },
  {
   "cell_type": "markdown",
   "metadata": {},
   "source": [
    "**Perpetuity**\n",
    "\n",
    "An interesting property of Macaulay duration is revealed by letting N, the number of periods to maturity, get large and approach infinity. As $N$ approaches infinity, the denominator in the second term gets larger faster than the numerator because $N$ is an exponent in the former and a coefficient in the latter. That whole second term goes to zero and the Macaulay duration becomes just $\\frac{1+y}{y}$. Such bonds, are known as perpetuities."
   ]
  },
  {
   "cell_type": "markdown",
   "metadata": {},
   "source": [
    "**Premium & Bonds Trading at Par**\n",
    "\n",
    "Now consider bonds trading at a premium—their coupon rate is higher than the yield to maturity, $c > y$. The numerator in the second term in the equation is always positive, as is the denominator, so the Macaulay duration is less than $\\frac{1+y}{y}$. For longer maturities, other things being equal, the duration increases and approaches the perpetuity threshold monotonically from below. The same pattern holds for bonds that continue to trade at par value on coupon dates because the coupon rate equals the yield, $c = y$. If we subtracted the $t/T$ term for dates between coupon payments, we would have a “saw‐tooth” pattern. As days go by during the period, the duration would decline smoothly (assuming no change in the yield) but then jump up after the coupon is paid."
   ]
  },
  {
   "cell_type": "markdown",
   "metadata": {},
   "source": [
    "**Discount & Zero-Coupon Bonds**\n",
    "\n",
    "Things get interesting for bonds trading at a discount—the coupon rate is less than the yield, $c < y$. When $N$ is large enough, the numerator becomes negative. When that happens the Macaulay duration is greater than $\\frac{1+y}{y}$. But eventually for an even larger $N$, the duration has to approach the perpetuity threshold monotonically from above and the duration starts to fall."
   ]
  },
  {
   "cell_type": "markdown",
   "metadata": {},
   "source": [
    "These relationships between Macaulay duration and maturity are illustrated in the chart below. For a zero‐coupon bond, it’s a 45‐degree line because they are equal. For a perpetuity, it’s a horizontal line at $\\frac{1+y}{y}$. The relationship is positive—the longer the maturity, the higher the duration—for most coupon bonds having a stated maturity, but not always."
   ]
  },
  {
   "attachments": {
    "image.png": {
     "image/png": "[encoded data removed]"
    }
   },
   "cell_type": "markdown",
   "metadata": {},
   "source": [
    "![image.png](attachment:image.png)"
   ]
  },
  {
   "cell_type": "markdown",
   "metadata": {},
   "source": [
    "Let’s revisit the problem of the fixed‐income strategist considering two 6% annual payment bonds, one maturing in 20 years and the other in 30 years. Both are priced to yield 20% (discount bonds), and the strategist anticipates a 100 basis point drop. The easiest way to assess the choice is to do the basic bond pricing assuming we are on a coupon date."
   ]
  },
  {
   "cell_type": "code",
   "execution_count": 13,
   "metadata": {},
   "outputs": [
    {
     "name": "stdout",
     "output_type": "stream",
     "text": [
      "price_1_t0 = array(31.82588373)\n",
      "price_1_t1 = array(33.68879223)\n",
      "per_change_1 = 5.853%\n",
      "macdur_1 = 6.66\n",
      "\n",
      "price_2_t0 = array(30.29489042)\n",
      "price_2_t1 = array(31.94944114)\n",
      "per_change_2 = 5.461%\n",
      "macdur_2 = 6.21\n"
     ]
    }
   ],
   "source": [
    "coupon = 0.06\n",
    "ytm = 0.2\n",
    "N_1 = 20\n",
    "N_2 = 30\n",
    "\n",
    "delta_ytm = -0.01\n",
    "\n",
    "price_1_t0 = coupon_bond_pv(N_1, coupon*100, ytm, 100, cf_freq=1, comp_freq=1)\n",
    "price_1_t1 = coupon_bond_pv(N_1, coupon*100, ytm+delta_ytm, 100, cf_freq=1, comp_freq=1)\n",
    "per_change_1 = (price_1_t1 / price_1_t0) - 1\n",
    "macdur_1 = duration(N_1, r=ytm, c=coupon, tT=0, cf_freq=1, comp_freq=1, modified=False)\n",
    "\n",
    "price_2_t0 = coupon_bond_pv(N_2, coupon*100, ytm, 100, cf_freq=1, comp_freq=1)\n",
    "price_2_t1 = coupon_bond_pv(N_2, coupon*100, ytm+delta_ytm, 100, cf_freq=1, comp_freq=1)\n",
    "per_change_2 = (price_2_t1 / price_2_t0) - 1\n",
    "macdur_2 = duration(N_2, r=ytm, c=coupon, tT=0, cf_freq=1, comp_freq=1, modified=False)\n",
    "\n",
    "print(f'{price_1_t0 = }')\n",
    "print(f'{price_1_t1 = }')\n",
    "print(f'{per_change_1 = :0.3%}')\n",
    "print(f'{macdur_1 = :0.3}')\n",
    "print()\n",
    "\n",
    "print(f'{price_2_t0 = }')\n",
    "print(f'{price_2_t1 = }')\n",
    "print(f'{per_change_2 = :0.3%}')\n",
    "print(f'{macdur_2 = :0.3}')"
   ]
  },
  {
   "cell_type": "markdown",
   "metadata": {},
   "source": [
    "It’s true—given the same coupon rate and yield, the 20‐year bond actually does have the higher percentage price increase for the same drop in yield, 5.85% compared to 5.46%. This is a curious bit of bond math and is not easy to explain without appealing to duration. "
   ]
  },
  {
   "cell_type": "markdown",
   "metadata": {},
   "source": [
    "$$\\frac{dMV}{MV}\\approx\\left(\\frac{\\partial MV}{\\partial y}\\times\\frac{1}{MV}\\times dy\\right)$$\n",
    "\n",
    "$$\\text{Modified Duration}\\equiv-\\frac{\\partial MV}{\\partial y}\\times\\frac{1}{MV}=\\frac{\\text{Macaulay Duration}}{1+y}$$\n",
    "\n",
    "$$\\frac{dMV}{MV}\\approx\\left(-\\text{Modified Duration}\\times dy\\right)$$"
   ]
  },
  {
   "cell_type": "code",
   "execution_count": 14,
   "metadata": {},
   "outputs": [
    {
     "name": "stdout",
     "output_type": "stream",
     "text": [
      "dMV_1 = 0.0555\n",
      "dMV_2 = 0.0517\n"
     ]
    }
   ],
   "source": [
    "dMV_1 = -((macdur_1)/(1+ytm) * delta_ytm) \n",
    "print(f'{dMV_1 = :0.3}')\n",
    "dMV_2 = -(macdur_2/(1+ytm) * delta_ytm) \n",
    "print(f'{dMV_2 = :0.3}')"
   ]
  },
  {
   "cell_type": "markdown",
   "metadata": {},
   "source": [
    "Notice that duration signals correctly the bond that has the greater price appreciation if the market responds as the strategist expects. However, the estimated changes are off by about 30 basis points compared to the actual results. By itself, duration is a conservatively biased estimate for the risk in a long position on a fixed‐income bond—it overestimates the loss when the yield goes up and underestimates the gain when the yield goes down. The convexity adjustment improves the estimate in each case."
   ]
  },
  {
   "cell_type": "code",
   "execution_count": 15,
   "metadata": {},
   "outputs": [
    {
     "data": {
      "text/plain": [
       "<matplotlib.legend.Legend at 0x1113361e0>"
      ]
     },
     "execution_count": 15,
     "metadata": {},
     "output_type": "execute_result"
    },
    {
     "data": {
      "image/png": "[encoded data removed]",
      "text/plain": [
       "<Figure size 768x576 with 1 Axes>"
      ]
     },
     "metadata": {},
     "output_type": "display_data"
    }
   ],
   "source": [
    "import matplotlib.pyplot as plt\n",
    "\n",
    "Nlist = np.linspace(1, 30, num=30)\n",
    "discount = duration(Nlist, r=0.2, c=0.06, tT=0, cf_freq=1, comp_freq=1, modified=False)\n",
    "premium = duration(Nlist, r=0.2, c=0.25, tT=0, cf_freq=1, comp_freq=1, modified=False)\n",
    "perpetuity = (1 + 0.2)/0.2 + (0 * Nlist)\n",
    "zero_coupon = duration(Nlist, r=0.2, c=0.0, tT=0, cf_freq=1, comp_freq=1, modified=False)\n",
    "\n",
    "plt.figure(num=0, dpi=120)\n",
    "plt.plot(Nlist, discount, label=\"Discount Bond - 6% Coupon Bond, 20% Yield\")\n",
    "plt.plot(Nlist, premium, label=\"Premium Bond - 25% Coupon Bond, 20% Yield\")\n",
    "plt.plot(Nlist, perpetuity, label=\"Perpetuity - 20% Yield\")\n",
    "# plt.plot(Nlist, zero_coupon, label=\"Zero-Coupon Bond - 20% Yield\")\n",
    "plt.title('Relationships between Macaulay Duration and Maturity')\n",
    "plt.xlabel('Time to Maturity')\n",
    "plt.ylabel('MacDur')\n",
    "plt.legend()"
   ]
  },
  {
   "cell_type": "markdown",
   "metadata": {},
   "source": [
    "### Yield Convexity"
   ]
  },
  {
   "cell_type": "markdown",
   "metadata": {},
   "source": [
    "The bond convexity statistic is the second-order effect in the Taylor series expansion. The **closed-form formula** is complicated enough to warrant 3 separate steps:\n",
    "\n",
    "Step 1 - Convexity (t/T = 0):\n",
    "$$Convexity(t/T=0)=\\frac{\\Big[2 \\times c \\times (1 + y)^{2} \\times \\Big((1+y)^{N} - \\frac{1+y+(y \\times N)}{1 + y}\\Big) \\Big] + [N \\times (N + 1) \\times y^{2} \\times (y - c)]}{y^{2} \\times (1+y)^{2} \\times (c \\times [(1+y)^{N}-1]+y)}$$\n",
    "\n",
    "Step 2 - Macaulay Duration(t/T = 0):\n",
    "$$MacDur(t/T=0)=\\frac{1+y}{y}-\\frac{1+y+\\left\\lbrack N\\times\\left(c-y\\right)\\right\\rbrack}{c\\times\\left\\lbrack\\left(1+y\\right)^{N}-1\\right\\rbrack +y}$$\n",
    "\n",
    "Step 3 - Convexity:\n",
    "$$Convexity=Convexity(t/T=0)-\\Big\\lbrace\\frac{t/T}{(1+y)^{2}} \\times [(2\\times MacDur(t/T=0)) + (1-t/T)]\\Big\\rbrace$$\n",
    "\n",
    "\n",
    "- c = the coupon rate per period\n",
    "- y = yield to maturity per period\n",
    "- N = number of periods to maturity"
   ]
  },
  {
   "cell_type": "markdown",
   "metadata": {},
   "source": [
    "Zero-Coupon Bond Convexity (t/T = 0) when c = 0 (Step 1):\n",
    "\n",
    "$$Convexity(t/T = 0)=N\\times\\frac{(N+1)}{(1+y)^{2}}"
   ]
  },
  {
   "cell_type": "markdown",
   "metadata": {},
   "source": [
    "**Convexity** weighted-average formula:\n",
    "\n",
    "Calculating Convexity of Cash Flow:\n",
    "\n",
    "$$\\text{Convexity of CF}_{n}=\\left(p_{n}-\\frac{t}{T}\\right)\\left(p_{n}-\\frac{t}{T}+1\\right)\\left(\\frac{PV_{CF_{n}}}{PV^{Full}}\\right)\\left(1+\\frac{YTM}{m}\\right)^{-m}$$\n",
    "\n",
    "$$\\text{Annualized Convexity}=\\frac{\\sum_{n=1}^{N}\\text{Convexity of CF}_{n}}{m^2}$$\n",
    "\n",
    "- $p_{n}$ = period of cash flow\n",
    "- $t/T$ = accrual fraction\n",
    "- $p_{n} - t/T$ = time from settlement when coupon is due\n",
    "- $\\frac{PV_{CF_{n}}}{PV^{Full}}$ = present value weighted cash flow at period *n*\n",
    "- m = periods per year"
   ]
  },
  {
   "cell_type": "code",
   "execution_count": 16,
   "metadata": {},
   "outputs": [],
   "source": [
    "def convexity(N, r, c, tT, cf_freq=2, comp_freq=2):\n",
    "    y = equivRate(r, from_freq=cf_freq, to_freq=comp_freq) / cf_freq\n",
    "    Y = (1+y)**2\n",
    "    Yn = (1+y)**N\n",
    "    con_num = (2 * c * Y * (Yn - ((1+y+(y*N))/(1+y)))) + (N * (N + 1) * (y**2) * (y - c))\n",
    "    con_den = (y**2) * Y * (c * (Yn - 1) + y)\n",
    "    con = con_num / con_den\n",
    "    macdur = ((1 + y)/y) - ((1 + y + (N * (c - y)))/(c * (Yn - 1) + y))\n",
    "    con_tT = con - ((tT / Y) * (( 2 * macdur) + (1 - tT)))\n",
    "    return con_tT/cf_freq**2\n",
    "\n",
    "def convexity_cf(r, cf, cf_t=None, N=None, tT=0, cf_freq=2, comp_freq=2):\n",
    "    r = equivRate(r, from_freq=cf_freq, to_freq=comp_freq) / cf_freq\n",
    "    if cf_t is None:\n",
    "        cf_t = np.arange(N) + 1 - tT\n",
    "    pv_cf = cf * (1+r)**-cf_t\n",
    "    weight = pv_cf / np.sum(pv_cf)\n",
    "    cf_con = cf_t * (cf_t + 1) * weight * (1 + r)**-cf_freq\n",
    "    return np.sum(cf_con)/cf_freq**2"
   ]
  },
  {
   "cell_type": "markdown",
   "metadata": {},
   "source": [
    "Let’s work on a 4%, semiannual payment, 25‐year bond priced at a discount to yield 4.40% (s.a.)."
   ]
  },
  {
   "cell_type": "code",
   "execution_count": 17,
   "metadata": {},
   "outputs": [
    {
     "name": "stdout",
     "output_type": "stream",
     "text": [
      "macdur = 15.4656\n",
      "moddur = 15.1327\n",
      "anncon = 312.6860\n"
     ]
    }
   ],
   "source": [
    "freq = 2\n",
    "N = 25 * freq\n",
    "coupon = 0.04 / freq\n",
    "ytm = 0.044\n",
    "tT = 0.5\n",
    "\n",
    "macdur = duration(N, ytm, coupon, tT=tT, cf_freq=2, comp_freq=2, modified=False)\n",
    "moddur = duration(N, ytm, coupon, tT=tT, cf_freq=2, comp_freq=2, modified=True)\n",
    "print(f'{macdur = :0.4f}')\n",
    "print(f'{moddur = :0.4f}')\n",
    "\n",
    "anncon = convexity(N, ytm, coupon, tT, 2, 2)\n",
    "print(f'{anncon = :0.4f}')"
   ]
  },
  {
   "cell_type": "code",
   "execution_count": 18,
   "metadata": {},
   "outputs": [
    {
     "name": "stdout",
     "output_type": "stream",
     "text": [
      "macdur = 15.4656\n",
      "moddur = 15.1327\n",
      "anncon = 312.6860\n"
     ]
    }
   ],
   "source": [
    "cf_t = np.arange(N)+1 - tT\n",
    "cf = np.full(N, coupon*100)\n",
    "cf[-1] += 100\n",
    "anncon = convexity_cf(r=ytm, cf=cf, cf_t=cf_t, cf_freq=freq, comp_freq=freq)\n",
    "macdur = duration_cf(N=N,r=ytm, cf=cf, tT=tT, cf_freq=freq, comp_freq=freq, modified=False)\n",
    "moddur = duration_cf(N=N,r=ytm, cf=cf, tT=tT, cf_freq=freq, comp_freq=freq, modified=True)\n",
    "\n",
    "print(f'{macdur = :0.4f}')\n",
    "print(f'{moddur = :0.4f}')\n",
    "print(f'{anncon = :0.4f}')"
   ]
  },
  {
   "cell_type": "code",
   "execution_count": 19,
   "metadata": {},
   "outputs": [
    {
     "name": "stdout",
     "output_type": "stream",
     "text": [
      "+--------+-----------------+-----------+---------+--------+---------------+-----------------+\n",
      "| Period | Time to Receipt | Cash Flow |    PV   | Weight | Time Weighted | Convexity of CF |\n",
      "+--------+-----------------+-----------+---------+--------+---------------+-----------------+\n",
      "|   1    |       0.5       |    2.0    |  1.9784 | 0.0208 |     0.0104    |      0.015      |\n",
      "|   2    |       1.5       |    2.0    |  1.9358 | 0.0204 |     0.0306    |      0.0732     |\n",
      "|   3    |       2.5       |    2.0    |  1.8941 | 0.0199 |     0.0498    |      0.167      |\n",
      "|   4    |       3.5       |    2.0    |  1.8533 | 0.0195 |     0.0683    |      0.2942     |\n",
      "|   5    |       4.5       |    2.0    |  1.8134 | 0.0191 |     0.0859    |      0.4523     |\n",
      "|   6    |       5.5       |    2.0    |  1.7744 | 0.0187 |     0.1027    |      0.6393     |\n",
      "|   7    |       6.5       |    2.0    |  1.7362 | 0.0183 |     0.1188    |      0.853      |\n",
      "|   8    |       7.5       |    2.0    |  1.6988 | 0.0179 |     0.1341    |      1.0915     |\n",
      "|   9    |       8.5       |    2.0    |  1.6623 | 0.0175 |     0.1487    |      1.3527     |\n",
      "|   10   |       9.5       |    2.0    |  1.6265 | 0.0171 |     0.1626    |      1.6351     |\n",
      "|   11   |       10.5      |    2.0    |  1.5915 | 0.0168 |     0.1759    |      1.9367     |\n",
      "|   12   |       11.5      |    2.0    |  1.5572 | 0.0164 |     0.1885    |      2.2559     |\n",
      "|   13   |       12.5      |    2.0    |  1.5237 | 0.016  |     0.2005    |      2.5913     |\n",
      "|   14   |       13.5      |    2.0    |  1.4909 | 0.0157 |     0.2119    |      2.9412     |\n",
      "|   15   |       14.5      |    2.0    |  1.4588 | 0.0154 |     0.2227    |      3.3042     |\n",
      "|   16   |       15.5      |    2.0    |  1.4274 | 0.015  |     0.2329    |      3.679      |\n",
      "|   17   |       16.5      |    2.0    |  1.3967 | 0.0147 |     0.2426    |      4.0643     |\n",
      "|   18   |       17.5      |    2.0    |  1.3666 | 0.0144 |     0.2517    |      4.4589     |\n",
      "|   19   |       18.5      |    2.0    |  1.3372 | 0.0141 |     0.2604    |      4.8615     |\n",
      "|   20   |       19.5      |    2.0    |  1.3084 | 0.0138 |     0.2686    |      5.2711     |\n",
      "|   21   |       20.5      |    2.0    |  1.2802 | 0.0135 |     0.2763    |      5.6866     |\n",
      "|   22   |       21.5      |    2.0    |  1.2527 | 0.0132 |     0.2835    |      6.1071     |\n",
      "|   23   |       22.5      |    2.0    |  1.2257 | 0.0129 |     0.2903    |      6.5315     |\n",
      "|   24   |       23.5      |    2.0    |  1.1993 | 0.0126 |     0.2967    |      6.959      |\n",
      "|   25   |       24.5      |    2.0    |  1.1735 | 0.0124 |     0.3026    |      7.3887     |\n",
      "|   26   |       25.5      |    2.0    |  1.1482 | 0.0121 |     0.3082    |      7.8198     |\n",
      "|   27   |       26.5      |    2.0    |  1.1235 | 0.0118 |     0.3134    |      8.2516     |\n",
      "|   28   |       27.5      |    2.0    |  1.0993 | 0.0116 |     0.3182    |      8.6833     |\n",
      "|   29   |       28.5      |    2.0    |  1.0757 | 0.0113 |     0.3227    |      9.1143     |\n",
      "|   30   |       29.5      |    2.0    |  1.0525 | 0.0111 |     0.3268    |      9.5439     |\n",
      "|   31   |       30.5      |    2.0    |  1.0299 | 0.0108 |     0.3306    |      9.9716     |\n",
      "|   32   |       31.5      |    2.0    |  1.0077 | 0.0106 |     0.3341    |     10.3967     |\n",
      "|   33   |       32.5      |    2.0    |  0.986  | 0.0104 |     0.3373    |     10.8188     |\n",
      "|   34   |       33.5      |    2.0    |  0.9648 | 0.0102 |     0.3402    |     11.2374     |\n",
      "|   35   |       34.5      |    2.0    |  0.944  | 0.0099 |     0.3428    |     11.6519     |\n",
      "|   36   |       35.5      |    2.0    |  0.9237 | 0.0097 |     0.3452    |      12.062     |\n",
      "|   37   |       36.5      |    2.0    |  0.9038 | 0.0095 |     0.3473    |     12.4673     |\n",
      "|   38   |       37.5      |    2.0    |  0.8843 | 0.0093 |     0.3491    |     12.8674     |\n",
      "|   39   |       38.5      |    2.0    |  0.8653 | 0.0091 |     0.3507    |     13.2619     |\n",
      "|   40   |       39.5      |    2.0    |  0.8467 | 0.0089 |     0.352     |     13.6505     |\n",
      "|   41   |       40.5      |    2.0    |  0.8285 | 0.0087 |     0.3532    |     14.0329     |\n",
      "|   42   |       41.5      |    2.0    |  0.8106 | 0.0085 |     0.3541    |     14.4089     |\n",
      "|   43   |       42.5      |    2.0    |  0.7932 | 0.0083 |     0.3548    |     14.7782     |\n",
      "|   44   |       43.5      |    2.0    |  0.7761 | 0.0082 |     0.3554    |     15.1406     |\n",
      "|   45   |       44.5      |    2.0    |  0.7594 | 0.008  |     0.3557    |     15.4958     |\n",
      "|   46   |       45.5      |    2.0    |  0.743  | 0.0078 |     0.3559    |     15.8436     |\n",
      "|   47   |       46.5      |    2.0    |  0.727  | 0.0077 |     0.3559    |      16.184     |\n",
      "|   48   |       47.5      |    2.0    |  0.7114 | 0.0075 |     0.3557    |     16.5167     |\n",
      "|   49   |       48.5      |    2.0    |  0.6961 | 0.0073 |     0.3554    |     16.8417     |\n",
      "|   50   |       49.5      |   102.0   | 34.7361 | 0.3656 |    18.0994    |     875.0926    |\n",
      "+--------+-----------------+-----------+---------+--------+---------------+-----------------+\n",
      "macdur = 15.4656\n",
      "moddur = 15.1327\n",
      "con = 1250.7438\n",
      "anncon = 312.6860\n"
     ]
    }
   ],
   "source": [
    "from prettytable import PrettyTable\n",
    "\n",
    "freq = 2\n",
    "coupon = 4 / freq\n",
    "N = 25 * freq\n",
    "ytm = 0.044 # coupon_bond_ytm(N, coupon, price, 100, cf_freq=1, comp_freq=1)\n",
    "tT = 90/180\n",
    "\n",
    "# Time to Receipt of Cash Flows\n",
    "cf_t = np.arange(N) + 1 - tT\n",
    "\n",
    "# Bond Cash Flows\n",
    "cf = np.full(N, coupon)\n",
    "cf[-1] += 100\n",
    "\n",
    "# Discount Factor\n",
    "df = (1 + ytm/freq)**-cf_t\n",
    "\n",
    "# Present Value of Cash Flows\n",
    "pv_cf = cf * df\n",
    "\n",
    "# Time Weighted Present Value of Cash Flows\n",
    "weight = pv_cf / np.sum(pv_cf)\n",
    "time_weighted = weight * cf_t\n",
    "\n",
    "# Convexity \n",
    "cf_con = (cf_t * (cf_t + 1)) * weight * ((1 + ytm/freq)**-freq)\n",
    "\n",
    "# Duration computations\n",
    "macdur = np.sum(time_weighted) / freq\n",
    "moddur = macdur / (1 + ytm / freq)\n",
    "con = np.sum(cf_con)\n",
    "anncon = con / freq**2\n",
    "\n",
    "# Output Table\n",
    "table = PrettyTable()\n",
    "table.add_column(\"Period\", np.arange(N)+1)\n",
    "table.add_column(\"Time to Receipt\", np.round(cf_t, 4))\n",
    "table.add_column(\"Cash Flow\", cf)\n",
    "table.add_column(\"PV\", np.round(pv_cf, 4))\n",
    "table.add_column(\"Weight\", np.round(weight, 4))\n",
    "table.add_column(\"Time Weighted\", np.round(time_weighted, 4))\n",
    "table.add_column(\"Convexity of CF\", np.round(cf_con, 4))\n",
    "print(table)\n",
    "\n",
    "print(f'{macdur = :0.4f}')\n",
    "print(f'{moddur = :0.4f}')\n",
    "print(f'{con = :0.4f}')\n",
    "print(f'{anncon = :0.4f}')"
   ]
  },
  {
   "cell_type": "markdown",
   "metadata": {},
   "source": [
    "### Tests"
   ]
  },
  {
   "cell_type": "code",
   "execution_count": 20,
   "metadata": {},
   "outputs": [
    {
     "name": "stdout",
     "output_type": "stream",
     "text": [
      "[ 1  2  3  4  5  6  7  8  9 10 11 12 13 14 15 16 17 18 19 20 21 22 23 24\n",
      " 25 26 27 28 29 30 31 32 33 34 35 36 37 38 39 40 41 42 43 44 45 46 47 48\n",
      " 49 50 51 52 53 54 55 56]\n",
      "[ 1  2  3  4  5  6  7  8  9 10 11 12 13 14 15 16 17 18 19 20 21 22 23 24\n",
      " 25 26 27 28 29 30 31 32 33 34 35 36 37 38 39 40 41 42 43 44 45 46 47 48\n",
      " 49 50 51 52 53 54 55 56]\n",
      "8.521060979108716\n",
      "6.973821133236229\n"
     ]
    }
   ],
   "source": [
    "def duration1(cf, rate, cf_freq=1, comp_freq=1, cf_t=None,\n",
    "             immediate_start=False, modified=False):\n",
    "\n",
    "    def one_duration(rate, cf_freq, comp_freq, immediate_start):\n",
    "        if cf_t is None:\n",
    "            start = 0 if immediate_start else 1/cf_freq\n",
    "            stop = start + len(cf) / cf_freq\n",
    "            cf_ta = np.arange(start=start, step=1/cf_freq, stop=stop)\n",
    "        else:\n",
    "            cf_ta = cf_t\n",
    "        print(cf_ta)\n",
    "        cc_rate = equivRate(rate, from_freq=comp_freq, to_freq=np.inf)\n",
    "        df = np.exp(-cc_rate * cf_ta)\n",
    "        return np.dot(cf*df, cf_ta) / np.dot(cf, df)\n",
    "\n",
    "    D = np.vectorize(one_duration)(\n",
    "        rate=rate, cf_freq=cf_freq, comp_freq=comp_freq,\n",
    "        immediate_start=immediate_start)\n",
    "    D /= np.where(modified, 1 + rate/comp_freq, 1)\n",
    "    return D[()]\n",
    "\n",
    "cf=np.full(28*2, 6)\n",
    "rate = 0.12792\n",
    "\n",
    "print(duration1(cf,rate,  cf_freq=2, comp_freq=2, cf_t=np.arange(28*2)+1))\n",
    "\n",
    "print(duration_cf(28*2, rate, cf, tT=0, cf_freq=2, comp_freq=2))"
   ]
  },
  {
   "cell_type": "code",
   "execution_count": 21,
   "metadata": {},
   "outputs": [
    {
     "name": "stdout",
     "output_type": "stream",
     "text": [
      "[1. 2. 3. 4.]\n",
      "[1. 2. 3. 4.]\n",
      "1.9980073065426769\n",
      "1.8163702786751608\n"
     ]
    }
   ],
   "source": [
    "def duration1(cf, rate, cf_freq=1, comp_freq=1, cf_t=None,\n",
    "             immediate_start=False, modified=False):\n",
    "\n",
    "    def one_duration(rate, cf_freq, comp_freq, immediate_start):\n",
    "        if cf_t is None:\n",
    "            start = 0 if immediate_start else 1/cf_freq\n",
    "            stop = start + len(cf) / cf_freq\n",
    "            cf_ta = np.arange(start=start, step=1/cf_freq, stop=stop)\n",
    "        else:\n",
    "            cf_ta = cf_t\n",
    "        print(cf_ta)\n",
    "        cc_rate = equivRate(rate, from_freq=comp_freq, to_freq=np.inf)\n",
    "        df = np.exp(-cc_rate * cf_ta)\n",
    "        return np.dot(cf*df, cf_ta) / np.dot(cf, df)\n",
    "\n",
    "    D = np.vectorize(one_duration)(\n",
    "        rate=rate, cf_freq=cf_freq, comp_freq=comp_freq,\n",
    "        immediate_start=immediate_start)\n",
    "    D /= np.where(modified, 1 + rate/comp_freq, 1)\n",
    "    return D[()]\n",
    "\n",
    "cf=[100, 50, 75, 25]\n",
    "rate = 10e-2\n",
    "\n",
    "print(duration1(cf,rate, cf_freq=1, comp_freq=1))\n",
    "\n",
    "print(duration_cf(4, rate, cf, tT=0, cf_freq=1, comp_freq=1))"
   ]
  }
 ],
 "metadata": {
  "kernelspec": {
   "display_name": "fin",
   "language": "python",
   "name": "python3"
  },
  "language_info": {
   "codemirror_mode": {
    "name": "ipython",
    "version": 3
   },
   "file_extension": ".py",
   "mimetype": "text/x-python",
   "name": "python",
   "nbconvert_exporter": "python",
   "pygments_lexer": "ipython3",
   "version": "3.12.7"
  }
 },
 "nbformat": 4,
 "nbformat_minor": 2
}
