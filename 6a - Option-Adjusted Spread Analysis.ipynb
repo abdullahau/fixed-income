{
 "cells": [
  {
   "cell_type": "markdown",
   "metadata": {},
   "source": [
    "### Imports"
   ]
  },
  {
   "cell_type": "markdown",
   "metadata": {},
   "source": [
    "### References"
   ]
  },
  {
   "cell_type": "markdown",
   "metadata": {},
   "source": [
    "- Tom Miller and Tom Windas, *Introduction to Option-Adjusted Spread Analysis*, (New York: Bloomberg Press, 2007)\n",
    "- [CDIAC Issue Brief: Benefits and Limitations of Option-Adjusted Spread Analysis](https://www.treasurer.ca.gov/cdiac/publications/issue-brief/2020/20-10.pdf)"
   ]
  }
 ],
 "metadata": {
  "language_info": {
   "name": "python"
  }
 },
 "nbformat": 4,
 "nbformat_minor": 2
}
