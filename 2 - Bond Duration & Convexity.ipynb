{
 "cells": [
  {
   "cell_type": "markdown",
   "metadata": {
    "vscode": {
     "languageId": "plaintext"
    }
   },
   "source": [
    "### Imports"
   ]
  },
  {
   "cell_type": "code",
   "execution_count": 1,
   "metadata": {
    "trusted": true
   },
   "outputs": [],
   "source": [
    "import numpy as np\n",
    "from pandas import to_datetime\n",
    "\n",
    "from numpy import exp, where, arange\n",
    "from bond_pricing import bond_duration, bond_price, edate, equiv_rate, bond_coupon_periods"
   ]
  },
  {
   "cell_type": "markdown",
   "metadata": {},
   "source": [
    "### Standard Inputs"
   ]
  },
  {
   "cell_type": "code",
   "execution_count": 2,
   "metadata": {
    "trusted": true
   },
   "outputs": [],
   "source": [
    "coupon = 0.032\n",
    "par = 100\n",
    "ytm = 0.032\n",
    "settle = to_datetime('2025-10-15')\n",
    "mat = to_datetime('2030-10-15')\n",
    "freq = 2\n",
    "daycount = 'actual/360'\n",
    "coupon_periods = bond_coupon_periods(settle=settle, mat=mat, freq=freq, daycount=daycount)\n",
    "n = coupon_periods['n']\n",
    "accrual_fraction = coupon_periods['accrual_fraction']"
   ]
  },
  {
   "cell_type": "markdown",
   "metadata": {},
   "source": [
    "### Approximate Macaulay & Modified Duration"
   ]
  },
  {
   "cell_type": "markdown",
   "metadata": {},
   "source": [
    "Approximate Modified Duration Calculation:\n",
    "$$\\text{Approx. Ann. Mod. Duration}=\\frac{\\left(PV_{-}\\right)-\\left(PV_{+}\\right)}{2\\times\\left(\\Delta \\text{Yield}\\right)\\times\\left(PV_0\\right)}$$\n",
    "\n",
    "Approximate Macaulay Duration\n",
    "$$\\text{Ann. Mac. Duration}=\\text{Approx. Ann. Mod. Duration}\\times\\left(1+r\\right)$$"
   ]
  },
  {
   "cell_type": "code",
   "execution_count": 3,
   "metadata": {
    "trusted": true
   },
   "outputs": [
    {
     "name": "stdout",
     "output_type": "stream",
     "text": [
      "modified = 4.5868\n",
      "macaulay = 4.6602\n"
     ]
    }
   ],
   "source": [
    "def approx_duration(settle, cpn, mat, yld, freq, face, daycount, delta_yld, modified=True):\n",
    "    ytm_low = ytm - delta_yld\n",
    "    ytm_high = ytm + delta_yld\n",
    "    price = bond_price(settle=settle, cpn=cpn, mat=mat, yld=yld, freq=freq, face=face, daycount=daycount)\n",
    "    price_high = bond_price(settle=settle, cpn=cpn, mat=mat, yld=ytm_low, freq=freq, face=face, daycount=daycount)\n",
    "    price_low = bond_price(settle=settle, cpn=cpn, mat=mat, yld=ytm_high, freq=freq, face=face, daycount=daycount)\n",
    "    \n",
    "    duration = (price_high - price_low) / (2 * delta_yld * price)\n",
    "    \n",
    "    if modified:\n",
    "        return duration\n",
    "    else:\n",
    "        return duration * (1 + yld/freq)\n",
    "\n",
    "delta = 0.0005\n",
    "modified = approx_duration(settle=settle, cpn=coupon, mat=mat, yld=ytm, freq=freq, face=par, daycount=daycount, delta_yld=delta, modified=True)\n",
    "macaulay = approx_duration(settle=settle, cpn=coupon, mat=mat, yld=ytm, freq=freq, face=par, daycount=daycount, delta_yld=delta, modified=False)\n",
    "print(f'{modified = :0.4f}')\n",
    "print(f'{macaulay = :0.4f}')"
   ]
  },
  {
   "cell_type": "markdown",
   "metadata": {},
   "source": [
    "### Macaulay & Modified Duration"
   ]
  },
  {
   "cell_type": "markdown",
   "metadata": {},
   "source": [
    "**Macaulay Duration** complete formula:\n",
    "\n",
    "$$MacDur=\\left\\lbrace\\left(1-\\frac{t}{T}\\right)\\left\\lbrack\\frac{\\frac{PMT}{\\left(1+r\\right)^{1-\\frac{t}{T}}}}{PV^{Full}}\\right\\rbrack+\\left(2-\\frac{t}{T}\\right)\\left\\lbrack\\frac{\\frac{PMT}{\\left(1+r\\right)^{2-\\frac{t}{T}}}}{PV^{Full}}\\right\\rbrack+\\cdots+\\left(N-\\frac{t}{T}\\right)\\left\\lbrack\\frac{\\frac{PMT+FV}{\\left(1+r\\right)^{N-\\frac{t}{T}}}}{PV^{Full}}\\right\\rbrack\\right\\rbrace$$\n",
    "\n",
    "- *t* is the number of days from the last coupon payment to the settlement date;\n",
    "- *T* is the number of days in the coupon period;\n",
    "- *t*/*T* is the fraction of the coupon period that has passed since the last payment;\n",
    "- *PMT* is the coupon payment per period;\n",
    "- *FV* is the future value paid at maturity, or the par value of the bond;\n",
    "- *r* is the yield-to-maturity per period; and\n",
    "- *N* is the number of evenly spaced periods to maturity as of the beginning of the current period.\n",
    "- $PV^{Full}$ is the \"dirty\" or invoice price of the bond inclusive of accrued interest\n",
    "- Annualized MacDur = MacDur / number of coupon periods per year\n",
    "\n",
    "Simple interpretation: MacDur = Sum(Present value of the cash flow x Time to Receipt) / Present value of the bond"
   ]
  },
  {
   "cell_type": "markdown",
   "metadata": {},
   "source": [
    "$$MacDur=\\left\\lbrace\\frac{1+r}{r}-\\frac{1+r+\\left\\lbrack N\\times\\left(c-r\\right)\\right\\rbrack}{c\\times\\left\\lbrack\\left(1+r\\right)^{N}-1\\right\\rbrack +r}\\right\\rbrace-\\frac{t}{T}$$\n",
    "\n",
    "- *r* is the yield-to-maturity per period;\n",
    "- *N* is the number of evenly spaced periods to maturity as of the beginning of the current period;\n",
    "- *c* is the coupon rate per period;\n",
    "- *t* is the number of days from the last coupon payment to the settlement date; and\n",
    "- *T* is the number of days in the coupon period.\n",
    "- $t/T$ is the 'accural fraction' or the fraction of the period that has gone by since the last coupon."
   ]
  },
  {
   "cell_type": "markdown",
   "metadata": {},
   "source": [
    "**Modified Duration** formula:\n",
    "$$\\text{Modified Duration}=\\frac{MacDur}{\\left(1+\\frac{r}{m}\\right)}$$\n",
    "$$\\text{Annualized Modified Duration}=\\frac{ModDur}{Coupon\\:Periods\\:Per\\:Year}$$"
   ]
  },
  {
   "cell_type": "code",
   "execution_count": 4,
   "metadata": {
    "trusted": true
   },
   "outputs": [
    {
     "name": "stdout",
     "output_type": "stream",
     "text": [
      "macdur = 4.660146890283194\n",
      "moddur = 4.586758750278734\n"
     ]
    }
   ],
   "source": [
    "macdur = bond_duration(settle=settle, cpn=coupon, mat=mat, yld=ytm, freq=freq, face=par, modified=False, daycount=daycount)\n",
    "moddur = bond_duration(settle=settle, cpn=coupon, mat=mat, yld=ytm, freq=freq, face=par, modified=True, daycount=daycount)\n",
    "\n",
    "print(f'{macdur = }\\n{moddur = }')"
   ]
  },
  {
   "cell_type": "code",
   "execution_count": 5,
   "metadata": {},
   "outputs": [
    {
     "name": "stdout",
     "output_type": "stream",
     "text": [
      "macdur = 4.660146890283194\n",
      "moddur = 4.586758750278734\n"
     ]
    }
   ],
   "source": [
    "r = ytm/freq\n",
    "N = n\n",
    "c = coupon/freq\n",
    "tT = accrual_fraction\n",
    "\n",
    "dur = ((1 + r)/r) - ((1 + r + N * (c - r))/(c * ((1 + r)**N - 1) + r)) - tT\n",
    "macdur = dur/freq\n",
    "moddur = macdur/(1 + r)\n",
    "\n",
    "print(f'{macdur = }')\n",
    "print(f'{moddur = }')"
   ]
  },
  {
   "cell_type": "code",
   "execution_count": 6,
   "metadata": {
    "trusted": true
   },
   "outputs": [
    {
     "name": "stdout",
     "output_type": "stream",
     "text": [
      "macdur = 4.660146890283194\n",
      "moddur = 4.586758750278734\n"
     ]
    }
   ],
   "source": [
    "# consider a bond which has just paid a coupon\n",
    "# decompose it as a portfolio of three positions\n",
    "# Position                 PV           Duration_minus_(1+y)/y\n",
    "# --------                 --           ----------------------\n",
    "# perpetuity of c       c/y = cF/Fy                0\n",
    "# short perpetuity     -c/y/F = -c/Fy              T\n",
    "# Redemption of R        R/F = Ry/Fy            T-(1+y)/y\n",
    "# where F is Future Value Factor (1+y)^T\n",
    "# Portfolio Duration is (1+y)/y - N/D where\n",
    "# N = cT - RyT + R(1+y) = R[1+y + T(c/R-y)]\n",
    "# D = cF - c + Ry = R[c(F-1)/R + y]\n",
    "# where Fy has been eliminated from both N and D\n",
    "# Eliminating R gives\n",
    "# N = 1+y + T(c/R-y)\n",
    "# D = c(F-1)/R + y\n",
    "# we compute duration in coupon periods as on previous coupon date\n",
    "# find the equivalent yield that matches the coupon frequency\n",
    "\n",
    "redeem = par\n",
    "R = redeem / par\n",
    "y = ytm / freq\n",
    "c = coupon / freq\n",
    "T = n\n",
    "F = (1 + y)**T\n",
    "dur = (1+y)/y - (1+y + T*(c/R-y)) / (c*(F-1)/R + y)\n",
    "# now we subtract the fractional coupon period\n",
    "dur -= accrual_fraction\n",
    "\n",
    "# then we convert to years\n",
    "dur /= freq\n",
    "\n",
    "macdur = dur\n",
    "moddur = macdur / (1+y)\n",
    "\n",
    "print(f'{macdur = }')\n",
    "print(f'{moddur = }')"
   ]
  },
  {
   "cell_type": "markdown",
   "metadata": {},
   "source": [
    "| Period | Time to Reciept | Cash Flow | PV       | Weight       | Time x Weight |\n",
    "| ------ | --------------- | --------- | -------- | ------------ | ------------- |\n",
    "| 1      | 1               | 1.6       | 1.5748   | 0.0157       | 0.0157        |\n",
    "| 2      | 2               | 1.6       | 1.5500   | 0.0155       | 0.0310        |\n",
    "| 3      | 3               | 1.6       | 1.5256   | 0.0153       | 0.0458        |\n",
    "| 4      | 4               | 1.6       | 1.5016   | 0.0150       | 0.0601        |\n",
    "| 5      | 5               | 1.6       | 1.4779   | 0.0148       | 0.0739        |\n",
    "| 6      | 6               | 1.6       | 1.4546   | 0.0145       | 0.0873        |\n",
    "| 7      | 7               | 1.6       | 1.4317   | 0.0143       | 0.1002        |\n",
    "| 8      | 8               | 1.6       | 1.4092   | 0.0141       | 0.1127        |\n",
    "| 9      | 9               | 1.6       | 1.3870   | 0.0139       | 0.1248        |\n",
    "| 10     | 10              | 101.6     | 86.6875  | 0.8669       | 8.6688        |\n",
    "|        |                 |           | 100.0000 | 1.0000       | 9.3203        |\n",
    "|        |                 |           |          | Mac Duration | 4.6601        |\n",
    "|        |                 |           |          | Mod Duration | 4.5868        |"
   ]
  },
  {
   "cell_type": "code",
   "execution_count": 19,
   "metadata": {},
   "outputs": [
    {
     "name": "stdout",
     "output_type": "stream",
     "text": [
      "n = 10,\n",
      "discounting_fraction = 1.011111111111111,\n",
      "accrual_fraction = 0.0,\n",
      "next_coupon = Timestamp('2026-04-15 00:00:00'),\n",
      "prev_coupon = Timestamp('2025-10-15 00:00:00')\n",
      "\n",
      "+--------+-----------------+-----------+---------+--------+---------------+\n",
      "| Period | Time to Receipt | Cash Flow |    PV   | Weight | Time Weighted |\n",
      "+--------+-----------------+-----------+---------+--------+---------------+\n",
      "|   1    |       1.0       |    1.6    |  1.5748 | 0.0157 |     0.0157    |\n",
      "|   2    |       2.0       |    1.6    |   1.55  | 0.0155 |     0.031     |\n",
      "|   3    |       3.0       |    1.6    |  1.5256 | 0.0153 |     0.0458    |\n",
      "|   4    |       4.0       |    1.6    |  1.5016 | 0.015  |     0.0601    |\n",
      "|   5    |       5.0       |    1.6    |  1.4779 | 0.0148 |     0.0739    |\n",
      "|   6    |       6.0       |    1.6    |  1.4546 | 0.0145 |     0.0873    |\n",
      "|   7    |       7.0       |    1.6    |  1.4317 | 0.0143 |     0.1002    |\n",
      "|   8    |       8.0       |    1.6    |  1.4092 | 0.0141 |     0.1127    |\n",
      "|   9    |       9.0       |    1.6    |  1.387  | 0.0139 |     0.1248    |\n",
      "|   10   |       10.0      |   101.6   | 86.6875 | 0.8669 |     8.6688    |\n",
      "+--------+-----------------+-----------+---------+--------+---------------+\n",
      "macdur = 4.660146890283189\n",
      "moddur = 4.586758750278729\n"
     ]
    }
   ],
   "source": [
    "from prettytable import PrettyTable\n",
    "from importlib import import_module\n",
    "\n",
    "daycount_dict = {'actual/360': 'actual360', \n",
    "                 'actual/365': 'actual365', \n",
    "                 'actual/actual': 'actualactual', \n",
    "                 'thirty/360': 'thirty360'}\n",
    "name = 'isda_daycounters.'+ daycount_dict[daycount]\n",
    "\n",
    "# Accrual Fraction & Number of evenly spaced periods to maturity as of the beginning of the current period\n",
    "# approximate number of full coupon periods left\n",
    "n = int(freq * (mat - settle).days / 360)\n",
    "# the divisor of 360 guarantees this is an overestimate\n",
    "# we keep reducing n till it is right\n",
    "while (edate(mat, -n * 12 / freq) <= settle):\n",
    "    n -= 1\n",
    "next_coupon = edate(mat, -n * 12 / freq)\n",
    "n += 1  # n is now number of full coupons since previous coupon\n",
    "prev_coupon = edate(mat, -n * 12 / freq)\n",
    "\n",
    "discounting_fraction = import_module(name).year_fraction(settle, next_coupon) * freq\n",
    "accrual_fraction = import_module(name).year_fraction(prev_coupon, settle) * freq\n",
    "\n",
    "if accrual_fraction == 1:\n",
    "    # We are on coupon date. Assume that bond is ex-interest\n",
    "    # Remove today's coupon\n",
    "    discounting_fraction += 1\n",
    "    accrual_fraction -= 1\n",
    "\n",
    "print(f\"\"\"{n = },\n",
    "{discounting_fraction = },\n",
    "{accrual_fraction = },\n",
    "{next_coupon = },\n",
    "{prev_coupon = }\n",
    "\"\"\")\n",
    "\n",
    "# Time to Reciept of Cash Flows\n",
    "add = 1 if prev_coupon >= settle else 0\n",
    "cf_t = arange(start=(1 - accrual_fraction), stop=n+add, step=1)\n",
    "\n",
    "# Bond Cash Flows\n",
    "cf = np.full(n, coupon/freq * par)\n",
    "cf[n-1] += par\n",
    "\n",
    "# Present Value of Cash Flows\n",
    "pv_cf = cf/((1+ytm/freq)**cf_t)\n",
    "\n",
    "# Time Weighted Present Value of Cash Flows\n",
    "cf_sum = np.sum(pv_cf)\n",
    "weight = pv_cf / cf_sum\n",
    "time_weighted = weight * cf_t\n",
    "\n",
    "# Duration computations\n",
    "macdur = np.sum(time_weighted) / freq\n",
    "moddur = macdur / (1 + ytm / freq)\n",
    "\n",
    "# Output Table\n",
    "table = PrettyTable()\n",
    "table.add_column(\"Period\", arange(1,n+1))\n",
    "table.add_column(\"Time to Receipt\", np.round(cf_t, 4))\n",
    "table.add_column(\"Cash Flow\", cf)\n",
    "table.add_column(\"PV\", np.round(pv_cf, 4))\n",
    "table.add_column(\"Weight\", np.round(weight, 4))\n",
    "table.add_column(\"Time Weighted\", np.round(time_weighted, 4))\n",
    "print(table)\n",
    "\n",
    "print(f'{macdur = }')\n",
    "print(f'{moddur = }')"
   ]
  },
  {
   "cell_type": "code",
   "execution_count": 8,
   "metadata": {
    "trusted": false
   },
   "outputs": [
    {
     "name": "stdout",
     "output_type": "stream",
     "text": [
      "[ 1.  2.  3.  4.  5.  6.  7.  8.  9. 10.]\n",
      "[ 1  2  3  4  5  6  7  8  9 10]\n",
      "[  1.6   1.6   1.6   1.6   1.6   1.6   1.6   1.6   1.6 101.6]\n",
      "4.660024193738399\n"
     ]
    }
   ],
   "source": [
    "cc_rate = equiv_rate(ytm/freq, from_freq=freq, to_freq=np.inf)\n",
    "print(cf_t)\n",
    "cf_ta = np.arange(1, n+1)\n",
    "print(cf_ta)\n",
    "df = exp(-cc_rate * cf_ta)\n",
    "print(cf)\n",
    "D = np.dot(cf*df, cf_ta) / np.dot(cf, df) - accrual_fraction\n",
    "    \n",
    "D /= where(False, freq/(1 + ytm/freq), freq)\n",
    "\n",
    "print(D)"
   ]
  },
  {
   "cell_type": "markdown",
   "metadata": {},
   "source": [
    "### Approximate Convexity"
   ]
  },
  {
   "cell_type": "markdown",
   "metadata": {},
   "source": [
    "Approximate Convexity Formula:\n",
    "\n",
    "$$\\text{Approx. Con.}=\\frac{\\left(PV_{-}\\right)+\\left(PV_{+}\\right)-\\left\\lbrack2\\times\\left(PV_0\\right)\\right\\rbrack}{\\left(\\Delta Yield\\right)^2\\times\\left(PV_0\\right)}$$"
   ]
  },
  {
   "cell_type": "code",
   "execution_count": 9,
   "metadata": {},
   "outputs": [
    {
     "name": "stdout",
     "output_type": "stream",
     "text": [
      "convexity = 24.23896\n"
     ]
    }
   ],
   "source": [
    "def approx_con(settle, cpn, mat, yld, freq, face, daycount, delta_yld, modified=True):\n",
    "    ytm_low = ytm - delta_yld\n",
    "    ytm_high = ytm + delta_yld\n",
    "    price = bond_price(settle=settle, cpn=cpn, mat=mat, yld=yld, freq=freq, face=face, daycount=daycount)\n",
    "    price_high = bond_price(settle=settle, cpn=cpn, mat=mat, yld=ytm_low, freq=freq, face=face, daycount=daycount)\n",
    "    price_low = bond_price(settle=settle, cpn=cpn, mat=mat, yld=ytm_high, freq=freq, face=face, daycount=daycount)\n",
    "    \n",
    "    return (price_high + price_low - (2 * price)) / (delta_yld**2 * price) \n",
    "\n",
    "delta = 0.0005\n",
    "convexity = approx_con(settle=settle, cpn=coupon, mat=mat, yld=ytm, freq=freq, face=par, daycount=daycount, delta_yld=delta, modified=True)\n",
    "print(f'{convexity = :0.5f}')"
   ]
  },
  {
   "cell_type": "markdown",
   "metadata": {},
   "source": [
    "### Convexity"
   ]
  },
  {
   "cell_type": "markdown",
   "metadata": {},
   "source": [
    "Calculating Convexity of Cash Flow:\n",
    "\n",
    "$$\\text{Convexity of CF}_{n}=\\left(p_{n}-\\frac{t}{T}\\right)\\left(p_{n}-\\frac{t}{T}+1\\right)\\left(\\frac{PV_{CF_{n}}}{PV^{Full}}\\right)\\left(1+\\frac{YTM}{m}\\right)^{-m}$$\n",
    "\n",
    "$$\\text{Annualized Convexity}=\\frac{\\sum_{n=1}^{N}\\text{Convexity of CF}_{n}}{m^2}$$\n",
    "\n",
    "- $p_{n}$ = period of cash flow\n",
    "- $t/T$ = accrual fraction\n",
    "- $p_{n} - t/T$ = time from settlement when coupon is due\n",
    "- $\\frac{PV_{CF_{n}}}{PV^{Full}}$ = present value weighted cash flow at period *n*\n",
    "- m = periods per year"
   ]
  },
  {
   "cell_type": "markdown",
   "metadata": {},
   "source": [
    "The bond convexity statistic is the second-order effect in the Taylor series expansion. The results are complicated enough to warrant 3 separate steps:\n",
    "\n",
    "Step 1 - Convexity (t/T = 0):\n",
    "$$Convexity(t/T=0)=\\frac{\\Big[2 \\times c \\times (1 + y)^{2} \\times \\Big((1+y)^{N} - \\frac{1+y+(y \\times N)}{1 + y}\\Big) \\Big] + [N \\times (N + 1) \\times y^{2} \\times (y - c)]}{y^{2} \\times (1+y)^{2} \\times (c \\times [(1+y)^{N}-1]+y)}$$\n",
    "\n",
    "Step 2 - Macaulay Duration(t/T = 0):\n",
    "$$MacDur=\\left\\lbrace\\frac{1+r}{r}-\\frac{1+r+\\left\\lbrack N\\times\\left(c-r\\right)\\right\\rbrack}{c\\times\\left\\lbrack\\left(1+r\\right)^{N}-1\\right\\rbrack +r}\\right\\rbrace$$\n",
    "\n",
    "Step 3 - Convexity:\n",
    "$$Convexity=Convexity(t/T=0)-\\Big\\lbrace\\frac{t/T}{(1+y)^{2}} \\times [(2\\times MacDur(t/T=0)) + (1-t/T)]\\Big\\rbrace$$\n",
    "\n",
    "\n",
    "- c = the coupon rate per period\n",
    "- y = yield to maturity per period\n",
    "- N = number of periods to maturity"
   ]
  },
  {
   "cell_type": "code",
   "execution_count": 10,
   "metadata": {},
   "outputs": [
    {
     "name": "stdout",
     "output_type": "stream",
     "text": [
      "convexity = 96.95578010034274\n",
      "anncon = 24.238945025085684\n"
     ]
    }
   ],
   "source": [
    "c = coupon / freq\n",
    "y = ytm / freq\n",
    "Y = (1+y)**2\n",
    "N = n\n",
    "Yn = (1+y)**N\n",
    "tT = accrual_fraction\n",
    "\n",
    "con_0_num = (2 * c * Y * (Yn - ((1+y+(y*N))/(1+y)))) + (N * (N + 1) * (y**2) * (y - c))\n",
    "con_0_dem = (y**2) * Y * (c * (Yn - 1) + y)\n",
    "con_0 = con_0_num / con_0_dem\n",
    "\n",
    "macdur_0 = ((1 + y)/y) - ((1 + y + (N * (c - y)))/(c * (Yn - 1) + y))\n",
    "\n",
    "convexity = con_0 - ((tT / Y) * (( 2 * macdur_0) + (1 - tT)))\n",
    "\n",
    "anncon = convexity/freq**2\n",
    "\n",
    "print(f'{convexity = }')\n",
    "print(f'{anncon = }')"
   ]
  },
  {
   "cell_type": "code",
   "execution_count": 20,
   "metadata": {},
   "outputs": [
    {
     "name": "stdout",
     "output_type": "stream",
     "text": [
      "+--------+-----------------+-----------+---------+--------+---------------+-----------------+\n",
      "| Period | Time to Receipt | Cash Flow |    PV   | Weight | Time Weighted | Convexity of CF |\n",
      "+--------+-----------------+-----------+---------+--------+---------------+-----------------+\n",
      "|   1    |       1.0       |    1.6    |  1.5748 | 0.0157 |     0.0157    |      0.0305     |\n",
      "|   2    |       2.0       |    1.6    |   1.55  | 0.0155 |     0.031     |      0.0901     |\n",
      "|   3    |       3.0       |    1.6    |  1.5256 | 0.0153 |     0.0458    |      0.1774     |\n",
      "|   4    |       4.0       |    1.6    |  1.5016 | 0.015  |     0.0601    |      0.2909     |\n",
      "|   5    |       5.0       |    1.6    |  1.4779 | 0.0148 |     0.0739    |      0.4295     |\n",
      "|   6    |       6.0       |    1.6    |  1.4546 | 0.0145 |     0.0873    |      0.5919     |\n",
      "|   7    |       7.0       |    1.6    |  1.4317 | 0.0143 |     0.1002    |      0.7767     |\n",
      "|   8    |       8.0       |    1.6    |  1.4092 | 0.0141 |     0.1127    |      0.9829     |\n",
      "|   9    |       9.0       |    1.6    |  1.387  | 0.0139 |     0.1248    |      1.2093     |\n",
      "|   10   |       10.0      |   101.6   | 86.6875 | 0.8669 |     8.6688    |     92.3766     |\n",
      "+--------+-----------------+-----------+---------+--------+---------------+-----------------+\n",
      "convexity = 96.95578010034085\n",
      "anncon = 24.23894502508521\n"
     ]
    }
   ],
   "source": [
    "cf_con = (cf_t * (cf_t + 1)) * weight * ((1 + ytm/freq)**-freq)\n",
    "table.add_column(\"Convexity of CF\", np.round(cf_con, 4))\n",
    "print(table)\n",
    "convexity = np.sum(cf_con)\n",
    "anncon = convexity / freq**2\n",
    "\n",
    "print(f'{convexity = }')\n",
    "print(f'{anncon = }')"
   ]
  }
 ],
 "metadata": {
  "kernelspec": {
   "display_name": "fin",
   "language": "python",
   "name": "python3"
  },
  "language_info": {
   "codemirror_mode": {
    "name": "ipython",
    "version": 3
   },
   "file_extension": ".py",
   "mimetype": "text/x-python",
   "name": "python",
   "nbconvert_exporter": "python",
   "pygments_lexer": "ipython3",
   "version": "3.12.6"
  }
 },
 "nbformat": 4,
 "nbformat_minor": 2
}
