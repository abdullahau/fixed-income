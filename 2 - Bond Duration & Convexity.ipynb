{
 "cells": [
  {
   "cell_type": "markdown",
   "metadata": {
    "vscode": {
     "languageId": "plaintext"
    }
   },
   "source": [
    "### Imports"
   ]
  },
  {
   "cell_type": "code",
   "execution_count": 61,
   "metadata": {},
   "outputs": [],
   "source": [
    "import numpy as np\n",
    "from numpy import array, log, exp, where, vectorize, arange\n",
    "from bond_pricing import bond_duration, duration, bond_price, edate\n",
    "from isda_daycounters import actual360, actual365, actualactual, thirty360, thirtyE360, thirtyE360ISDA\n",
    "from datetime import datetime"
   ]
  },
  {
   "cell_type": "markdown",
   "metadata": {},
   "source": [
    "### Standard Inputs"
   ]
  },
  {
   "cell_type": "code",
   "execution_count": 124,
   "metadata": {},
   "outputs": [],
   "source": [
    "coupon = 0.032\n",
    "par = 100\n",
    "ytm = 0.032\n",
    "settle = datetime(2027, 6, 11)\n",
    "mat = datetime(2030, 10, 15)\n",
    "freq = 2\n",
    "daycount = 'actual/360'"
   ]
  },
  {
   "cell_type": "markdown",
   "metadata": {},
   "source": [
    "### Approximate Modified & Macaulay Duration"
   ]
  },
  {
   "cell_type": "markdown",
   "metadata": {},
   "source": [
    "Approximate Modified Duration Calculation:\n",
    "$$\\text{Approx. Ann. Mod. Duration}=\\frac{\\left(PV_{-}\\right)-\\left(PV_{+}\\right)}{2\\times\\left(\\Delta \\text{Yield}\\right)\\times\\left(PV_0\\right)}$$\n",
    "\n",
    "Approximate Macaulay Duration\n",
    "$$\\text{Ann. Mac. Duration}=\\text{Approx. Ann. Mod. Duration}\\times\\left(1+r\\right)$$"
   ]
  },
  {
   "cell_type": "code",
   "execution_count": 55,
   "metadata": {},
   "outputs": [
    {
     "name": "stdout",
     "output_type": "stream",
     "text": [
      "modified = 4.5868\n",
      "macaulay = 4.6602\n"
     ]
    }
   ],
   "source": [
    "def approx_duration(settle, cpn, mat, yld, freq, face, daycount, delta_yld, modified=True):\n",
    "    ytm_low = ytm - delta_yld\n",
    "    ytm_high = ytm + delta_yld\n",
    "    price = bond_price(settle=settle, cpn=cpn, mat=mat, yld=yld, freq=freq, face=face, daycount=daycount)\n",
    "    price_high = bond_price(settle=settle, cpn=cpn, mat=mat, yld=ytm_low, freq=freq, face=face, daycount=daycount)\n",
    "    price_low = bond_price(settle=settle, cpn=cpn, mat=mat, yld=ytm_high, freq=freq, face=face, daycount=daycount)\n",
    "    \n",
    "    duration = (price_high - price_low) / (2 * delta_yld * price)\n",
    "    \n",
    "    if modified:\n",
    "        return duration\n",
    "    else:\n",
    "        return duration * (1 + yld/freq)\n",
    "\n",
    "delta = 0.0005\n",
    "modified = approx_duration(settle=settle, cpn=coupon, mat=mat, yld=ytm, freq=freq, face=par, daycount=daycount, delta_yld=delta, modified=True)\n",
    "macaulay = approx_duration(settle=settle, cpn=coupon, mat=mat, yld=ytm, freq=freq, face=par, daycount=daycount, delta_yld=delta, modified=False)\n",
    "print(f'{modified = :0.4f}')\n",
    "print(f'{macaulay = :0.4f}')\n"
   ]
  },
  {
   "cell_type": "markdown",
   "metadata": {},
   "source": [
    "### Macaulay Duration"
   ]
  },
  {
   "cell_type": "markdown",
   "metadata": {},
   "source": [
    "$$MacDur=\\left\\lbrace\\frac{1+r}{r}-\\frac{1+r+\\left\\lbrack N\\times\\left(c-r\\right)\\right\\rbrack}{c\\times\\left\\lbrack\\left(1+r\\right)^{N}-1+r\\right\\rbrack}\\right\\rbrace-\\frac{t}{T}$$\n",
    "\n",
    "- *r* is the yield-to-maturity per period;\n",
    "- *N* is the number of evenly spaced periods to maturity as of the beginning of the current period;\n",
    "- *c* is the coupon rate per period;\n",
    "- *t* is the number of days from the last coupon payment to the settlement date; and\n",
    "- *T* is the number of days in the coupon period."
   ]
  },
  {
   "cell_type": "code",
   "execution_count": 125,
   "metadata": {},
   "outputs": [
    {
     "name": "stdout",
     "output_type": "stream",
     "text": [
      "3.180584640456848\n"
     ]
    }
   ],
   "source": [
    "print(bond_duration(settle=settle, cpn=coupon, mat=mat, yld=ytm, freq=freq, face=par, modified=False, daycount=daycount))"
   ]
  },
  {
   "cell_type": "markdown",
   "metadata": {},
   "source": [
    "| Period | Time to Reciept | Cash Flow | PV       | Weight       | Time x Weight |\n",
    "| ------ | --------------- | --------- | -------- | ------------ | ------------- |\n",
    "| 1      | 1               | 1.6       | 1.5748   | 0.0157       | 0.0157        |\n",
    "| 2      | 2               | 1.6       | 1.5500   | 0.0155       | 0.0310        |\n",
    "| 3      | 3               | 1.6       | 1.5256   | 0.0153       | 0.0458        |\n",
    "| 4      | 4               | 1.6       | 1.5016   | 0.0150       | 0.0601        |\n",
    "| 5      | 5               | 1.6       | 1.4779   | 0.0148       | 0.0739        |\n",
    "| 6      | 6               | 1.6       | 1.4546   | 0.0145       | 0.0873        |\n",
    "| 7      | 7               | 1.6       | 1.4317   | 0.0143       | 0.1002        |\n",
    "| 8      | 8               | 1.6       | 1.4092   | 0.0141       | 0.1127        |\n",
    "| 9      | 9               | 1.6       | 1.3870   | 0.0139       | 0.1248        |\n",
    "| 10     | 10              | 101.6     | 86.6875  | 0.8669       | 8.6688        |\n",
    "|        |                 |           | 100.0000 | 1.0000       | 9.3203        |\n",
    "|        |                 |           |          | Mac Duration | 4.6601        |\n",
    "|        |                 |           |          | Mod Duration | 4.5868        |"
   ]
  },
  {
   "cell_type": "code",
   "execution_count": 132,
   "metadata": {},
   "outputs": [
    {
     "name": "stdout",
     "output_type": "stream",
     "text": [
      "n = 7,\n",
      "discounting_fraction = 0.7,\n",
      "accrual_fraction = 0.31666666666666665,\n",
      "next_coupon = Timestamp('2027-10-15 00:00:00'),\n",
      "prev_coupon = Timestamp('2027-04-15 00:00:00')\n",
      "\n",
      "+--------+-----------------+-----------+---------+--------+---------------+\n",
      "| Period | Time to Receipt | Cash Flow |    PV   | Weight | Time Weighted |\n",
      "+--------+-----------------+-----------+---------+--------+---------------+\n",
      "|   1    |      0.6833     |    1.6    |  1.5827 | 0.0157 |     0.0108    |\n",
      "|   2    |      1.6833     |    1.6    |  1.5578 | 0.0155 |     0.0261    |\n",
      "|   3    |      2.6833     |    1.6    |  1.5333 | 0.0153 |     0.0409    |\n",
      "|   4    |      3.6833     |    1.6    |  1.5091 | 0.015  |     0.0553    |\n",
      "|   5    |      4.6833     |    1.6    |  1.4854 | 0.0148 |     0.0692    |\n",
      "|   6    |      5.6833     |    1.6    |  1.462  | 0.0145 |     0.0827    |\n",
      "|   7    |      6.6833     |   101.6   | 91.3736 | 0.9092 |     6.0762    |\n",
      "+--------+-----------------+-----------+---------+--------+---------------+\n",
      "macdur = 3.180584640456848\n",
      "moddur = 3.1304966933630394\n",
      "6.339762136697273\n"
     ]
    }
   ],
   "source": [
    "from prettytable import PrettyTable\n",
    "\n",
    "# approximate number of full coupon periods left\n",
    "n = int(freq * (mat - settle).days / 360)\n",
    "# the divisor of 360 guarantees this is an overestimate\n",
    "# we keep reducing n till it is right\n",
    "while (edate(mat, -n * 12 / freq) <= settle):\n",
    "    n -= 1\n",
    "next_coupon = edate(mat, -n * 12 / freq)\n",
    "n += 1  # n is now number of full coupons since previous coupon\n",
    "prev_coupon = edate(mat, -n * 12 / freq)\n",
    "\n",
    "discounting_fraction = actual360.year_fraction(settle, next_coupon) * freq\n",
    "accrual_fraction = actual360.year_fraction(prev_coupon, settle) * freq\n",
    "\n",
    "if accrual_fraction == 1:\n",
    "    # We are on coupon date. Assume that bond is ex-interest\n",
    "    # Remove today's coupon\n",
    "    discounting_fraction += 1\n",
    "    accrual_fraction -= 1\n",
    "\n",
    "print(f\"\"\"{n = },\n",
    "{discounting_fraction = },\n",
    "{accrual_fraction = },\n",
    "{next_coupon = },\n",
    "{prev_coupon = }\n",
    "\"\"\")\n",
    "\n",
    "# Time to Reciept of Cash Flows\n",
    "cf_t = arange(start=(1 - accrual_fraction), stop=n, step=1)\n",
    "\n",
    "# Bond Cash Flows\n",
    "cf = np.full(n, coupon/2 * par)\n",
    "cf[n-1] += par\n",
    "\n",
    "# Present Value of Cash Flows\n",
    "pv_cf = cf/((1+ytm/freq)**cf_t)\n",
    "\n",
    "# Weight of Present Value of Cash Flows\n",
    "cf_sum = np.sum(pv_cf)\n",
    "weight = pv_cf / cf_sum\n",
    "time_weighted = weight * cf_t\n",
    "\n",
    "# Output Table\n",
    "table = PrettyTable()\n",
    "table.add_column(\"Period\", arange(1,n+1))\n",
    "table.add_column(\"Time to Receipt\", np.round(cf_t, 4))\n",
    "table.add_column(\"Cash Flow\", cf)\n",
    "table.add_column(\"PV\", np.round(pv_cf, 4))\n",
    "table.add_column(\"Weight\", np.round(weight, 4))\n",
    "table.add_column(\"Time Weighted\", np.round(time_weighted, 4))\n",
    "print(table)\n",
    "\n",
    "macdur = np.sum(time_weighted) / freq\n",
    "moddur = macdur / (1 + ytm / freq)\n",
    "\n",
    "print(f'{macdur = }')\n",
    "print(f'{moddur = }')\n",
    "\n",
    "print(duration(cf=cf, rate=ytm, cf_t=cf_t, cf_freq=2, comp_freq=2))"
   ]
  },
  {
   "cell_type": "markdown",
   "metadata": {},
   "source": [
    "### Modified Duration"
   ]
  },
  {
   "cell_type": "code",
   "execution_count": 128,
   "metadata": {},
   "outputs": [
    {
     "name": "stdout",
     "output_type": "stream",
     "text": [
      "3.1304966933630394\n"
     ]
    }
   ],
   "source": [
    "print(bond_duration(settle=settle, cpn=coupon, mat=mat, yld=ytm, freq=freq, face=par, modified=True, daycount=daycount))"
   ]
  }
 ],
 "metadata": {
  "kernelspec": {
   "display_name": "fin",
   "language": "python",
   "name": "python3"
  },
  "language_info": {
   "codemirror_mode": {
    "name": "ipython",
    "version": 3
   },
   "file_extension": ".py",
   "mimetype": "text/x-python",
   "name": "python",
   "nbconvert_exporter": "python",
   "pygments_lexer": "ipython3",
   "version": "3.12.6"
  }
 },
 "nbformat": 4,
 "nbformat_minor": 2
}
