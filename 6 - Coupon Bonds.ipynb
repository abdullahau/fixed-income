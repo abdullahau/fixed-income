{
 "cells": [
  {
   "cell_type": "markdown",
   "metadata": {},
   "source": [
    "### Imports"
   ]
  },
  {
   "cell_type": "code",
   "execution_count": 18,
   "metadata": {},
   "outputs": [],
   "source": [
    "import numpy as np\n",
    "from bond_pricing import annuity_rate"
   ]
  },
  {
   "cell_type": "markdown",
   "metadata": {},
   "source": [
    "### No-Arbitrage Price - Spot Curve"
   ]
  },
  {
   "cell_type": "markdown",
   "metadata": {},
   "source": [
    "The starting place in no‐arbitrage bond valuation is the zero‐coupon (or spot) yield curve and these rates are used to value coupon bonds.\n",
    "\n",
    "No-arbitrage price for a 4-year, 4% annual coupon payment corporate bond.\n",
    "\n",
    "Assume that the sequence of zero-coupon bond yields is `[3.5%, 3.8%, 4.1%, and 4.2%]`, an upward-sloping spot curve. (“Spot rate” is a commonly used synonym for zero‐coupon rate.)\n",
    "\n",
    "Generalization of the bond pricing equation:\n",
    "$$PV=\\frac{PMT}{(1+\\mathit{z}_{1})^{1}}+\\frac{PMT}{(1+\\mathit{z}_{2})^{2}}+ \\cdots + \\frac{PMT+PV}{(1+\\mathit{z}_{N})^{N}}$$\n",
    "\n",
    "PV is the no‐arbitrage value of the N‐period bond—the sum of the present values of the cash flows, each of which is discounted using the zero‐coupon rate that corresponds to the period ($\\mathit{z}_{1}, \\mathit{z}_{2}, \\cdots, \\mathit{z}_{N}$), PMT is the coupon payment per period, and FV is the principal (usually taken to be 100 so the price can be interpreted as the percentage of par value)."
   ]
  },
  {
   "cell_type": "markdown",
   "metadata": {},
   "source": [
    "Given a particular bond price, the yield to maturity is the internal rate of return (IRR) on the cash flows. An IRR is the uniform discount rate such that the sum of the present values of the future cash flows discounted at that particular interest rate for each time period equals the price of the bond.\n",
    "\n",
    "The correct way to think about a **yield to maturity is as a summary statistic** about the cash flows on the bond which does not presume a flat yield curve. It is a **present value weighted average** of the sequence of zero‐coupon rates with most of the weight on the last cash flow. "
   ]
  },
  {
   "cell_type": "code",
   "execution_count": 21,
   "metadata": {},
   "outputs": [
    {
     "name": "stdout",
     "output_type": "stream",
     "text": [
      "pv = 99.342\n",
      "ytm =  0.04182\n"
     ]
    }
   ],
   "source": [
    "spot_rates1 = np.array([0.035, 0.038, 0.041, 0.042])\n",
    "coupon_rate = 0.04\n",
    "fv = 100\n",
    "years = 4\n",
    "per = 1\n",
    "\n",
    "def bond_price_spot_rate(coupon_rate, fv, years, per, spot_rates):\n",
    "  coupon = fv * coupon_rate * per \n",
    "  cash_flows = np.full(years, coupon) \n",
    "  cash_flows[years-1] += fv\n",
    "  period = np.arange(1, years+1)\n",
    "  pv_cf = cash_flows / (1 + spot_rates/per)**(period*per)\n",
    "  return np.sum(pv_cf)\n",
    "\n",
    "pv = bond_price_spot_rate(coupon_rate=coupon_rate, fv=fv, years=years, per=per, spot_rates=spot_rates1)\n",
    "print(f'{pv = :0.3f}')\n",
    "ytm = annuity_rate(n_periods=years, instalment=fv*coupon_rate, pv=pv, terminal_payment=fv)\n",
    "print(f'{ytm = : 0.5f}')"
   ]
  },
  {
   "cell_type": "code",
   "execution_count": 22,
   "metadata": {},
   "outputs": [
    {
     "name": "stdout",
     "output_type": "stream",
     "text": [
      "pv = 99.342\n",
      "pv = 99.342\n",
      "pv = 99.342\n",
      "pv = 99.342\n"
     ]
    }
   ],
   "source": [
    "spot_rates1 = np.array([0.035, 0.038, 0.041, 0.042]) # upward sloping zero-coupon curve\n",
    "spot_rates2 = np.array([0.0492, 0.0469, 0.043, 0.0416]) # downward sloping spot curve\n",
    "spot_rates3 = np.array([0.0213, 0.0282, 0.0365, 0.0425])\n",
    "spot_rates4 = np.array([0.04182, 0.04182, 0.04182, 0.04182])\n",
    "\n",
    "rates = [spot_rates1, spot_rates2, spot_rates3, spot_rates4]\n",
    "\n",
    "for spot_rate in rates:\n",
    "  pv = bond_price_spot_rate(coupon_rate=coupon_rate, fv=fv, years=years, per=per, spot_rates=spot_rate)\n",
    "  print(f'{pv = :0.3f}')"
   ]
  },
  {
   "cell_type": "markdown",
   "metadata": {},
   "source": [
    "### Bond Prices and Yields"
   ]
  },
  {
   "cell_type": "markdown",
   "metadata": {},
   "source": [
    "The yield to maturity ($\\mathit{y}$) per period is the internal rate of return given the cash flows.\n",
    "\n",
    "$$PV=\\frac{PMT}{(1+\\mathit{y})^{1}}+\\frac{PMT}{(1+\\mathit{y})^{2}}+ \\cdots + \\frac{PMT+PV}{(1+\\mathit{y})^{N}}$$\n",
    "\n",
    "$$PV=\\frac{PMT}{y}\\times\\left[1 - \\frac{1}{(1+y)^{N}}\\right]+\\frac{FV}{(1+y)^{N}}$$\n",
    "\n",
    "$$\\frac{PV-FV}{FV}=\\frac{c-y}{y}\\times\\left[1-\\frac{1}{(1+y)^{N}}\\right]$$\n",
    "\n",
    "Here *c* is the coupon rate per period, PMT/FV. This expression indicates the connection between the price of the bond vis‐à‐vis par value and the coupon rate vis‐à‐vis the yield to maturity. These are the well‐known (and well‐remembered) rules: (1) If the bond is priced at par value (*PV = FV*), the coupon rate and the yield to maturity are equal (*c = y*); (2) if the price is a discount below par value (*PV < FV*), the coupon rate is less than the yield (*c < y*); and (3) if the price is a premium above par value (*PV > FV*), the coupon rate is greater than the yield (*c > y*). These rules apply to a coupon payment date when *N* is an integer.\n",
    "\n",
    "Alternative arrangement of the bond pricing equation:\n",
    "$$PV=PMT\\left(\\frac{1-(1+y)^{-N}}{y}\\right)+\\frac{FV}{(1+y)^N}$$\n",
    "$$FV_{n}=PMT\\left[\\frac{(1+y)^{N}-1}{y}\\right]+TV$$\n",
    "$$PMT=\\left[\\frac{PV - \\frac{FV}{(1+y)^N}}{\\frac{1-(1+y)^{-N}}{y}}\\right]$$"
   ]
  },
  {
   "cell_type": "code",
   "execution_count": null,
   "metadata": {},
   "outputs": [],
   "source": [
    "def pv(r, n, pmt, fv, beg=False):\n",
    "  old_settings = np.seterr(invalid='ignore')\n",
    "  pvPMT = np.where(r == 0, n, np.divide(1 - (1+r)**-n, r)) * pmt\n",
    "  np.seterr(**old_settings)\n",
    "  pvFV = fv / (1 + r)**n\n",
    "  \n",
    "  return np.where(beg, (pvPMT + pvFV) * (1 + r), pvPMT + pvFV)\n",
    "\n",
    "def fv(r, n, pmt, terminal_payment, beg=False):\n",
    "  old_settings = np.seterr(invalid='ignore')\n",
    "  fvPMT = np.where(r == 0, n, np.divide((1+r)**n - 1, r)) * pmt\n",
    "  np.seterr(**old_settings)\n",
    "  TV = terminal_payment\n",
    "  \n",
    "  return np.where(beg, fvPMT * (1 + r) + TV, fvPMT + TV)\n",
    "\n",
    "def pmt(r, n, pv, fv):\n",
    "    return (pv - (fv/(1+r)**n)) / np.divide(1 - (1+r)**-n, r)"
   ]
  },
  {
   "cell_type": "markdown",
   "metadata": {},
   "source": [
    "### Yield Statistics"
   ]
  },
  {
   "cell_type": "markdown",
   "metadata": {},
   "source": [
    "- **Yield-to-Maturity** is also called the *Redemption Yield*.\n",
    "- **Current Yield** also called the *running yield* and the *income yield*; it is the annual coupon payment divided by the price of the bond. \n",
    "  - $\\text{Coupon Yield}=\\frac{PMT}{PV}$"
   ]
  },
  {
   "cell_type": "code",
   "execution_count": null,
   "metadata": {},
   "outputs": [],
   "source": []
  }
 ],
 "metadata": {
  "kernelspec": {
   "display_name": "fin",
   "language": "python",
   "name": "python3"
  },
  "language_info": {
   "codemirror_mode": {
    "name": "ipython",
    "version": 3
   },
   "file_extension": ".py",
   "mimetype": "text/x-python",
   "name": "python",
   "nbconvert_exporter": "python",
   "pygments_lexer": "ipython3",
   "version": "3.13.0"
  }
 },
 "nbformat": 4,
 "nbformat_minor": 2
}
