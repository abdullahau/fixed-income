{
 "cells": [
  {
   "cell_type": "markdown",
   "metadata": {},
   "source": [
    "### Imports"
   ]
  },
  {
   "cell_type": "code",
   "execution_count": 143,
   "metadata": {},
   "outputs": [],
   "source": [
    "import numpy as np\n",
    "from bond_pricing import annuity_rate, bond_coupon_periods, bond_price_breakup, equiv_rate, bond_yield\n",
    "import isda_daycounters"
   ]
  },
  {
   "cell_type": "markdown",
   "metadata": {},
   "source": [
    "### No-Arbitrage Price - Spot Curve"
   ]
  },
  {
   "cell_type": "markdown",
   "metadata": {},
   "source": [
    "The starting place in no‐arbitrage bond valuation is the zero‐coupon (or spot) yield curve and these rates are used to value coupon bonds.\n",
    "\n",
    "No-arbitrage price for a 4-year, 4% annual coupon payment corporate bond.\n",
    "\n",
    "Assume that the sequence of zero-coupon bond yields is `[3.5%, 3.8%, 4.1%, and 4.2%]`, an upward-sloping spot curve. (“Spot rate” is a commonly used synonym for zero‐coupon rate.)\n",
    "\n",
    "Generalization of the bond pricing equation:\n",
    "$$PV=\\frac{PMT}{(1+\\mathit{z}_{1})^{1}}+\\frac{PMT}{(1+\\mathit{z}_{2})^{2}}+ \\cdots + \\frac{PMT+PV}{(1+\\mathit{z}_{N})^{N}}$$\n",
    "\n",
    "PV is the no‐arbitrage value of the N‐period bond—the sum of the present values of the cash flows, each of which is discounted using the zero‐coupon rate that corresponds to the period ($\\mathit{z}_{1}, \\mathit{z}_{2}, \\cdots, \\mathit{z}_{N}$), PMT is the coupon payment per period, and FV is the principal (usually taken to be 100 so the price can be interpreted as the percentage of par value)."
   ]
  },
  {
   "cell_type": "markdown",
   "metadata": {},
   "source": [
    "Given a particular bond price, the yield to maturity is the internal rate of return (IRR) on the cash flows. An IRR is the uniform discount rate such that the sum of the present values of the future cash flows discounted at that particular interest rate for each time period equals the price of the bond.\n",
    "\n",
    "The correct way to think about a **yield to maturity is as a summary statistic** about the cash flows on the bond which does not presume a flat yield curve. It is a **present value weighted average** of the sequence of zero‐coupon rates with most of the weight on the last cash flow. "
   ]
  },
  {
   "cell_type": "code",
   "execution_count": 2,
   "metadata": {},
   "outputs": [
    {
     "name": "stdout",
     "output_type": "stream",
     "text": [
      "pv = 99.342\n",
      "ytm =  0.04182\n"
     ]
    }
   ],
   "source": [
    "spot_rates1 = np.array([0.035, 0.038, 0.041, 0.042])\n",
    "coupon_rate = 0.04\n",
    "fv = 100\n",
    "years = 4\n",
    "per = 1\n",
    "\n",
    "def bond_price_spot_rate(coupon_rate, fv, years, per, spot_rates):\n",
    "  coupon = fv * coupon_rate * per \n",
    "  cash_flows = np.full(years, coupon) \n",
    "  cash_flows[years-1] += fv\n",
    "  period = np.arange(1, years+1)\n",
    "  pv_cf = cash_flows / (1 + spot_rates/per)**(period*per)\n",
    "  return np.sum(pv_cf)\n",
    "\n",
    "pv = bond_price_spot_rate(coupon_rate=coupon_rate, fv=fv, years=years, per=per, spot_rates=spot_rates1)\n",
    "print(f'{pv = :0.3f}')\n",
    "ytm = annuity_rate(n_periods=years, instalment=fv*coupon_rate, pv=pv, terminal_payment=fv)\n",
    "print(f'{ytm = : 0.5f}')"
   ]
  },
  {
   "cell_type": "code",
   "execution_count": 3,
   "metadata": {},
   "outputs": [
    {
     "name": "stdout",
     "output_type": "stream",
     "text": [
      "pv = 99.342\n",
      "pv = 99.342\n",
      "pv = 99.342\n",
      "pv = 99.342\n"
     ]
    }
   ],
   "source": [
    "spot_rates1 = np.array([0.035, 0.038, 0.041, 0.042]) # upward sloping zero-coupon curve\n",
    "spot_rates2 = np.array([0.0492, 0.0469, 0.043, 0.0416]) # downward sloping spot curve\n",
    "spot_rates3 = np.array([0.0213, 0.0282, 0.0365, 0.0425])\n",
    "spot_rates4 = np.array([0.04182, 0.04182, 0.04182, 0.04182])\n",
    "\n",
    "rates = [spot_rates1, spot_rates2, spot_rates3, spot_rates4]\n",
    "\n",
    "for spot_rate in rates:\n",
    "  pv = bond_price_spot_rate(coupon_rate=coupon_rate, fv=fv, years=years, per=per, spot_rates=spot_rate)\n",
    "  print(f'{pv = :0.3f}')"
   ]
  },
  {
   "cell_type": "markdown",
   "metadata": {},
   "source": [
    "### Bond Prices and Yields"
   ]
  },
  {
   "cell_type": "markdown",
   "metadata": {},
   "source": [
    "The yield to maturity ($\\mathit{y}$) per period is the internal rate of return given the cash flows.\n",
    "\n",
    "$$PV=\\frac{PMT}{(1+\\mathit{y})^{1}}+\\frac{PMT}{(1+\\mathit{y})^{2}}+ \\cdots + \\frac{PMT+PV}{(1+\\mathit{y})^{N}}$$\n",
    "\n",
    "$$PV=\\frac{PMT}{y}\\times\\left[1 - \\frac{1}{(1+y)^{N}}\\right]+\\frac{FV}{(1+y)^{N}}$$\n",
    "\n",
    "$$\\frac{PV-FV}{FV}=\\frac{c-y}{y}\\times\\left[1-\\frac{1}{(1+y)^{N}}\\right]$$\n",
    "\n",
    "Here *c* is the coupon rate per period, PMT/FV. This expression indicates the connection between the price of the bond vis‐à‐vis par value and the coupon rate vis‐à‐vis the yield to maturity. These are the well‐known (and well‐remembered) rules: (1) If the bond is priced at par value (*PV = FV*), the coupon rate and the yield to maturity are equal (*c = y*); (2) if the price is a discount below par value (*PV < FV*), the coupon rate is less than the yield (*c < y*); and (3) if the price is a premium above par value (*PV > FV*), the coupon rate is greater than the yield (*c > y*). These rules apply to a coupon payment date when *N* is an integer.\n",
    "\n",
    "Alternative arrangement of the bond pricing equation:\n",
    "$$PV=PMT\\left(\\frac{1-(1+y)^{-N}}{y}\\right)+\\frac{FV}{(1+y)^N}$$\n",
    "$$FV_{n}=PMT\\left[\\frac{(1+y)^{N}-1}{y}\\right]+TV$$\n",
    "$$PMT=\\left[\\frac{PV - \\frac{FV}{(1+y)^N}}{\\frac{1-(1+y)^{-N}}{y}}\\right]$$"
   ]
  },
  {
   "cell_type": "code",
   "execution_count": 4,
   "metadata": {},
   "outputs": [],
   "source": [
    "def pv(r, n, pmt, fv, beg=False):\n",
    "  old_settings = np.seterr(invalid='ignore')\n",
    "  pvPMT = np.where(r == 0, n, np.divide(1 - (1+r)**-n, r)) * pmt\n",
    "  np.seterr(**old_settings)\n",
    "  pvFV = fv / (1 + r)**n\n",
    "  \n",
    "  return np.where(beg, (pvPMT + pvFV) * (1 + r), pvPMT + pvFV)\n",
    "\n",
    "def fv(r, n, pmt, terminal_payment, beg=False):\n",
    "  old_settings = np.seterr(invalid='ignore')\n",
    "  fvPMT = np.where(r == 0, n, np.divide((1+r)**n - 1, r)) * pmt\n",
    "  np.seterr(**old_settings)\n",
    "  TV = terminal_payment\n",
    "  \n",
    "  return np.where(beg, fvPMT * (1 + r) + TV, fvPMT + TV)\n",
    "\n",
    "def pmt(r, n, pv, fv):\n",
    "    return (pv - (fv/(1+r)**n)) / np.divide(1 - (1+r)**-n, r)"
   ]
  },
  {
   "cell_type": "markdown",
   "metadata": {},
   "source": [
    "### Yield Statistics"
   ]
  },
  {
   "cell_type": "markdown",
   "metadata": {},
   "source": [
    "- **Yield-to-Maturity** is also called the *Redemption Yield*.\n",
    "  - YTM is typically stated in *street convention* such that regardless of whether the future cash flow dates fall on a holiday/weekend, it is considered to be received in regular intervals. This convention produces an IRR using integers as exponents.\n",
    "  - *True yield* statistics solves the IRR given the specific calendar dates for cash flows based on some schedule of bank holidays.\n",
    "- **Current Yield** also called the *running yield* and the *income yield*; it is the annual coupon payment divided by the price of the bond. \n",
    "  - $\\text{Coupon Yield}=\\frac{PMT}{PV}$\n",
    "- **Simple Yield** also called the *Japanese* simple yield; it is the coupon payment plus the straight-line amortization of the gain (buying at discount) or loss (buying at premium) divided by the price of the bond. \n",
    "  - $\\text{Simple Yield}=\\frac{PMT + \\left(\\frac{FV - PV}{N}\\right)}{PV}$\n",
    "- **Approx. Yield to Maturity** is divides the coupon payment and the straight-line amortization of the gain/loss by the average of the current price and the redemption payment. \n",
    "  - $\\text{Approx. Yield-to-Maturity}=\\frac{PMT + \\left(\\frac{FV - PV}{N}\\right)}{\\frac{PV + FV}{2}}$\n",
    "  - This approximation is usually used as the first 'guess' or starting place in the trial-and-error search algorithms that determine the IRR where NPV of cash flows equates to 0 (Newton's method, binary search, etc.)\n",
    "- **U.S. Government Equivalent** is a recalibrated yield using an actual/actual day-count convention instead of 30/360. "
   ]
  },
  {
   "cell_type": "code",
   "execution_count": 6,
   "metadata": {},
   "outputs": [
    {
     "name": "stdout",
     "output_type": "stream",
     "text": [
      "0.04026494332709227\n",
      "0.04192083912141894\n",
      "0.04178246430757192\n"
     ]
    }
   ],
   "source": [
    "N = 4\n",
    "presentvalue = 99.342\n",
    "facevalue = 100\n",
    "coupon = 4\n",
    "\n",
    "def current_yield(pmt, pv):\n",
    "    return pmt / pv\n",
    "\n",
    "def simple_yield(pv, fv, N, pmt):\n",
    "    return (pmt + (fv  - pv)/N) / pv\n",
    "\n",
    "def approx_ytm(pv, fv, N, pmt):\n",
    "    return (pmt + (fv  - pv)/N) / ((pv + fv)/2)\n",
    "\n",
    "def equivRate(rate, from_freq=1, to_freq=1):\n",
    "  if from_freq == np.inf:\n",
    "    return (np.exp(rate / to_freq) - 1) * to_freq\n",
    "  elif to_freq == np.inf:\n",
    "    return np.log(1 + rate / from_freq) * from_freq\n",
    "  else:\n",
    "    rate = np.log(1 + rate / from_freq) * from_freq\n",
    "    return (np.exp(rate / to_freq) - 1) * to_freq\n",
    "\n",
    "print(current_yield(coupon, presentvalue))\n",
    "print(simple_yield(presentvalue, facevalue, N, coupon))\n",
    "print(approx_ytm(presentvalue, facevalue, N, coupon))"
   ]
  },
  {
   "cell_type": "markdown",
   "metadata": {},
   "source": [
    "### Horizon Yields"
   ]
  },
  {
   "cell_type": "markdown",
   "metadata": {},
   "source": [
    "Horizon yield (holding period rate of return) analysis can be done ex-ante using projected future rates or ex-post using actual realized rates. The analysis considers price and **yield at the time of sale** of the bond (if sold before maturity), which reflects the future buyer's required rate of return to hold the bond for the remainder of the time to maturity, and the **coupon payment reinvestment rate** (assuming constant coupon reinvestment rate (CRR)).\n",
    "\n",
    "Holding period return (HPR) over the time to maturity depends only on the CRR. When the bond is sold prior to maturity, the HPR is a function also of the price (and yield) at the time of sale. The objective here is to see the connection between the HPR and the traditional YTM (yield to maturity) statistic.\n",
    "\n",
    "That total return is the sum of the reinvested coupon payments plus the final coupon and principal. The first coupon is reinvested for three years, the second for two years, and the third for one year.\n",
    "\n",
    "$$\\text{Total Return}=\\left[PMT\\times\\left(1+CRR\\right)^{N-1}\\right]+\\left[PMT\\times\\left(1+CRR\\right)^{N-2}\\right]+\\cdots+\\left[PMT\\times\\left(1+CRR\\right)^{N-(N-1)}\\right]+FV$$\n",
    "Suppose that CRR = YTM\n",
    "$$\\text{Total Return}=PMT\\left[\\frac{(1+y)^{N}-1}{y}\\right]+FV$$\n",
    "\n",
    "Solve for the horizon yield—the annual rate of return that connects the purchase price and the total return at maturity.\n",
    "$$\\text{HPR}=\\left[\\left(\\frac{\\text{Total Return}}{PV}\\right)^{\\frac{1}{N\\times PER}}-1\\right]\\times PER$$\n",
    "\n",
    "This equation shows the well‐known result that the yield to maturity measures the **investor’s rate of return only if the coupons are reinvested at that same yield**. This is a standard caveat for internal rates of return in general.\n",
    "\n",
    "Formalized as follows:\n",
    "- If CRR = YTM, then HPR = YTM.\n",
    "- If CRR > YTM then HPR > YTM.\n",
    "- If CRR < YTM then HPR < YTM."
   ]
  },
  {
   "cell_type": "code",
   "execution_count": 7,
   "metadata": {},
   "outputs": [
    {
     "name": "stdout",
     "output_type": "stream",
     "text": [
      "117.032\n"
     ]
    }
   ],
   "source": [
    "years = 4\n",
    "coupon = 4\n",
    "principal = 100\n",
    "ytm = 0.04182 \n",
    "\n",
    "total_return = fv(ytm, years, coupon, principal, beg=False)\n",
    "print(f'{total_return :0.3f}')"
   ]
  },
  {
   "cell_type": "markdown",
   "metadata": {},
   "source": [
    "### Implied Probability of Default on Coupon Bonds"
   ]
  },
  {
   "cell_type": "code",
   "execution_count": 8,
   "metadata": {},
   "outputs": [],
   "source": [
    "per = 1\n",
    "\n",
    "# 4-year, 4% annual payment corporate bond\n",
    "cop_mat = 4\n",
    "cop_pv = 99.342\n",
    "coupon = 4\n",
    "cop_yield = annuity_rate(n_periods=cop_mat, instalment=coupon, pv=cop_pv, terminal_payment=100)\n",
    "\n",
    "# Equivalent 10-year government bond\n",
    "gov_mat = 4\n",
    "gov_yield = 0.035\n",
    "gov_pv = pv(gov_yield, gov_mat, coupon, 100)\n",
    "\n",
    "credit_spread = cop_yield - gov_yield\n",
    "price_spread = gov_pv - cop_pv"
   ]
  },
  {
   "cell_type": "code",
   "execution_count": 9,
   "metadata": {},
   "outputs": [
    {
     "name": "stdout",
     "output_type": "stream",
     "text": [
      "+------+------------------+-----------------+----------+--------------+--------------------+---------------+\n",
      "| Year | Prob. of Default | Risk-Free Value | Recovery | Default Loss | PV of Default Loss | Expected Loss |\n",
      "+------+------------------+-----------------+----------+--------------+--------------------+---------------+\n",
      "|  1   |        Q         |     105.401     |   40.0   |    65.401    |       63.189       |   63.189 * Q  |\n",
      "|  2   |        Q         |      104.95     |   40.0   |    64.95     |       60.632       |   60.632 * Q  |\n",
      "|  3   |        Q         |     104.483     |   40.0   |    64.483    |       58.16        |   58.16 * Q   |\n",
      "|  4   |        Q         |      104.0      |   40.0   |     64.0     |       55.772       |   55.772 * Q  |\n",
      "+------+------------------+-----------------+----------+--------------+--------------------+---------------+\n",
      "Q = 1.049215%\n",
      "approx_implied_default_prob = 1.136751%\n"
     ]
    }
   ],
   "source": [
    "from prettytable import PrettyTable\n",
    "\n",
    "# Probability of Default Calculation - Unconditional Probability\n",
    "year = np.arange(1, cop_mat+1)\n",
    "probability_default = ['Q' for _ in year]\n",
    "\n",
    "# Risk-Free Value (value of the corporate bond if it were risk free, coupon payments at the beginning of the period)\n",
    "riskfree_value = np.array([np.round(pv(gov_yield, gov_mat - i + 1, coupon, 100, beg=True), 3) for i in year])\n",
    "\n",
    "# Recovery assuming a recovery rate of 40% of par value (unlike zero-coupon bond, recovery is a constant fraction of par instead of risk-free value)\n",
    "recovery_rate = 0.4 # Depending on the industry and the rank of the bond in the debt structure\n",
    "recovery = np.array([round(100 * recovery_rate, 3) for _ in year])\n",
    "\n",
    "# Default Loss after instantaneous recovery - loss at the time if default occurs—it is the riskfree value minus recovery\n",
    "default_loss = np.array([round(riskfree_value[i-1] - recovery[i-1], 3) for i in year])\n",
    "\n",
    "# Present value of default loss - risk-free rate is used to discount the losses\n",
    "pv_default = np.array([round(default_loss[i-1]/((1+gov_yield/per)**(i*per)),3) for i in year])\n",
    "# Here the present values turn out to be the same for each year—that’s because the bond is zero-coupon \n",
    "# and the recovery rate is assumed to be a constant share of the loss.\n",
    "\n",
    "# Present Value of Expected Loss\n",
    "expected_loss = np.array([str(default) + ' * Q' for default in pv_default])\n",
    "\n",
    "# Output Table\n",
    "table = PrettyTable()\n",
    "table.add_column(\"Year\", year)\n",
    "table.add_column(\"Prob. of Default\", probability_default)\n",
    "table.add_column(\"Risk-Free Value\", riskfree_value)\n",
    "table.add_column(\"Recovery\", recovery)\n",
    "table.add_column(\"Default Loss\", default_loss)\n",
    "table.add_column(\"PV of Default Loss\", pv_default)\n",
    "table.add_column(\"Expected Loss\", expected_loss)\n",
    "print(table)\n",
    "\n",
    "Q = price_spread/np.sum(pv_default) # implied default probability\n",
    "print(f'{Q = :%}')\n",
    "\n",
    "approx_implied_default_prob = credit_spread/(1 - recovery_rate)\n",
    "print(f'{approx_implied_default_prob = :%}')"
   ]
  },
  {
   "cell_type": "markdown",
   "metadata": {},
   "source": [
    "### Bond Pricing Between Coupon Dates"
   ]
  },
  {
   "cell_type": "markdown",
   "metadata": {},
   "source": [
    "Suppose that the current coupon period covers $T$ days and that the bond is being priced for settlement $t$ days into the period. Therefore, $t/T$ is the fraction of the period that has gone by and $1 – t/T$ is the fraction that remains.\n",
    "\n",
    "General version of the formula:\n",
    "$$\\text{Flat} + \\text{AI} = \\frac{PMT}{(1+y)^{1-t/T}} + \\frac{PMT}{(1+y)^{2-t/T}} + \\cdots + \\frac{PMT + FV}{(1+y)^{N-t/T}}$$\n",
    "\n",
    "The next coupon payment is discounted back over the fraction of the period ($1 – t/T$) until that cash flow is received; the following payment adds a full period to that fraction ($2 – t/T$), and so forth.\n",
    "\n",
    "The left side is the sum of the present values of the cash flows and is the full price for the bond on the settlement date. That **full price**, which often is called the **dirty or invoice price** in practice, is decomposed into the **flat price** ($Flat$), which also is called the **clean price**, and the **accrued interest** ($AI$).\n",
    "\n",
    "Accrued interest is the compensation to the seller of the bond for interest income since the last coupon date. It is calculated as a straight‐line share of the forthcoming payment. It is the fraction of the period that has elapsed times the amount of the payment.\n",
    "\n",
    "$$AI=t/T\\times PMT$$\n",
    "\n",
    "Determining the fraction $t/T$ depends on the day‐count convention specified in the bond’s documentation.\n",
    "\n",
    "Multiply the numerator and denominator by $(1 + y)^{t/T}$ in equation above and substitute in equations full price equation to get a general closed‐form relationship between the present and future cash flows and the yield‐to‐maturity statistic.\n",
    "\n",
    "$$\\text{Flat} + (t/T \\times PMT) = \\left[\\frac{PMT}{y} \\times \\left(1-\\frac{1}{(1+y)^{N}}\\right) + \\frac{FV}{(1+y)^{N}}\\right]\\times (1+y)^{t/T}$$\n",
    "$$\\text{Flat} + (t/T \\times PMT) =\\left[PMT\\left(\\frac{1-(1+y)^{-N}}{y}\\right)+\\frac{FV}{(1+y)^N}\\right] \\times (1+y)^{t/T}$$"
   ]
  },
  {
   "cell_type": "code",
   "execution_count": 198,
   "metadata": {},
   "outputs": [
    {
     "name": "stdout",
     "output_type": "stream",
     "text": [
      "{'n': 20,\n",
      "'discounting_fraction': 0.5055555555555555,\n",
      "'accrual_fraction': 0.49444444444444446,\n",
      "'next_coupon': Timestamp('2011-05-15 00:00:00'),\n",
      "'prev_coupon': Timestamp('2010-11-15 00:00:00')}\n",
      "\n",
      "{'DirtyPrice': 101.95817189458909,\n",
      "'AccruedInterest': 1.9777777777777779,\n",
      "'CleanPrice': 99.98039411681131,\n",
      "'NextCoupon': Timestamp('2011-05-15 00:00:00'),\n",
      "'PreviousCoupon': Timestamp('2010-11-15 00:00:00')}\n",
      "\n",
      "accrued_interest = 1.97778\n",
      "flat_price = 99.98039411681131\n",
      "full_price = 101.95817189458909\n"
     ]
    }
   ],
   "source": [
    "from pandas import to_datetime\n",
    "\n",
    "issuance = to_datetime('2010-11-15')\n",
    "settlement = to_datetime('2011-02-14')\n",
    "maturity = to_datetime('2020-11-15')\n",
    "daycount = 'thirty/360'\n",
    "installment = 8\n",
    "y = 0.08\n",
    "facevalue = 100\n",
    "N = 10\n",
    "per = 2\n",
    "\n",
    "coupon_periods = bond_coupon_periods(settle=settlement, mat=maturity, freq=2, daycount=daycount)\n",
    "print(\"{\" + \",\\n\".join(\"{!r}: {!r}\".format(k, v) for k, v in coupon_periods.items()) + \"}\")\n",
    "\n",
    "price_breakup = bond_price_breakup(settle=settlement, cpn=installment/100, mat=maturity,\n",
    "               yld=y, freq=2, comp_freq=2,\n",
    "               face=100, redeem=facevalue, daycount=daycount)\n",
    "\n",
    "print()\n",
    "print(\"{\" + \",\\n\".join(\"{!r}: {!r}\".format(k, v) for k, v in price_breakup.items()) + \"}\")\n",
    "\n",
    "print()\n",
    "tT = coupon_periods['accrual_fraction']\n",
    "accrued_interest = (tT * installment/per)\n",
    "print(f'{accrued_interest = :0.5f}')\n",
    "flat_price = (pv(y/per, N*per, installment/per, facevalue) * (1 + y/per)**tT) - accrued_interest\n",
    "print(f'{flat_price = }')\n",
    "full_price = (pv(y/per, N*per, installment/per, facevalue) * (1 + y/per)**tT)\n",
    "print(f'{full_price = }')"
   ]
  },
  {
   "cell_type": "code",
   "execution_count": 203,
   "metadata": {},
   "outputs": [
    {
     "name": "stdout",
     "output_type": "stream",
     "text": [
      "91 days 00:00:00\n",
      "181 days 00:00:00\n",
      "0.4986301369863014\n",
      "0.5027624309392266\n",
      "(0.08,       converged: True\n",
      "           flag: converged\n",
      " function_calls: 3\n",
      "     iterations: 2\n",
      "           root: 0.08\n",
      "         method: secant)\n",
      "0.4986301369863014\n",
      "0.49444444444444446\n"
     ]
    }
   ],
   "source": [
    "def gov_equiv_yield(y, N, pmt, price, fv, per, tT):\n",
    "    from scipy.optimize import newton\n",
    "    \n",
    "    def f(y): # The function whose zero is to be found\n",
    "        return (pv(y/per, N*per, pmt/per, fv) * (1 + y/per)**tT) - price\n",
    "    \n",
    "    root, status = newton(f, y, full_output=True, disp=False)\n",
    "    return root, status\n",
    "\n",
    "coupon_periods = bond_coupon_periods(settle=settlement, mat=maturity, freq=2, daycount='actual/actual')\n",
    "print(settlement - coupon_periods['prev_coupon'])\n",
    "print(coupon_periods['next_coupon'] - coupon_periods['prev_coupon'])\n",
    "print(coupon_periods['accrual_fraction'])\n",
    "print(91/181)\n",
    "print(gov_equiv_yield(y, N, installment, full_price, facevalue, per, tT))\n",
    "\n",
    "\n",
    "print(isda_daycounters.actualactual.year_fraction(coupon_periods['prev_coupon'], settlement)*2)\n",
    "print(isda_daycounters.thirty360.year_fraction(coupon_periods['prev_coupon'], settlement)*2)"
   ]
  },
  {
   "cell_type": "code",
   "execution_count": 142,
   "metadata": {},
   "outputs": [
    {
     "name": "stdout",
     "output_type": "stream",
     "text": [
      "pv_0 = array(3.84615385)\n",
      "pv_89 = array(3.92146815)\n"
     ]
    },
    {
     "data": {
      "text/plain": [
       "<matplotlib.legend.Legend at 0x2333135d970>"
      ]
     },
     "execution_count": 142,
     "metadata": {},
     "output_type": "execute_result"
    },
    {
     "data": {
      "image/png": "[encoded data removed]",
      "text/plain": [
       "<Figure size 768x576 with 1 Axes>"
      ]
     },
     "metadata": {},
     "output_type": "display_data"
    }
   ],
   "source": [
    "import matplotlib.pyplot as plt\n",
    "\n",
    "# Present Value of the 1st Coupon Payment - At Issuance \n",
    "futurevalue = 4\n",
    "ytm = 0.08 # semiannual periodicity\n",
    "ytm_daily = equiv_rate(ytm, from_freq=2, to_freq=360)\n",
    "n = 180  \n",
    "pv_0 = pv(ytm_daily/360, n, 0, futurevalue)\n",
    "print(f'{pv_0 = }')\n",
    "\n",
    "# Present Value of the 1st Coupon Payment - 89 Days After Issuance\n",
    "pv_89 = pv(ytm_daily/360, n - 89, 0, futurevalue)\n",
    "print(f'{pv_89 = }')\n",
    "\n",
    "n_x = np.linspace(180, 0, num=180)\n",
    "\n",
    "pv_y = pv(ytm/360, n_x, 0, futurevalue)\n",
    "accrued_y = n_x/180 * futurevalue\n",
    "\n",
    "plt.figure(num=0, dpi=120)\n",
    "plt.plot(180-n_x, pv_y, label='Constant-Yield Price Trajectory of Coupon Payment')\n",
    "plt.plot(n_x, accrued_y, \"g\", label=\"Accrued Interest\")\n",
    "plt.xlabel('Days to Coupon')\n",
    "plt.ylabel('Price')\n",
    "plt.legend()"
   ]
  }
 ],
 "metadata": {
  "kernelspec": {
   "display_name": "fin",
   "language": "python",
   "name": "python3"
  },
  "language_info": {
   "codemirror_mode": {
    "name": "ipython",
    "version": 3
   },
   "file_extension": ".py",
   "mimetype": "text/x-python",
   "name": "python",
   "nbconvert_exporter": "python",
   "pygments_lexer": "ipython3",
   "version": "3.12.6"
  }
 },
 "nbformat": 4,
 "nbformat_minor": 2
}
