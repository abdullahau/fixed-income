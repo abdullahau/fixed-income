{
 "cells": [
  {
   "cell_type": "markdown",
   "metadata": {},
   "source": [
    "### Imports"
   ]
  },
  {
   "cell_type": "code",
   "execution_count": 1,
   "metadata": {},
   "outputs": [],
   "source": [
    "import pandas as pd\n",
    "import numpy as np\n",
    "from bond_pricing import bond_coupon_periods"
   ]
  },
  {
   "cell_type": "markdown",
   "metadata": {},
   "source": [
    "### Test Code"
   ]
  },
  {
   "cell_type": "code",
   "execution_count": 2,
   "metadata": {},
   "outputs": [
    {
     "data": {
      "text/html": [
       "<div>\n",
       "<style scoped>\n",
       "    .dataframe tbody tr th:only-of-type {\n",
       "        vertical-align: middle;\n",
       "    }\n",
       "\n",
       "    .dataframe tbody tr th {\n",
       "        vertical-align: top;\n",
       "    }\n",
       "\n",
       "    .dataframe thead th {\n",
       "        text-align: right;\n",
       "    }\n",
       "</style>\n",
       "<table border=\"1\" class=\"dataframe\">\n",
       "  <thead>\n",
       "    <tr style=\"text-align: right;\">\n",
       "      <th></th>\n",
       "      <th>Issuance</th>\n",
       "      <th>Settlement</th>\n",
       "      <th>First</th>\n",
       "      <th>Maturity</th>\n",
       "      <th>Freq</th>\n",
       "      <th>Thirty/360</th>\n",
       "      <th>Actual/Actual</th>\n",
       "      <th>Actual/360</th>\n",
       "      <th>Actual/365</th>\n",
       "      <th>E30/360</th>\n",
       "    </tr>\n",
       "  </thead>\n",
       "  <tbody>\n",
       "    <tr>\n",
       "      <th>0</th>\n",
       "      <td>2037-03-12</td>\n",
       "      <td>2037-08-24</td>\n",
       "      <td>2037-09-12</td>\n",
       "      <td>2053-03-12</td>\n",
       "      <td>2</td>\n",
       "      <td>0.900000</td>\n",
       "      <td>0.896739</td>\n",
       "      <td>0.916667</td>\n",
       "      <td>0.904110</td>\n",
       "      <td>0.900000</td>\n",
       "    </tr>\n",
       "    <tr>\n",
       "      <th>1</th>\n",
       "      <td>2040-03-09</td>\n",
       "      <td>2040-03-23</td>\n",
       "      <td>2040-09-09</td>\n",
       "      <td>2041-03-09</td>\n",
       "      <td>2</td>\n",
       "      <td>0.077778</td>\n",
       "      <td>0.076087</td>\n",
       "      <td>0.077778</td>\n",
       "      <td>0.076712</td>\n",
       "      <td>0.077778</td>\n",
       "    </tr>\n",
       "    <tr>\n",
       "      <th>2</th>\n",
       "      <td>2017-04-07</td>\n",
       "      <td>2017-09-27</td>\n",
       "      <td>2017-10-07</td>\n",
       "      <td>2026-04-07</td>\n",
       "      <td>2</td>\n",
       "      <td>0.944444</td>\n",
       "      <td>0.945355</td>\n",
       "      <td>0.961111</td>\n",
       "      <td>0.947945</td>\n",
       "      <td>0.944444</td>\n",
       "    </tr>\n",
       "    <tr>\n",
       "      <th>3</th>\n",
       "      <td>2027-07-07</td>\n",
       "      <td>2027-09-04</td>\n",
       "      <td>2028-01-07</td>\n",
       "      <td>2039-07-07</td>\n",
       "      <td>2</td>\n",
       "      <td>0.316667</td>\n",
       "      <td>0.320652</td>\n",
       "      <td>0.327778</td>\n",
       "      <td>0.323288</td>\n",
       "      <td>0.316667</td>\n",
       "    </tr>\n",
       "    <tr>\n",
       "      <th>4</th>\n",
       "      <td>2021-06-26</td>\n",
       "      <td>2021-06-29</td>\n",
       "      <td>2022-06-26</td>\n",
       "      <td>2025-06-26</td>\n",
       "      <td>1</td>\n",
       "      <td>0.008333</td>\n",
       "      <td>0.008219</td>\n",
       "      <td>0.008333</td>\n",
       "      <td>0.008219</td>\n",
       "      <td>0.008333</td>\n",
       "    </tr>\n",
       "  </tbody>\n",
       "</table>\n",
       "</div>"
      ],
      "text/plain": [
       "    Issuance Settlement      First   Maturity  Freq  Thirty/360  \\\n",
       "0 2037-03-12 2037-08-24 2037-09-12 2053-03-12     2    0.900000   \n",
       "1 2040-03-09 2040-03-23 2040-09-09 2041-03-09     2    0.077778   \n",
       "2 2017-04-07 2017-09-27 2017-10-07 2026-04-07     2    0.944444   \n",
       "3 2027-07-07 2027-09-04 2028-01-07 2039-07-07     2    0.316667   \n",
       "4 2021-06-26 2021-06-29 2022-06-26 2025-06-26     1    0.008333   \n",
       "\n",
       "   Actual/Actual  Actual/360  Actual/365   E30/360  \n",
       "0       0.896739    0.916667    0.904110  0.900000  \n",
       "1       0.076087    0.077778    0.076712  0.077778  \n",
       "2       0.945355    0.961111    0.947945  0.944444  \n",
       "3       0.320652    0.327778    0.323288  0.316667  \n",
       "4       0.008219    0.008333    0.008219  0.008333  "
      ]
     },
     "execution_count": 2,
     "metadata": {},
     "output_type": "execute_result"
    }
   ],
   "source": [
    "data = pd.read_csv(\"accrual_fraction_test.csv\")\n",
    "cols = data.columns[0:4]\n",
    "data[cols] = data[cols].apply(pd.to_datetime, errors='coerce') \n",
    "data.head()"
   ]
  },
  {
   "cell_type": "code",
   "execution_count": 3,
   "metadata": {},
   "outputs": [],
   "source": [
    "data['Test: 30/360'] = bond_coupon_periods(settle=data['Settlement'], mat=data['Maturity'], freq=data['Freq'], daycount='thirty/360')['accrual_fraction']\n",
    "data['Test: Actual/Actual'] = bond_coupon_periods(settle=data['Settlement'], mat=data['Maturity'], freq=data['Freq'], daycount='actual/actual')['accrual_fraction']\n",
    "data['Test: Actual/360'] = bond_coupon_periods(settle=data['Settlement'], mat=data['Maturity'], freq=data['Freq'], daycount='actual/360')['accrual_fraction']\n",
    "data['Test: Actual/365'] = bond_coupon_periods(settle=data['Settlement'], mat=data['Maturity'], freq=data['Freq'], daycount='actual/365')['accrual_fraction']\n",
    "data['Test: E30/360'] = bond_coupon_periods(settle=data['Settlement'], mat=data['Maturity'], freq=data['Freq'], daycount='thirtyE/360 ISDA')['accrual_fraction']\n",
    "\n",
    "cols = data.columns[9:]\n",
    "data[cols] = data[cols].apply(pd.to_numeric, errors='coerce')\n",
    "\n",
    "cols = data.columns[4:]\n",
    "data[cols] = data[cols].round(6)\n",
    "\n",
    "data['Result: 30/360'] = data['Thirty/360'] == data['Test: 30/360']\n",
    "data['Result: Actual/Actual'] = data['Actual/Actual'] == data['Test: Actual/Actual']\n",
    "data['Result: Actual/360'] = data['Actual/360'] == data['Test: Actual/360']\n",
    "data['Result: Actual/365'] = data['Actual/365'] == data['Test: Actual/365']\n",
    "data['Result: E30/360'] = data['E30/360'] == data['Test: E30/360']"
   ]
  },
  {
   "cell_type": "code",
   "execution_count": 4,
   "metadata": {},
   "outputs": [
    {
     "data": {
      "text/plain": [
       "Result: 30/360  Result: Actual/Actual  Result: Actual/360  Result: Actual/365  Result: E30/360\n",
       "True            True                   True                True                True               57\n",
       "False           False                  False               False               False               1\n",
       "True            True                   False               True                True                1\n",
       "Name: count, dtype: int64"
      ]
     },
     "execution_count": 4,
     "metadata": {},
     "output_type": "execute_result"
    }
   ],
   "source": [
    "cols = data.columns[15:]\n",
    "data[cols].value_counts()"
   ]
  }
 ],
 "metadata": {
  "kernelspec": {
   "display_name": "fin",
   "language": "python",
   "name": "python3"
  },
  "language_info": {
   "codemirror_mode": {
    "name": "ipython",
    "version": 3
   },
   "file_extension": ".py",
   "mimetype": "text/x-python",
   "name": "python",
   "nbconvert_exporter": "python",
   "pygments_lexer": "ipython3",
   "version": "3.13.0"
  }
 },
 "nbformat": 4,
 "nbformat_minor": 2
}
