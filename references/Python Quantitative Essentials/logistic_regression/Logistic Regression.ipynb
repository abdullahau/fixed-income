{
 "cells": [
  {
   "cell_type": "code",
   "execution_count": 54,
   "metadata": {},
   "outputs": [],
   "source": [
    "import numpy as np\n",
    "import matplotlib.pyplot as plt\n",
    "\n",
    "%matplotlib inline"
   ]
  },
  {
   "cell_type": "code",
   "execution_count": 55,
   "metadata": {},
   "outputs": [
    {
     "data": {
      "image/png": "[encoded data removed]",
      "text/plain": [
       "<Figure size 432x288 with 1 Axes>"
      ]
     },
     "metadata": {
      "needs_background": "light"
     },
     "output_type": "display_data"
    }
   ],
   "source": [
    "np.random.seed(2)\n",
    "\n",
    "set1 = 0.8 + (2 - 0.8) * np.random.rand(10,1)\n",
    "set2 = 1.2 * np.random.rand(10,1)\n",
    "\n",
    "plt.plot(set1, np.ones(set1.shape), 'ro')\n",
    "plt.plot(set2, np.zeros(set2.shape), 'bo')\n",
    "plt.grid(True)\n",
    "plt.xlim(0, 2)\n",
    "plt.xlabel('x')\n",
    "plt.ylabel('y')\n",
    "\n",
    "X = np.vstack( (set1, set2) )\n",
    "\n",
    "m, n = X.shape\n",
    "X = np.hstack( (np.ones((m, 1)), X))\n",
    "\n",
    "Y = np.vstack( (np.ones(set1.shape), np.zeros(set2.shape) ) )"
   ]
  },
  {
   "cell_type": "markdown",
   "metadata": {},
   "source": [
    "$p(x)$ is the probability of the result being one.\n",
    "It follows that the probability of being zero is $1 - p(x)$\n",
    "\n",
    "Logistic regression models the log odds as a line.\n",
    "$$\\ln\\left( \\frac{p}{1-p} \\right) = \\theta_0 + \\theta_1 x  = h(x)$$\n",
    "\n",
    "$$p = \\frac{1}{1+e^{-h(x)}}$$\n",
    "\n",
    "We wwant to chose our thetas to maximize the quantity,\n",
    "\n",
    "$$l = \\prod_{i = \\mbox{blue}} 1 - p(x_i) \\times \\prod_{i = \\mbox{red}} p(x_i)$$\n",
    "\n",
    "We can combine the products,\n",
    "\n",
    "$$l =   \\prod^m_i p(x_i)^{y_i} (1 - p(x_i))^{(1-y_i)}$$\n",
    "\n",
    "Taking the log, we have,\n",
    "\n",
    "$$\\ln(l) = \\sum_i \\left[y_i \\log(p) + (1-y_i) \n",
    "\\log(1 - p)\\right]\n",
    "$$\n",
    "\n",
    "Recall that $p(x) = h(x)$, and we need to multiply by -1 to change a max problem into a min problem.  it is also common to scale down the sum by divding by the numer of points.  This gives us the cost function.\n",
    "\n",
    "$$J(\\theta) = \\frac{1}{m} \\sum_i \\left[-y_i \\log(h_\\theta(x_i)) - (1-y_i) \n",
    "\\log(1 - h_\\theta(x_i))\\right]\n",
    "$$\n",
    "\n",
    "The gradient is given by, \n",
    "$$\n",
    "\\frac{\\partial J}{\\partial \\theta_j} = \\frac{1}{m} \\sum_i\n",
    "(h_\\theta(x_i) - y_i) x_{(j)}\n",
    "$$"
   ]
  },
  {
   "cell_type": "code",
   "execution_count": 56,
   "metadata": {},
   "outputs": [],
   "source": [
    "#  Sigmoid function as defined above.\n",
    "def sigmoid(x):\n",
    "    return( 1 / (1 + np.exp(-x)))\n",
    "\n",
    "#  Our gradient descent algorithm\n",
    "def gradient_sescent(fprime, x0, args = [], gamma = 1e-3, max_iter = 10000, tol = 1e-6):\n",
    "    count = 0\n",
    "\n",
    "    J = []\n",
    "    while count < max_iter:\n",
    "        count += 1\n",
    "        #  For debugging purposes, we will append the cost function to J.  This is slow.  In a real version, should probably allocate a vector of length max_iten and place each step in its respective index.\n",
    "        J.append(cost(x0, args))\n",
    "        x_old = x0\n",
    "        x0 = x0 - gamma * fprime(x0, args)\n",
    "        if np.linalg.norm(x0 - x_old) < tol:\n",
    "            break\n",
    "        \n",
    "\n",
    "    return x0, count, J\n",
    "\n",
    "#  Cost function\n",
    "def cost(theta, args):\n",
    "    \n",
    "    X = args[0]\n",
    "    Y = args[1]\n",
    "    \n",
    "    m = Y.size\n",
    "          \n",
    "    term1 = np.multiply( -Y.T, np.log( sigmoid( np.matmul(theta.T, X.T) ) ) )\n",
    "    term2 = np.multiply( (1-Y).T, np.log( 1 - sigmoid( np.matmul(theta.T, X.T)) ) )\n",
    "          \n",
    "    ans = 1 / m * np.sum(term1 - term2)\n",
    "    #print(ans, theta) \n",
    "        \n",
    "    return ans\n",
    "    \n",
    "#  Cost function gradient\n",
    "def gradient(theta, args):\n",
    "    \n",
    "    X = args[0]\n",
    "    Y = args[1]\n",
    "    \n",
    "    m = Y.size\n",
    "    \n",
    "    temp = sigmoid( np.matmul(theta.T, X.T) ).T - Y\n",
    "    temp = np.multiply(temp, X)\n",
    "    temp = 1 / m * np.sum(temp, axis = 0)\n",
    "    temp.shape = (temp.size, 1)\n",
    "    \n",
    "    return temp"
   ]
  },
  {
   "cell_type": "code",
   "execution_count": 57,
   "metadata": {},
   "outputs": [
    {
     "name": "stdout",
     "output_type": "stream",
     "text": [
      "[[-10.7185688 ]\n",
      " [ 10.86992675]]\n"
     ]
    },
    {
     "data": {
      "text/plain": [
       "[<matplotlib.lines.Line2D at 0x1b33b7a1470>]"
      ]
     },
     "execution_count": 57,
     "metadata": {},
     "output_type": "execute_result"
    },
    {
     "data": {
      "image/png": "[encoded data removed]",
      "text/plain": [
       "<Figure size 432x288 with 1 Axes>"
      ]
     },
     "metadata": {
      "needs_background": "light"
     },
     "output_type": "display_data"
    }
   ],
   "source": [
    "#  We will guess all zeros for our values of theta\n",
    "theta = np.zeros( (2, 1) )\n",
    "\n",
    "#  Run graadient descent and print the results.\n",
    "theta, count, J = gradient_sescent(gradient, theta, args = [X, Y], gamma = 1e-1, max_iter = 2000000 )\n",
    "print(theta)\n",
    "\n",
    "#  Plot the cost function to make sure we have converged.\n",
    "plt.semilogy(J)"
   ]
  },
  {
   "cell_type": "code",
   "execution_count": 58,
   "metadata": {},
   "outputs": [
    {
     "name": "stdout",
     "output_type": "stream",
     "text": [
      "[0.99975249]\n"
     ]
    }
   ],
   "source": [
    "theta0 = theta[0]\n",
    "theta1 = theta[1]\n",
    "h = theta0 + 1.75 * theta1\n",
    "print(sigmoid(h))"
   ]
  },
  {
   "cell_type": "markdown",
   "metadata": {},
   "source": [
    "We want to solve for $x$ such that,\n",
    "\n",
    "$$\\theta_0 + \\theta_1 x = 0.$$\n",
    "\n",
    "or in other words,\n",
    "\n",
    "$$x = \\frac{-\\theta_0}{\\theta_1}.$$\n",
    "\n",
    "Let's calculate that value."
   ]
  },
  {
   "cell_type": "code",
   "execution_count": 59,
   "metadata": {},
   "outputs": [
    {
     "name": "stdout",
     "output_type": "stream",
     "text": [
      "0.9860755312451124\n"
     ]
    }
   ],
   "source": [
    "x0 = -theta0 / theta1\n",
    "x0 = x0[0]\n",
    "print(x0)"
   ]
  },
  {
   "cell_type": "markdown",
   "metadata": {},
   "source": [
    "Let's recreate our original figure with the training data and add our decision bounadry."
   ]
  },
  {
   "cell_type": "code",
   "execution_count": 60,
   "metadata": {},
   "outputs": [
    {
     "data": {
      "text/plain": [
       "<matplotlib.collections.LineCollection at 0x1b33c1287f0>"
      ]
     },
     "execution_count": 60,
     "metadata": {},
     "output_type": "execute_result"
    },
    {
     "data": {
      "image/png": "[encoded data removed]",
      "text/plain": [
       "<Figure size 432x288 with 1 Axes>"
      ]
     },
     "metadata": {
      "needs_background": "light"
     },
     "output_type": "display_data"
    }
   ],
   "source": [
    "#  Reset the seed\n",
    "np.random.seed(2)\n",
    "\n",
    "#  Generate the data for the plots\n",
    "set1 = 0.8 + (2 - 0.8) * np.random.rand(10,1)\n",
    "set2 = 1.2 * np.random.rand(10,1)\n",
    "#  Plot them\n",
    "plt.plot(set1, np.ones(set1.shape), 'ro')\n",
    "plt.plot(set2, np.zeros(set2.shape), 'bo')\n",
    "plt.grid(True)\n",
    "plt.xlim(0, 2)\n",
    "plt.xlabel('x')\n",
    "plt.ylabel('y')\n",
    "\n",
    "#  Add in our boundary with an x position of x0\n",
    "plt.vlines(x0, 0, 1)"
   ]
  },
  {
   "cell_type": "code",
   "execution_count": null,
   "metadata": {},
   "outputs": [],
   "source": []
  }
 ],
 "metadata": {
  "kernelspec": {
   "display_name": "Python 3",
   "language": "python",
   "name": "python3"
  },
  "language_info": {
   "codemirror_mode": {
    "name": "ipython",
    "version": 3
   },
   "file_extension": ".py",
   "mimetype": "text/x-python",
   "name": "python",
   "nbconvert_exporter": "python",
   "pygments_lexer": "ipython3",
   "version": "3.7.1"
  }
 },
 "nbformat": 4,
 "nbformat_minor": 2
}
