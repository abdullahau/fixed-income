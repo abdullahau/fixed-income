{
 "cells": [
  {
   "cell_type": "code",
   "execution_count": 19,
   "metadata": {},
   "outputs": [],
   "source": [
    "import numpy as np\n",
    "import pandas as pd\n",
    "from scipy.stats import norm, kurtosis, skew\n",
    "\n",
    "import matplotlib.pyplot as plt\n",
    "%matplotlib inline"
   ]
  },
  {
   "cell_type": "code",
   "execution_count": 12,
   "metadata": {},
   "outputs": [
    {
     "name": "stdout",
     "output_type": "stream",
     "text": [
      "Mean =  0.00033980999847684797\n",
      "Standard Deviation =  0.010997593770525551\n"
     ]
    }
   ],
   "source": [
    "#  Load in SPX data and keep only 1990 forward\n",
    "SPX = pd.read_csv('SPX.csv')\n",
    "SPX = SPX[ SPX['Date'] >= '1990-01-01']\n",
    "\n",
    "#  Calculate the percent change and add it as a column to the data frame\n",
    "SPX['pct'] = SPX['Close'].pct_change()\n",
    "\n",
    "#  Break out the percent change as a numpy array for use outside pandas.\n",
    "pct = SPX['pct'].to_numpy()\n",
    "\n",
    "#  Calculate the mean and standard deviation using pandas built in functions.\n",
    "mu = SPX['pct'].mean()\n",
    "sigma = SPX['pct'].std()\n",
    "\n",
    "#  Print those results\n",
    "print('Mean = ', mu)\n",
    "print('Standard Deviation = ', sigma)"
   ]
  },
  {
   "cell_type": "code",
   "execution_count": 13,
   "metadata": {},
   "outputs": [
    {
     "name": "stderr",
     "output_type": "stream",
     "text": [
      "C:\\Users\\moone\\Anaconda3\\lib\\site-packages\\numpy\\lib\\histograms.py:839: RuntimeWarning: invalid value encountered in greater_equal\n",
      "  keep = (tmp_a >= first_edge)\n",
      "C:\\Users\\moone\\Anaconda3\\lib\\site-packages\\numpy\\lib\\histograms.py:840: RuntimeWarning: invalid value encountered in less_equal\n",
      "  keep &= (tmp_a <= last_edge)\n"
     ]
    },
    {
     "data": {
      "text/plain": [
       "Text(0, 0.5, 'Normalized Count')"
      ]
     },
     "execution_count": 13,
     "metadata": {},
     "output_type": "execute_result"
    },
    {
     "data": {
      "image/png": "[encoded data removed]",
      "text/plain": [
       "<Figure size 432x288 with 1 Axes>"
      ]
     },
     "metadata": {
      "needs_background": "light"
     },
     "output_type": "display_data"
    }
   ],
   "source": [
    "#  Generate a histogram and automatically scale by area under the curve\n",
    "n, bins, patches = plt.hist(pct, bins = 100, density = True, edgecolor = 'black')\n",
    "\n",
    "#  Use the mean and standard deviation from above to generate a normal curve with those inputs\n",
    "x = np.linspace(-0.1, 0.1, 100)\n",
    "y = norm.pdf(x, mu, sigma)\n",
    "\n",
    "#  Overlay the noraml curve on the nistogram\n",
    "plt.plot(x, y, 'k')\n",
    "plt.xlim( [-0.05, 0.05]) \n",
    "plt.grid(True)\n",
    "plt.xlabel('Dail Fractional Change')\n",
    "plt.ylabel('Normalized Count')"
   ]
  },
  {
   "cell_type": "code",
   "execution_count": 14,
   "metadata": {},
   "outputs": [
    {
     "name": "stdout",
     "output_type": "stream",
     "text": [
      "Kurtosis =  8.913372915897058\n"
     ]
    }
   ],
   "source": [
    "#  Use the built-in Pandas kurtosis function\n",
    "print( 'Kurtosis = ', SPX['pct'].kurtosis() )"
   ]
  },
  {
   "cell_type": "code",
   "execution_count": 15,
   "metadata": {},
   "outputs": [
    {
     "name": "stdout",
     "output_type": "stream",
     "text": [
      "Kurtosis =  8.9067205650687\n"
     ]
    }
   ],
   "source": [
    "#  The scipy function kurtosis can't handle NaNs without setting a flag\n",
    "#  Instead of setting that flag, we can't just delete the offending entry.  In most cases, you probably want to use the flag.\n",
    "print( 'Kurtosis = ', kurtosis( np.delete(pct, 0) ) )"
   ]
  },
  {
   "cell_type": "code",
   "execution_count": 21,
   "metadata": {},
   "outputs": [
    {
     "name": "stdout",
     "output_type": "stream",
     "text": [
      "Skewness =  -0.0934098445545336\n",
      "nan\n"
     ]
    }
   ],
   "source": [
    "#  For completeness, we'll also calculate the skewness\n",
    "print('Skewness = ', SPX['pct'].skew() )\n",
    "\n",
    "#  The Scipy function needs a flag set or to have NaNs deleted\n",
    "print( skew( pct ) )"
   ]
  },
  {
   "cell_type": "code",
   "execution_count": null,
   "metadata": {},
   "outputs": [],
   "source": []
  }
 ],
 "metadata": {
  "kernelspec": {
   "display_name": "Python 3",
   "language": "python",
   "name": "python3"
  },
  "language_info": {
   "codemirror_mode": {
    "name": "ipython",
    "version": 3
   },
   "file_extension": ".py",
   "mimetype": "text/x-python",
   "name": "python",
   "nbconvert_exporter": "python",
   "pygments_lexer": "ipython3",
   "version": "3.7.1"
  }
 },
 "nbformat": 4,
 "nbformat_minor": 2
}
