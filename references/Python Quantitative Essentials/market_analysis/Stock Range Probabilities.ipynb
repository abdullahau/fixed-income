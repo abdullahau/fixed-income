{
 "cells": [
  {
   "cell_type": "code",
   "execution_count": 6,
   "id": "1c35f08f",
   "metadata": {},
   "outputs": [],
   "source": [
    "import numpy as np\n",
    "from scipy.stats import norm, lognorm\n",
    "import matplotlib.pyplot as plt\n",
    "\n",
    "%matplotlib inline"
   ]
  },
  {
   "cell_type": "markdown",
   "id": "c2d021b0",
   "metadata": {},
   "source": [
    "##  Log-Normal\n",
    "\n",
    "$$f(S) = \\frac{1}{S \\sigma \\sqrt{2\\pi t}} e^{ \\frac{-\\left(\\ln(S) - \\ln(S_0) - \\left[r - \\frac{\\sigma^2}{2}\\right]t \\right)^2}{2 \\sigma^2 t}}  $$\n",
    "\n",
    "\n",
    "The probability of being between two points, for example, \\\\$100 and \\\\$120 is given by the integral,\n",
    "$$\\int_{100}^{120} \\frac{1}{S \\sigma \\sqrt{2\\pi t}} e^{ \\frac{-\\left(\\ln(S) - \\ln(S_0) - \\left[r - \\frac{\\sigma^2}{2}\\right]t \\right)^2}{2 \\sigma^2 t}}  dS$$"
   ]
  },
  {
   "cell_type": "code",
   "execution_count": 3,
   "id": "4147ebec",
   "metadata": {},
   "outputs": [],
   "source": [
    "#  Function for the log-normal equation above\n",
    "\n",
    "def lognormal(s, s0, r, sigma, t):\n",
    "    return 1 / (s * sigma * np.sqrt(2 * np.pi * t)) * np.exp(  -(np.log(s) - np.log(s0) - (r - sigma**2/2) * t)**2 / (2*sigma**2 * t))"
   ]
  },
  {
   "cell_type": "markdown",
   "id": "e15fb007",
   "metadata": {},
   "source": [
    "We'll consider a stock starting at \\\\$100 and look at the probability that a year later, it'll be between \\\\$100 and \\\\$120."
   ]
  },
  {
   "cell_type": "code",
   "execution_count": 24,
   "id": "683d97a9",
   "metadata": {},
   "outputs": [
    {
     "name": "stdout",
     "output_type": "stream",
     "text": [
      "0.25839019219134424\n"
     ]
    }
   ],
   "source": [
    "S0 = 1000        #  Initial stock price\n",
    "r = 0.01         #  Assumed drift rate\n",
    "t = 1            #  Time \n",
    "sigma = 0.25     #  Volatility\n",
    "\n",
    "#  We are interested in the range 100 to 120\n",
    "S = np.linspace(100, 120, 1000)\n",
    "\n",
    "#  The proability is the area under the curve as noted above\n",
    "print( np.trapz(lognormal(S, S0, r, sigma, t), S) )"
   ]
  },
  {
   "cell_type": "markdown",
   "id": "24fd6d08",
   "metadata": {},
   "source": [
    "##  Black-Scholes"
   ]
  },
  {
   "cell_type": "markdown",
   "id": "28ecd7ac",
   "metadata": {},
   "source": [
    "First, a bit on notation.  We will denote the distribution functions as follows:<br><br>\n",
    "$\\phi = $ Normal probability density function <br>\n",
    "$\\Phi = $ normal cumulative density function\n",
    "\n",
    "For more information on the normal distribution see https://en.wikipedia.org/wiki/Normal_distribution\n",
    "\n",
    "We define the following symbols:\n",
    "- $S$ = Stock Price<br>\n",
    "- $K$ = Strike price<br>\n",
    "- $t$ = Time to expiration (years)<br>\n",
    "- $r$ = Risk-free rate<br>\n",
    "- $\\sigma$ = Implied Volatility\n",
    "\n",
    "The Black Scholes model gives:\n",
    "- Call Price = $S\\Phi(d_1) -Ke^{-rt}\\Phi(d_2)$ <br>\n",
    "- Put Price = $-S\\Phi(-d_1) + Ke^{-rt}\\Phi(-d_2)$\n",
    "\n",
    "In the above equations, $d_1$ and $d_2$ are given respectively by,\n",
    "$$d_1 = \\frac{1}{\\sigma \\sqrt{t}} \\left[ \\ln\\left(\\frac{S}{K}\\right) + \\left(r + \\frac{\\sigma.^2}{2}\\right) t\\right],$$\n",
    "and\n",
    "$$d_2 = d_1 - \\sigma \\sqrt{t}.$$\n",
    "\n",
    "The proability of a call being in-the-money is given by $\\Phi(d_2)$.\n",
    "\n",
    "Functions that return the Black-Scholes price of an option and the values of $d_1$ and $d_2$ are given in the cell below."
   ]
  },
  {
   "cell_type": "code",
   "execution_count": 12,
   "id": "0347e5e8",
   "metadata": {},
   "outputs": [],
   "source": [
    "def d(sigma, S, K, r, t):\n",
    "    d1 = 1 / (sigma * np.sqrt(t)) * ( np.log(S/K) + (r + sigma**2/2) * t)\n",
    "    d2 = d1 - sigma * np.sqrt(t)\n",
    "    return d1, d2"
   ]
  },
  {
   "cell_type": "code",
   "execution_count": 15,
   "id": "acf38e27",
   "metadata": {},
   "outputs": [
    {
     "data": {
      "text/plain": [
       "0.25839019638580907"
      ]
     },
     "execution_count": 15,
     "metadata": {},
     "output_type": "execute_result"
    }
   ],
   "source": [
    "d120 = d(sigma, 100, 120, r, t)[1]  #  100 strike\n",
    "d100 = d(sigma, 100, 100, r, t)[1]  #  120 strike\n",
    "\n",
    "#  prob of being between 100 and 120\n",
    "norm.cdf(d100) - norm.cdf(d120)"
   ]
  },
  {
   "cell_type": "code",
   "execution_count": null,
   "id": "19fb039a",
   "metadata": {},
   "outputs": [],
   "source": []
  }
 ],
 "metadata": {
  "kernelspec": {
   "display_name": "Python 3",
   "language": "python",
   "name": "python3"
  },
  "language_info": {
   "codemirror_mode": {
    "name": "ipython",
    "version": 3
   },
   "file_extension": ".py",
   "mimetype": "text/x-python",
   "name": "python",
   "nbconvert_exporter": "python",
   "pygments_lexer": "ipython3",
   "version": "3.7.1"
  }
 },
 "nbformat": 4,
 "nbformat_minor": 5
}
