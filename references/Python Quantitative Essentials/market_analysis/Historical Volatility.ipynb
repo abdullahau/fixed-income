{
 "cells": [
  {
   "cell_type": "code",
   "execution_count": 35,
   "id": "f4f034a8",
   "metadata": {},
   "outputs": [],
   "source": [
    "import pandas as pd\n",
    "import numpy as np"
   ]
  },
  {
   "cell_type": "markdown",
   "id": "a64077ec",
   "metadata": {},
   "source": [
    "Historical volatility is commonly taken to be the standard deviation of daily returns for the last calendar month.  There are other definitions one could use, however.  We will use the common definition and take one month to be 20 trading days.\n",
    "\n",
    "If you look up the formula for standard deviation, you’ll find two forms given.\n",
    "\n",
    "The first:\n",
    "$$\\sqrt{ \\frac{1}{N} \\sum_{i=1}^N(x_i - \\mu)^2}$$\n",
    "where $N$ is the number in the population, and $\\mu$ is the population mean.\n",
    "\n",
    "And:\n",
    "$$\\sqrt{ \\frac{1}{n-1} \\sum_{i=1}^n(x_i - \\bar{x})^2}$$\n",
    "where $n$ is the number of samples, and $\\bar{x}$ is the sample mean.\n",
    "\n",
    "Notice one divides by the number of points and other by one subtracted from the number of points.  I don’t want to get into the reason for this now, but unfortunately, Numpu and Pandas default to a different divisor.  The default behavior of both Pandas and Numpy can be overwritten by setting the <I>ddof</I> option.  Setting it to zero gives a divisor of $N$.  Setting it to one gives $N-1$, etc.  We will use $ddof=1$."
   ]
  },
  {
   "cell_type": "markdown",
   "id": "4e837f5a",
   "metadata": {},
   "source": [
    "#  Pandas\n",
    "\n",
    "The std function in Pandas sets ddof to one by defaul."
   ]
  },
  {
   "cell_type": "code",
   "execution_count": 36,
   "id": "843c2c9d",
   "metadata": {},
   "outputs": [
    {
     "name": "stdout",
     "output_type": "stream",
     "text": [
      "20      0.006299\n",
      "21      0.006525\n",
      "22      0.006515\n",
      "23      0.006465\n",
      "24      0.006674\n",
      "          ...   \n",
      "1253    0.007308\n",
      "1254    0.007318\n",
      "1255    0.007272\n",
      "1256    0.007342\n",
      "1257    0.007588\n",
      "Name: PCT, Length: 1238, dtype: float64\n"
     ]
    }
   ],
   "source": [
    "#  Import SPY data as a pandas data frame\n",
    "SPY = pd.read_csv('SPY.csv')\n",
    "\n",
    "#  Calculate the percent change of the price\n",
    "SPY['PCT'] = SPY['Adj Close'].pct_change()\n",
    "\n",
    "#  Remove the first value which is NaN\n",
    "SPY_pct = SPY['PCT'].iloc[1:]\n",
    "\n",
    "#  Calculate the volatility using the rolling function of pandas\n",
    "#  ddof defaults to a value of 1 for pandas so we don't technically need it\n",
    "vol_pandas = SPY_pct.rolling(20).std(ddof = 1).dropna()\n",
    "\n",
    "#  Print the results\n",
    "print(vol_pandas)"
   ]
  },
  {
   "cell_type": "markdown",
   "id": "f1b4cf31",
   "metadata": {},
   "source": [
    "#  Numpy\n",
    "\n",
    "By default, Numpy's std function sets ddof to zero."
   ]
  },
  {
   "cell_type": "code",
   "execution_count": 37,
   "id": "a380f38a",
   "metadata": {},
   "outputs": [
    {
     "data": {
      "text/plain": [
       "0.00629862186666375"
      ]
     },
     "execution_count": 37,
     "metadata": {},
     "output_type": "execute_result"
    }
   ],
   "source": [
    "#  Turn the pandas pct frame into a numpy array\n",
    "spy_pct = SPY_pct.to_numpy()\n",
    "\n",
    "#  Calculate the vol for the first 20 points.  We need to set ddof to one here as it defaults to zero\n",
    "np.std( spy_pct[0:20], ddof = 1)"
   ]
  },
  {
   "cell_type": "markdown",
   "id": "2ae798e1",
   "metadata": {},
   "source": [
    "We can use a loop to get the rest of the points"
   ]
  },
  {
   "cell_type": "code",
   "execution_count": 38,
   "id": "a1d0f5e7",
   "metadata": {},
   "outputs": [
    {
     "name": "stdout",
     "output_type": "stream",
     "text": [
      "[0.00629862 0.00652467 0.00651489 ... 0.00727162 0.00734156 0.0075885 ]\n"
     ]
    }
   ],
   "source": [
    "period = 20\n",
    "vol_numpy = np.zeros( (spy_pct.size - period + 1, ))\n",
    "\n",
    "for i in range(spy_pct.size - period + 1):\n",
    "    vol_numpy[i] = np.std( spy_pct[i:i + period], ddof = 1)\n",
    "    \n",
    "print(vol_numpy)"
   ]
  },
  {
   "cell_type": "code",
   "execution_count": 39,
   "id": "e4d39176",
   "metadata": {},
   "outputs": [
    {
     "data": {
      "text/plain": [
       "True"
      ]
     },
     "execution_count": 39,
     "metadata": {},
     "output_type": "execute_result"
    }
   ],
   "source": [
    "#  Are both pandas and numpy methods the same?\n",
    "np.allclose(vol_pandas.to_numpy(), vol_numpy)"
   ]
  },
  {
   "cell_type": "code",
   "execution_count": null,
   "id": "04c0df74",
   "metadata": {},
   "outputs": [],
   "source": []
  }
 ],
 "metadata": {
  "kernelspec": {
   "display_name": "Python 3",
   "language": "python",
   "name": "python3"
  },
  "language_info": {
   "codemirror_mode": {
    "name": "ipython",
    "version": 3
   },
   "file_extension": ".py",
   "mimetype": "text/x-python",
   "name": "python",
   "nbconvert_exporter": "python",
   "pygments_lexer": "ipython3",
   "version": "3.7.1"
  }
 },
 "nbformat": 4,
 "nbformat_minor": 5
}
