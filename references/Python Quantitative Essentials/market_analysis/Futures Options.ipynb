{
 "cells": [
  {
   "cell_type": "code",
   "execution_count": 2,
   "id": "f36946a1",
   "metadata": {},
   "outputs": [],
   "source": [
    "import numpy as np\n",
    "from scipy.stats import norm"
   ]
  },
  {
   "cell_type": "markdown",
   "id": "b97b4834",
   "metadata": {},
   "source": [
    "##  Pricing of Equity Options\n",
    "\n",
    "The Black-Scholes price of a call or put is given respectively by,\n",
    "$$C = \\Phi(d_1) S - \\Phi(d_2) K e^{-r t},$$\n",
    "and the price of a put by,\n",
    "$$P = \\Phi(-d_2)e_{-rt} - \\Phi(-d_1)S,$$\n",
    "where\n",
    "$$d_1 = \\frac{1}{\\sigma \\sqrt{t}} \\left[ \\ln\\left(\\frac{S}{K}\\right) + \\left(r + \\frac{\\sigma.^2}{2}\\right) t\\right],$$\n",
    "and\n",
    "$$d_2 = d_1 - \\sigma \\sqrt{t}.$$\n",
    "\n",
    "$S$ = Stock Price<BR>\n",
    "$K$ = Strike Price<BR>\n",
    "$r$ = Risk-free Rate<BR>\n",
    "$t$ = Time to Expiration<BR>\n",
    "$\\sigma$ = Implied Volatility\n",
    "    \n",
    "$\\Phi$ = Cummulative Normal Distribution Function"
   ]
  },
  {
   "cell_type": "code",
   "execution_count": 3,
   "id": "12c11f09",
   "metadata": {},
   "outputs": [],
   "source": [
    "def equity_call_price(sigma, S, K, r, t):\n",
    "    d1 = np.multiply( 1. / sigma * np.divide(1., np.sqrt(t)),\n",
    "        np.log(S/K) + (r + sigma**2 / 2.) * t  )\n",
    "    d2 = d1 - sigma * np.sqrt(t)\n",
    "    \n",
    "    C = np.multiply(S, norm.cdf(d1)) - \\\n",
    "        np.multiply(norm.cdf(d2) * K, np.exp(-r * t))\n",
    "    return C\n",
    "\n",
    "def equity_put_price(sigma, S, K, r, t):\n",
    "    d1 = np.multiply( 1. / sigma * np.divide(1., np.sqrt(t)),\n",
    "        np.log(S/K) + (r + sigma**2 / 2.) * t  )\n",
    "    d2 = d1 - sigma * np.sqrt(t)\n",
    "    \n",
    "    P = -np.multiply(S, norm.cdf(-d1)) + \\\n",
    "        np.multiply(norm.cdf(-d2) * K, np.exp(-r * t))\n",
    "    return P"
   ]
  },
  {
   "cell_type": "markdown",
   "id": "a24d87df",
   "metadata": {},
   "source": [
    "<img src=\"aapl.png\" width=\"50%\">"
   ]
  },
  {
   "cell_type": "code",
   "execution_count": 5,
   "id": "8cf88159",
   "metadata": {},
   "outputs": [
    {
     "name": "stdout",
     "output_type": "stream",
     "text": [
      "3.962466453793951\n",
      "4.050000000000001\n"
     ]
    }
   ],
   "source": [
    "t = 34 / 365\n",
    "K = 160\n",
    "sigma = 0.3251\n",
    "r = 0.0038\n",
    "S = 154.73\n",
    "\n",
    "print( equity_call_price(sigma, S, K, r, t))\n",
    "\n",
    "midprice = (3.95 + 4.15) / 2\n",
    "print(midprice)"
   ]
  },
  {
   "cell_type": "markdown",
   "id": "b448bc45",
   "metadata": {},
   "source": [
    "##  Pricing of Options on Futures\n",
    "\n",
    "The price of a future, $F$ is,\n",
    "\n",
    "$$F = Se^{(r + y - q)t}$$\n",
    "\n",
    "where\n",
    "\n",
    "$S = $ spot price<br>\n",
    "$r$ = Risk-Free Rate<br>\n",
    "$y$ = Storage Cost<br>\n",
    "$q$ = dividends\n",
    "\n",
    "$$\n",
    "C = e^{-rt}\\left[F\\Phi(d_1) - K\\Phi(d_2)\\right]\n",
    "$$\n",
    "\n",
    "$$\n",
    "P = e^{-rt}\\left[K\\Phi(-d_2) - F\\Phi(-d_1)\\right]\n",
    "$$\n",
    "\n",
    "$$d_1 = \\frac{1}{\\sigma \\sqrt{t}} \\left[ \\ln\\left(\\frac{F}{K}\\right) + \\left(r + \\frac{\\sigma.^2}{2}\\right) t\\right],$$\n",
    "and\n",
    "$$d_2 = d_1 - \\sigma \\sqrt{t}.$$"
   ]
  },
  {
   "cell_type": "code",
   "execution_count": 11,
   "id": "35d9ea58",
   "metadata": {},
   "outputs": [],
   "source": [
    "def future_call_price(sigma, F, K, r, t):\n",
    "    d1 = np.multiply( 1. / sigma * np.divide(1., np.sqrt(t)),\n",
    "        np.log(F/K) + (r + sigma**2 / 2.) * t  )\n",
    "    d2 = d1 - sigma * np.sqrt(t)\n",
    "    \n",
    "    C = (F * norm.cdf(d1) - norm.cdf(d2) * K) *  np.exp(-r * t)\n",
    "    return C\n",
    "\n",
    "def future_put_price(sigma, F, K, r, t):\n",
    "    d1 = np.multiply( 1. / sigma * np.divide(1., np.sqrt(t)),\n",
    "        np.log(F/K) + (r + sigma**2 / 2.) * t  )\n",
    "    d2 = d1 - sigma * np.sqrt(t)\n",
    "    \n",
    "    P = (-F * norm.cdf(-d1) + norm.cdf(-d2) * K) * np.exp(-r * t)\n",
    "    return P"
   ]
  },
  {
   "cell_type": "markdown",
   "id": "d0adb395",
   "metadata": {},
   "source": [
    "###  Futures Contract = /GCM2\n",
    "\n",
    "<img src=\"gc1.png\" width=\"50%\">"
   ]
  },
  {
   "cell_type": "code",
   "execution_count": 17,
   "id": "f278f230",
   "metadata": {},
   "outputs": [
    {
     "name": "stdout",
     "output_type": "stream",
     "text": [
      "Model Price =  55.401289530269224\n",
      "Actual Call Midprice =  56.35\n"
     ]
    }
   ],
   "source": [
    "F = 1997.20          #  Futures Price\n",
    "K = 2010             #  Strike\n",
    "r = 0.0038           #  Risk-Free Rate\n",
    "t = 46 / 365         #  Time\n",
    "sigma = 0.2172       #  IV\n",
    "\n",
    "print( 'Model Price = ', future_call_price(sigma, F, K, r, t) )\n",
    "print('Actual Call Midprice = ', (56.00 + 56.70) / 2)"
   ]
  },
  {
   "cell_type": "markdown",
   "id": "732b7679",
   "metadata": {},
   "source": [
    "###  Futures Contract = /GCQ2\n",
    "\n",
    "<img src=\"gc2.png\" width=\"50%\">"
   ]
  },
  {
   "cell_type": "code",
   "execution_count": 18,
   "id": "7ff98eb2",
   "metadata": {},
   "outputs": [
    {
     "name": "stdout",
     "output_type": "stream",
     "text": [
      "Model Price =  87.15163553863611\n",
      "Actual Call Midprice =  89.6\n"
     ]
    }
   ],
   "source": [
    "F = 1997.20          #  Futures Price\n",
    "K = 2010             #  Strike\n",
    "r = 0.0038           #  Risk-Free Rate\n",
    "t = 108/ 365         #  Time\n",
    "sigma = 0.2152       #  IV\n",
    "\n",
    "print('Model Price = ',  future_call_price(sigma, F, K, r, t) )\n",
    "print('Actual Call Midprice = ', (89.20 + 90.00) / 2)"
   ]
  },
  {
   "cell_type": "code",
   "execution_count": null,
   "id": "0cab3a0a",
   "metadata": {},
   "outputs": [],
   "source": []
  }
 ],
 "metadata": {
  "kernelspec": {
   "display_name": "Python 3",
   "language": "python",
   "name": "python3"
  },
  "language_info": {
   "codemirror_mode": {
    "name": "ipython",
    "version": 3
   },
   "file_extension": ".py",
   "mimetype": "text/x-python",
   "name": "python",
   "nbconvert_exporter": "python",
   "pygments_lexer": "ipython3",
   "version": "3.7.1"
  }
 },
 "nbformat": 4,
 "nbformat_minor": 5
}
