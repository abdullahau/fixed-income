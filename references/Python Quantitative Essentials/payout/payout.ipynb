{
 "cells": [
  {
   "cell_type": "markdown",
   "metadata": {},
   "source": [
    "# Introduction\n",
    "From the Black-Scholes model, the price of a call is given by,\n",
    "$$C = \\Phi(d_1) S - \\Phi(d_2) K e^{-r t},$$\n",
    "and the price of a put by,\n",
    "$$P = \\Phi(-d_2)e_{-rt} - \\Phi(-d_1)S,$$\n",
    "where\n",
    "$$d_1 = \\frac{1}{\\sigma \\sqrt{t}} \\left[ \\ln\\left(\\frac{S}{K}\\right) + \\left(r + \\frac{\\sigma.^2}{2}\\right) t\\right],$$\n",
    "and\n",
    "$$d_2 = d_1 - \\sigma \\sqrt{t}.$$\n",
    "\n",
    "Since we have already written code to implement these formulas, we will use that to build the payout functions for calls, puts, and spreads."
   ]
  },
  {
   "cell_type": "code",
   "execution_count": 2,
   "metadata": {},
   "outputs": [],
   "source": [
    "#  Our usual imports\n",
    "import numpy as np\n",
    "\n",
    "import scipy\n",
    "from scipy.stats import norm\n",
    "\n",
    "import matplotlib.pyplot as plt\n",
    "%matplotlib inline"
   ]
  },
  {
   "cell_type": "code",
   "execution_count": 3,
   "metadata": {},
   "outputs": [],
   "source": [
    "#  Black-Scholes formulas for call and put prices\n",
    "def call_price(d1, d2, S, K, r, t):\n",
    "    C = np.multiply(S, norm.cdf(d1)) - \\\n",
    "        np.multiply(norm.cdf(d2) * K, np.exp(-r * t))\n",
    "    return C\n",
    "\n",
    "def put_price(d1, d2, S, K, r, t):\n",
    "    P = -np.multiply(S, norm.cdf(-d1)) + \\\n",
    "        np.multiply(norm.cdf(-d2) * K, np.exp(-r * t))\n",
    "    return P\n",
    "\n",
    "#  Utility function to calculate the d1 and d2 vcalues that are needed above\n",
    "def d(S, K, r, sigma, t):\n",
    "    d1 = np.multiply( 1. / sigma * np.divide(1., np.sqrt(t)),\n",
    "        np.log(S/K) + (r + sigma**2 / 2.) * t  )\n",
    "    d2 = d1 - sigma * np.sqrt(t)\n",
    "    return d1, d2"
   ]
  },
  {
   "cell_type": "markdown",
   "metadata": {},
   "source": [
    "## Long Call Option"
   ]
  },
  {
   "cell_type": "code",
   "execution_count": 11,
   "metadata": {},
   "outputs": [
    {
     "name": "stderr",
     "output_type": "stream",
     "text": [
      "C:\\Users\\moone\\Anaconda3\\lib\\site-packages\\ipykernel_launcher.py:14: RuntimeWarning: divide by zero encountered in true_divide\n",
      "  \n"
     ]
    },
    {
     "data": {
      "image/png": "[encoded data removed]",
      "text/plain": [
       "<Figure size 432x288 with 1 Axes>"
      ]
     },
     "metadata": {
      "needs_background": "light"
     },
     "output_type": "display_data"
    }
   ],
   "source": [
    "#  We will assume the 50 strike call\n",
    "\n",
    "#  These are needed for the Black-Schole model, but these values are unimportant as we are setting time to zero\n",
    "r = 0.01\n",
    "sigma = 0.2\n",
    "\n",
    "#  Days to expiration.  We are interested in the call's value at expiration.\n",
    "t = 0\n",
    "\n",
    "#  Strike Price\n",
    "K = 50\n",
    "\n",
    "#  We are assuming we paid a debit of this much for the call\n",
    "C0 = 1.45\n",
    "\n",
    "#  Generate a range of stock prices for plotting.  There will be issues with this is S is exactly equal to K.\n",
    "S = np.linspace(45, 55, 100)\n",
    "\n",
    "#  Calculate the call price as a function of S\n",
    "d1, d2 = d(S, K, r, sigma, t)\n",
    "C = call_price(d1, d2, S, K, r, t)\n",
    "\n",
    "#  Plot the payout graph\n",
    "plt.plot(S, C - C0, 'k')\n",
    "plt.xlabel('Stock Price ($)')\n",
    "plt.ylabel('Profit/Loss ($)')\n",
    "plt.grid(True)"
   ]
  },
  {
   "cell_type": "markdown",
   "metadata": {},
   "source": [
    "##  Long Call Spread"
   ]
  },
  {
   "cell_type": "code",
   "execution_count": 13,
   "metadata": {},
   "outputs": [
    {
     "name": "stderr",
     "output_type": "stream",
     "text": [
      "C:\\Users\\moone\\Anaconda3\\lib\\site-packages\\ipykernel_launcher.py:14: RuntimeWarning: divide by zero encountered in true_divide\n",
      "  \n"
     ]
    },
    {
     "data": {
      "text/plain": [
       "Text(0, 0.5, 'Profit/Loss ($)')"
      ]
     },
     "execution_count": 13,
     "metadata": {},
     "output_type": "execute_result"
    },
    {
     "data": {
      "image/png": "[encoded data removed]",
      "text/plain": [
       "<Figure size 432x288 with 1 Axes>"
      ]
     },
     "metadata": {
      "needs_background": "light"
     },
     "output_type": "display_data"
    }
   ],
   "source": [
    "#  Parameters needed for the model\n",
    "r = 0.01\n",
    "sigma = 0.2\n",
    "\n",
    "#  Zero DTE\n",
    "t = 0\n",
    "\n",
    "#  We are assuming we are Long the 50/52 call spread.\n",
    "#  In other words, we are long the 50 and short the 52 call.\n",
    "#  These are the strikes\n",
    "K1 = 50\n",
    "K2 = 52\n",
    "\n",
    "#  We are assuming this is the cost of the spread when we placed the position.\n",
    "C0 = 1.10\n",
    "\n",
    "#  Generate a range of stock prices\n",
    "S = np.linspace(45, 55, 100)\n",
    "\n",
    "#  Calculate the price of the 50-strike option\n",
    "d1, d2 = d(S, K1, r, sigma, t)\n",
    "C1 = call_price(d1, d2, S, K1, r, t)\n",
    "\n",
    "#  Calculate the price of the 52-strike option.\n",
    "d1, d2 = d(S, K2, r, sigma, t)\n",
    "C2 = call_price(d1, d2, S, K2, r, t)\n",
    "\n",
    "# Plot Payout\n",
    "plt.plot(S, (C1 - C2) - C0)\n",
    "plt.grid(True)\n",
    "plt.xlabel('Stock Price ($)')\n",
    "plt.ylabel('Profit/Loss ($)')"
   ]
  },
  {
   "cell_type": "markdown",
   "metadata": {},
   "source": [
    "##  Undefined Values\n",
    "This code as wirrten will have issues if the stock price is exactly equal to the stock price.  See below."
   ]
  },
  {
   "cell_type": "code",
   "execution_count": 25,
   "metadata": {},
   "outputs": [
    {
     "name": "stdout",
     "output_type": "stream",
     "text": [
      "[45 46 47 48 49 50 51 52 53 54 55]\n",
      "[ 0.  0.  0.  0.  0. nan  1.  2.  3.  4.  5.]\n",
      "[False False False False False  True False False False False False]\n",
      "(array([5], dtype=int64),)\n",
      "[nan]\n"
     ]
    },
    {
     "name": "stderr",
     "output_type": "stream",
     "text": [
      "C:\\Users\\moone\\Anaconda3\\lib\\site-packages\\ipykernel_launcher.py:14: RuntimeWarning: divide by zero encountered in true_divide\n",
      "  \n",
      "C:\\Users\\moone\\Anaconda3\\lib\\site-packages\\ipykernel_launcher.py:15: RuntimeWarning: invalid value encountered in multiply\n",
      "  from ipykernel import kernelapp as app\n"
     ]
    },
    {
     "data": {
      "image/png": "[encoded data removed]",
      "text/plain": [
       "<Figure size 432x288 with 1 Axes>"
      ]
     },
     "metadata": {
      "needs_background": "light"
     },
     "output_type": "display_data"
    },
    {
     "data": {
      "image/png": "[encoded data removed]",
      "text/plain": [
       "<Figure size 432x288 with 1 Axes>"
      ]
     },
     "metadata": {
      "needs_background": "light"
     },
     "output_type": "display_data"
    }
   ],
   "source": [
    "#  Set strike to 50 and generate a small amount of stock prices making sure 50 is included.\n",
    "K = 50\n",
    "S = np.arange(45, 56)\n",
    "\n",
    "#  Print the stock prices to be sure 50 is present.\n",
    "print(S)\n",
    "\n",
    "#  Price of the call when we purchased it.\n",
    "C0 = 1.45\n",
    "\n",
    "#  Generate call prices\n",
    "d1, d2 = d(S, K, r, sigma, t)\n",
    "C = call_price(d1, d2, S, K, r, t)\n",
    "\n",
    "#  Print call prices.  We see there is a nan at a stock price of $50\n",
    "print(C)\n",
    "\n",
    "#  We can detect this with pn.isnan\n",
    "print(np.isnan(C))\n",
    "\n",
    "#  We have to address this to generate the plots\n",
    "plt.plot(S, C - C0, 'k')\n",
    "plt.xlabel('Stock Price ($)')\n",
    "plt.ylabel('Profit/Loss ($)')\n",
    "plt.title('Plot with NaN Included')\n",
    "plt.grid(True)\n",
    "\n",
    "#  Let's fix it\n",
    "problem_children = np.isnan(C)\n",
    "index = np.where( problem_children == True )\n",
    "print(index)\n",
    "print(C[index])\n",
    "\n",
    "C[index] = 0\n",
    "#  Replot it\n",
    "plt.figure()\n",
    "plt.plot(S, C - C0, 'k')\n",
    "plt.xlabel('Stock Price ($)')\n",
    "plt.ylabel('Profit/Loss ($)')\n",
    "plt.title('Fixed Plot')\n",
    "plt.grid(True)"
   ]
  },
  {
   "cell_type": "code",
   "execution_count": null,
   "metadata": {},
   "outputs": [],
   "source": []
  }
 ],
 "metadata": {
  "kernelspec": {
   "display_name": "Python 3",
   "language": "python",
   "name": "python3"
  },
  "language_info": {
   "codemirror_mode": {
    "name": "ipython",
    "version": 3
   },
   "file_extension": ".py",
   "mimetype": "text/x-python",
   "name": "python",
   "nbconvert_exporter": "python",
   "pygments_lexer": "ipython3",
   "version": "3.7.1"
  }
 },
 "nbformat": 4,
 "nbformat_minor": 2
}
