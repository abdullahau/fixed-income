{
 "cells": [
  {
   "cell_type": "markdown",
   "metadata": {},
   "source": [
    "# Systems of Linear Equations\n",
    "A lot of numerical problems boil down to solving systems of linear equations such as,\n",
    "$$\n",
    "\\begin{array}{llll}\n",
    "x_1 & + & x_2   & &     & = 1 \\\\\n",
    "    &  & x_2 & + & x_3 & = 4 \\\\\n",
    "x_1 & + & 2x_2 & + & 3x_3 & = 6\n",
    "\\end{array}\n",
    "$$\n",
    "Obviously, this can be written as a matrix equation,\n",
    "$$\\left(\n",
    "\\begin{matrix}\n",
    "1 & 1 & 0 \\\\\n",
    "0 & 1 & 1 \\\\\n",
    "1 & 2 & 3\n",
    "\\end{matrix}\n",
    "\\right) \\left(\n",
    "\\begin{array}{c}\n",
    "x_1 \\\\\n",
    "x_2 \\\\\n",
    "x_3\n",
    "\\end{array} \\right) = \\left(\n",
    "\\begin{array}{c}\n",
    "1 \\\\\n",
    "4 \\\\\n",
    "6\n",
    "\\end{array} \\right).\n",
    "$$\n",
    "Solving for the unknowns involves finding the inverse of the squart matrix and multiplying through by it,\n",
    "$$\n",
    "\\left(\n",
    "\\begin{array}{c}\n",
    "x_1 \\\\\n",
    "x_2 \\\\\n",
    "x_3\n",
    "\\end{array}\n",
    "\\right) = \\left(\n",
    "\\begin{matrix}\n",
    "1 & 1 & 0 \\\\\n",
    "0 & 1 & 1 \\\\\n",
    "1 & 2 & 3\n",
    "\\end{matrix}\n",
    "\\right)^{-1}\n",
    "\\left(\n",
    "\\begin{array}{c}\n",
    "1 \\\\\n",
    "4 \\\\\n",
    "6\n",
    "\\end{array} \\right).\n",
    "$$"
   ]
  },
  {
   "cell_type": "code",
   "execution_count": 1,
   "metadata": {},
   "outputs": [],
   "source": [
    "import numpy as np\n",
    "import scipy.sparse\n",
    "import scipy.sparse.linalg\n",
    "\n",
    "import matplotlib.pyplot as plt\n",
    "%matplotlib inline"
   ]
  },
  {
   "cell_type": "code",
   "execution_count": 2,
   "metadata": {},
   "outputs": [
    {
     "name": "stdout",
     "output_type": "stream",
     "text": [
      "[-2.5  3.5  0.5]\n",
      "[-2.5  3.5  0.5]\n"
     ]
    }
   ],
   "source": [
    "#  Set up the square matrix above and the column vector that represents the right-hand side\n",
    "A = np.array( [ [1,1,0], [0, 1, 1], [1, 2, 3] ])\n",
    "y = np.array( [1, 4, 6] )\n",
    "#  This isn't necessary, but I like to explicitly make this a column vectory.shape = (3, 1)\n",
    "\n",
    "#  Invert the matrix and find the vector of unkowns my multiplying though\n",
    "A_inv = np.linalg.inv(A)\n",
    "x = np.matmul(A_inv, y)\n",
    "\n",
    "#  Print the results\n",
    "print(x)\n",
    "\n",
    "#  Solve the same problem using the built-in solve command\n",
    "x = np.linalg.solve(A, y)\n",
    "print(x)"
   ]
  },
  {
   "cell_type": "markdown",
   "metadata": {},
   "source": [
    "# Sparse Matrices\n",
    "In many cases, we will encounter problems of the form  $Ax = y$ where most of the entries of $A$ are zero.  These are called sparse matrices.\n",
    "\n",
    "In another video we will look at simulating a large number of  potential stock prices.  We will use a random walk model where the stock on the $i+1$ day can be calculated from its price on the $i$th day.  The equation is,\n",
    "$$ \\frac{S_{i+1} - S_i}{S_i} = r\\Delta t + \\sqrt{\\Delta t}\\sigma \\epsilon_i. $$\n",
    "Here, $\\Delta t$ is the time increment,  $\\sigma$ is the volatility, $r$ is the risk-free rate, and $\\epsilon$ is a number sampled from the normal distribution.  For this example, we will create a vector of $\\epsilon$ using the stats package  and just treat it as a known vector.  We can rearrange the above equation and write, \n",
    "$$\n",
    "S_{i+1} = S_i \\left(r\\Delta t + \\sqrt{\\Delta t}\\sigma \\epsilon_i\\right) + S_i.\n",
    "$$\n",
    "Just to keep the notation a bit cleaner, we will write,\n",
    "$$r\\Delta t + \\sqrt{\\Delta t}\\sigma \\epsilon_i = \\Lambda_i.$$\n",
    "\n",
    "If we write out all of our stock prices explicitly, we get,\n",
    "\n",
    "$$\\begin{array}{lcl}S_0                     & = & S_0 \\\\S_1 - S_0 \\Lambda_1 - S_0 & = &  0\\\\\\S_2 - S_1 \\Lambda_2 - S_1 & = & 0 \\\\S_3 - S_2 \\Lambda_3 - S_2 & = & 0 \\\\& \\vdots & \\\\S_i - _{i-} \\Lambda_i - S_{i-1} & = & 0 .\\\\\\end{array}$$\n",
    "\n",
    "This is a system of linear equations and can be cast in matrix form as,\n",
    "\n",
    "$$ \\left( \\begin{matrix} 1 & 0 & 0 & 0 & \\cdots & 0 \\\\ \\Lambda_1 + 1 & -1 & 0 & 0 & \\cdots & 0 \\\\ 0 & \\Lambda_2 + 1 & -1 & 0 & \\cdots & 0 \\\\ 0 & 0 & \\Lambda_3 + 1 & -1 & \\cdots & 0  \\\\ \\vdots & \\vdots & \\vdots & \\vdots & \\ddots & \\vdots \\\\ 0 & 0 & 0 & 0 & \\Lambda_5 + 1 & -1 \\end{matrix} \\right) \\left( \\begin{array}{c} S_0 \\\\ S_1 \\\\ S_2 \\\\ S_3 \\\\ \\vdots \\\\ S_i \\\\ \\end{array} \\right) = \\left( \\begin{array}{c} S_0 \\\\ 0 \\\\ 0 \\\\ 0 \\\\ \\vdots \\\\ 0 \\\\ \\end{array} \\right). \\label{simple_matrix} $$\n",
    "\n",
    "Notice most of the entries of the square matrix are zero."
   ]
  },
  {
   "cell_type": "code",
   "execution_count": 3,
   "metadata": {},
   "outputs": [],
   "source": [
    "#  Since we are using this as an example only, set a constant random seed.  This is also useful for debugging code with random numbers involved.\n",
    "np.random.seed(0)\n",
    "\n",
    "#  Define:\n",
    "#  Initial stock price\n",
    "#  Numer of days\n",
    "#  Risk-free rate\n",
    "#  Volatility\n",
    "S0 = 100.0\n",
    "N_days = 30\n",
    "r = 0.01\n",
    "sigma = 0.30\n",
    "\n",
    "#  Scale interest rates and volatility.  Define time-step.\n",
    "r = r / 252.\n",
    "dt = 1.0\n",
    "sigma = sigma / np.sqrt(252.0)"
   ]
  },
  {
   "cell_type": "code",
   "execution_count": 4,
   "metadata": {},
   "outputs": [],
   "source": [
    "#  Create a vector of random numbers\n",
    "epsilon = np.random.normal( size = (N_days) )\n",
    "\n",
    "#  Calculate the daily percent change in stock price\n",
    "Lambda = r * dt + sigma * np.sqrt(dt) * epsilon"
   ]
  },
  {
   "cell_type": "code",
   "execution_count": 5,
   "metadata": {},
   "outputs": [
    {
     "name": "stdout",
     "output_type": "stream",
     "text": [
      "[100.         103.33771383 104.12328124 106.05331994 110.54876994\n",
      " 114.45481297 112.34550995 114.36712987 114.04453453 113.8265988\n",
      " 114.71436259 115.03118647 118.19717469 119.90180769 120.18227291\n",
      " 121.19515819 121.96420626 125.4127592  124.93149473 125.67559995\n",
      " 123.65207075 117.69113952 119.14955788 121.10074998 119.40704483\n",
      " 124.53366845 121.11581137 121.22535302 120.80133587 124.30535824\n",
      " 127.76203582]\n"
     ]
    },
    {
     "data": {
      "text/plain": [
       "[<matplotlib.lines.Line2D at 0x23e7ffcd630>]"
      ]
     },
     "execution_count": 5,
     "metadata": {},
     "output_type": "execute_result"
    },
    {
     "data": {
      "image/png": "[encoded data removed]",
      "text/plain": [
       "<Figure size 432x288 with 1 Axes>"
      ]
     },
     "metadata": {
      "needs_background": "light"
     },
     "output_type": "display_data"
    }
   ],
   "source": [
    "#  Create the vector that will be the main diagonal\n",
    "ones = -np.ones( (N_days + 1) ); ones[0] = 1\n",
    "\n",
    "#  Create our diagonal vectors.  The first element will be the diagonal below the main, and the second will be the main.\n",
    "d = [ Lambda + 1, ones]\n",
    "\n",
    "#  Set up the offset vector that defines the positions we describe above.\n",
    "K = [-1, 0]\n",
    "\n",
    "#  Create our sparse matrix\n",
    "M = scipy.sparse.diags(d, K, format = 'csc')\n",
    "\n",
    "#  Define our vector of knowns.  This is the right-hand side of the matrix equation above\n",
    "p = np.zeros( (N_days + 1, 1) )\n",
    "p[0] = S0\n",
    "\n",
    "#  Solve the problem and print the results\n",
    "s = scipy.sparse.linalg.spsolve(M, p)\n",
    "print(s )\n",
    "\n",
    "#  Plot the results\n",
    "t = np.arange(0, N_days + 1)\n",
    "plt.plot(t, s)\n",
    "#plt.spy(M)\n"
   ]
  },
  {
   "cell_type": "code",
   "execution_count": null,
   "metadata": {},
   "outputs": [],
   "source": []
  }
 ],
 "metadata": {
  "kernelspec": {
   "display_name": "Python 3",
   "language": "python",
   "name": "python3"
  },
  "language_info": {
   "codemirror_mode": {
    "name": "ipython",
    "version": 3
   },
   "file_extension": ".py",
   "mimetype": "text/x-python",
   "name": "python",
   "nbconvert_exporter": "python",
   "pygments_lexer": "ipython3",
   "version": "3.7.1"
  }
 },
 "nbformat": 4,
 "nbformat_minor": 2
}
