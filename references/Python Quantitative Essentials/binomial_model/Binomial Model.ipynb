{
 "cells": [
  {
   "cell_type": "code",
   "execution_count": 18,
   "metadata": {},
   "outputs": [],
   "source": [
    "import numpy as np\n",
    "import matplotlib.pyplot as plt\n",
    "from scipy.sparse import csc_matrix\n",
    "from scipy.stats import bernoulli\n",
    "from scipy.optimize import fsolve\n",
    "from scipy.stats import norm\n",
    "\n",
    "%matplotlib inline"
   ]
  },
  {
   "cell_type": "markdown",
   "metadata": {},
   "source": [
    "<img src=\"tex/tree1.png\">\n",
    "\n",
    "First, we assume a stock moves up a factor of $u$ or down a factor $d$ with a probability of $p$ or $(1-p)$, respectively.  At expiration, we know the price of the option.  It is either 0 if out-of-the-money, or its intrinsic value if in-the-money.\n",
    "\n",
    "The price at the preceding node is then give by, \n",
    "$$C = e^{-rt}(pC_u + (1-p)C_d)$$\n",
    "\n",
    "If the tree has multiple layers as shown below, we can then repeat the above process to entirely fill out the tree."
   ]
  },
  {
   "cell_type": "code",
   "execution_count": 19,
   "metadata": {},
   "outputs": [
    {
     "name": "stdout",
     "output_type": "stream",
     "text": [
      "1.485074750623752\n"
     ]
    }
   ],
   "source": [
    "#  Manual process for simple two-step tree\n",
    "\n",
    "#  Our initial stock price\n",
    "S0 = 100\n",
    "\n",
    "#  Time to expiration in years\n",
    "t = 1\n",
    "\n",
    "#  Assumed up and down percentages\n",
    "u = 1.05\n",
    "d = 1/u\n",
    "\n",
    "#  Probability of an up move\n",
    "p = 0.6\n",
    "\n",
    "#  Stock price at expiration\n",
    "S_u = u * S0\n",
    "S_d = d * S0\n",
    "\n",
    "#  Option strike price and risk-free rate\n",
    "K = 102.5\n",
    "r = 0.01\n",
    "\n",
    "#  Call price at up node\n",
    "C_u = S_u - K\n",
    "\n",
    "#  Call price at down node\n",
    "C_d = 0\n",
    "\n",
    "#Print out the stock prices at expiration\n",
    "#print(S_u, S_d)\n",
    "\n",
    "#  Calculate and print the call price at t = 0\n",
    "C = np.exp(-r * t) * ( p*C_u + (1-p)*C_d)\n",
    "print(C)"
   ]
  },
  {
   "cell_type": "markdown",
   "metadata": {},
   "source": [
    "A multi-level tree might look like:\n",
    "<img src=\"tex/tree2.png\">"
   ]
  },
  {
   "cell_type": "code",
   "execution_count": 20,
   "metadata": {},
   "outputs": [
    {
     "name": "stdout",
     "output_type": "stream",
     "text": [
      "15.28912682401203\n"
     ]
    }
   ],
   "source": [
    "#  Define the number of layers\n",
    "N = 50\n",
    "\n",
    "#  Time to expiration, the we rescale it to time per layer step\n",
    "t = 1\n",
    "t = t / (N - 1)\n",
    "\n",
    "#  Iniital stock price, strike price, and risk-free rate\n",
    "S0 = 100\n",
    "K = 102.5\n",
    "r = 0.01\n",
    "\n",
    "#  Assume a volatility and calculate the size of an up move, down move, and probability\n",
    "sigma = 0.4\n",
    "u = np.exp(sigma * np.sqrt(t))\n",
    "d = 1/u\n",
    "p = (np.exp(r * t) - d) / (u - d)\n",
    "\n",
    "#  Create some empty matrices to hold our stock and call prices.\n",
    "stock_prices = np.zeros( (N, N) )\n",
    "call_prices = np.zeros( (N, N) )\n",
    "\n",
    "#  Put our initial price in the matrix\n",
    "stock_prices[0,0] = S0\n",
    "\n",
    "#  Fill out the remaining values\n",
    "for i in range(1, N ):\n",
    "    M = i + 1\n",
    "    stock_prices[i, 0] = d * stock_prices[i-1, 0]\n",
    "    for j in range(1, M ):\n",
    "        stock_prices[i, j] = u * stock_prices[i - 1, j - 1]\n",
    " \n",
    "#  Calculate the call price at expiration.  if the call price is less than zero, it is out-of-the-money so we replace those values with zero.\n",
    "expiration = stock_prices[-1,:] - K\n",
    "expiration.shape = (expiration.size, )\n",
    "expiration = np.where(expiration >= 0, expiration, 0)\n",
    "\n",
    "#  Set the last row of the call matrix to our expiration values\n",
    "call_prices[-1,:] =  expiration\n",
    "\n",
    "#  Backpropagate to filll out our tree\n",
    "for i in range(N - 2,-1,-1):\n",
    "    for j in range(i + 1):\n",
    "        call_prices[i,j] = np.exp(-r * t) * ((1-p) * call_prices[i+1,j] + p * call_prices[i+1,j+1])\n",
    "\n",
    "#plt.spy(call_prices)\n",
    "print(call_prices[0,0])"
   ]
  },
  {
   "cell_type": "markdown",
   "metadata": {},
   "source": [
    "##  Implied Volatility Calculation\n",
    "\n",
    "Recall that we want to solve the model for $\\sigma$.  In other words, this is a root finding problem as we’ve discussed in the past.  We are solving a problem of the form,\n",
    "$$f(\\sigma) = 0.$$\n",
    "\n",
    "Specifically, the function $F$ is,\n",
    "$$\\mbox{Binomial}(\\sigma) - \\mbox{Actual Option Price} = 0$$\n",
    "\n",
    "We can cast the above equation as a Python function and solve it via Scipu's <i>fsolve</i> function.\n",
    "\n",
    "First, let's wrap the above model calculation in a function for ease of use.  Then we'll code up the objective function to be passed to fsolve."
   ]
  },
  {
   "cell_type": "code",
   "execution_count": 21,
   "metadata": {},
   "outputs": [],
   "source": [
    "def binomial(sigma, S, K, r, t, N, option_type = 'C'):\n",
    "    \n",
    "    t = 1; t = t / (N-1)\n",
    "\n",
    "    S0 = S\n",
    "\n",
    "    u =  np.exp(sigma * np.sqrt(t))\n",
    "    d = 1/u\n",
    "    p = (np.exp(r * t) - d) / (u - d)\n",
    "    \n",
    "    stock_prices  = np.zeros( (N, N) )\n",
    "    option_prices = np.zeros( (N, N) )\n",
    "\n",
    "    stock_prices[0, 0] = S0\n",
    "    \n",
    "    #  Fill out the remaining values\n",
    "    for i in range(1, N ):\n",
    "        M = i + 1\n",
    "        stock_prices[i, 0] = d * stock_prices[i-1, 0]\n",
    "        for j in range(1, M ):\n",
    "            stock_prices[i, j] = u * stock_prices[i - 1, j - 1]\n",
    " \n",
    "    #  Calculate the option price at expiration.  if the call price is less than zero, it is out-of-the-money so we replace those values with zero.\n",
    "    if option_type == 'C':\n",
    "        expiration = stock_prices[-1,:] - K\n",
    "    else:\n",
    "        expiration = K - stock_prices[-1,:]\n",
    "        \n",
    "    expiration.shape = (expiration.size, )\n",
    "    expiration = np.where(expiration >= 0, expiration, 0)\n",
    "\n",
    "    #  Set the last row of the call matrix to our expiration values\n",
    "    option_prices[-1,:] =  expiration\n",
    "\n",
    "    #  Backpropagate to filll out our tree\n",
    "    for i in range(N - 2,-1,-1):\n",
    "        for j in range(i + 1):\n",
    "            option_prices[i,j] = np.exp(-r * t) * ((1-p) * option_prices[i+1,j] + p * option_prices[i+1,j+1])\n",
    "\n",
    "    return option_prices[0,0]\n",
    "\n",
    "#  This is out objective function\n",
    "def objective(sigma, S, K, r, t, N, C0):\n",
    "    res = binomial(sigma, S, K, r, t, N) - C0\n",
    "    return res"
   ]
  },
  {
   "cell_type": "code",
   "execution_count": 22,
   "metadata": {},
   "outputs": [
    {
     "data": {
      "text/plain": [
       "array([0.40027884])"
      ]
     },
     "execution_count": 22,
     "metadata": {},
     "output_type": "execute_result"
    }
   ],
   "source": [
    "#  Parameters from above.\n",
    "N = 5\n",
    "t = 1\n",
    "S0 = 100\n",
    "K = 102.5\n",
    "r = 0.01\n",
    "\n",
    "#  We'll use the option price calculated above\n",
    "C0 = 14.72\n",
    "\n",
    "#  Wrap the addition arguments in a tuple\n",
    "args = (S0, K, r, t, N, C0)\n",
    "\n",
    "#  Solve the problem via fsolve\n",
    "fsolve(objective, 0.25, args = args)"
   ]
  },
  {
   "cell_type": "markdown",
   "metadata": {},
   "source": [
    "## Comparison with Black-Scholes\n",
    "\n",
    "We pull in the Black-Scholes model from a previous video and calculate the option price based on a 40% IV.\n",
    "\n",
    "The discrepancy in the option price from Black-Schole compared to the binomial model is the number of nodes used.  If we increase the number of nodes, the two models agree."
   ]
  },
  {
   "cell_type": "code",
   "execution_count": 23,
   "metadata": {},
   "outputs": [],
   "source": [
    "def call_price(sigma, S, K, r, t):\n",
    "    d1 = np.multiply( 1. / sigma * np.divide(1., np.sqrt(t)),\n",
    "        np.log(S/K) + (r + sigma**2 / 2.) * t  )\n",
    "    d2 = d1 - sigma * np.sqrt(t)\n",
    "    \n",
    "    C = np.multiply(S, norm.cdf(d1)) - \\\n",
    "        np.multiply(norm.cdf(d2) * K, np.exp(-r * t))\n",
    "    return C\n",
    "\n",
    "def put_price(sigma, S, K, r, t):\n",
    "    d1 = np.multiply( 1. / sigma * np.divide(1., np.sqrt(t)),\n",
    "        np.log(S/K) + (r + sigma**2 / 2.) * t  )\n",
    "    d2 = d1 - sigma * np.sqrt(t)\n",
    "    \n",
    "    P = -np.multiply(S, norm.cdf(-d1)) + \\\n",
    "        np.multiply(norm.cdf(-d2) * K, np.exp(-r * t))\n",
    "    return P"
   ]
  },
  {
   "cell_type": "code",
   "execution_count": 24,
   "metadata": {},
   "outputs": [
    {
     "data": {
      "text/plain": [
       "15.239829429316998"
      ]
     },
     "execution_count": 24,
     "metadata": {},
     "output_type": "execute_result"
    }
   ],
   "source": [
    "#  Calculate the call price\n",
    "call_price(0.40, S0, K, r, t)"
   ]
  },
  {
   "cell_type": "code",
   "execution_count": null,
   "metadata": {},
   "outputs": [],
   "source": []
  }
 ],
 "metadata": {
  "kernelspec": {
   "display_name": "Python 3",
   "language": "python",
   "name": "python3"
  },
  "language_info": {
   "codemirror_mode": {
    "name": "ipython",
    "version": 3
   },
   "file_extension": ".py",
   "mimetype": "text/x-python",
   "name": "python",
   "nbconvert_exporter": "python",
   "pygments_lexer": "ipython3",
   "version": "3.7.1"
  }
 },
 "nbformat": 4,
 "nbformat_minor": 4
}
