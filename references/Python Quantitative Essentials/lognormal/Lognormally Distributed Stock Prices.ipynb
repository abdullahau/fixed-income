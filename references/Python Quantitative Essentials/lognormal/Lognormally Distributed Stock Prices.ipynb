{
 "cells": [
  {
   "cell_type": "code",
   "execution_count": 1,
   "metadata": {},
   "outputs": [],
   "source": [
    "import numpy as np\n",
    "from scipy.sparse import diags, linalg\n",
    "import matplotlib.pyplot as plt\n",
    "from scipy.linalg import solve_banded\n",
    "from time import time\n",
    "from scipy.stats import norm, lognorm\n",
    "\n",
    "%matplotlib inline"
   ]
  },
  {
   "cell_type": "markdown",
   "metadata": {},
   "source": [
    "### Notation\n",
    "\n",
    "$S_0 = \\mbox{Initial Stock Price}$<br>\n",
    "$S = \\mbox{Stock Price}$<br>\n",
    "$\\sigma = \\mbox{Implied Volatility}$<br>\n",
    "$r = \\mbox{Risk-free Rate}$<br>\n",
    "$t = \\mbox{Time}$<br>\n",
    "\n",
    "We will use our Monte Carlo code to generate a large number of simulated stock runs.  We will then look at distribution of prices on the last siimulated day using a istrogram.  Does this histogram agree with the assumption of log normally distributed prices?  In other words does to fit with the notion that\n",
    "\n",
    "$$f(S) = \\frac{1}{S \\sigma \\sqrt{2\\pi t}} e^{ \\frac{-\\left(\\ln(S) - \\ln(S_0) - \\left[r - \\frac{\\sigma^2}{2}\\right]y \\right)^2}{2 \\sigma^2 t}}  $$\n",
    "\n",
    "Below is our Monte Carlo code to model stock price action.  We will simulate a large number of stock runs, then copare how well the final distribution is reflected by the lognormal."
   ]
  },
  {
   "cell_type": "code",
   "execution_count": 2,
   "metadata": {},
   "outputs": [],
   "source": [
    "#  Reset the random seed\n",
    "np.random.seed(2)\n",
    "\n",
    "#  Numer of simulations\n",
    "N_sims = 100000\n",
    "\n",
    "#  Stock information\n",
    "S0 = 100.0\n",
    "r = 0.01 / 252\n",
    "dt = 1.0\n",
    "sigma = 0.75 / np.sqrt(252)\n",
    "\n",
    "#  Number of days per simulation\n",
    "N_days = 30\n",
    "\n",
    "#  Create an arraoy of random numbers, then delete the first element\n",
    "epsilon = np.random.normal(  size = (N_sims * N_days + N_sims) )\n",
    "epsilon = np.delete(epsilon, 0)\n",
    "\n",
    "#  Create our Lambda \n",
    "Lambda = r * dt + sigma * np.sqrt(dt) * epsilon\n",
    "Lambda[N_days:N_days * N_sims + N_sims:N_days+1] = -1\n",
    "\n",
    "ones = -np.ones((N_sims * N_days + N_sims))\n",
    "ones[0:-1:N_days+1] = 1\n",
    "\n",
    "M = diags( [Lambda + 1, ones], [-1, 0], format = 'csc')\n",
    "\n",
    "Y = np.zeros( (N_sims * N_days + N_sims) )\n",
    "Y[0:-1:N_days + 1] = S0\n",
    "\n",
    "X = linalg.spsolve(M, Y)\n",
    "\n",
    "X = np.reshape(X, (N_sims, N_days+1))\n",
    "\n",
    "\n",
    "#rows, cols = X.shape\n",
    "#if rows <= 11:\n",
    "#    for i in range(N_sims):\n",
    "#        plt.plot(X[i,:])\n",
    "#\n",
    "#    print(X.shape)\n",
    "#    plt.grid(True)\n",
    "#    plt.xlabel('Day')\n",
    "#    plt.ylabel('Stock Price')"
   ]
  },
  {
   "cell_type": "markdown",
   "metadata": {},
   "source": [
    "There are built-in functions in Scipy to deal with the desnity and cummulative distributions, but we can code it by hand to make sure we understand the inputs."
   ]
  },
  {
   "cell_type": "code",
   "execution_count": 3,
   "metadata": {},
   "outputs": [],
   "source": [
    "def lognormal(x, sigmga, r, t, S0 = 100):\n",
    "    exp_num = -(np.log(x) - np.log(S0) - (r - sigma**2 / 2) * t)**2\n",
    "    exp_dem = 2 * sigma**2 * t\n",
    "    \n",
    "    exp_term = np.exp(exp_num / exp_dem)\n",
    "    prefactor = 1 / (x * sigma * np.sqrt(2 * np.pi * t))\n",
    "    \n",
    "    return np.multiply(prefactor, exp_term)"
   ]
  },
  {
   "cell_type": "code",
   "execution_count": 4,
   "metadata": {},
   "outputs": [
    {
     "data": {
      "text/plain": [
       "Text(0, 0.5, 'Density Function')"
      ]
     },
     "execution_count": 4,
     "metadata": {},
     "output_type": "execute_result"
    },
    {
     "data": {
      "image/png": "[encoded data removed]",
      "text/plain": [
       "<Figure size 432x288 with 1 Axes>"
      ]
     },
     "metadata": {
      "needs_background": "light"
     },
     "output_type": "display_data"
    }
   ],
   "source": [
    "#  Get our prices from the Monte Carlo simulation.  We need all rows of the last column.  These are the prices for all runs on the final day of the simulation.\n",
    "prices = X[:, -1]\n",
    "\n",
    "#  Parameters.  Time, risk-free rate, and volatility\n",
    "t = 30 / 252\n",
    "r = 0.01\n",
    "sigma = 0.75\n",
    "\n",
    "#  Generate a range of prices to plot our function\n",
    "x = np.linspace(100, 150, 100)\n",
    "#x = np.linspace(40, 200, 100)\n",
    "f = lognormal(x, sigma, r, t, S0 = 100)\n",
    "\n",
    "#  Plot a histrogram of our Monte Carlo prices\n",
    "N, bins, pachtes = plt.hist(prices, bins = 100, ec = 'k', density = True, alpha = 0.5)\n",
    "\n",
    "#  Overlay our lognormal\n",
    "plt.plot(x, f, 'k')\n",
    "plt.grid(True)\n",
    "plt.xlabel('Stock Price')\n",
    "plt.ylabel('Density Function')"
   ]
  },
  {
   "cell_type": "code",
   "execution_count": 5,
   "metadata": {},
   "outputs": [
    {
     "name": "stdout",
     "output_type": "stream",
     "text": [
      "0.40499225430003954\n",
      "0.40499005936311505\n"
     ]
    }
   ],
   "source": [
    "#  What is the probability of being in the range defined above?  First we will use trapz\n",
    "prob_trapz = np.trapz(f, x); print(prob_trapz)\n",
    "\n",
    "#  Calculate the mean and std to use in  in the Scipy cdf\n",
    "std = sigma * np.sqrt(t)\n",
    "mean = np.log(S0) + (r - sigma**2 / 2) * t\n",
    "\n",
    "#  The probability is the difference between the cummulative distribution evaluated at our points of interest\n",
    "p1 = lognorm.cdf(x[0], std, loc = 0, scale = np.exp(mean))\n",
    "p2 = lognorm.cdf(x[-1], std, loc = 0, scale = np.exp(mean))\n",
    "print(p2 - p1)"
   ]
  },
  {
   "cell_type": "code",
   "execution_count": null,
   "metadata": {},
   "outputs": [],
   "source": []
  }
 ],
 "metadata": {
  "kernelspec": {
   "display_name": "Python 3",
   "language": "python",
   "name": "python3"
  },
  "language_info": {
   "codemirror_mode": {
    "name": "ipython",
    "version": 3
   },
   "file_extension": ".py",
   "mimetype": "text/x-python",
   "name": "python",
   "nbconvert_exporter": "python",
   "pygments_lexer": "ipython3",
   "version": "3.7.1"
  }
 },
 "nbformat": 4,
 "nbformat_minor": 2
}
