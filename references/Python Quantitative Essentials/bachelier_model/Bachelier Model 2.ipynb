{
 "cells": [
  {
   "cell_type": "code",
   "execution_count": 2,
   "metadata": {},
   "outputs": [],
   "source": [
    "from sympy import Symbol, diff, erf, sqrt, init_printing, ln, exp, pi\n",
    "from sympy.plotting import plot\n",
    "\n",
    "\n",
    "from IPython.display import display\n",
    "\n",
    "init_printing()\n",
    "%matplotlib inline"
   ]
  },
  {
   "cell_type": "markdown",
   "metadata": {},
   "source": [
    "## Bachelier Model\n",
    "\n",
    "$$\n",
    "C = e^{-rt} \\left(Se^{rt}-K\\right)\n",
    "\\Phi\\left( \\frac{Se^{rt}-K}{ \\sqrt{\\frac{\\sigma^2}{2r}(e^{2rt} - 1)}} \\right) + \n",
    "e^{-rt}\\sqrt{\\frac{\\sigma^2}{2r}(e^{2rt} - 1)}\n",
    "\\phi\\left(  \\frac{Se^{rt}-K}{ \\sqrt{\\frac{\\sigma^2}{2r}(e^{2rt} - 1)}} \\right)\n",
    "$$\n",
    "\n",
    "Let's write this in a Python function."
   ]
  },
  {
   "cell_type": "code",
   "execution_count": 3,
   "metadata": {},
   "outputs": [],
   "source": [
    "S = Symbol('S', real = True)\n",
    "K = Symbol('K', real = True)\n",
    "r = Symbol('r', real = True)\n",
    "t = Symbol('t', real = True)\n",
    "sigma = Symbol('sigma', real = True)"
   ]
  },
  {
   "cell_type": "markdown",
   "metadata": {},
   "source": [
    "The $d$ variable is the argument of the distribution functions.  I also explicity write our the normal cumulative distribution and density functions."
   ]
  },
  {
   "cell_type": "code",
   "execution_count": 4,
   "metadata": {},
   "outputs": [],
   "source": [
    "d = (S * exp(r*t) - K) / sqrt(sigma**2/(2*r) * (exp(2*r*t)-1) )\n",
    "\n",
    "CDF = 0.5 * (1 + erf(d/sqrt(2)) )\n",
    "PDF = 1/sqrt(2*pi) * exp(-0.5 * d**2)"
   ]
  },
  {
   "cell_type": "markdown",
   "metadata": {},
   "source": [
    "Write out the expression for the call."
   ]
  },
  {
   "cell_type": "code",
   "execution_count": 5,
   "metadata": {},
   "outputs": [
    {
     "data": {
      "image/png": "[encoded data removed]",
      "text/latex": [
       "$\\displaystyle \\frac{\\sqrt{\\frac{e^{2 r t} - 1}{r}} e^{- r t} e^{- \\frac{1.0 r \\left(- K + S e^{r t}\\right)^{2}}{\\sigma^{2} \\left(e^{2 r t} - 1\\right)}} \\left|{\\sigma}\\right|}{2 \\sqrt{\\pi}} + \\left(- K + S e^{r t}\\right) \\left(0.5 \\operatorname{erf}{\\left(\\frac{- K + S e^{r t}}{\\sqrt{\\frac{e^{2 r t} - 1}{r}} \\left|{\\sigma}\\right|} \\right)} + 0.5\\right) e^{- r t}$"
      ],
      "text/plain": [
       "                                             2                                \n",
       "                                ⎛        r⋅t⎞                                 \n",
       "                         -1.0⋅r⋅⎝-K + S⋅ℯ   ⎠                                 \n",
       "     ____________        ──────────────────────                               \n",
       "    ╱  2⋅r⋅t                 2 ⎛ 2⋅r⋅t    ⎞                                   \n",
       "   ╱  ℯ      - 1   -r⋅t     σ ⋅⎝ℯ      - 1⎠                                   \n",
       "  ╱   ────────── ⋅ℯ    ⋅ℯ                      ⋅│σ│                 ⎛       ⎛ \n",
       "╲╱        r                                           ⎛        r⋅t⎞ ⎜       ⎜ \n",
       "─────────────────────────────────────────────────── + ⎝-K + S⋅ℯ   ⎠⋅⎜0.5⋅erf⎜─\n",
       "                        2⋅√π                                        ⎜       ⎜ \n",
       "                                                                    ⎜       ⎜ \n",
       "                                                                    ⎜       ⎜ \n",
       "                                                                    ⎜       ⎜ \n",
       "                                                                    ⎝       ⎝╲\n",
       "\n",
       "                                  \n",
       "                                  \n",
       "                                  \n",
       "                                  \n",
       "                                  \n",
       "                                  \n",
       "            r⋅t     ⎞      ⎞      \n",
       "    -K + S⋅ℯ        ⎟      ⎟  -r⋅t\n",
       "────────────────────⎟ + 0.5⎟⋅ℯ    \n",
       "    ____________    ⎟      ⎟      \n",
       "   ╱  2⋅r⋅t         ⎟      ⎟      \n",
       "  ╱  ℯ      - 1     ⎟      ⎟      \n",
       " ╱   ────────── ⋅│σ│⎟      ⎟      \n",
       "╱        r          ⎠      ⎠      "
      ]
     },
     "metadata": {},
     "output_type": "display_data"
    }
   ],
   "source": [
    "C = exp(-r * t) * (S * exp(r*t) - K) * CDF + exp(-r*t) * sqrt(sigma**2/(2*r) * (exp(2*r*t) - 1)) * PDF\n",
    "display(C)"
   ]
  },
  {
   "cell_type": "markdown",
   "metadata": {},
   "source": [
    "We can use our expression and evaulate it numerically.  We pass in a list of tuples.  The first element of the tuple is the variable, and the second it the value."
   ]
  },
  {
   "cell_type": "code",
   "execution_count": 6,
   "metadata": {},
   "outputs": [
    {
     "data": {
      "image/png": "[encoded data removed]",
      "text/latex": [
       "$\\displaystyle 1.51835733362159$"
      ],
      "text/plain": [
       "1.51835733362159"
      ]
     },
     "execution_count": 6,
     "metadata": {},
     "output_type": "execute_result"
    }
   ],
   "source": [
    "C.subs( [(S, 100), (K, 105), (r, 0.01), (t, 30/365), (sigma, 0.3 * 100) ] ).evalf()"
   ]
  },
  {
   "cell_type": "markdown",
   "metadata": {},
   "source": [
    "$\\Delta$ is the dderivative of the option price with respect to the underlying's price.  Sympy can do that symbolically with the diff command."
   ]
  },
  {
   "cell_type": "code",
   "execution_count": 7,
   "metadata": {},
   "outputs": [
    {
     "data": {
      "image/png": "[encoded data removed]",
      "text/latex": [
       "$\\displaystyle - \\frac{1.0 r \\sqrt{\\frac{e^{2 r t} - 1}{r}} \\left(- K + S e^{r t}\\right) e^{- \\frac{1.0 r \\left(- K + S e^{r t}\\right)^{2}}{\\sigma^{2} \\left(e^{2 r t} - 1\\right)}} \\left|{\\sigma}\\right|}{\\sqrt{\\pi} \\sigma^{2} \\left(e^{2 r t} - 1\\right)} + 0.5 \\operatorname{erf}{\\left(\\frac{- K + S e^{r t}}{\\sqrt{\\frac{e^{2 r t} - 1}{r}} \\left|{\\sigma}\\right|} \\right)} + 0.5 + \\frac{1.0 \\left(- K + S e^{r t}\\right) e^{- \\frac{r \\left(- K + S e^{r t}\\right)^{2}}{\\sigma^{2} \\left(e^{2 r t} - 1\\right)}}}{\\sqrt{\\pi} \\sqrt{\\frac{e^{2 r t} - 1}{r}} \\left|{\\sigma}\\right|}$"
      ],
      "text/plain": [
       "                                                             2                \n",
       "                                                ⎛        r⋅t⎞                 \n",
       "                                         -1.0⋅r⋅⎝-K + S⋅ℯ   ⎠                 \n",
       "             ____________                ──────────────────────               \n",
       "            ╱  2⋅r⋅t                         2 ⎛ 2⋅r⋅t    ⎞                   \n",
       "           ╱  ℯ      - 1  ⎛        r⋅t⎞     σ ⋅⎝ℯ      - 1⎠                   \n",
       "  1.0⋅r⋅  ╱   ────────── ⋅⎝-K + S⋅ℯ   ⎠⋅ℯ                      ⋅│σ│          ⎛\n",
       "        ╲╱        r                                                          ⎜\n",
       "- ───────────────────────────────────────────────────────────────── + 0.5⋅erf⎜\n",
       "                              2 ⎛ 2⋅r⋅t    ⎞                                 ⎜\n",
       "                          √π⋅σ ⋅⎝ℯ      - 1⎠                                 ⎜\n",
       "                                                                             ⎜\n",
       "                                                                             ⎜\n",
       "                                                                             ⎝\n",
       "\n",
       "                                                                    \n",
       "                                                                  2 \n",
       "                                                     ⎛        r⋅t⎞  \n",
       "                                                  -r⋅⎝-K + S⋅ℯ   ⎠  \n",
       "                                                  ──────────────────\n",
       "                                                    2 ⎛ 2⋅r⋅t    ⎞  \n",
       "             r⋅t     ⎞             ⎛        r⋅t⎞   σ ⋅⎝ℯ      - 1⎠  \n",
       "     -K + S⋅ℯ        ⎟         1.0⋅⎝-K + S⋅ℯ   ⎠⋅ℯ                  \n",
       "─────────────────────⎟ + 0.5 + ─────────────────────────────────────\n",
       "     ____________    ⎟                        ____________          \n",
       "    ╱  2⋅r⋅t         ⎟                       ╱  2⋅r⋅t               \n",
       "   ╱  ℯ      - 1     ⎟                      ╱  ℯ      - 1           \n",
       "  ╱   ────────── ⋅│σ│⎟                √π⋅  ╱   ────────── ⋅│σ│      \n",
       "╲╱        r          ⎠                   ╲╱        r                "
      ]
     },
     "metadata": {},
     "output_type": "display_data"
    }
   ],
   "source": [
    "Delta = diff(C, S)\n",
    "display(Delta)"
   ]
  },
  {
   "cell_type": "markdown",
   "metadata": {},
   "source": [
    "Of course, we can get a numerical answer for $\\Delta$ by substituting in our parameters."
   ]
  },
  {
   "cell_type": "code",
   "execution_count": 8,
   "metadata": {},
   "outputs": [
    {
     "data": {
      "image/png": "[encoded data removed]",
      "text/latex": [
       "$\\displaystyle 0.283813249572411$"
      ],
      "text/plain": [
       "0.283813249572411"
      ]
     },
     "execution_count": 8,
     "metadata": {},
     "output_type": "execute_result"
    }
   ],
   "source": [
    "Delta.subs( [(S, 100), (K, 105), (r, 0.01), (t, 30/365), (sigma, 0.3 * 100) ] ).evalf()"
   ]
  },
  {
   "cell_type": "code",
   "execution_count": null,
   "metadata": {},
   "outputs": [],
   "source": []
  }
 ],
 "metadata": {
  "kernelspec": {
   "display_name": "Python 3",
   "language": "python",
   "name": "python3"
  },
  "language_info": {
   "codemirror_mode": {
    "name": "ipython",
    "version": 3
   },
   "file_extension": ".py",
   "mimetype": "text/x-python",
   "name": "python",
   "nbconvert_exporter": "python",
   "pygments_lexer": "ipython3",
   "version": "3.7.1"
  }
 },
 "nbformat": 4,
 "nbformat_minor": 2
}
