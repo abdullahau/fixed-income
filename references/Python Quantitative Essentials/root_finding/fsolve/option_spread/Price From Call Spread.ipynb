{
 "cells": [
  {
   "cell_type": "code",
   "execution_count": 20,
   "metadata": {},
   "outputs": [],
   "source": [
    "import numpy as np\n",
    "from scipy.stats import norm\n",
    "from scipy.optimize import fsolve, minimize"
   ]
  },
  {
   "cell_type": "markdown",
   "metadata": {},
   "source": [
    "###  Black-Schole functions from previous videos"
   ]
  },
  {
   "cell_type": "code",
   "execution_count": 21,
   "metadata": {},
   "outputs": [],
   "source": [
    "def call_price(sigma, S, K, r, t):\n",
    "    d1 = np.multiply( 1. / sigma * np.divide(1., np.sqrt(t)),\n",
    "        np.log(S/K) + (r + sigma**2 / 2.) * t  )\n",
    "    d2 = d1 - sigma * np.sqrt(t)\n",
    "    \n",
    "    C = np.multiply(S, norm.cdf(d1)) - \\\n",
    "        np.multiply(norm.cdf(d2) * K, np.exp(-r * t))\n",
    "    return C\n",
    "\n",
    "def put_price(sigma, S, K, r, t):\n",
    "    d1 = np.multiply( 1. / sigma * np.divide(1., np.sqrt(t)),\n",
    "        np.log(S/K) + (r + sigma**2 / 2.) * t  )\n",
    "    d2 = d1 - sigma * np.sqrt(t)\n",
    "    \n",
    "    P = -np.multiply(S, norm.cdf(-d1)) + \\\n",
    "        np.multiply(norm.cdf(-d2) * K, np.exp(-r * t))\n",
    "    return P"
   ]
  },
  {
   "cell_type": "markdown",
   "metadata": {},
   "source": [
    "#  Scenario 1:  We know the price of both legs\n",
    "If we have the price of both legs, but not the price of the stock or the implied volatility, we can solve a system of equations based on the Black-Scholes model to estimate those values.\n",
    "\n",
    "$$C(S, \\sigma | K, r, t) = \\mbox{Black-Scholes price of a call}$$\n",
    "\n",
    "$S$ = price of the stock<br>\n",
    "$\\sigma$ = implied volatility<br>\n",
    "$K_1$  Strike price of first leg<br>\n",
    "$K_2$ = strike price of second leg<br>\n",
    "$C_1$ = Price of first leg<br>\n",
    "$C_2$ = price of second leg<br>\n",
    "$r$ = risk-free rate<br>\n",
    "$t$ = time to expiration\n",
    "\n",
    "$$\n",
    "\\begin{array}{ll}\n",
    "C(S, \\sigma | K_1, r, t) - C_1 & = 0 \\\\\n",
    "C(S, \\sigma | K_2, r, t) - C_2 & = 0\n",
    "\\end{array}\n",
    "$$\n",
    "\n",
    "We can use the function fsolve from the scipy.optimize package to solve this.\n",
    "\n",
    "Another way of solving this is to use something similar to a least squares fit.\n",
    "Consider the function\n",
    "\n",
    "$$\n",
    "J = (C(S, \\sigma | K_1, r, t) - C_1)^2 + (C(S, \\sigma | K_2, r, t) - C_2)^2\n",
    "$$\n",
    "\n",
    "\n",
    "This has the advantage we can set additional constraints for the minimize function.\n",
    "<img src=\"aapl_theta.png\" width=\"40%\">"
   ]
  },
  {
   "cell_type": "markdown",
   "metadata": {},
   "source": [
    "<i>fsolve</i> solves systems of the form \n",
    "$$f(x) = 0$$\n",
    "So we need to code our function to be equatl to zero."
   ]
  },
  {
   "cell_type": "code",
   "execution_count": 22,
   "metadata": {},
   "outputs": [
    {
     "name": "stdout",
     "output_type": "stream",
     "text": [
      "[119.2102042    0.70420356]\n"
     ]
    }
   ],
   "source": [
    "def equation_system_1(x, C_1, C_2, K_1, K_2, r, t):\n",
    "    S = x[0]\n",
    "    sigma = x[1]\n",
    "    \n",
    "    res = np.zeros(2)\n",
    "    \n",
    "    res[0] = call_price(sigma, S, K_1, r, t) - C_1\n",
    "    res[1] = call_price(sigma, S, K_2, r, t) - C_2\n",
    "    \n",
    "    return res\n",
    "\n",
    "#  Option values from the chain.  Time and interest rates\n",
    "t = 13.0 / 365.0\n",
    "r = 0.01\n",
    "\n",
    "#  Strikes\n",
    "K_1 = 130\n",
    "K_2 = 135\n",
    "\n",
    "#  Option prices\n",
    "C_1 = 2.57\n",
    "C_2 = 1.59\n",
    "\n",
    "#  Additional values to pass to our function\n",
    "args = (C_1, C_2, K_1, K_2, r, t)\n",
    "\n",
    "x = np.array([100, 1.0])\n",
    "x = fsolve(equation_system_1, x, args = args)\n",
    "print(x)"
   ]
  },
  {
   "cell_type": "markdown",
   "metadata": {},
   "source": [
    "##  Solution via Least Squares Minimization\n",
    "\n",
    "The constraint funcion assumes:\n",
    "$$f(x) \\geq C$$\n",
    "but because the function must return the residual, we code it as,\n",
    "$$f(x) - C \\geq 0.$$"
   ]
  },
  {
   "cell_type": "code",
   "execution_count": 23,
   "metadata": {},
   "outputs": [
    {
     "name": "stdout",
     "output_type": "stream",
     "text": [
      "     fun: 1.587883078763436e-08\n",
      "     jac: array([3.91922746e-05, 1.29724706e-03])\n",
      " message: 'Optimization terminated successfully.'\n",
      "    nfev: 104\n",
      "     nit: 24\n",
      "    njev: 24\n",
      "  status: 0\n",
      " success: True\n",
      "       x: array([119.20624468,   0.70434781])\n"
     ]
    }
   ],
   "source": [
    "def objective(x, C_1, C_2, K_1, K_2, r, t):\n",
    "    S = x[0]\n",
    "    sigma = x[1]\n",
    "    \n",
    "    res = np.zeros(2)\n",
    "    \n",
    "    #  Calculate the error of each leg\n",
    "    res[0] = call_price(sigma, S, K_1, r, t) - C_1\n",
    "    res[1] = call_price(sigma, S, K_2, r, t) - C_2\n",
    "    \n",
    "    #  Construct and return sum of squared errors\n",
    "    J = res[0]**2 + res[1]**2\n",
    "    \n",
    "    return J\n",
    "\n",
    "def constraint(x):\n",
    "    C = np.zeros(2)\n",
    "    \n",
    "    #  I used 0.01 rather than 0 for the stock and vol minimum value to avoid potential divide-by-zero issues\n",
    "    C[0] = x[0] - 0.01\n",
    "    C[1] = x[1] - 0.01\n",
    "    \n",
    "    return C\n",
    "\n",
    "#  Set constraint dictionary\n",
    "cons = {'type':'ineq', 'fun': constraint}\n",
    "\n",
    "#  Our initial guess of the price and vol.\n",
    "x = np.array([100, 0.3])\n",
    "\n",
    "#  Solve the optimization problem\n",
    "x = minimize(objective, x, args = args, constraints = cons)\n",
    "print(x)"
   ]
  },
  {
   "cell_type": "markdown",
   "metadata": {},
   "source": [
    "#  Scenario 2:  We know the Price of the spread of noteach leg\n",
    "Here, we will assume we know the price of the spread, but not the price of each leg.  In this case, we will have to know the volatility to come up with an answer.\n",
    "\n",
    "$$\\mbox{Spread Price} = C_1 - C_2$$\n",
    "\n",
    "So, we want to solve,\n",
    "\n",
    "$$ (C(S | \\sigma, K_1, r, t) - C(S | \\sigma, K_2, r, t)) - \\mbox{Spread Price} = 0$$"
   ]
  },
  {
   "cell_type": "code",
   "execution_count": 24,
   "metadata": {},
   "outputs": [
    {
     "name": "stdout",
     "output_type": "stream",
     "text": [
      "[119.21350149]\n"
     ]
    }
   ],
   "source": [
    "#  We need to know the vol.  We are using the values from above so we can check our ansqwer.\n",
    "sigma = 0.704\n",
    "\n",
    "#  Likewise, we are using the spread price from above for debugging purposes.  In this scenario, we would not really know the price of each leg.\n",
    "spread = C_1 - C_2\n",
    "\n",
    "def spread_system_2(x, spread,  K_1, K_2, sigma, r, t):\n",
    "    S = x\n",
    "    \n",
    "    #  Construct the equation as noted above\n",
    "    C_1 = call_price(sigma, S, K_1, r, t)\n",
    "    C_2 = call_price(sigma, S, K_2, r, t)\n",
    "    \n",
    "    return C_1 - C_2 - spread\n",
    "\n",
    "args = (spread,  K_1, K_2, sigma, r, t)\n",
    "S = fsolve(spread_system_2, 100, args = args)\n",
    "print(S)"
   ]
  },
  {
   "cell_type": "code",
   "execution_count": null,
   "metadata": {},
   "outputs": [],
   "source": []
  }
 ],
 "metadata": {
  "kernelspec": {
   "display_name": "Python 3",
   "language": "python",
   "name": "python3"
  },
  "language_info": {
   "codemirror_mode": {
    "name": "ipython",
    "version": 3
   },
   "file_extension": ".py",
   "mimetype": "text/x-python",
   "name": "python",
   "nbconvert_exporter": "python",
   "pygments_lexer": "ipython3",
   "version": "3.7.1"
  }
 },
 "nbformat": 4,
 "nbformat_minor": 2
}
