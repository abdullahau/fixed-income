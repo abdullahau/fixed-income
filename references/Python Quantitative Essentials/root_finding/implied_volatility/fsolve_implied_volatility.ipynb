{
 "cells": [
  {
   "cell_type": "code",
   "execution_count": 33,
   "metadata": {},
   "outputs": [],
   "source": [
    "#  Needed imports\n",
    "import numpy as np\n",
    "from scipy.stats import norm\n",
    "from scipy.optimize import fsolve\n",
    "import matplotlib.pyplot as plt\n",
    "\n",
    "%matplotlib inline"
   ]
  },
  {
   "cell_type": "markdown",
   "metadata": {},
   "source": [
    "# Solving the Black-Scholes model for implied volatility\n",
    "\n",
    "The price of a call option is given by,\n",
    "$$C = \\Phi(d_1) S - \\Phi(d_2) K e^{-r t},$$\n",
    "where $S$ is the stock price, $K$ is the strike price, $r$ is the annualized risk-free rate, and $t$ is the time until expiration measured in years  .\n",
    "\n",
    "$d_1$ and $d_2$ are respectively given by,\n",
    "$$d_1 = \\frac{1}{\\sigma \\sqrt{t}} \\left[ \\ln\\left(\\frac{S}{K}\\right) + \\left(r + \\frac{\\sigma.^2}{2}\\right) t\\right],$$\n",
    "and\n",
    "$$d_2 = d_1 - \\sigma \\sqrt{t}.$$\n",
    "In the above expressions, $\\sigma$ is the implied volaility.\n",
    "\n",
    "We can get the price of a Put option from put-call parity.  It is given by,\n",
    "$$P = \\Phi(-d_2)e^{-rt} - \\Phi(-d_1)S.$$\n",
    "\n",
    "If we wwish to solve for the implied volatility of a call option whose price from the option chain is $C0$, we need to solve the equation,\n",
    "$$C(\\sigma) - C0 = 0$$\n",
    "for $\\sigma$."
   ]
  },
  {
   "cell_type": "code",
   "execution_count": 34,
   "metadata": {},
   "outputs": [],
   "source": [
    "#  Define functions for the d values, the price of a call, the price of a put, and the value of vega.\n",
    "def d(sigma, S, K, r, t):\n",
    "    d1 = 1 / (sigma * np.sqrt(t)) * ( np.log(S/K) + (r + sigma**2/2) * t)\n",
    "    d2 = d1 - sigma * np.sqrt(t)\n",
    "    return d1, d2\n",
    "\n",
    "def call_price(sigma, S, K, r, t, d1, d2):\n",
    "    C = norm.cdf(d1) * S - norm.cdf(d2) * K * np.exp(-r * t)\n",
    "    return C\n",
    "\n",
    "def put_price(sigma, S, K, r, t, d1, d2):\n",
    "    P = -norm.cdf(-d1) * S + norm.cdf(-d2) * K * np.exp(-r * t)\n",
    "    return P\n",
    "\n",
    "def f(sigma, S, K, r, t, C0):\n",
    "    d1, d2 = d(sigma, S, K, r, t)\n",
    "    C = call_price(sigma, S, K, r, t, d1, d2) - C0\n",
    "    return C\n",
    "\n",
    "def vega(sigma, S, K, r, t, C0):\n",
    "    d1, d2 = d(sigma, S, K, r, t)\n",
    "    v = S * norm.pdf(d1) * np.sqrt(t)\n",
    "    return [v]"
   ]
  },
  {
   "cell_type": "code",
   "execution_count": 35,
   "metadata": {},
   "outputs": [],
   "source": [
    "#  Option parameters\n",
    "S = 100.0\n",
    "K = 105.0\n",
    "t = 30.0 / 365.0\n",
    "r = 0.01\n",
    "C0 =2.30"
   ]
  },
  {
   "cell_type": "code",
   "execution_count": 41,
   "metadata": {},
   "outputs": [
    {
     "name": "stderr",
     "output_type": "stream",
     "text": [
      "C:\\Users\\moone\\Anaconda3\\lib\\site-packages\\ipykernel_launcher.py:2: RuntimeWarning: divide by zero encountered in true_divide\n",
      "  \n"
     ]
    },
    {
     "data": {
      "image/png": "[encoded data removed]",
      "text/plain": [
       "<Figure size 432x288 with 1 Axes>"
      ]
     },
     "metadata": {
      "needs_background": "light"
     },
     "output_type": "display_data"
    }
   ],
   "source": [
    "#  Plot the function we are trying to solve\n",
    "sigma = np.linspace(0, 1)\n",
    "plt.plot(sigma, f(sigma, S, K, r, t, C0), 'b')\n",
    "\n",
    "#  Plot a horizontal line at y = 0 just to show the zero-crossing a bit more clearly.\n",
    "plt.plot([0,1], [0,0], 'k')\n",
    "\n",
    "plt.xlabel('$\\sigma$')\n",
    "plt.ylabel('function value')\n",
    "plt.grid(True)"
   ]
  },
  {
   "cell_type": "markdown",
   "metadata": {},
   "source": [
    "# Calling fsolve\n",
    "\n",
    "For details on the fsolve function see the documentation [here](https://docs.scipy.org/doc/scipy-0.14.0/reference/generated/scipy.optimize.fsolve.html).\n",
    "\n",
    "Optionally, we may pass in a second function that calculates the derivative the function we are trying to solve.  As noted, this is not necessary, as fsolve can numerically estimate the derivative, but it can lead to performance boosts since numerically calculating the derivative is expensive.\n",
    "\n",
    "Since we already have an expression for veg-- the derivative of the option price with respect to volatility--  we make use of this addition argument."
   ]
  },
  {
   "cell_type": "code",
   "execution_count": 37,
   "metadata": {},
   "outputs": [
    {
     "name": "stdout",
     "output_type": "stream",
     "text": [
      "[0.36885632]\n"
     ]
    }
   ],
   "source": [
    "#  Make a call to fsolve and print the result.\n",
    "vol = fsolve(f, 0.5, fprime = vega,  args = (S, K, r, t, C0))\n",
    "print(vol)"
   ]
  },
  {
   "cell_type": "code",
   "execution_count": null,
   "metadata": {},
   "outputs": [],
   "source": []
  }
 ],
 "metadata": {
  "kernelspec": {
   "display_name": "Python 3",
   "language": "python",
   "name": "python3"
  },
  "language_info": {
   "codemirror_mode": {
    "name": "ipython",
    "version": 3
   },
   "file_extension": ".py",
   "mimetype": "text/x-python",
   "name": "python",
   "nbconvert_exporter": "python",
   "pygments_lexer": "ipython3",
   "version": "3.7.1"
  }
 },
 "nbformat": 4,
 "nbformat_minor": 2
}
