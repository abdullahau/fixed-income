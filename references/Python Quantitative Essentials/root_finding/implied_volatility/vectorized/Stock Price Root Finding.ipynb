{
 "cells": [
  {
   "cell_type": "code",
   "execution_count": 1,
   "metadata": {},
   "outputs": [],
   "source": [
    "    import pandas as pd\n",
    "    import numpy as np\n",
    "    import matplotlib.pyplot as plt\n",
    "    from scipy.stats import norm\n",
    "    from datetime import datetime, timedelta\n",
    "\n",
    "    %matplotlib inline"
   ]
  },
  {
   "cell_type": "code",
   "execution_count": 3,
   "metadata": {},
   "outputs": [],
   "source": [
    "#  Import our Newton's method code from the vectorized implied voltility video\n",
    "def newtons_method(f, fprime, R = 0, max_iter = 1000, tol=1e-3, args = [], debug = False):\n",
    "    count = 0\n",
    "    epsilon = 1\n",
    "    f_return = []\n",
    "    fprime_return = []\n",
    "    \n",
    "    while epsilon >= tol:\n",
    "        count += 1\n",
    "        if count >= max_iter:\n",
    "            print('Exiting on runaway loop.')\n",
    "            return (R, count)\n",
    "        \n",
    "        old_R = R\n",
    "        \n",
    "        function_value = f(R, args = args)\n",
    "        function_derivative = fprime(R, args = args)\n",
    "        ind = np.where(function_derivative <= 0)\n",
    "        ind = ind[0]\n",
    "       \n",
    "        R = -function_value / function_derivative + R\n",
    "        \n",
    "        if ind.size > 0:\n",
    "            R[ ind ] = R[ ind ] * 0.5 + R[ ind ]\n",
    "            \n",
    "        if np.isscalar(R):\n",
    "            epsilon = np.abs( (R - old_R) /old_R )\n",
    "        else:\n",
    "            epsilon = np.linalg.norm( R - old_R, np.Inf)\n",
    "        \n",
    "        if debug == True:\n",
    "            f_return.append(function_value)\n",
    "            fprime_return.append(function_derivative)\n",
    "        \n",
    "    return R, count, epsilon, function_value, function_derivative, f_return, fprime_return"
   ]
  },
  {
   "cell_type": "markdown",
   "metadata": {},
   "source": [
    "##  Blach-Schole Equations\n",
    "We also need the equation for $\\Delta$ which is the derivative of the option price with respect to the stock price."
   ]
  },
  {
   "cell_type": "code",
   "execution_count": 7,
   "metadata": {},
   "outputs": [],
   "source": [
    "def call_price(sigma, S, K, r, t):\n",
    "    d1 = np.multiply( 1. / sigma * np.divide(1., np.sqrt(t)),\n",
    "        np.log(S/K) + (r + sigma**2 / 2.) * t  )\n",
    "    d2 = d1 - sigma * np.sqrt(t)\n",
    "    \n",
    "    C = np.multiply(S, norm.cdf(d1)) - \\\n",
    "        np.multiply(norm.cdf(d2) * K, np.exp(-r * t))\n",
    "    return C\n",
    "\n",
    "def put_price(sigma, S, K, r, t):\n",
    "    d1 = np.multiply( 1. / sigma * np.divide(1., np.sqrt(t)),\n",
    "        np.log(S/K) + (r + sigma**2 / 2.) * t  )\n",
    "    d2 = d1 - sigma * np.sqrt(t)\n",
    "    \n",
    "    P = -np.multiply(S, norm.cdf(-d1)) + \\\n",
    "        np.multiply(norm.cdf(-d2) * K, np.exp(-r * t))\n",
    "    return P\n",
    "\n",
    "def call_objective_function(S, args):\n",
    "    sigma = args[0]\n",
    "    K = args[1]\n",
    "    r = args[2]\n",
    "    t = args[3]\n",
    "    price = args[4]\n",
    "    \n",
    "    return call_price(sigma, S, K, r, t) - price\n",
    "\n",
    "#  We need the derivative of our objective function which is Delta.\n",
    "def calculate_delta(S, args):\n",
    "    sigma = args[0]\n",
    "    K = args[1]\n",
    "    r = args[2]\n",
    "    t = args[3]\n",
    "    \n",
    "    d1 = np.multiply( 1. / sigma * np.divide(1., np.sqrt(t)),\n",
    "        np.log(S/K) + (r + sigma**2 / 2.) * t  )\n",
    "    d2 = d1 - sigma * np.sqrt(t)\n",
    "    \n",
    "    return norm.cdf(d1)"
   ]
  },
  {
   "cell_type": "markdown",
   "metadata": {},
   "source": [
    "We will use data from AAPL at the close on September 4, 2020"
   ]
  },
  {
   "cell_type": "code",
   "execution_count": 11,
   "metadata": {},
   "outputs": [
    {
     "name": "stdout",
     "output_type": "stream",
     "text": [
      "120.93301257094444\n"
     ]
    }
   ],
   "source": [
    "K = 135\n",
    "r = 0.01\n",
    "t = 14 / 365\n",
    "sigma = 0.6427\n",
    "c0 = 1.7\n",
    "\n",
    "args = (sigma, K, r, t, c0)\n",
    "R, count, epsilon, function_value, function_derivative, f_return, fprime_return = newtons_method(call_objective_function, calculate_delta, R = 100, args = args)\n",
    "print(R)"
   ]
  },
  {
   "cell_type": "markdown",
   "metadata": {},
   "source": [
    "We can see from the screenshot below that we are very close to the actual last traded price of AAPL.\n",
    "<img src=\"aapl_theta.png\" width=\"40%\">"
   ]
  },
  {
   "cell_type": "code",
   "execution_count": null,
   "metadata": {},
   "outputs": [],
   "source": []
  }
 ],
 "metadata": {
  "kernelspec": {
   "display_name": "Python 3",
   "language": "python",
   "name": "python3"
  },
  "language_info": {
   "codemirror_mode": {
    "name": "ipython",
    "version": 3
   },
   "file_extension": ".py",
   "mimetype": "text/x-python",
   "name": "python",
   "nbconvert_exporter": "python",
   "pygments_lexer": "ipython3",
   "version": "3.7.1"
  }
 },
 "nbformat": 4,
 "nbformat_minor": 2
}
