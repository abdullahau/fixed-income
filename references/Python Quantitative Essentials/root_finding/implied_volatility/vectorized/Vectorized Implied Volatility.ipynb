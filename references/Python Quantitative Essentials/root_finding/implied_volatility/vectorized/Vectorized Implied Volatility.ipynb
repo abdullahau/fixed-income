{
 "cells": [
  {
   "cell_type": "code",
   "execution_count": 2,
   "metadata": {},
   "outputs": [],
   "source": [
    "    import pandas as pd\n",
    "    import numpy as np\n",
    "    import matplotlib.pyplot as plt\n",
    "    from scipy.stats import norm\n",
    "    from datetime import datetime, timedelta\n",
    "\n",
    "    %matplotlib inline"
   ]
  },
  {
   "cell_type": "markdown",
   "metadata": {},
   "source": [
    "## Import Raw Data"
   ]
  },
  {
   "cell_type": "code",
   "execution_count": 3,
   "metadata": {},
   "outputs": [],
   "source": [
    "data = pd.read_csv('uvxy.csv')\n",
    "#print(data.shape)\n",
    "\n",
    "data['date'] = pd.to_datetime( data['date'] )\n",
    "data['expiration'] = pd.to_datetime( data['expiration'] )\n",
    "\n",
    "#print(data.head())"
   ]
  },
  {
   "cell_type": "markdown",
   "metadata": {},
   "source": [
    "1) Pandas imports the date fileds as strings.  We need to turn them into datetime objects.<br>\n",
    "2)  We the prune out the lines that have zero bid or trade less then ten contracts per day.<br>\n",
    "3) We need the time from the trade date to expiration in years.  We calculate than then store it in the column named 't'"
   ]
  },
  {
   "cell_type": "code",
   "execution_count": 4,
   "metadata": {},
   "outputs": [
    {
     "name": "stdout",
     "output_type": "stream",
     "text": [
      "(3925, 14)\n"
     ]
    }
   ],
   "source": [
    "df = data[ data['expiration'] == pd.to_datetime('2014-09-20 00:00:00') ]\n",
    "df = df[ df['volume'] > 10]\n",
    "df = df[ df['bid'] > 0]\n",
    "print(df.shape)\n",
    "df['t'] = (df['expiration'] - df['date'] - timedelta(days = 1)) / timedelta(days=1) / 365"
   ]
  },
  {
   "cell_type": "markdown",
   "metadata": {},
   "source": [
    "For the sake of simplicty, we also split calls and puts into their own data frames."
   ]
  },
  {
   "cell_type": "code",
   "execution_count": 5,
   "metadata": {},
   "outputs": [],
   "source": [
    "call = df[ df['call/put'] == 'C']\n",
    "put  = df [df['call/put'] == 'P']"
   ]
  },
  {
   "cell_type": "markdown",
   "metadata": {},
   "source": [
    "Our code needs the data in numpy format.  We extract them directly from the frames."
   ]
  },
  {
   "cell_type": "code",
   "execution_count": 6,
   "metadata": {},
   "outputs": [],
   "source": [
    "t_call = call['t'].to_numpy()\n",
    "K_call = call['strike'].to_numpy()\n",
    "S_call = call['unadjusted stock price'].to_numpy()\n",
    "r_call = 0.1 * np.ones( S_call.shape )\n",
    "ask_call = call['ask'].to_numpy()\n",
    "bid_call = call['bid'].to_numpy()\n",
    "\n",
    "t_put = put['t'].to_numpy()\n",
    "K_put = put['strike'].to_numpy()\n",
    "S_put = put['unadjusted stock price'].to_numpy()\n",
    "r_put  = 0.1 * np.ones( S_put.shape )\n",
    "ask_put = put['ask'].to_numpy()\n",
    "bid_put = put['bid'].to_numpy()"
   ]
  },
  {
   "cell_type": "markdown",
   "metadata": {},
   "source": [
    "##  Black Scholes Model"
   ]
  },
  {
   "cell_type": "code",
   "execution_count": 7,
   "metadata": {},
   "outputs": [],
   "source": [
    "def call_price(sigma, S, K, r, t):\n",
    "    d1 = np.multiply( 1. / sigma * np.divide(1., np.sqrt(t)),\n",
    "        np.log(S/K) + (r + sigma**2 / 2.) * t  )\n",
    "    d2 = d1 - sigma * np.sqrt(t)\n",
    "    \n",
    "    C = np.multiply(S, norm.cdf(d1)) - \\\n",
    "        np.multiply(norm.cdf(d2) * K, np.exp(-r * t))\n",
    "    return C\n",
    "\n",
    "def put_price(sigma, S, K, r, t):\n",
    "    d1 = np.multiply( 1. / sigma * np.divide(1., np.sqrt(t)),\n",
    "        np.log(S/K) + (r + sigma**2 / 2.) * t  )\n",
    "    d2 = d1 - sigma * np.sqrt(t)\n",
    "    \n",
    "    P = -np.multiply(S, norm.cdf(-d1)) + \\\n",
    "        np.multiply(norm.cdf(-d2) * K, np.exp(-r * t))\n",
    "    return P\n",
    "\n",
    "def call_objective_function(sigma, args):\n",
    "    S = args[0]\n",
    "    K = args[1]\n",
    "    r = args[2]\n",
    "    t = args[3]\n",
    "    price = args[4]\n",
    "    \n",
    "    return call_price(sigma, S, K, r, t) - price\n",
    "\n",
    "def put_objective_function(sigma, args):\n",
    "    S = args[0]\n",
    "    K = args[1]\n",
    "    r = args[2]\n",
    "    t = args[3]\n",
    "    price = args[4]\n",
    "    \n",
    "    return put_price(sigma, S, K, r, t) - price\n",
    "\n",
    "def calculate_vega(sigma, args):\n",
    "    S = args[0]\n",
    "    K = args[1]\n",
    "    r = args[2]\n",
    "    t = args[3]\n",
    "    \n",
    "    d1 = np.multiply( 1. / sigma * np.divide(1., np.sqrt(t)),\n",
    "        np.log(S/K) + (r + sigma**2 / 2.) * t  )\n",
    "    d2 = d1 - sigma * np.sqrt(t)\n",
    "    \n",
    "    return S * norm.pdf(d1) * np.sqrt(t)\n",
    "\n",
    "\n",
    "#  This function searches the data for contracts that don't have roots\n",
    "def find_no_root(f, args):\n",
    "    f_value = f( np.array(0), args)\n",
    "    return np.where(f_value > 0)"
   ]
  },
  {
   "cell_type": "markdown",
   "metadata": {},
   "source": [
    "Search for contracts that don't have a root, then remove them from our data set."
   ]
  },
  {
   "cell_type": "code",
   "execution_count": 8,
   "metadata": {},
   "outputs": [
    {
     "name": "stderr",
     "output_type": "stream",
     "text": [
      "C:\\Users\\moone\\Anaconda3\\lib\\site-packages\\ipykernel_launcher.py:2: RuntimeWarning: divide by zero encountered in true_divide\n",
      "  \n"
     ]
    }
   ],
   "source": [
    "call_args = (S_call, K_call, r_call, t_call, ask_call)\n",
    "put_args = (S_put, K_put, r_put, t_put, ask_put)\n",
    "\n",
    "ind = find_no_root(call_objective_function, call_args)\n",
    "ind = ind[0]\n",
    "\n",
    "t_call = np.delete(t_call, ind)\n",
    "K_call = np.delete(K_call, ind)\n",
    "S_call = np.delete(S_call, ind)\n",
    "r_call = np.delete(r_call, ind)\n",
    "ask_call = np.delete(ask_call, ind)\n",
    "bid_call = np.delete(bid_call, ind)"
   ]
  },
  {
   "cell_type": "markdown",
   "metadata": {},
   "source": [
    "Our Newton's code.  In the case of vectorized data, we use the infinity mean as a cutoff criteria."
   ]
  },
  {
   "cell_type": "code",
   "execution_count": 9,
   "metadata": {},
   "outputs": [],
   "source": [
    "def newtons_method(f, fprime, R = 0, max_iter = 1000, tol=1e-3, args = [], debug = False):\n",
    "    count = 0\n",
    "    epsilon = 1\n",
    "    f_return = []\n",
    "    fprime_return = []\n",
    "    \n",
    "    while epsilon >= tol:\n",
    "        count += 1\n",
    "        if count >= max_iter:\n",
    "            print('Exiting on runaway loop.')\n",
    "            return (R, count)\n",
    "        \n",
    "        old_R = R\n",
    "        \n",
    "        function_value = f(R, args = args)\n",
    "        function_derivative = fprime(R, args = args)\n",
    "        ind = np.where(function_derivative <= 0)\n",
    "        ind = ind[0]\n",
    "       \n",
    "        R = -function_value / function_derivative + R\n",
    "        \n",
    "        if ind.size > 0:\n",
    "            R[ ind ] = R[ ind ] * 0.5 + R[ ind ]\n",
    "            \n",
    "        if np.isscalar(R):\n",
    "            epsilon = np.abs( (R - old_R) /old_R )\n",
    "        else:\n",
    "            epsilon = np.linalg.norm( R - old_R, np.Inf)\n",
    "        \n",
    "        if debug == True:\n",
    "            f_return.append(function_value)\n",
    "            fprime_return.append(function_derivative)\n",
    "        \n",
    "    return R, count, epsilon, function_value, function_derivative, f_return, fprime_return"
   ]
  },
  {
   "cell_type": "markdown",
   "metadata": {},
   "source": [
    "Run the code on the call data"
   ]
  },
  {
   "cell_type": "code",
   "execution_count": 10,
   "metadata": {},
   "outputs": [
    {
     "name": "stderr",
     "output_type": "stream",
     "text": [
      "C:\\Users\\moone\\Anaconda3\\lib\\site-packages\\ipykernel_launcher.py:2: RuntimeWarning: divide by zero encountered in true_divide\n",
      "  \n",
      "C:\\Users\\moone\\Anaconda3\\lib\\site-packages\\ipykernel_launcher.py:41: RuntimeWarning: divide by zero encountered in true_divide\n",
      "C:\\Users\\moone\\Anaconda3\\lib\\site-packages\\ipykernel_launcher.py:20: RuntimeWarning: divide by zero encountered in true_divide\n",
      "C:\\Users\\moone\\Anaconda3\\lib\\site-packages\\ipykernel_launcher.py:2: RuntimeWarning: invalid value encountered in multiply\n",
      "  \n",
      "C:\\Users\\moone\\Anaconda3\\lib\\site-packages\\ipykernel_launcher.py:3: RuntimeWarning: invalid value encountered in multiply\n",
      "  This is separate from the ipykernel package so we can avoid doing imports until\n",
      "C:\\Users\\moone\\Anaconda3\\lib\\site-packages\\ipykernel_launcher.py:4: RuntimeWarning: invalid value encountered in multiply\n",
      "  after removing the cwd from sys.path.\n",
      "C:\\Users\\moone\\Anaconda3\\lib\\site-packages\\scipy\\stats\\_distn_infrastructure.py:901: RuntimeWarning: invalid value encountered in greater\n",
      "  return (a < x) & (x < b)\n",
      "C:\\Users\\moone\\Anaconda3\\lib\\site-packages\\scipy\\stats\\_distn_infrastructure.py:901: RuntimeWarning: invalid value encountered in less\n",
      "  return (a < x) & (x < b)\n",
      "C:\\Users\\moone\\Anaconda3\\lib\\site-packages\\scipy\\stats\\_distn_infrastructure.py:1807: RuntimeWarning: invalid value encountered in greater_equal\n",
      "  cond2 = (x >= _b) & cond0\n",
      "C:\\Users\\moone\\Anaconda3\\lib\\site-packages\\ipykernel_launcher.py:41: RuntimeWarning: invalid value encountered in multiply\n",
      "C:\\Users\\moone\\Anaconda3\\lib\\site-packages\\ipykernel_launcher.py:42: RuntimeWarning: invalid value encountered in multiply\n",
      "C:\\Users\\moone\\Anaconda3\\lib\\site-packages\\ipykernel_launcher.py:43: RuntimeWarning: invalid value encountered in multiply\n",
      "C:\\Users\\moone\\Anaconda3\\lib\\site-packages\\scipy\\stats\\_distn_infrastructure.py:897: RuntimeWarning: invalid value encountered in greater_equal\n",
      "  return (a <= x) & (x <= b)\n",
      "C:\\Users\\moone\\Anaconda3\\lib\\site-packages\\scipy\\stats\\_distn_infrastructure.py:897: RuntimeWarning: invalid value encountered in less_equal\n",
      "  return (a <= x) & (x <= b)\n",
      "C:\\Users\\moone\\Anaconda3\\lib\\site-packages\\ipykernel_launcher.py:17: RuntimeWarning: invalid value encountered in less_equal\n"
     ]
    }
   ],
   "source": [
    "call_args = (S_call, K_call, r_call, t_call, ask_call)\n",
    "put_args = (S_put, K_put, r_put, t_put, ask_put)\n",
    "vol, iter, error, f, vega, F, FP = newtons_method(call_objective_function, calculate_vega, R = 3, args = call_args, debug = False)"
   ]
  },
  {
   "cell_type": "markdown",
   "metadata": {},
   "source": [
    "We search for points that didn't give an answer, gave a negative value, or an infinity.  We remove those."
   ]
  },
  {
   "cell_type": "code",
   "execution_count": 11,
   "metadata": {},
   "outputs": [
    {
     "name": "stdout",
     "output_type": "stream",
     "text": [
      "[17]\n",
      "[2414 2415 2416 2417 2418 2419 2420]\n",
      "[  6  14  15  16  17  18  30  52  53 219 362 385 411 439]\n"
     ]
    },
    {
     "name": "stderr",
     "output_type": "stream",
     "text": [
      "C:\\Users\\moone\\Anaconda3\\lib\\site-packages\\ipykernel_launcher.py:7: RuntimeWarning: invalid value encountered in greater\n",
      "  import sys\n"
     ]
    }
   ],
   "source": [
    "ind1 = np.where(vol == np.inf)\n",
    "print(ind1[0])\n",
    "\n",
    "ind2 = np.where( np.isnan(vol) )\n",
    "print(ind2[0])\n",
    "\n",
    "ind3 = np.where(vol > 20)\n",
    "print(ind3[0])\n",
    "#plt.plot(vol)"
   ]
  },
  {
   "cell_type": "code",
   "execution_count": 12,
   "metadata": {},
   "outputs": [],
   "source": [
    "vol = np.delete(vol, np.hstack( (ind1, ind2, ind3)) )"
   ]
  },
  {
   "cell_type": "code",
   "execution_count": 13,
   "metadata": {},
   "outputs": [
    {
     "data": {
      "text/plain": [
       "(-0.5, 4.0)"
      ]
     },
     "execution_count": 13,
     "metadata": {},
     "output_type": "execute_result"
    },
    {
     "data": {
      "image/png": "[encoded data removed]",
      "text/plain": [
       "<Figure size 432x288 with 1 Axes>"
      ]
     },
     "metadata": {
      "needs_background": "light"
     },
     "output_type": "display_data"
    }
   ],
   "source": [
    "#  Visualize the results\n",
    "plt.plot(vol)\n",
    "plt.ylim([-0.5, 4] )"
   ]
  },
  {
   "cell_type": "code",
   "execution_count": null,
   "metadata": {},
   "outputs": [],
   "source": []
  }
 ],
 "metadata": {
  "kernelspec": {
   "display_name": "Python 3",
   "language": "python",
   "name": "python3"
  },
  "language_info": {
   "codemirror_mode": {
    "name": "ipython",
    "version": 3
   },
   "file_extension": ".py",
   "mimetype": "text/x-python",
   "name": "python",
   "nbconvert_exporter": "python",
   "pygments_lexer": "ipython3",
   "version": "3.7.1"
  }
 },
 "nbformat": 4,
 "nbformat_minor": 2
}
