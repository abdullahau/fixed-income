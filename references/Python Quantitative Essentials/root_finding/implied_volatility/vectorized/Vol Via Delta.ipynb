{
 "cells": [
  {
   "cell_type": "code",
   "execution_count": 14,
   "id": "523bee2e",
   "metadata": {},
   "outputs": [],
   "source": [
    "import numpy as np\n",
    "from scipy.stats import norm\n",
    "import matplotlib.pyplot as plt\n",
    "\n",
    "%matplotlib inline"
   ]
  },
  {
   "cell_type": "markdown",
   "id": "0251335d",
   "metadata": {},
   "source": [
    "Delta for a call is given by,\n",
    "$$\n",
    "\\Delta = \\phi(d_1),\n",
    "$$\n",
    "and for  put by,\n",
    "$$\n",
    "\\Delta = -\\phi(-d_1),\n",
    "$$\n",
    "where\n",
    "$$d_1 = \\frac{1}{\\sigma \\sqrt{t}} \\left[ \\ln\\left(\\frac{S}{K}\\right) + \\left(r + \\frac{\\sigma.^2}{2}\\right) t\\right],$$\n",
    "and\n",
    "$$d_2 = d_1 - \\sigma \\sqrt{t},$$\n",
    "and $\\phi$ is the normal cummulative distribution function.\n",
    "\n",
    "Our goal (for a call) is to solve for sigma from the equation\n",
    "$$\n",
    "\\phi(d_1) - \\Delta_\\mbox{known} = 0.\n",
    "$$\n",
    "\n",
    "For Newton's method, we also need the derivative of $\\Delta$ with respect to volatility.  This is offten called vanna.\n",
    "$$\n",
    "\\mbox{vanna} = \\frac{\\partial\\Delta}{\\partial\\sigma} = -\\phi(d_1)\\frac{d_2}{\\sigma}\n",
    "$$"
   ]
  },
  {
   "cell_type": "code",
   "execution_count": 15,
   "id": "28f0fab9",
   "metadata": {},
   "outputs": [],
   "source": [
    "def newtons_method(f, fprime, R = 0, max_iter = 1000, tol=1e-3, args = [], debug = False):\n",
    "    count = 0\n",
    "    epsilon = 1\n",
    "    f_return = []\n",
    "    fprime_return = []\n",
    "    \n",
    "    while epsilon >= tol:\n",
    "        count += 1\n",
    "        if count >= max_iter:\n",
    "            print('Exiting on runaway loop.')\n",
    "            return (R, count)\n",
    "        \n",
    "        old_R = R\n",
    "        \n",
    "        function_value = f(R, args = args)\n",
    "        function_derivative = fprime(R, args = args)\n",
    "        #ind = np.where(function_derivative <= 0)\n",
    "        #ind = ind[0]\n",
    "       \n",
    "        R = -function_value / function_derivative + R\n",
    "        \n",
    "        #if ind.size > 0:\n",
    "        #    R[ ind ] = R[ ind ] * 0.5 + R[ ind ]\n",
    "            \n",
    "        if np.isscalar(R):\n",
    "            epsilon = np.abs( (R - old_R) /old_R )\n",
    "        else:\n",
    "            epsilon = np.linalg.norm( R - old_R, np.Inf)\n",
    "        \n",
    "        if debug == True:\n",
    "            f_return.append(function_value)\n",
    "            fprime_return.append(function_derivative)\n",
    "        \n",
    "    return R, count\n",
    "\n",
    "def bisection(f, x1, x2, max_iter = 1000, tol = 1e-3, args = []):\n",
    "    \n",
    "    epsilon = 1\n",
    "    count = 0\n",
    "    \n",
    "    R = (x1 + x2) / 2\n",
    "    \n",
    "    while epsilon >= tol:\n",
    "        \n",
    "        count += 1\n",
    "        \n",
    "        if count >= max_iter:\n",
    "            print('Exiting on runaway loop.')\n",
    "            return (R, count)\n",
    "        \n",
    "        old_R = R\n",
    "        \n",
    "        f_root = f(R, args)\n",
    "        if np.sign(f_root) == np.sign( f(x2, args) ):\n",
    "            x2 = R\n",
    "        if np.sign(f_root) == np.sign( f(x1, args) ):\n",
    "            x1 = R\n",
    "\n",
    "        R = (x1 + x2) / 2\n",
    "        \n",
    "        epsilon = np.abs((R - old_R) / old_R)\n",
    "        \n",
    "    return R, count"
   ]
  },
  {
   "cell_type": "code",
   "execution_count": 16,
   "id": "27f3bbde",
   "metadata": {},
   "outputs": [],
   "source": [
    "def delta_call(sigma, S, K, r, t):\n",
    "    d1 = np.multiply( 1. / sigma * np.divide(1., np.sqrt(t)),\n",
    "        np.log(S/K) + (r + sigma**2 / 2.) * t  )\n",
    "                     \n",
    "    return norm.cdf(d1)\n",
    "\n",
    "def vanna(sigma, args):\n",
    "    S = args[0]\n",
    "    K = args[1]\n",
    "    r = args[2]\n",
    "    t = args[3]\n",
    "    \n",
    "    d1 = np.multiply( 1. / sigma * np.divide(1., np.sqrt(t)),\n",
    "        np.log(S/K) + (r + sigma**2 / 2.) * t  )\n",
    "    d2 = d1 - sigma * np.sqrt(t)\n",
    "                              \n",
    "    return -norm.cdf(d1) * d2 / sigma\n",
    "\n",
    "def objective(sigma, args):\n",
    "    S = args[0]\n",
    "    K = args[1]\n",
    "    r = args[2]\n",
    "    t = args[3]\n",
    "    delta = args[4]\n",
    "    \n",
    "    return delta_call(sigma, S, K, r, t) - delta"
   ]
  },
  {
   "cell_type": "markdown",
   "id": "15effc92",
   "metadata": {},
   "source": [
    "SPX Option\n",
    "\n",
    "Index Price = 4271.78<br>\n",
    "Time to Expiration = 27 days<br>\n",
    "Strike = 4490<br>\n",
    "Risk-Free Rate = 0.82%<br>\n",
    "$\\Delta$ = 0.15\n",
    "\n",
    "The actial volatility is 17.79%"
   ]
  },
  {
   "cell_type": "code",
   "execution_count": 20,
   "id": "15845a47",
   "metadata": {},
   "outputs": [
    {
     "name": "stdout",
     "output_type": "stream",
     "text": [
      "(0.17081578891856494, 17)\n"
     ]
    }
   ],
   "source": [
    "t = 27 / 365\n",
    "S = 4271.78\n",
    "K = 4490\n",
    "r = 0.0082\n",
    "delta = 0.15\n",
    "\n",
    "args = (S, K, r, t, delta)\n",
    "\n",
    "print(newtons_method(objective, vanna, R = 0.10, args = args))"
   ]
  },
  {
   "cell_type": "code",
   "execution_count": 21,
   "id": "e218738a",
   "metadata": {},
   "outputs": [
    {
     "name": "stderr",
     "output_type": "stream",
     "text": [
      "C:\\Users\\moone\\Anaconda3\\lib\\site-packages\\ipykernel_launcher.py:2: RuntimeWarning: divide by zero encountered in true_divide\n",
      "  \n"
     ]
    },
    {
     "data": {
      "image/png": "[encoded data removed]",
      "text/plain": [
       "<Figure size 432x288 with 1 Axes>"
      ]
     },
     "metadata": {
      "needs_background": "light"
     },
     "output_type": "display_data"
    }
   ],
   "source": [
    "sigma = np.linspace(0, 1)\n",
    "y = objective(sigma, args)\n",
    "plt.plot(sigma, y)\n",
    "plt.grid()"
   ]
  },
  {
   "cell_type": "code",
   "execution_count": 22,
   "id": "6689f477",
   "metadata": {},
   "outputs": [
    {
     "data": {
      "text/plain": [
       "(0.170850830078125, 12)"
      ]
     },
     "execution_count": 22,
     "metadata": {},
     "output_type": "execute_result"
    }
   ],
   "source": [
    "bisection(objective, 0.01, 1, args = args)"
   ]
  },
  {
   "cell_type": "code",
   "execution_count": null,
   "id": "dd4de021",
   "metadata": {},
   "outputs": [],
   "source": []
  }
 ],
 "metadata": {
  "kernelspec": {
   "display_name": "Python 3",
   "language": "python",
   "name": "python3"
  },
  "language_info": {
   "codemirror_mode": {
    "name": "ipython",
    "version": 3
   },
   "file_extension": ".py",
   "mimetype": "text/x-python",
   "name": "python",
   "nbconvert_exporter": "python",
   "pygments_lexer": "ipython3",
   "version": "3.7.1"
  }
 },
 "nbformat": 4,
 "nbformat_minor": 5
}
