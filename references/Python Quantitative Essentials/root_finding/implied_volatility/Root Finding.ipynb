{
 "cells": [
  {
   "cell_type": "markdown",
   "metadata": {},
   "source": [
    "##  Procedure\n",
    "\n",
    "1)  Choose initial guess for the root<br>\n",
    "2)  Calculate derivative at that point<br>\n",
    "3)  Using the equation of the tangent line, calculate the x-intercept<br>\n",
    "4)  Repeat process using the x intercept as the new guess for the root<br>\n",
    "5)  Iterate until desired tolerance is reached<br>\n",
    "\n",
    "Our test function will be,\n",
    "\n",
    "$$y = (x - 1)^3 + 5.$$\n",
    "\n",
    "Its derivative is,\n",
    "$$y^\\prime = 3(x-1)^2$$\n",
    "\n",
    "We code these function in the cell below."
   ]
  },
  {
   "cell_type": "code",
   "execution_count": 1,
   "metadata": {},
   "outputs": [],
   "source": [
    "import numpy as np\n",
    "import matplotlib.pyplot as plt\n",
    "from scipy.stats import norm\n",
    "\n",
    "%matplotlib inline"
   ]
  },
  {
   "cell_type": "code",
   "execution_count": 2,
   "metadata": {},
   "outputs": [],
   "source": [
    "def cubic(x, args = []):\n",
    "    return np.power(x - 1, 3) + 5\n",
    "\n",
    "def cubic_derivative(x, args = []):\n",
    "    return 3 * np.power(x - 1, 2)\n",
    "\n",
    "def tangent_line(m, x0, y0, length = 1):\n",
    "    x = np.linspace(x0 - length / 2, x0 + length / 2)\n",
    "    y = m * (x - x0) + y0\n",
    "    return x, y\n",
    "\n",
    "def newtons_method(f, fprime, R = 0, max_iter = 1000, tol=1e-3, args = [], debug = False):\n",
    "    count = 0\n",
    "    epsilon = 1\n",
    "    \n",
    "    while epsilon >= tol:\n",
    "        count += 1\n",
    "        if count >= max_iter:\n",
    "            print('Exiting on runaway loop.')\n",
    "            return (R, count)\n",
    "        \n",
    "        old_R = R\n",
    "        \n",
    "        function_value = f(R, args = args)\n",
    "        function_derivative = fprime(R, args = args)\n",
    "        \n",
    "               \n",
    "        R = -function_value / function_derivative + R\n",
    "        \n",
    "        epsilon = np.abs( (R - old_R) / old_R)\n",
    "        if debug == True:\n",
    "            print('Iteration = ', count, 'f = ', function_value, 'fprime = ', function_derivative, 'Tol = ', epsilon)\n",
    "        \n",
    "    return R, count"
   ]
  },
  {
   "cell_type": "markdown",
   "metadata": {},
   "source": [
    "##  Cubic Equation\n",
    "###  Manual Iteration"
   ]
  },
  {
   "cell_type": "code",
   "execution_count": 3,
   "metadata": {},
   "outputs": [
    {
     "name": "stdout",
     "output_type": "stream",
     "text": [
      "Estimated root =  -0.722001880058607\n"
     ]
    },
    {
     "data": {
      "image/png": "[encoded data removed]",
      "text/plain": [
       "<Figure size 432x288 with 1 Axes>"
      ]
     },
     "metadata": {
      "needs_background": "light"
     },
     "output_type": "display_data"
    }
   ],
   "source": [
    "x = np.linspace(-1, 3, 100)\n",
    "y = cubic(x)\n",
    "\n",
    "plt.plot(x, y, 'b')\n",
    "plt.grid(True)\n",
    "\n",
    "x0 = -0.8616780045351473; y0 = cubic(x0)\n",
    "yprime = cubic_derivative(x0); # print(yprime)\n",
    "\n",
    "u, v = tangent_line(yprime, x0, y0, length = 2)\n",
    "plt.plot(u, v, 'k')\n",
    "\n",
    "x0 = -y0 / yprime + x0; print('Estimated root = ', x0)"
   ]
  },
  {
   "cell_type": "markdown",
   "metadata": {},
   "source": [
    "##  Cubic Equation\n",
    "###  Solved using function - Initial guess = 2\n",
    "Initial guess causes the updated root to be zero which cuases a tolerence of Inf on the second iteration."
   ]
  },
  {
   "cell_type": "code",
   "execution_count": 4,
   "metadata": {},
   "outputs": [
    {
     "name": "stdout",
     "output_type": "stream",
     "text": [
      "Iteration =  1 f =  6 fprime =  3 Tol =  1.0\n",
      "Iteration =  2 f =  4.0 fprime =  3.0 Tol =  inf\n",
      "Iteration =  3 f =  -7.703703703703699 fprime =  16.33333333333333 Tol =  0.3537414965986393\n",
      "Iteration =  4 f =  -1.452287389795793 fprime =  10.397534977709906 Tol =  0.1620978181425115\n",
      "Iteration =  5 f =  -0.10623577274137919 fprime =  8.895871424776132 Tol =  0.016540321830385098\n",
      "Iteration =  6 f =  -0.0007350456851842324 fprime =  8.772912908224406 Tol =  0.000117998266605976\n",
      "-0.709975950782189 6\n",
      "Estimated root =  0.0\n"
     ]
    },
    {
     "name": "stderr",
     "output_type": "stream",
     "text": [
      "C:\\Users\\moone\\Anaconda3\\lib\\site-packages\\ipykernel_launcher.py:30: RuntimeWarning: divide by zero encountered in double_scalars\n"
     ]
    },
    {
     "data": {
      "image/png": "[encoded data removed]",
      "text/plain": [
       "<Figure size 432x288 with 1 Axes>"
      ]
     },
     "metadata": {
      "needs_background": "light"
     },
     "output_type": "display_data"
    }
   ],
   "source": [
    "R, count = newtons_method(cubic, cubic_derivative, R = 2, debug = True)\n",
    "print(R, count)\n",
    "\n",
    "x = np.linspace(-1, 3, 100)\n",
    "y = cubic(x)\n",
    "\n",
    "plt.plot(x, y, 'b')\n",
    "plt.plot(R, cubic(R), 'o')\n",
    "plt.grid(True)\n",
    "\n",
    "x0 = 2; y0 = cubic(x0)\n",
    "yprime = cubic_derivative(x0); # print(yprime)\n",
    "x0 = -y0 / yprime + x0; print('Estimated root = ', x0)"
   ]
  },
  {
   "cell_type": "markdown",
   "metadata": {},
   "source": [
    "###  Solved using function - Initial guess = 3\n",
    "Works perfectly!"
   ]
  },
  {
   "cell_type": "code",
   "execution_count": 5,
   "metadata": {},
   "outputs": [
    {
     "name": "stdout",
     "output_type": "stream",
     "text": [
      "-0.7099759467519977 6\n"
     ]
    },
    {
     "data": {
      "image/png": "[encoded data removed]",
      "text/plain": [
       "<Figure size 432x288 with 1 Axes>"
      ]
     },
     "metadata": {
      "needs_background": "light"
     },
     "output_type": "display_data"
    }
   ],
   "source": [
    "R, count = newtons_method(cubic, cubic_derivative, R = 3)\n",
    "print(R, count)\n",
    "\n",
    "x = np.linspace(-1, 3, 100)\n",
    "y = cubic(x)\n",
    "\n",
    "plt.plot(x, y, 'b')\n",
    "plt.plot(R, cubic(R), 'o')\n",
    "plt.grid(True)"
   ]
  },
  {
   "cell_type": "markdown",
   "metadata": {},
   "source": [
    "###  Solved using function - Initial guess = 1\n",
    "1) Zero derivative on the first iteration causes a divide by zero error on the root update step.<br>\n",
    "2) Also causes the telerance check to return Inf.<br>\n",
    "3) Since the root doesn't update, we eventually get a tolerance value of Inf / INF which causes the <br>nan."
   ]
  },
  {
   "cell_type": "code",
   "execution_count": 6,
   "metadata": {},
   "outputs": [
    {
     "name": "stdout",
     "output_type": "stream",
     "text": [
      "Iteration =  1 f =  5 fprime =  0 Tol =  inf\n",
      "Iteration =  2 f =  -inf fprime =  inf Tol =  nan\n",
      "nan 2\n"
     ]
    },
    {
     "name": "stderr",
     "output_type": "stream",
     "text": [
      "C:\\Users\\moone\\Anaconda3\\lib\\site-packages\\ipykernel_launcher.py:28: RuntimeWarning: divide by zero encountered in int_scalars\n",
      "C:\\Users\\moone\\Anaconda3\\lib\\site-packages\\ipykernel_launcher.py:28: RuntimeWarning: invalid value encountered in double_scalars\n"
     ]
    },
    {
     "data": {
      "image/png": "[encoded data removed]",
      "text/plain": [
       "<Figure size 432x288 with 1 Axes>"
      ]
     },
     "metadata": {
      "needs_background": "light"
     },
     "output_type": "display_data"
    }
   ],
   "source": [
    "R, count = newtons_method(cubic, cubic_derivative, R = 1, debug = True)\n",
    "print(R, count)\n",
    "\n",
    "x = np.linspace(-1, 3, 100)\n",
    "y = cubic(x)\n",
    "\n",
    "u, v = tangent_line(cubic_derivative(1), 1, cubic(1), length = 3)\n",
    "\n",
    "plt.plot(x, y, 'b')\n",
    "plt.plot(R, cubic(R), 'o')\n",
    "plt.plot(u, v, 'k')\n",
    "plt.grid(True)"
   ]
  },
  {
   "cell_type": "markdown",
   "metadata": {},
   "source": [
    "###  Solved using function - Initial guess = 0\n",
    "1)  Intial guess of zero causes the tolerance check to give Inf.  This doesn't cause a crash, but throws a warning"
   ]
  },
  {
   "cell_type": "code",
   "execution_count": 7,
   "metadata": {},
   "outputs": [
    {
     "name": "stderr",
     "output_type": "stream",
     "text": [
      "C:\\Users\\moone\\Anaconda3\\lib\\site-packages\\ipykernel_launcher.py:30: RuntimeWarning: divide by zero encountered in double_scalars\n"
     ]
    },
    {
     "name": "stdout",
     "output_type": "stream",
     "text": [
      "Iteration =  1 f =  4 fprime =  3 Tol =  inf\n",
      "Iteration =  2 f =  -7.703703703703699 fprime =  16.33333333333333 Tol =  0.3537414965986393\n",
      "Iteration =  3 f =  -1.452287389795793 fprime =  10.397534977709906 Tol =  0.1620978181425115\n",
      "Iteration =  4 f =  -0.10623577274137919 fprime =  8.895871424776132 Tol =  0.016540321830385098\n",
      "Iteration =  5 f =  -0.0007350456851842324 fprime =  8.772912908224406 Tol =  0.000117998266605976\n",
      "-0.709975950782189 5\n"
     ]
    },
    {
     "data": {
      "image/png": "[encoded data removed]",
      "text/plain": [
       "<Figure size 432x288 with 1 Axes>"
      ]
     },
     "metadata": {
      "needs_background": "light"
     },
     "output_type": "display_data"
    }
   ],
   "source": [
    "R, count = newtons_method(cubic, cubic_derivative, R = 0, debug = True)\n",
    "print(R, count)\n",
    "\n",
    "x = np.linspace(-1, 3, 100)\n",
    "y = cubic(x)\n",
    "\n",
    "plt.plot(x, y, 'b')\n",
    "plt.plot(R, cubic(R), 'o')\n",
    "plt.grid(True)"
   ]
  },
  {
   "cell_type": "markdown",
   "metadata": {},
   "source": [
    "##  Quadratic Equation\n",
    "\n",
    "Which root is found depends on the choice of the initial guess.  Also, it is possible to fail if one of the test roots is zero leading to a zero derivative."
   ]
  },
  {
   "cell_type": "code",
   "execution_count": 8,
   "metadata": {},
   "outputs": [
    {
     "name": "stdout",
     "output_type": "stream",
     "text": [
      "(-3.000000001396984, 4)\n"
     ]
    },
    {
     "data": {
      "image/png": "[encoded data removed]",
      "text/plain": [
       "<Figure size 432x288 with 1 Axes>"
      ]
     },
     "metadata": {
      "needs_background": "light"
     },
     "output_type": "display_data"
    }
   ],
   "source": [
    "def quadratic(x, args = []):\n",
    "    return np.power(x, 2) - 9\n",
    "\n",
    "def quadratic_derivative(x, args = []):\n",
    "    return 2 * x\n",
    "\n",
    "x = np.linspace(-5, 5, 100)\n",
    "plt.plot(x, quadratic(x), 'b')\n",
    "plt.grid(True)\n",
    "\n",
    "\n",
    "R = newtons_method(quadratic, quadratic_derivative, R = -5)\n",
    "plt.plot(R[0], quadratic(R[0]), 'o')\n",
    "\n",
    "print( newtons_method(quadratic, quadratic_derivative, R = -5))"
   ]
  },
  {
   "cell_type": "code",
   "execution_count": null,
   "metadata": {},
   "outputs": [],
   "source": []
  },
  {
   "cell_type": "markdown",
   "metadata": {},
   "source": [
    "## Trig function:  $y = \\tan(x)$\n",
    "Functions with singularities can cause problems, though in this case, the root at zero causes a problem with tolerance check."
   ]
  },
  {
   "cell_type": "code",
   "execution_count": 9,
   "metadata": {},
   "outputs": [],
   "source": [
    "def tangent(x, args = []):\n",
    "    return np.tan(x)\n",
    "\n",
    "def tangent_derivative(x, args = []):\n",
    "    return np.power(1 / np.cos(x), 2)"
   ]
  },
  {
   "cell_type": "code",
   "execution_count": 10,
   "metadata": {},
   "outputs": [
    {
     "name": "stdout",
     "output_type": "stream",
     "text": [
      "Iteration =  1 f =  1.633123935319537e+16 fprime =  2.6670937881135714e+32 Tol =  0.0\n",
      "(1.5707963267948966, 1)\n",
      "1.633123935319537e+16\n"
     ]
    },
    {
     "data": {
      "image/png": "[encoded data removed]",
      "text/plain": [
       "<Figure size 432x288 with 1 Axes>"
      ]
     },
     "metadata": {
      "needs_background": "light"
     },
     "output_type": "display_data"
    }
   ],
   "source": [
    "x = np.linspace(-np.pi, np.pi, 1000)\n",
    "\n",
    "R = newtons_method(tangent, tangent_derivative, R = np.pi/2, debug = True)\n",
    "print(R)\n",
    "\n",
    "plt.plot(x, tangent(x))\n",
    "plt.ylim( [-10, 10])\n",
    "plt.grid(True)\n",
    "plt.plot(R[0], tangent(R[0]), 'o')\n",
    "print(tangent(R[0]))"
   ]
  },
  {
   "cell_type": "markdown",
   "metadata": {},
   "source": [
    "##  Equations with no roots"
   ]
  },
  {
   "cell_type": "code",
   "execution_count": 11,
   "metadata": {},
   "outputs": [],
   "source": [
    "def new_quadratic(x, args = []):\n",
    "    return np.power(x, 2) + 9\n",
    "\n",
    "def new_quadratic_derivative(x, args = []):\n",
    "    return 2 * x"
   ]
  },
  {
   "cell_type": "markdown",
   "metadata": {},
   "source": [
    "x = np.linspace(-3, 3, 100)\n",
    "plt.plot(x, new_quadratic(x), 'b')\n",
    "plt.ylim([0, 20])\n",
    "plt.grid(True)\n",
    "R = newtons_method(new_quadratic, new_quadratic_derivative, R = 2)\n",
    "print(R)"
   ]
  },
  {
   "cell_type": "markdown",
   "metadata": {},
   "source": [
    "The Black-Scholes price of a call is given by,\n",
    "$$C = \\Phi(d_1) S - \\Phi(d_2) K e^{-r t},$$\n",
    "and the price of a put by,\n",
    "$$P = \\Phi(-d_2)e_{-rt} - \\Phi(-d_1)S,$$\n",
    "where\n",
    "$$d_1 = \\frac{1}{\\sigma \\sqrt{t}} \\left[ \\ln\\left(\\frac{S}{K}\\right) + \\left(r + \\frac{\\sigma.^2}{2}\\right) t\\right],$$\n",
    "and\n",
    "$$d_2 = d_1 - \\sigma \\sqrt{t}.$$\n",
    "\n",
    "If a price of an option, say a call is $C_0$, we can write an equation,\n",
    "$$C(\\sigma) - C_0 = 0.$$"
   ]
  },
  {
   "cell_type": "code",
   "execution_count": 12,
   "metadata": {},
   "outputs": [],
   "source": [
    "def call_price(sigma, S, K, r, t):\n",
    "    d1 = np.multiply( 1. / sigma * np.divide(1., np.sqrt(t)),\n",
    "        np.log(S/K) + (r + sigma**2 / 2.) * t  )\n",
    "    d2 = d1 - sigma * np.sqrt(t)\n",
    "    \n",
    "    C = np.multiply(S, norm.cdf(d1)) - \\\n",
    "        np.multiply(norm.cdf(d2) * K, np.exp(-r * t))\n",
    "    return C\n",
    "\n",
    "def put_price(sigma, S, K, r, t):\n",
    "    d1 = np.multiply( 1. / sigma * np.divide(1., np.sqrt(t)),\n",
    "        np.log(S/K) + (r + sigma**2 / 2.) * t  )\n",
    "    d2 = d1 - sigma * np.sqrt(t)\n",
    "    \n",
    "    P = -np.multiply(S, norm.cdf(-d1)) + \\\n",
    "        np.multiply(norm.cdf(-d2) * K, np.exp(-r * t))\n",
    "    return P\n",
    "\n",
    "def objective_function(sigma, args):\n",
    "    S = args[0]\n",
    "    K = args[1]\n",
    "    r = args[2]\n",
    "    t = args[3]\n",
    "    price = args[4]\n",
    "    \n",
    "    return call_price(sigma, S, K, r, t) - price\n",
    "\n",
    "def calculate_vega(sigma, args):\n",
    "    S = args[0]\n",
    "    K = args[1]\n",
    "    r = args[2]\n",
    "    t = args[3]\n",
    "    \n",
    "    d1 = np.multiply( 1. / sigma * np.divide(1., np.sqrt(t)),\n",
    "        np.log(S/K) + (r + sigma**2 / 2.) * t  )\n",
    "    d2 = d1 - sigma * np.sqrt(t)\n",
    "    \n",
    "    return S * norm.pdf(d1) * np.sqrt(t)"
   ]
  },
  {
   "cell_type": "markdown",
   "metadata": {},
   "source": [
    "##  Test Case"
   ]
  },
  {
   "cell_type": "code",
   "execution_count": 13,
   "metadata": {},
   "outputs": [
    {
     "name": "stdout",
     "output_type": "stream",
     "text": [
      "0.36885632491434034\n"
     ]
    }
   ],
   "source": [
    "S = 100.0\n",
    "K = 105.0\n",
    "t = 30.0 / 365.0\n",
    "r = 0.01\n",
    "C0 =2.30\n",
    "\n",
    "args = [S, K, r, t, C0]\n",
    "\n",
    "R, count = newtons_method(objective_function, calculate_vega, R = 0.50, args = args)\n",
    "print(R)"
   ]
  },
  {
   "cell_type": "code",
   "execution_count": 14,
   "metadata": {},
   "outputs": [
    {
     "data": {
      "text/plain": [
       "Text(0, 0.5, 'Call Price ($)')"
      ]
     },
     "execution_count": 14,
     "metadata": {},
     "output_type": "execute_result"
    },
    {
     "data": {
      "image/png": "[encoded data removed]",
      "text/plain": [
       "<Figure size 432x288 with 1 Axes>"
      ]
     },
     "metadata": {
      "needs_background": "light"
     },
     "output_type": "display_data"
    }
   ],
   "source": [
    "sigma = np.linspace(-1, 1, 100)\n",
    "plt.plot(sigma, call_price(sigma, S, K, r, t), 'b')\n",
    "plt.grid(True)\n",
    "plt.xlabel('$\\sigma$')\n",
    "plt.ylabel('Call Price ($)')"
   ]
  },
  {
   "cell_type": "markdown",
   "metadata": {},
   "source": [
    "##  Case #1:  ITM option with price less than intrinsic value"
   ]
  },
  {
   "cell_type": "code",
   "execution_count": 15,
   "metadata": {},
   "outputs": [
    {
     "name": "stdout",
     "output_type": "stream",
     "text": [
      "Iteration =  1 f =  9.582954768952586 fprime =  8.22247040911514 Tol =  2.330918639325053\n",
      "Iteration =  2 f =  -5.564983695244442 fprime =  9.247541175990328 Tol =  0.9043074543582396\n",
      "Iteration =  3 f =  -2.300000000849465 fprime =  4.892923782027778e-07 Tol =  73817573.61221953\n",
      "Iteration =  4 f =  97.7 fprime =  0.0 Tol =  inf\n",
      "Iteration =  5 f =  nan fprime =  nan Tol =  nan\n",
      "nan 5\n"
     ]
    },
    {
     "name": "stderr",
     "output_type": "stream",
     "text": [
      "C:\\Users\\moone\\Anaconda3\\lib\\site-packages\\ipykernel_launcher.py:28: RuntimeWarning: divide by zero encountered in double_scalars\n",
      "C:\\Users\\moone\\Anaconda3\\lib\\site-packages\\ipykernel_launcher.py:3: RuntimeWarning: invalid value encountered in multiply\n",
      "  This is separate from the ipykernel package so we can avoid doing imports until\n",
      "C:\\Users\\moone\\Anaconda3\\lib\\site-packages\\scipy\\stats\\_distn_infrastructure.py:901: RuntimeWarning: invalid value encountered in greater\n",
      "  return (a < x) & (x < b)\n",
      "C:\\Users\\moone\\Anaconda3\\lib\\site-packages\\scipy\\stats\\_distn_infrastructure.py:901: RuntimeWarning: invalid value encountered in less\n",
      "  return (a < x) & (x < b)\n",
      "C:\\Users\\moone\\Anaconda3\\lib\\site-packages\\scipy\\stats\\_distn_infrastructure.py:1807: RuntimeWarning: invalid value encountered in greater_equal\n",
      "  cond2 = (x >= _b) & cond0\n",
      "C:\\Users\\moone\\Anaconda3\\lib\\site-packages\\ipykernel_launcher.py:33: RuntimeWarning: invalid value encountered in multiply\n",
      "C:\\Users\\moone\\Anaconda3\\lib\\site-packages\\scipy\\stats\\_distn_infrastructure.py:897: RuntimeWarning: invalid value encountered in greater_equal\n",
      "  return (a <= x) & (x <= b)\n",
      "C:\\Users\\moone\\Anaconda3\\lib\\site-packages\\scipy\\stats\\_distn_infrastructure.py:897: RuntimeWarning: invalid value encountered in less_equal\n",
      "  return (a <= x) & (x <= b)\n"
     ]
    },
    {
     "data": {
      "text/plain": [
       "Text(0, 0.5, 'Call Price ($)')"
      ]
     },
     "execution_count": 15,
     "metadata": {},
     "output_type": "execute_result"
    },
    {
     "data": {
      "image/png": "[encoded data removed]",
      "text/plain": [
       "<Figure size 432x288 with 1 Axes>"
      ]
     },
     "metadata": {
      "needs_background": "light"
     },
     "output_type": "display_data"
    }
   ],
   "source": [
    "S = 100.0\n",
    "K = 90.0\n",
    "t = 30.0 / 365.0\n",
    "r = 0.01\n",
    "C0 = 2.30\n",
    "\n",
    "args = [S, K, r, t, C0]\n",
    "\n",
    "R, count = newtons_method(objective_function, calculate_vega, R = 0.50, args = args, debug = True)\n",
    "print(R, count)\n",
    "\n",
    "sigma = np.linspace(-1, 1, 100)\n",
    "plt.plot(sigma, call_price(sigma, S, K, r, t) - C0, 'b')\n",
    "plt.grid(True)\n",
    "plt.xlabel('$\\sigma$')\n",
    "plt.ylabel('Call Price ($)')"
   ]
  },
  {
   "cell_type": "markdown",
   "metadata": {},
   "source": [
    "##  Case 2:  Short time to expiration while far from the money"
   ]
  },
  {
   "cell_type": "code",
   "execution_count": 54,
   "metadata": {},
   "outputs": [
    {
     "name": "stdout",
     "output_type": "stream",
     "text": [
      "Iteration =  1 f =  -0.3 fprime =  4.459492577833074e-32 Tol =  1.34544455345085e+31\n",
      "Iteration =  2 f =  99.7 fprime =  0.0 Tol =  inf\n",
      "Iteration =  3 f =  nan fprime =  nan Tol =  nan\n",
      "nan 3\n"
     ]
    },
    {
     "name": "stderr",
     "output_type": "stream",
     "text": [
      "C:\\Users\\moone\\Anaconda3\\lib\\site-packages\\ipykernel_launcher.py:28: RuntimeWarning: divide by zero encountered in double_scalars\n",
      "C:\\Users\\moone\\Anaconda3\\lib\\site-packages\\ipykernel_launcher.py:3: RuntimeWarning: invalid value encountered in multiply\n",
      "  This is separate from the ipykernel package so we can avoid doing imports until\n",
      "C:\\Users\\moone\\Anaconda3\\lib\\site-packages\\scipy\\stats\\_distn_infrastructure.py:901: RuntimeWarning: invalid value encountered in greater\n",
      "  return (a < x) & (x < b)\n",
      "C:\\Users\\moone\\Anaconda3\\lib\\site-packages\\scipy\\stats\\_distn_infrastructure.py:901: RuntimeWarning: invalid value encountered in less\n",
      "  return (a < x) & (x < b)\n",
      "C:\\Users\\moone\\Anaconda3\\lib\\site-packages\\scipy\\stats\\_distn_infrastructure.py:1807: RuntimeWarning: invalid value encountered in greater_equal\n",
      "  cond2 = (x >= _b) & cond0\n",
      "C:\\Users\\moone\\Anaconda3\\lib\\site-packages\\ipykernel_launcher.py:33: RuntimeWarning: invalid value encountered in multiply\n",
      "C:\\Users\\moone\\Anaconda3\\lib\\site-packages\\scipy\\stats\\_distn_infrastructure.py:897: RuntimeWarning: invalid value encountered in greater_equal\n",
      "  return (a <= x) & (x <= b)\n",
      "C:\\Users\\moone\\Anaconda3\\lib\\site-packages\\scipy\\stats\\_distn_infrastructure.py:897: RuntimeWarning: invalid value encountered in less_equal\n",
      "  return (a <= x) & (x <= b)\n",
      "C:\\Users\\moone\\Anaconda3\\lib\\site-packages\\ipykernel_launcher.py:2: RuntimeWarning: divide by zero encountered in true_divide\n",
      "  \n"
     ]
    },
    {
     "data": {
      "text/plain": [
       "[<matplotlib.lines.Line2D at 0x22f8c9f5780>]"
      ]
     },
     "execution_count": 54,
     "metadata": {},
     "output_type": "execute_result"
    },
    {
     "data": {
      "image/png": "[encoded data removed]",
      "text/plain": [
       "<Figure size 432x288 with 1 Axes>"
      ]
     },
     "metadata": {
      "needs_background": "light"
     },
     "output_type": "display_data"
    }
   ],
   "source": [
    "S = 100.0\n",
    "K = 125.0\n",
    "t = 0.5 / 365.0\n",
    "r = 0.01\n",
    "C0 =0.30\n",
    "\n",
    "args = [S, K, r, t, C0]\n",
    "R, count = newtons_method(objective_function, calculate_vega, R = 0.50, args = args, debug = True)\n",
    "print(R, count)\n",
    "\n",
    "sigma = np.linspace(0, 1, 1000)\n",
    "plt.plot(sigma, call_price(sigma, S, K, r, t) - C0, 'b')"
   ]
  },
  {
   "cell_type": "markdown",
   "metadata": {},
   "source": [
    "##  Case 3:  Root is close to discontinuity"
   ]
  },
  {
   "cell_type": "code",
   "execution_count": 59,
   "metadata": {},
   "outputs": [
    {
     "name": "stdout",
     "output_type": "stream",
     "text": [
      "Iteration =  1 f =  5.50939075282634 fprime =  11.426940204026605 Tol =  0.9642810156449318\n",
      "Iteration =  2 f =  0.05021442610979832 fprime =  8.231846668546398 Tol =  0.3415561624030527\n",
      "Iteration =  3 f =  0.007610470182665594 fprime =  5.342047648076189 Tol =  0.12114789935582639\n",
      "Iteration =  4 f =  0.0007457775531161202 fprime =  4.265889028726169 Tol =  0.016915939197181862\n",
      "Iteration =  5 f =  1.2539434222311532e-05 fprime =  4.122031824971013 Tol =  0.0002994141411406711\n",
      "0.010156971638976725 5\n"
     ]
    },
    {
     "name": "stderr",
     "output_type": "stream",
     "text": [
      "C:\\Users\\moone\\Anaconda3\\lib\\site-packages\\ipykernel_launcher.py:2: RuntimeWarning: divide by zero encountered in true_divide\n",
      "  \n"
     ]
    },
    {
     "data": {
      "text/plain": [
       "[<matplotlib.lines.Line2D at 0x22f8f2c92e8>]"
      ]
     },
     "execution_count": 59,
     "metadata": {},
     "output_type": "execute_result"
    },
    {
     "data": {
      "image/png": "[encoded data removed]",
      "text/plain": [
       "<Figure size 432x288 with 1 Axes>"
      ]
     },
     "metadata": {
      "needs_background": "light"
     },
     "output_type": "display_data"
    }
   ],
   "source": [
    "S = 100.0\n",
    "K = 100.5\n",
    "t = 30.0 / 365.0\n",
    "r = 0.01\n",
    "C0 = 0.01\n",
    "\n",
    "args = [S, K, r, t, C0]\n",
    "\n",
    "R, count = newtons_method(objective_function, calculate_vega, R = 0.5, args = args, debug = True)\n",
    "print(R, count)\n",
    "\n",
    "sigma = np.linspace(0, 100, 100)\n",
    "plt.plot(sigma, call_price(sigma, S, K, r, t) - C0, '-')"
   ]
  },
  {
   "cell_type": "code",
   "execution_count": null,
   "metadata": {},
   "outputs": [],
   "source": []
  }
 ],
 "metadata": {
  "kernelspec": {
   "display_name": "Python 3",
   "language": "python",
   "name": "python3"
  },
  "language_info": {
   "codemirror_mode": {
    "name": "ipython",
    "version": 3
   },
   "file_extension": ".py",
   "mimetype": "text/x-python",
   "name": "python",
   "nbconvert_exporter": "python",
   "pygments_lexer": "ipython3",
   "version": "3.7.1"
  }
 },
 "nbformat": 4,
 "nbformat_minor": 2
}
