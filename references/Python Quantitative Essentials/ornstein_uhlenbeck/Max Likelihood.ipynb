{
 "cells": [
  {
   "cell_type": "code",
   "execution_count": 28,
   "id": "9862fbcf",
   "metadata": {},
   "outputs": [],
   "source": [
    "import numpy as np\n",
    "import matplotlib.pyplot as plt\n",
    "from scipy.stats import norm\n",
    "from scipy.optimize import minimize\n",
    "\n",
    "%matplotlib inline"
   ]
  },
  {
   "cell_type": "markdown",
   "id": "820341a1",
   "metadata": {},
   "source": [
    "# Likelihood and Maximum Likelihood Estimation\n",
    "\n",
    "The normal density function is given by,\n",
    "$$\n",
    "f(x) = \\frac{1}{\\sigma \\sqrt{2\\pi}} e^{-\\frac{1}{2}\\left(\n",
    "    \\frac{x-\\mu}{\\sigma} \\right)^2}\n",
    "$$\n",
    "\n",
    "The likelihood of of an observed x-value, say $x_1$ is simply $\\mathscr{l} = f(x_1)$.  If there are multple x-values, $x_1, x_2, x_3, \\cdots , x_N$, the the likelihood is given py the product of the individual likelihoods,\n",
    "$$\n",
    "\\mathscr{l} = \\prod_{i=1}^N f(x_i)\n",
    "$$\n",
    "\n",
    "We want to find $\\mu$ and $\\sigma$ given a bunch of x-values and assuming a normal distribution.  We do this my choosing $\\mu$ and $\\sigma$ as to maximize the likelihood.  In practice, one actually maximizes the log of the likelihood as this doesn't affect the estiamted values of our unknown parameters, but does simplify the calculation, both analytically and numerically.\n",
    "\n",
    "See the Wikipedia article on maximum likelihood and the derivation for the normal distribution:  https://en.wikipedia.org/wiki/Maximum_likelihood_estimation#Continuous_distribution,_continuous_parameter_space\n",
    "\n",
    "\n",
    "We find the maximum by setting the derivatives equal to zero:\n",
    "\n",
    "$$\\frac{d\\ln(\\mathscr{l})}{d\\mu} = 0$$\n",
    "and\n",
    "$$\n",
    "\\frac{d\\ln(\\mathscr{l})}{d\\sigma} = 0\n",
    "$$\n",
    "\n",
    "If we solve these we get,\n",
    "$$\n",
    "\\mu^* = \\frac{1}{N}\\sum^N_{i = 1} x_i\n",
    "$$\n",
    "and\n",
    "$$\\sigma^* = \\sqrt{\n",
    "\\frac{1}{N}\\sum^N_{i=1} (x_i - \\mu^*)^2}\n",
    "$$\n",
    "\n",
    "The results for the normal distribution turn out to be the sample mean and standard deviation"
   ]
  },
  {
   "cell_type": "code",
   "execution_count": 29,
   "id": "856199fb",
   "metadata": {},
   "outputs": [
    {
     "name": "stdout",
     "output_type": "stream",
     "text": [
      "0.03315904626424956\n",
      "0.08065690817304778\n",
      "0.0026745061496414196\n"
     ]
    },
    {
     "data": {
      "image/png": "[encoded data removed]",
      "text/plain": [
       "<Figure size 432x288 with 1 Axes>"
      ]
     },
     "metadata": {
      "needs_background": "light"
     },
     "output_type": "display_data"
    }
   ],
   "source": [
    "mu = 2\n",
    "sigma = 3\n",
    "\n",
    "x = np.linspace(-10, 13)\n",
    "y = norm.pdf(x, loc = mu, scale = sigma)\n",
    "\n",
    "plt.plot(x, y, 'k')\n",
    "plt.grid(True)\n",
    "\n",
    "x1 = 7\n",
    "x2 = -1\n",
    "\n",
    "plt.plot(x1, 0, 'bo')\n",
    "plt.plot(x2, 0, 'bo')\n",
    "#plt.savefig('normal.png')\n",
    "\n",
    "l1 = norm.pdf(x1, loc = mu, scale = sigma)\n",
    "l2 = norm.pdf(x2, loc = mu, scale = sigma)\n",
    "\n",
    "print(l1)\n",
    "print(l2)\n",
    "\n",
    "print(l1 * l2)"
   ]
  },
  {
   "cell_type": "code",
   "execution_count": 30,
   "id": "892f281f",
   "metadata": {},
   "outputs": [],
   "source": [
    "def log_likelihood(p, x):\n",
    "    mu = p[0]\n",
    "    sigma = p[1]\n",
    "    \n",
    "    l = np.sum( np.log( norm.pdf(x, loc = mu, scale = sigma) ) )\n",
    "    \n",
    "    return -l \n",
    "\n",
    "def constraint(p):\n",
    "    sigma = p[1]\n",
    "    \n",
    "    return sigma"
   ]
  },
  {
   "cell_type": "code",
   "execution_count": 31,
   "id": "55a4e4f8",
   "metadata": {},
   "outputs": [
    {
     "name": "stdout",
     "output_type": "stream",
     "text": [
      "2.0813272204710795\n",
      "3.384721411433883\n"
     ]
    }
   ],
   "source": [
    "np.random.seed(123)\n",
    "N = 100\n",
    "\n",
    "x = np.random.normal(loc = mu, scale = sigma, size = (N,))\n",
    "#plt.plot(x, 'k')\n",
    "#plt.grid(True)\n",
    "#plt.savefig('random.png')\n",
    "\n",
    "print(np.mean(x))\n",
    "print(np.std(x))"
   ]
  },
  {
   "cell_type": "code",
   "execution_count": 32,
   "id": "dd423c8c",
   "metadata": {},
   "outputs": [
    {
     "data": {
      "text/plain": [
       "     fun: 263.8210135314002\n",
       "     jac: array([2.59399414e-04, 3.81469727e-06])\n",
       " message: 'Optimization terminated successfully.'\n",
       "    nfev: 58\n",
       "     nit: 12\n",
       "    njev: 12\n",
       "  status: 0\n",
       " success: True\n",
       "       x: array([2.08135664, 3.38472116])"
      ]
     },
     "execution_count": 32,
     "metadata": {},
     "output_type": "execute_result"
    }
   ],
   "source": [
    "cons = {'type':'ineq', 'fun': constraint}\n",
    "\n",
    "p0 = [0, 1]\n",
    "\n",
    "minimize(log_likelihood, p0, args=(x,), constraints=cons )"
   ]
  },
  {
   "cell_type": "markdown",
   "id": "2fb0baac",
   "metadata": {},
   "source": [
    "# Ornstein-Uhlenbeck Process\n",
    "\n",
    "$$ dX_t = \\mu(\\theta - X_t) dt + \\sigma dW_t$$\n",
    "\n",
    "$$X_i - x_{i-1} = \\mu(\\theta - X_i) (t_i - t_{i-1}) + \\sigma\\sqrt{t_i - t_{i-1}}W_t$$"
   ]
  },
  {
   "cell_type": "code",
   "execution_count": 33,
   "id": "995df144",
   "metadata": {},
   "outputs": [
    {
     "data": {
      "text/plain": [
       "Text(0, 0.5, 'X')"
      ]
     },
     "execution_count": 33,
     "metadata": {},
     "output_type": "execute_result"
    },
    {
     "data": {
      "image/png": "[encoded data removed]",
      "text/plain": [
       "<Figure size 432x288 with 1 Axes>"
      ]
     },
     "metadata": {
      "needs_background": "light"
     },
     "output_type": "display_data"
    }
   ],
   "source": [
    "np.random.seed(123)\n",
    "\n",
    "theta = 1\n",
    "mu = 1.5\n",
    "sigma = 0.3\n",
    "\n",
    "t = np.linspace(0, 100, 1001)\n",
    "dt = t[1] - t[0]\n",
    "\n",
    "X = np.zeros( t.shape )\n",
    "X[0] = 1.1\n",
    "\n",
    "for i in range( t.size-1 ):\n",
    "    X[i+1] = X[i] + mu * (theta - X[i]) * dt + sigma * np.sqrt(dt) * np.random.normal()\n",
    "    \n",
    "plt.plot(t, X)\n",
    "plt.grid(True)\n",
    "plt.xlabel('t')\n",
    "plt.ylabel('X')"
   ]
  },
  {
   "cell_type": "markdown",
   "id": "1d7cd773",
   "metadata": {},
   "source": [
    "The distribution is given by,\n",
    "$$\n",
    "f^{OU}(x_i|x_{i-1}; \\theta,\\mu,\\sigma) = \\frac{1}{\\sqrt{2\\pi\\tilde{\\sigma}^2}}\\mbox{Exp}\\left(\n",
    "-\\frac{(x_i - x_{i-1}e^{-\\mu\\Delta t} - \\theta(1 - e^{-\\mu\\Delta t}))^2}{2\\tilde{\\sigma}^2}\n",
    "\\right)\n",
    "$$\n",
    "\n",
    "with $\\tilde{\\sigma}$ defined as,\n",
    "\n",
    "$$\n",
    "\\tilde{\\sigma}^2 = \\sigma^2 \\frac{1-e^{-2\\mu \\Delta t}}{2\\mu}.\n",
    "$$\n",
    "\n",
    "We can use this to calculate the log likelihood.\n",
    "\n",
    "Let's numerically calculate the log likelihood and use Scipy to find the parameters that maximize it."
   ]
  },
  {
   "cell_type": "code",
   "execution_count": 34,
   "id": "d5fe8c82",
   "metadata": {},
   "outputs": [],
   "source": [
    "#  Code our distribution function\n",
    "def OU(x1, x2, dt, theta, mu, sigma):\n",
    "    sigma0 = sigma**2 * (1 - np.exp(-2*mu*dt)) / (2 * mu)\n",
    "    sigma0 = np.sqrt( sigma0 )\n",
    "    \n",
    "    prefactor = 1 / np.sqrt(2 * np.pi * sigma0**2)\n",
    "    \n",
    "    f =  prefactor * np.exp( -(x2 - x1 * np.exp(-mu*dt) - \\\n",
    "                    theta * (1-np.exp(-mu*dt)) )**2 / (2 * sigma0**2) )\n",
    "    \n",
    "    return f\n",
    "\n",
    "#  Calculate the negative of the log likelihood\n",
    "def log_likelihood_OU(p, X, dt):\n",
    "    \n",
    "    theta = p[0]\n",
    "    mu = p[1]\n",
    "    sigma = p[2]\n",
    "    \n",
    "    N = X.size\n",
    "    \n",
    "    f = np.zeros( (N-1, ) )\n",
    "    \n",
    "    for i in range( 1, N ):\n",
    "        x2 = X[i]\n",
    "        x1 = X[i-1]\n",
    "        \n",
    "        f[i-1] = OU(x1, x2, dt, theta, mu, sigma)\n",
    "    \n",
    "    ind = np.where(f == 0)\n",
    "    ind = ind[0]\n",
    "    if ind.size > 0:\n",
    "        f[ind] = 10**-8\n",
    "        \n",
    "    f = np.log(f)\n",
    "    f = np.sum(f)\n",
    "        \n",
    "    return -f\n",
    "\n",
    "#  mu and sigma must be greater than zero.  We use these contraint functions with minimze\n",
    "def constraint1( p ):\n",
    "    return p[1]\n",
    "\n",
    "def constraint2( p ):\n",
    "    return p[2]"
   ]
  },
  {
   "cell_type": "code",
   "execution_count": 35,
   "id": "f2c59f49",
   "metadata": {},
   "outputs": [
    {
     "name": "stderr",
     "output_type": "stream",
     "text": [
      "C:\\Users\\moone\\Anaconda3\\lib\\site-packages\\ipykernel_launcher.py:3: RuntimeWarning: invalid value encountered in double_scalars\n",
      "  This is separate from the ipykernel package so we can avoid doing imports until\n"
     ]
    },
    {
     "data": {
      "text/plain": [
       "     fun: -935.5940335771147\n",
       "     jac: array([-0.00041199,  0.00058746,  0.01727295])\n",
       " message: 'Optimization terminated successfully.'\n",
       "    nfev: 166\n",
       "     nit: 28\n",
       "    njev: 28\n",
       "  status: 0\n",
       " success: True\n",
       "       x: array([0.97490342, 1.56178286, 0.32394579])"
      ]
     },
     "execution_count": 35,
     "metadata": {},
     "output_type": "execute_result"
    }
   ],
   "source": [
    "#  Add constraint function to a dictionary\n",
    "cons = ( {'type':'ineq', 'fun': constraint1},\n",
    "         {'type':'ineq', 'fun': constraint2} )\n",
    "\n",
    "#  Initial guess for our parameters\n",
    "p0 = [1, 1, 1]\n",
    "\n",
    "#  Call minimize\n",
    "minimize(log_likelihood_OU, p0, args = (X, dt), constraints=cons)"
   ]
  },
  {
   "cell_type": "markdown",
   "id": "25710c88",
   "metadata": {},
   "source": [
    "The optimal parameters can be calculated analytically.\n",
    "\n",
    "First they define\n",
    "\n",
    "$$\n",
    "X_x = \\sum_{i=1}^N x_{i-1}\n",
    "$$\n",
    "\n",
    "$$\n",
    "X_y = \\sum_{i=1}^N x_i\n",
    "$$\n",
    "\n",
    "$$\n",
    "X_{xx} = \\sum_{i=1}^N (x_{i-1})^2\n",
    "$$\n",
    "\n",
    "$$\n",
    "X_{xy} = \\sum_{i=1}^N x_{i-1} x_i\n",
    "$$\n",
    "\n",
    "$$\n",
    "X_{yy} = \\sum_{i=1}^N (x_i)^2\n",
    "$$"
   ]
  },
  {
   "cell_type": "markdown",
   "id": "49d8a95d",
   "metadata": {},
   "source": [
    "The optimal parameters are given by,\n",
    "\n",
    "\n",
    "$$\n",
    "\\theta^* = \\frac{X_y X_{xx} - X_x X_{xy}}\n",
    "{N(X_{xx} - X_{xy}) - (X_x^2 - X_xX_y)}\n",
    "$$\n",
    "\n",
    "$$\n",
    "\\mu^* = -\\frac{1}{\\Delta t} \\ln\\left(\n",
    "\\frac{X_{xy} - \\theta^*X_x - \\theta^*X_y + N(\\theta^*)^2}\n",
    "{X_{xx} - 2\\theta^*X_x + N(\\theta^*)^2}\\right)\n",
    "$$\n",
    "\n",
    "\n",
    "\\begin{multline}\n",
    "(\\sigma^*)^2 = \\frac{2\\mu^*}{N(1-e^{-2\\mu^*\\Delta t})} (X_{yy} - 2e^{-\\mu^*\\Delta t} X_{xy} + e^{-2\\mu^*\\Delta t}X_{xx} \\\\\n",
    "- 2\\theta^* (1-e^{-\\mu^*\\Delta t})(X_y - e^{-\\mu^*\\Delta t})X_x + N(\\theta^*)^2(1-e^{-\\mu^*\\Delta t})^2)\n",
    "\\end{multline}"
   ]
  },
  {
   "cell_type": "code",
   "execution_count": 36,
   "id": "fb2f52df",
   "metadata": {},
   "outputs": [
    {
     "name": "stdout",
     "output_type": "stream",
     "text": [
      "0.9738715922866101\n",
      "1.5152361730170372\n",
      "0.3234146023399549\n"
     ]
    }
   ],
   "source": [
    "N = X.size\n",
    "Xx  = np.sum(X[0:-1])\n",
    "Xy  = np.sum(X[1:])\n",
    "Xxx = np.sum(X[0:-1]**2)\n",
    "Xxy = np.sum(X[0:-1] * X[1:])\n",
    "Xyy = np.sum(X[1:]**2)\n",
    "\n",
    "theta0 = (Xy * Xxx - Xx * Xxy) /  \\\n",
    "    (N * (Xxx - Xxy) - (Xx**2 - Xx * Xy) )\n",
    "\n",
    "mu0 = (Xxy - theta0 * Xx - theta0 * Xy + N * theta0**2) / \\\n",
    "    (Xxx - 2 * theta0 * Xx + N * theta0**2)\n",
    "mu0 = -1 / dt * np.log(mu0)\n",
    "\n",
    "prefactor = 2 * mu0 / (N*(1-np.exp(-2*mu0*dt)))\n",
    "term = Xyy - 2*np.exp(-mu0*dt) * Xxy + np.exp(-2*mu0*dt) * Xxx - 2*theta0*(1-np.exp(-mu0*dt)) * (Xy - Xx * np.exp(-mu0*dt)) + N * theta0**2* ( 1-np.exp(-mu0 * dt))**2\n",
    "\n",
    "sigma02 = prefactor * term\n",
    "\n",
    "print(theta0)\n",
    "print(mu0)\n",
    "print(np.sqrt(sigma02))"
   ]
  },
  {
   "cell_type": "code",
   "execution_count": null,
   "id": "4cceef3c",
   "metadata": {},
   "outputs": [],
   "source": []
  }
 ],
 "metadata": {
  "kernelspec": {
   "display_name": "Python 3",
   "language": "python",
   "name": "python3"
  },
  "language_info": {
   "codemirror_mode": {
    "name": "ipython",
    "version": 3
   },
   "file_extension": ".py",
   "mimetype": "text/x-python",
   "name": "python",
   "nbconvert_exporter": "python",
   "pygments_lexer": "ipython3",
   "version": "3.7.1"
  }
 },
 "nbformat": 4,
 "nbformat_minor": 5
}
