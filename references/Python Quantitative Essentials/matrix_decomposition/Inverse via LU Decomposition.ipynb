{
 "cells": [
  {
   "cell_type": "markdown",
   "id": "65d7b8d0",
   "metadata": {},
   "source": [
    "We know that if we have a matic $A$, and multiply it by its inverse $A^{-1}$, we get the indenity matrix $I$.\n",
    "\n",
    "Let's set $A^{-1} = B$ just to keep the notation simple.\n",
    "\n",
    "We have\n",
    "$$AB = I.$$\n",
    "\n",
    "For a $3\\times 3$ matrix,\n",
    "\n",
    "$$\n",
    "\\begin{pmatrix}\n",
    "a_{11} & a_{12} & a_{13} \\\\\n",
    "a_{21} & a_{22} & a_{23} \\\\\n",
    "a_{31} & a_{32} & a_{33}\n",
    "\\end{pmatrix}\n",
    "\\begin{pmatrix}\n",
    "b_{11} & b_{12} & b_{13} \\\\\n",
    "b_{21} & b_{22} & b_{23} \\\\\n",
    "b_{31} & b_{32} & b_{33}\n",
    "\\end{pmatrix} = \n",
    "\\begin{pmatrix}\n",
    "1 & 0 & 0 \\\\\n",
    "0 & 1 & 0 \\\\\n",
    "0 & 0 & 1\n",
    "\\end{pmatrix}\n",
    "$$\n",
    "\n",
    "This becomes three individual  matrix equations.  One for each colum of the inverse matrix.\n",
    "\n",
    "$$\n",
    "\\begin{pmatrix}\n",
    "a_{11} & a_{12} & a_{13} \\\\\n",
    "a_{21} & a_{22} & a_{23} \\\\\n",
    "a_{31} & a_{32} & a_{33}\n",
    "\\end{pmatrix}\n",
    "\\begin{pmatrix}\n",
    "b_{11}  \\\\\n",
    "b_{21}  \\\\\n",
    "b_{31} \n",
    "\\end{pmatrix} = \n",
    "\\begin{pmatrix}\n",
    "1  \\\\\n",
    "0  \\\\\n",
    "0 \n",
    "\\end{pmatrix}\n",
    "$$\n",
    "\n",
    "$$\n",
    "\\begin{pmatrix}\n",
    "a_{11} & a_{12} & a_{13} \\\\\n",
    "a_{21} & a_{22} & a_{23} \\\\\n",
    "a_{31} & a_{32} & a_{33}\n",
    "\\end{pmatrix}\n",
    "\\begin{pmatrix}\n",
    "b_{12} \\\\\n",
    "b_{22} \\\\\n",
    "b_{32}\n",
    "\\end{pmatrix} = \n",
    "\\begin{pmatrix}\n",
    "0 \\\\\n",
    "1 \\\\\n",
    "0\n",
    "\\end{pmatrix}\n",
    "$$\n",
    "\n",
    "$$\n",
    "\\begin{pmatrix}\n",
    "a_{11} & a_{12} & a_{13} \\\\\n",
    "a_{21} & a_{22} & a_{23} \\\\\n",
    "a_{31} & a_{32} & a_{33}\n",
    "\\end{pmatrix}\n",
    "\\begin{pmatrix}\n",
    "b_{13} \\\\\n",
    "b_{23} \\\\\n",
    "b_{33}\n",
    "\\end{pmatrix} = \n",
    "\\begin{pmatrix}\n",
    "0 \\\\\n",
    "0 \\\\\n",
    "1\n",
    "\\end{pmatrix}\n",
    "$$"
   ]
  },
  {
   "cell_type": "code",
   "execution_count": 16,
   "id": "3865685e",
   "metadata": {},
   "outputs": [],
   "source": [
    "import numpy as np\n",
    "from scipy.linalg import lu, lu_solve, lu_factor"
   ]
  },
  {
   "cell_type": "code",
   "execution_count": 17,
   "id": "1c7a2318",
   "metadata": {},
   "outputs": [
    {
     "name": "stdout",
     "output_type": "stream",
     "text": [
      "[[ 1.62434536 -0.61175641 -0.52817175]\n",
      " [-1.07296862  0.86540763 -2.3015387 ]\n",
      " [ 1.74481176 -0.7612069   0.3190391 ]]\n"
     ]
    }
   ],
   "source": [
    "np.random.seed(1)\n",
    "\n",
    "#  Let's invert this matrix via LU decomposition\n",
    "A = np.random.normal( size = (3, 3))\n",
    "print(A)"
   ]
  },
  {
   "cell_type": "code",
   "execution_count": 18,
   "id": "d3205cb5",
   "metadata": {},
   "outputs": [
    {
     "name": "stdout",
     "output_type": "stream",
     "text": [
      "[[0. 0. 1.]\n",
      " [0. 1. 0.]\n",
      " [1. 0. 0.]]\n",
      "\n",
      "[[ 1.          0.          0.        ]\n",
      " [-0.61494807  1.          0.        ]\n",
      " [ 0.93095737  0.24388009  1.        ]]\n",
      "\n",
      "[[ 1.74481176 -0.7612069   0.3190391 ]\n",
      " [ 0.          0.39730492 -2.10534622]\n",
      " [ 0.          0.         -0.31173153]]\n",
      "\n"
     ]
    }
   ],
   "source": [
    "#  Calculate and print p0, L, and U.  \n",
    "p0, L, U = lu(A, permute_l=False)\n",
    "print(p0); print()\n",
    "print(L); print()\n",
    "print(U); print()"
   ]
  },
  {
   "cell_type": "code",
   "execution_count": 19,
   "id": "f0960af2",
   "metadata": {},
   "outputs": [
    {
     "name": "stdout",
     "output_type": "stream",
     "text": [
      "[[ -6.82949293   2.76364776   8.63059432]\n",
      " [-16.99882312   6.66263299  19.92235287]\n",
      " [ -3.20788853   0.78234013   3.46750601]]\n"
     ]
    }
   ],
   "source": [
    "#  lu_solve takes the matrices L and U in a combiined form where the ones on the diagonal of the L matrix are removed.\n",
    "#  We then add this to the U matrix to get them into a more compressed form.\n",
    "for i in range(L.shape[0]):\n",
    "    L[i,i] = 0\n",
    "    \n",
    "LU = L + U\n",
    "\n",
    "#  The P matrix is represented with a vector.  Here, the 2 means row two is now in the first row, etc.\n",
    "p = np.array([2,1,0])\n",
    "\n",
    "#  Enter the vevtors of knowns and permute them.\n",
    "I1 = np.array([1,0,0]); I1 = p0 @ I1\n",
    "I2 = np.array([0,1,0]); I2 = p0 @ I2\n",
    "I3 = np.array([0,0,1]); I3 = p0 @ I3\n",
    "\n",
    "#  Solve for the columns of our inverse matrix\n",
    "b1 = lu_solve( (LU, p), I1)\n",
    "b2 = lu_solve( (LU, p), I2)\n",
    "b3 = lu_solve( (LU, p), I3)\n",
    "\n",
    "# Make these explicitly column vectors\n",
    "b1.shape = (3,1)\n",
    "b2.shape = (3,1)\n",
    "b3.shape = (3,1)\n",
    "\n",
    "#  Join them togther into a single matrix\n",
    "A_inv = np.hstack( (b1,b2,b3) )\n",
    "print(A_inv)"
   ]
  },
  {
   "cell_type": "code",
   "execution_count": 20,
   "id": "ec4a963e",
   "metadata": {},
   "outputs": [
    {
     "data": {
      "text/plain": [
       "True"
      ]
     },
     "execution_count": 20,
     "metadata": {},
     "output_type": "execute_result"
    }
   ],
   "source": [
    "#  Is our answer the same as Numpy's built-in inv function?\n",
    "A_num = np.linalg.inv(A)\n",
    "np.allclose(A_num, A_inv)"
   ]
  },
  {
   "cell_type": "code",
   "execution_count": null,
   "id": "0034c901",
   "metadata": {},
   "outputs": [],
   "source": []
  }
 ],
 "metadata": {
  "kernelspec": {
   "display_name": "Python 3",
   "language": "python",
   "name": "python3"
  },
  "language_info": {
   "codemirror_mode": {
    "name": "ipython",
    "version": 3
   },
   "file_extension": ".py",
   "mimetype": "text/x-python",
   "name": "python",
   "nbconvert_exporter": "python",
   "pygments_lexer": "ipython3",
   "version": "3.7.1"
  }
 },
 "nbformat": 4,
 "nbformat_minor": 5
}
