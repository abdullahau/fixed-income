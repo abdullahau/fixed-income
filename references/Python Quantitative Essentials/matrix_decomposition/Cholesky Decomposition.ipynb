{
 "cells": [
  {
   "cell_type": "code",
   "execution_count": 2,
   "id": "657b3dbb",
   "metadata": {},
   "outputs": [],
   "source": [
    "import numpy as np\n",
    "from scipy.linalg import cho_factor, cho_solve"
   ]
  },
  {
   "cell_type": "markdown",
   "id": "74027844",
   "metadata": {},
   "source": [
    "Cholesky decompostion facrs a symmetric matrix into a lower triangular matrix L and its transpose such that\n",
    "\n",
    "$$\n",
    "A = LL^\\dagger.\n",
    "$$\n",
    "\n",
    "For example,\n",
    "\n",
    "\\begin{pmatrix}\n",
    "4.31  &  0.094 & 1.599 & 0.634 & -0.16 \\\\\n",
    "0.094 &  6.961 & 1.984 &  3.656 & -3.814 \\\\\n",
    "1.599 &  1.984 & 7.412 & -1.473 & -2.258 \\\\\n",
    "0.634 &  3.656 & -1.473 &  4.386 & -1.518 \\\\\n",
    "0.16  & -3.814 & -2.258 & -1.518 &  2.553\n",
    "\\end{pmatrix}\n",
    "\n",
    "decomposes into the product of\n",
    "\n",
    "\\begin{pmatrix}\n",
    "2.076 & 0 &    0  &   0  &   0 \\\\\n",
    "0.045 &  2.638  0 &    0 &   0 \\\\\n",
    "0.77  &  0.739 & 2.505 & 0 &   0 \\\\\n",
    "0.305 &  1.381 &-1.089 & 1.095 & 0 \\\\\n",
    "-0.077 &  -1.445 & -0.452 &  0.007 & 0.506\n",
    "\\end{pmatrix}\n",
    "\n",
    "and\n",
    "\n",
    "\\begin{pmatrix}\n",
    "2.076 & 0.045 & 0.77 &  0.305 & -0.077 \\\\\n",
    "0 &    2.638 & 0.739 &  1.381 & -1.445 \\\\\n",
    "0 &    0 &    2.505 &  -1.089 & -0.452 \\\\\n",
    "0 &    0 &    0  &   1.095 & 0.007 \\\\\n",
    "0 &    0 &    0  &   0  &   0.506\n",
    " \\end{pmatrix}"
   ]
  },
  {
   "cell_type": "code",
   "execution_count": 12,
   "id": "a1b0e6d4",
   "metadata": {},
   "outputs": [
    {
     "name": "stdout",
     "output_type": "stream",
     "text": [
      "[[ 4.31   0.094  1.599  0.634 -0.16 ]\n",
      " [ 0.094  6.961  1.984  3.656 -3.814]\n",
      " [ 1.599  1.984  7.412 -1.473 -2.258]\n",
      " [ 0.634  3.656 -1.473  4.386 -1.518]\n",
      " [-0.16  -3.814 -2.258 -1.518  2.553]]\n",
      "\n",
      "[[ 4.31   0.094  1.599  0.634 -0.16 ]\n",
      " [ 0.094  6.961  1.984  3.656 -3.814]\n",
      " [ 1.599  1.984  7.412 -1.473 -2.258]\n",
      " [ 0.634  3.656 -1.473  4.386 -1.518]\n",
      " [-0.16  -3.814 -2.258 -1.518  2.553]]\n",
      "[[-0.46930528]\n",
      " [ 0.67555409]\n",
      " [-1.81702723]\n",
      " [-0.18310854]\n",
      " [ 1.05896919]]\n"
     ]
    }
   ],
   "source": [
    "np.random.seed(1234)\n",
    "A = np.random.normal(size = (5, 5))\n",
    "A = A @ A.T\n",
    "\n",
    "with np.printoptions(precision=3, suppress=True):\n",
    "    print(A)\n",
    "\n",
    "print()\n",
    "L = np.linalg.cholesky(A)\n",
    "#print(L)\n",
    "\n",
    "with np.printoptions(precision=3, suppress=True):\n",
    "    print( L @ L.T)\n",
    "    \n",
    "b = np.random.normal(size = (5, 1))\n",
    "print(b)"
   ]
  },
  {
   "cell_type": "markdown",
   "id": "1608bade",
   "metadata": {},
   "source": [
    "Let's solve the linear system\n",
    "\n",
    "$$\n",
    "\\begin{pmatrix}\n",
    "4.31  &  0.094 & 1.599 & 0.634 & -0.16 \\\\\n",
    "0.094 &  6.961 & 1.984 &  3.656 & -3.814 \\\\\n",
    "1.599 &  1.984 & 7.412 & -1.473 & -2.258 \\\\\n",
    "0.634 &  3.656 & -1.473 &  4.386 & -1.518 \\\\\n",
    "0.16  & -3.814 & -2.258 & -1.518 &  2.553\n",
    "\\end{pmatrix}\n",
    "\\begin{pmatrix}\n",
    "    x_1 \\\\\n",
    "    x_2 \\\\\n",
    "    x_3 \\\\\n",
    "    x_4 \\\\\n",
    "    x_5\n",
    "\\end{pmatrix}\n",
    "= \n",
    "\\begin{pmatrix}\n",
    "    -0.4693 \\\\\n",
    "    0.6756 \\\\\n",
    "    -1.8170 \\\\\n",
    "    -0.1831 \\\\\n",
    "    1.0590\n",
    "\\end{pmatrix}\n",
    "$$"
   ]
  },
  {
   "cell_type": "markdown",
   "id": "c4ad0847",
   "metadata": {},
   "source": [
    "We do our Cholesky decompostion and write\n",
    "\n",
    "$$\n",
    "\\begin{pmatrix}\n",
    "2.076 & 0 &    0  &   0  &   0 \\\\\n",
    "0.045 &  2.638  0 &    0 &   0 \\\\\n",
    "0.77  &  0.739 & 2.505 & 0 &   0 \\\\\n",
    "0.305 &  1.381 &-1.089 & 1.095 & 0 \\\\\n",
    "-0.077 &  -1.445 & -0.452 &  0.007 & 0.506\n",
    "\\end{pmatrix}\n",
    "\\underbrace{\n",
    "    \\begin{pmatrix}\n",
    "    2.076 & 0.045 & 0.77 &  0.305 & -0.077 \\\\\n",
    "    0 &    2.638 & 0.739 &  1.381 & -1.445 \\\\\n",
    "    0 &    0 &    2.505 &  -1.089 & -0.452 \\\\\n",
    "    0 &    0 &    0  &   1.095 & 0.007 \\\\\n",
    "    0 &    0 &    0  &   0  &   0.506\n",
    "    \\end{pmatrix}\n",
    "    \\begin{pmatrix}\n",
    "        x_1 \\\\\n",
    "        x_2 \\\\\n",
    "        x_3 \\\\\n",
    "        x_4 \\\\\n",
    "        x_5\n",
    "    \\end{pmatrix}\n",
    "}_{\\tilde{x}}\n",
    "= \n",
    "\\begin{pmatrix}\n",
    "    -0.4693 \\\\\n",
    "    0.6756 \\\\\n",
    "    -1.8170 \\\\\n",
    "    -0.1831 \\\\\n",
    "    1.0590\n",
    "\\end{pmatrix}\n",
    "$$\n",
    "\n",
    "Now we can write,"
   ]
  },
  {
   "cell_type": "markdown",
   "id": "db74882b",
   "metadata": {},
   "source": [
    "$$\n",
    "\\begin{pmatrix}\n",
    "2.076 & 0 &    0  &   0  &   0 \\\\\n",
    "0.045 &  2.638  0 &    0 &   0 \\\\\n",
    "0.77  &  0.739 & 2.505 & 0 &   0 \\\\\n",
    "0.305 &  1.381 &-1.089 & 1.095 & 0 \\\\\n",
    "-0.077 &  -1.445 & -0.452 &  0.007 & 0.506\n",
    "\\end{pmatrix}\n",
    "\\begin{pmatrix}\n",
    "    \\tilde{x_1} \\\\\n",
    "    \\tilde{x_2} \\\\\n",
    "    \\tilde{x_3} \\\\\n",
    "    \\tilde{x_4} \\\\\n",
    "    \\tilde{x_5}\n",
    "\\end{pmatrix}\n",
    "=\n",
    "\\begin{pmatrix}\n",
    "    -0.4693 \\\\\n",
    "    0.6756 \\\\\n",
    "    -1.8170 \\\\\n",
    "    -0.1831 \\\\\n",
    "    1.0590\n",
    "\\end{pmatrix}\n",
    "$$\n",
    "\n",
    "We can easily solve the above equation for $\\tilde{x}$ by forward substitution.\n",
    "Then we can get our original unkwon vector by backward substitution,"
   ]
  },
  {
   "cell_type": "markdown",
   "id": "e0494139",
   "metadata": {},
   "source": [
    "$$\n",
    "\\begin{pmatrix}\n",
    "    2.076 & 0.045 & 0.77 &  0.305 & -0.077 \\\\\n",
    "    0 &    2.638 & 0.739 &  1.381 & -1.445 \\\\\n",
    "    0 &    0 &    2.505 &  -1.089 & -0.452 \\\\\n",
    "    0 &    0 &    0  &   1.095 & 0.007 \\\\\n",
    "    0 &    0 &    0  &   0  &   0.506\n",
    "\\end{pmatrix}\n",
    "\\begin{pmatrix}\n",
    "    x_1 \\\\\n",
    "    x_2 \\\\\n",
    "    x_3 \\\\\n",
    "    x_4 \\\\\n",
    "    x_5\n",
    "\\end{pmatrix}\n",
    "= \n",
    "\\begin{pmatrix}\n",
    "    \\tilde{x_1} \\\\\n",
    "    \\tilde{x_2} \\\\\n",
    "    \\tilde{x_3} \\\\\n",
    "    \\tilde{x_4} \\\\\n",
    "    \\tilde{x_5}\n",
    "\\end{pmatrix}\n",
    "$$"
   ]
  },
  {
   "cell_type": "code",
   "execution_count": 16,
   "id": "7a0ec852",
   "metadata": {},
   "outputs": [
    {
     "name": "stdout",
     "output_type": "stream",
     "text": [
      "[[ 0.14191414]\n",
      " [ 3.00959324]\n",
      " [ 0.00698134]\n",
      " [-1.0868875 ]\n",
      " [ 4.28058344]]\n",
      "\n",
      "[[ 0.14191414]\n",
      " [ 3.00959324]\n",
      " [ 0.00698134]\n",
      " [-1.0868875 ]\n",
      " [ 4.28058344]]\n"
     ]
    },
    {
     "data": {
      "text/plain": [
       "True"
      ]
     },
     "execution_count": 16,
     "metadata": {},
     "output_type": "execute_result"
    }
   ],
   "source": [
    "x1 = np.linalg.solve(A, b)\n",
    "print(x1)\n",
    "print()\n",
    "\n",
    "L = cho_factor(A, lower = True)\n",
    "x2 = cho_solve(L, b)\n",
    "print(x2)\n",
    "\n",
    "np.allclose(x1, x2)"
   ]
  },
  {
   "cell_type": "code",
   "execution_count": 21,
   "id": "d4375120",
   "metadata": {},
   "outputs": [
    {
     "name": "stdout",
     "output_type": "stream",
     "text": [
      "[[0.99968938 0.49948667]\n",
      " [0.49948667 0.99936442]]\n"
     ]
    }
   ],
   "source": [
    "np.random.seed(18)\n",
    "\n",
    "X = np.random.normal(size = (1000000, ))\n",
    "Y = np.random.normal(size = (1000000, ))\n",
    "\n",
    "#np.cov(X, Y)\n",
    "\n",
    "C = np.array([ [1, 0.5], [0.5, 1] ])\n",
    "#print(C)\n",
    "\n",
    "X.shape = (1, X.size)\n",
    "Y.shape = (1, Y.size)\n",
    "\n",
    "XY = np.vstack((X, Y))\n",
    "\n",
    "L = np.linalg.cholesky(C)\n",
    "\n",
    "UV = L @ XY\n",
    "\n",
    "U = UV[0,:]\n",
    "V = UV[1, :]\n",
    "\n",
    "print(np.cov(U, V))"
   ]
  },
  {
   "cell_type": "markdown",
   "id": "8ac16862",
   "metadata": {},
   "source": [
    "The covariance of a random variable $X$ and $Y$ (mean - and variance 1) is given by, \n",
    "\n",
    "$$\n",
    "\\mbox{cov}(X, Y) = \\mathbb{E}(XY^\\dagger).\n",
    "$$\n",
    "\n",
    "So if we have a collection of uncorrelated, noramlly distributed random variables,\n",
    "\n",
    "$$\n",
    "\\mbox{cov}(X_i, X_j) = \\delta_{i,j} = I\n",
    "$$\n",
    "\n",
    "Suppose we have a set of correlated variables to covariance matrix $C$.  We can do a Cholesky decomposition and write $C = LL^\\dagger$.\n",
    "\n",
    "Suppose we have two random variables in $V$ and $U$ is defined such that $U = LV$.  What is the covariance?\n",
    "\n",
    "\n",
    "$$\n",
    "\\mathbb{E}(UU^\\dagger) = \\mathbb{E}( (LV)(LV)^\\dagger) ) = \\mathbb{E}(LVV^\\dagger L^\\dagger)\n",
    "$$\n",
    "We can factor out $L$,\n",
    "\n",
    "$$\n",
    "L\\mathbb{E}(VV^\\dagger)L^\\dagger = LIL^\\dagger = LL^\\dagger = C\n",
    "$$"
   ]
  },
  {
   "cell_type": "code",
   "execution_count": null,
   "id": "db432149",
   "metadata": {},
   "outputs": [],
   "source": []
  }
 ],
 "metadata": {
  "kernelspec": {
   "display_name": "Python 3",
   "language": "python",
   "name": "python3"
  },
  "language_info": {
   "codemirror_mode": {
    "name": "ipython",
    "version": 3
   },
   "file_extension": ".py",
   "mimetype": "text/x-python",
   "name": "python",
   "nbconvert_exporter": "python",
   "pygments_lexer": "ipython3",
   "version": "3.7.1"
  }
 },
 "nbformat": 4,
 "nbformat_minor": 5
}
