{
 "cells": [
  {
   "cell_type": "code",
   "execution_count": 134,
   "metadata": {},
   "outputs": [],
   "source": [
    "import numpy as np\n",
    "import matplotlib.pyplot as plt\n",
    "import statsmodels.api as sm\n",
    "from mpl_toolkits.mplot3d import Axes3D\n",
    "\n",
    "%matplotlib inline"
   ]
  },
  {
   "cell_type": "markdown",
   "metadata": {},
   "source": [
    "Replace\n",
    "$$y = mx * b$$\n",
    "with\n",
    "$$y = \\theta_0 + \\theta_1 x$$\n",
    "\n",
    "So that when we have a multivariate case, we can writ something like,\n",
    "$$y = \\theta_0 + \\theta_1 x_1 + \\theta_2 x_2 + ...$$"
   ]
  },
  {
   "cell_type": "markdown",
   "metadata": {},
   "source": [
    "##  One variable"
   ]
  },
  {
   "cell_type": "code",
   "execution_count": 135,
   "metadata": {},
   "outputs": [
    {
     "name": "stdout",
     "output_type": "stream",
     "text": [
      "[1.90121727 0.31438759]\n",
      "Slope =  1.9012172673220806\n",
      "Intercept =  0.3143875934705495\n"
     ]
    },
    {
     "data": {
      "image/png": "[encoded data removed]",
      "text/plain": [
       "<Figure size 432x288 with 1 Axes>"
      ]
     },
     "metadata": {
      "needs_background": "light"
     },
     "output_type": "display_data"
    }
   ],
   "source": [
    "np.random.seed(1)\n",
    "\n",
    "x = np.array([1,2,3,4,5,6,7,8])\n",
    "y = 2 * x + np.random.normal(0, 1, size = x.size)\n",
    "\n",
    "plt.plot(x, y, 'o')\n",
    "plt.grid(True)\n",
    "\n",
    "#  I am using the polyfit function to do the regression.  In the past, we've used \n",
    "#  A function from scipy.stats.\n",
    "#  This will allow us to check the results from our algorithm.\n",
    "p = np.polyfit(x, y, 1); print(p)\n",
    "plt.plot(x, p[0] * x + p[1], 'k')\n",
    "print('Slope = ', p[0])\n",
    "print('Intercept = ', p[1])\n",
    "\n",
    "x.shape = (x.size, 1)\n",
    "ones = np.ones( x.shape )\n",
    "\n",
    "y.shape = (y.size, 1)\n",
    "X = np.hstack( (ones, x) )"
   ]
  },
  {
   "cell_type": "markdown",
   "metadata": {},
   "source": [
    "###  Previous Gradient Calculation\n",
    "In the original gradient descent video, we wrote the gradient as,\n",
    "$$\\frac{\\partial J}{\\partial \\theta_1} =  \\sum_i -2x_i (y_i - \\theta_1 x_i - \\theta_0)$$\n",
    "$$\\frac{\\partial J}{\\partial \\theta_0} =  \\sum_i -2 (y_i - \\theta_1 x_i - \\theta_0)$$\n",
    "\n",
    "Can we write this in a more compact way?\n",
    "\n",
    "Define:\n",
    "$$\n",
    "\\begin{array}{ll}\n",
    "    \\Theta = \\left(\n",
    "       \\begin{array}{l}\n",
    "           \\theta_0 \\\\\n",
    "           \\theta_1\n",
    "       \\end{array} \\right)\n",
    "       &\n",
    "       X = \\left(\n",
    "       \\begin{array}{l}\n",
    "           1 \\\\\n",
    "           x_i\n",
    "       \\end{array} \\right)\n",
    "\\end{array}\n",
    "$$\n",
    "What os the dot product $\\Theta \\cdot X$?\n",
    "\n",
    "$$\n",
    "\\begin{array}{ll}\n",
    "    \\Theta \\cdot X = \\Theta^\\dagger X = &\n",
    "    (\\theta_0 \\quad \\theta_1)\n",
    "    \\left(\n",
    "    \\begin{array}{l}\n",
    "        1 \\\\\n",
    "        x_i\n",
    "    \\end{array} \\right)\n",
    "\\end{array}\n",
    "$$\n",
    "The above matrix product is equal to:\n",
    "$$\n",
    "\\theta_0 + \\theta_1 x_i\n",
    "$$\n",
    "This is the equation of a line."
   ]
  },
  {
   "cell_type": "markdown",
   "metadata": {},
   "source": [
    "Consider the matrix equation,\n",
    "$$\n",
    "\\underbrace{\n",
    "    (\n",
    "    \\begin{array}{cc}\n",
    "        a & b\\\\\n",
    "    \\end{array}\n",
    ")\n",
    "}_u\n",
    "\\left(\n",
    "    \\begin{matrix}\n",
    "        a & c & e & g \\\\\n",
    "        b & d & f & h\n",
    "    \\end{matrix}\n",
    "   \\right)\n",
    "$$\n",
    "\n",
    "Let's define the following:\n",
    "$$\n",
    "\\begin{array}{lllll}\n",
    "    v_1 = \\left(\n",
    "    \\begin{array}{l}\n",
    "        a \\\\ b\n",
    "    \\end{array}\\right) , & \n",
    "    v_2 = \\left(\n",
    "    \\begin{array}{l}\n",
    "        a \\\\ b\n",
    "    \\end{array}\\right) , & \n",
    "     v_3 = \\left(\n",
    "    \\begin{array}{l}\n",
    "        c \\\\ d\n",
    "    \\end{array}\\right) , & \n",
    "     v_4 = \\left(\n",
    "    \\begin{array}{l}\n",
    "        e \\\\ f\n",
    "    \\end{array}\\right),  & \n",
    "    v_5 = \\left(\n",
    "    \\begin{array}{l}\n",
    "        g \\\\ h\n",
    "    \\end{array}\\right)\n",
    "\\end{array}\n",
    "$$\n",
    "\n",
    "So the matrix product gives a row vector whose entries are the dot prouct of $u$ with each column of the second matrix.\n",
    "$$\n",
    "\\left(\n",
    "\\begin{array}{lllll}\n",
    "    (u \\cdot v_1) & \n",
    "    (u \\dot v_2) & \n",
    "    (u \\cdot v_3) & \n",
    "    (u \\cdot v_4) & \n",
    "    (u \\cdot v_5)\n",
    "\\end{array}\n",
    "\\right)\n",
    "$$"
   ]
  },
  {
   "cell_type": "markdown",
   "metadata": {},
   "source": [
    "###  Here is our gradient descent function"
   ]
  },
  {
   "cell_type": "code",
   "execution_count": 136,
   "metadata": {},
   "outputs": [],
   "source": [
    "#  Our gradient descent implementation.  For the time being, there is no cutoff criteria other than reaching max count\n",
    "#  fprime is the function which returns the derivative or gradient\n",
    "# x0 is out initial guess for the minimum\n",
    "def gradient_descent(fprime, x0, args = None, gamma = 1e-3, max_iter = 1e5, debug = False, f = None):\n",
    "    count = 0\n",
    "\n",
    "    if f:\n",
    "        J = np.zeros( (int(max_iter) + 2, ) )\n",
    "        J[count] = f(x0, args)\n",
    "        \n",
    "        if isinstance(x0, float) or isinstance(x0, int):\n",
    "            X = np.zeros( (int(max_iter) + 2, ) )\n",
    "        else:\n",
    "            if x0.ndim == 1 and x0.size > 1:\n",
    "                X = np.zeros( (int(max_iter) + 2, x0.size) )\n",
    "        \n",
    "        X[count] = x0\n",
    "        \n",
    "    while count < max_iter:\n",
    "        count = count + 1\n",
    "        \n",
    "        x0 = x0 - gamma * fprime(x0, args)\n",
    "        if debug == True:\n",
    "            X[count] = x0\n",
    "            J[count] = f(x0, args)\n",
    "    \n",
    "    if debug == True:\n",
    "        return x0, count, X, J\n",
    "    else:\n",
    "        return x0, count\n",
    "    "
   ]
  },
  {
   "cell_type": "markdown",
   "metadata": {},
   "source": [
    "These are the cost function and gradient from the previous videos. We can use them to check our new code."
   ]
  },
  {
   "cell_type": "code",
   "execution_count": 137,
   "metadata": {},
   "outputs": [],
   "source": [
    "def linear_regression_cost_function_old(x0, x, y):\n",
    "    m = x0[0]\n",
    "    b = x0[1]\n",
    "    \n",
    "    return np.sum( np.square( (y - (m*x + b)) ) )\n",
    "\n",
    "def linear_regression_gradient_old(x0, args):\n",
    "    x = args[0]\n",
    "    y = args[1]\n",
    "    \n",
    "    m = x0[0]\n",
    "    b = x0[1]\n",
    "\n",
    "    Fp1 = np.sum(2 * (y - m*x -b) * (-x))\n",
    "    Fp2 = np.sum(2 * (y - m * x - b) * ( -1))\n",
    "    \n",
    "    return np.array( [Fp1, Fp2] )"
   ]
  },
  {
   "cell_type": "markdown",
   "metadata": {},
   "source": [
    "Let's build our new, fully vectorized functions."
   ]
  },
  {
   "cell_type": "code",
   "execution_count": 138,
   "metadata": {},
   "outputs": [],
   "source": [
    "def linear_regression_cost_function(theta, x, y):\n",
    "    x = x.T\n",
    "    \n",
    "    J = np.sum( np.square(y.T - np.matmul(theta.T, x) ) )\n",
    "    \n",
    "    return J\n",
    "\n",
    "def linear_regression_gradient(theta, arg):\n",
    "    x = args[0]\n",
    "    y = args[1]\n",
    "    \n",
    "    x = x.T\n",
    "    grad = (y.T - np.matmul(theta.T, x))\n",
    "    #grad = np.vstack( (grad, grad) )\n",
    "\n",
    "    grad = np.multiply(-2 * x, grad)\n",
    "\n",
    "    grad = np.sum(grad, axis = 1)\n",
    "    \n",
    "    grad.shape = (grad.size, 1)\n",
    "    \n",
    "    return grad"
   ]
  },
  {
   "cell_type": "code",
   "execution_count": 139,
   "metadata": {},
   "outputs": [
    {
     "name": "stdout",
     "output_type": "stream",
     "text": [
      "[[0.31438759]\n",
      " [1.90121727]]\n"
     ]
    }
   ],
   "source": [
    "#  Our initial guesses for theta.  Remember we want to recast it as a column vector.\n",
    "theta = np.array( [1, 1] )\n",
    "theta.shape  = (2, 1)\n",
    "\n",
    "#  Compare values from the old and new functions.\n",
    "#print( linear_regression_cost_function_old(theta, x, y))\n",
    "#print( linear_regression_cost_function(theta, X, y))\n",
    "\n",
    "#print( linear_regression_gradient_old(theta, (x, y)) )\n",
    "\n",
    "args = (X, y)\n",
    "#print( linear_regression_gradient(theta, args) )\n",
    "\n",
    "#  Run gradient descent using our new functions to get the slope and intercept.\n",
    "theta, count = gradient_descent(linear_regression_gradient, theta)\n",
    "print(theta)"
   ]
  },
  {
   "cell_type": "markdown",
   "metadata": {},
   "source": [
    "##  2-d (planar) fit\n",
    "Define and plot points that line in a plane."
   ]
  },
  {
   "cell_type": "code",
   "execution_count": 140,
   "metadata": {},
   "outputs": [],
   "source": [
    "np.random.seed(2)\n",
    "x = np.random.randint(-10, 11, size=(20,1))\n",
    "y = np.random.randint(-10, 11, size=(20,1))\n",
    "\n",
    "z = 0.5 * x - 0.75 * y - 2"
   ]
  },
  {
   "cell_type": "code",
   "execution_count": 141,
   "metadata": {},
   "outputs": [
    {
     "data": {
      "text/plain": [
       "<mpl_toolkits.mplot3d.art3d.Path3DCollection at 0x13ccafdeef0>"
      ]
     },
     "execution_count": 141,
     "metadata": {},
     "output_type": "execute_result"
    },
    {
     "data": {
      "image/png": "[encoded data removed]",
      "text/plain": [
       "<Figure size 432x288 with 1 Axes>"
      ]
     },
     "metadata": {
      "needs_background": "light"
     },
     "output_type": "display_data"
    }
   ],
   "source": [
    "fig = plt.figure()\n",
    "ax = fig.add_subplot(111, projection='3d')\n",
    "ax.scatter(x, y, z, c='r', marker='o')"
   ]
  },
  {
   "cell_type": "code",
   "execution_count": 143,
   "metadata": {},
   "outputs": [
    {
     "name": "stdout",
     "output_type": "stream",
     "text": [
      "[[-2.  ]\n",
      " [ 0.5 ]\n",
      " [-0.75]]\n"
     ]
    }
   ],
   "source": [
    "ones = np.ones( (x.size, 1) )\n",
    "X = np.hstack( (ones, x, y)  )\n",
    "theta = np.array( [1, 1, 1,] ); theta.shape = (3, 1)\n",
    "\n",
    "#  Call our gradient descent using the same linear regression functions defined above.\n",
    "args = (X, z)\n",
    "theta, count = gradient_descent(linear_regression_gradient, theta, args = args)\n",
    "print(theta)"
   ]
  },
  {
   "cell_type": "code",
   "execution_count": null,
   "metadata": {},
   "outputs": [],
   "source": []
  }
 ],
 "metadata": {
  "kernelspec": {
   "display_name": "Python 3",
   "language": "python",
   "name": "python3"
  },
  "language_info": {
   "codemirror_mode": {
    "name": "ipython",
    "version": 3
   },
   "file_extension": ".py",
   "mimetype": "text/x-python",
   "name": "python",
   "nbconvert_exporter": "python",
   "pygments_lexer": "ipython3",
   "version": "3.7.1"
  }
 },
 "nbformat": 4,
 "nbformat_minor": 2
}
