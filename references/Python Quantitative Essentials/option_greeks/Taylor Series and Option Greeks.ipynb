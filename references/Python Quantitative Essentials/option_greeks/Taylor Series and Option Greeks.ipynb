{
 "cells": [
  {
   "cell_type": "code",
   "execution_count": 4,
   "id": "trained-hello",
   "metadata": {},
   "outputs": [],
   "source": [
    "import numpy as np\n",
    "from scipy.stats import norm\n",
    "from sympy import Symbol, diff, erf, sqrt, init_printing, ln, exp, diff, lambdify\n",
    "import matplotlib.pyplot as plt\n",
    "\n",
    "%matplotlib inline"
   ]
  },
  {
   "cell_type": "markdown",
   "id": "palestinian-bobby",
   "metadata": {},
   "source": [
    "# General Math Background\n",
    "\n",
    "$$\n",
    "f(x) = f(a) + \\frac{f^\\prime(a)}{1!} (x-a) + \\frac{f^{\\prime\\prime}(a)}{2!}(x-a)2 + \\frac{f^{\\prime\\prime\\prime}(A)}{3!}(x-a)3 + \\cdots\n",
    "$$"
   ]
  },
  {
   "cell_type": "markdown",
   "id": "velvet-disposition",
   "metadata": {},
   "source": [
    "Consider $f(x) = \\sin(X)$ expande around $x=0$.\n",
    "\n",
    "\\begin{array}{lc}\n",
    "\\mbox{First Derivative}     & \\cos(x)     \\\\\n",
    "\\mbox{Second Derivative}    & -\\sin(x)    \\\\\n",
    "\\mbox{Third Derivative}     & -\\cos(x)    \\\\\n",
    "\\mbox{Fourth Derivative}    & \\sin(x)     \\\\\n",
    "\\mbox{Fifth Derivative}     & \\cos(x)\n",
    "\\end{array}"
   ]
  },
  {
   "cell_type": "code",
   "execution_count": 5,
   "id": "tight-definition",
   "metadata": {},
   "outputs": [
    {
     "data": {
      "text/plain": [
       "<matplotlib.legend.Legend at 0x1e12fc0c358>"
      ]
     },
     "execution_count": 5,
     "metadata": {},
     "output_type": "execute_result"
    },
    {
     "data": {
      "image/png": "[encoded data removed]",
      "text/plain": [
       "<Figure size 432x288 with 1 Axes>"
      ]
     },
     "metadata": {
      "needs_background": "light"
     },
     "output_type": "display_data"
    }
   ],
   "source": [
    "x = np.linspace(-np.pi, np.pi, 500)\n",
    "y = np.sin(x)\n",
    "\n",
    "plt.plot(x, y, 'k', label = 'f(x) = \\sin(x)$')\n",
    "plt.grid(True)\n",
    "plt.xlabel('x)')\n",
    "plt.ylabel('y')\n",
    "\n",
    "#  First Order\n",
    "taylor = np.sin(0) + np.cos(0)/np.math.factorial(1) * (x - 0)\n",
    "\n",
    "#  Second Order\n",
    "taylor = taylor + -np.sin(0) / np.math.factorial(2) * (x - 0)**2\n",
    "\n",
    "# Third order\n",
    "taylor = taylor + -np.cos(0) / np.math.factorial(3) * (x - 0)**3\n",
    "\n",
    "#  Fourth order\n",
    "taylor = taylor + np.sin(0) / np.math.factorial(4) * (x - 0)**4\n",
    "\n",
    "#  Fifth order\n",
    "taylor = taylor + np.cos(0) / np.math.factorial(5) * (x - 0)**5\n",
    "\n",
    "plt.plot(x, taylor, 'b', label = 'Taylor Approx.')\n",
    "\n",
    "plt.legend()"
   ]
  },
  {
   "cell_type": "markdown",
   "id": "intended-azerbaijan",
   "metadata": {},
   "source": [
    "#  The Greeks"
   ]
  },
  {
   "cell_type": "markdown",
   "id": "thousand-belize",
   "metadata": {},
   "source": [
    "#  What are the Greeks?\n",
    "\n",
    "In non-mathematical terms, the Greeks are a measurement of an option’s price sensitivity to small changes in some underlying variable such as price, time, or volatility.   In more mathematical terms, the Greeks are (partial) derivatives of the option price with respect to the quantity (or quantities) of interest.  \n",
    "\n",
    "A bit of notation first, \n",
    "\\begin{array}{lll}\n",
    "S    &  =  &  \\mbox{Stock Price} \\\\\n",
    "K    &  =  &  \\mbox{Strike Price} \\\\\n",
    "r    &  =  &  \\mbox{Risk-Free Rate} \\\\\n",
    "t     &  =  &  \\mbox{To Until Expiration} \\\\\n",
    "\\sigma   &  =  &  \\mbox{Implied Volatility} \\\\\n",
    "\\end{array}\n",
    "\n",
    "\n",
    "If you have a model that gives the option price $V$,\n",
    "\n",
    "$$V(S, K, r, t, \\sigma)$$\n",
    "\n",
    "\n",
    "\\begin{array}{ll}\n",
    "\\mbox{Delta}\\:(\\Delta)   & \\frac{\\partial V}{\\partial S} \\\\\n",
    "\\mbox{Gamma}\\:(\\Gamma)   & \\frac{\\partial^2 V}{\\partial S^2} \\\\\n",
    "\\mbox{Speed}                & \\frac{\\partial^3 V}{\\partial S^3} \\\\\n",
    "\\quad\\vdots                     & \\vdots \\\\\n",
    "\\mbox{Theta}\\:(\\Theta)   & \\frac{\\partial V}{\\partial t} \\\\\n",
    "                            & \\frac{\\partial^2 V}{\\partial t^2 } \\\\\n",
    "\\quad\\vdots & \\vdots\n",
    "\\end{array}\n",
    " "
   ]
  },
  {
   "cell_type": "markdown",
   "id": "subject-oklahoma",
   "metadata": {},
   "source": [
    "###  Black-Scholes Utility Functions"
   ]
  },
  {
   "cell_type": "code",
   "execution_count": 8,
   "id": "personal-crown",
   "metadata": {},
   "outputs": [],
   "source": [
    "#  Black-Scholes formulas for call and put prices\n",
    "def call_price(sigma, S, K, r, t):\n",
    "    d1 = np.multiply( 1. / sigma * np.divide(1., np.sqrt(t)),\n",
    "        np.log(S/K) + (r + sigma**2 / 2.) * t  )\n",
    "    d2 = d1 - sigma * np.sqrt(t)\n",
    "    \n",
    "    C = np.multiply(S, norm.cdf(d1)) - \\\n",
    "        np.multiply(norm.cdf(d2) * K, np.exp(-r * t))\n",
    "    return C\n",
    "\n",
    "def put_price(sigma, S, K, r, t):\n",
    "    d1 = np.multiply( 1. / sigma * np.divide(1., np.sqrt(t)),\n",
    "        np.log(S/K) + (r + sigma**2 / 2.) * t  )\n",
    "    d2 = d1 - sigma * np.sqrt(t)\n",
    "    \n",
    "    P = -np.multiply(S, norm.cdf(-d1)) + \\\n",
    "        np.multiply(norm.cdf(-d2) * K, np.exp(-r * t))\n",
    "    return P\n",
    "\n",
    "def theta(sigma,S, K, r, t, contract_type):\n",
    "    d1 = np.multiply( 1. / sigma * np.divide(1., np.sqrt(t)),\n",
    "        np.log(S/K) + (r + sigma**2 / 2.) * t  )\n",
    "    d2 = d1 - sigma * np.sqrt(t)\n",
    "    \n",
    "    if contract_type == 'c':\n",
    "        theta = -S * sigma * norm.pdf(d1) / (2 * np.sqrt(t)) - r * K * np.exp(-r * t) * norm.cdf(d2)\n",
    "    if contract_type == 'p':\n",
    "        theta = -S * sigma * norm.pdf(-d1) / (2 * np.sqrt(t)) + r * K * np.exp(-r * t) * norm.cdf(-d2)\n",
    "\n",
    "    return theta"
   ]
  },
  {
   "cell_type": "markdown",
   "id": "tested-removal",
   "metadata": {},
   "source": [
    "###   Sympy Utility Functions\n",
    "####  Time and spot Greeks for call options"
   ]
  },
  {
   "cell_type": "code",
   "execution_count": 6,
   "id": "interpreted-bracket",
   "metadata": {},
   "outputs": [],
   "source": [
    "def return_time_greeks(vol, SS, KK, rr, tt):\n",
    "\n",
    "    S = Symbol('S', real = True)\n",
    "    K = Symbol('K', real = True)\n",
    "    r = Symbol('r', real = True)\n",
    "    t = Symbol('t', real = True)\n",
    "    sigma = Symbol('sigma', real = True)\n",
    "\n",
    "    d1 = 1 / (sigma * sqrt(t)) * (ln(S/K) + (r + sigma**2 / 2) * t)\n",
    "    d2 = d1 - sigma * sqrt(t)\n",
    "\n",
    "    C = S * 0.5 * (1 + erf(d1 / sqrt(2))) - K * exp(-r * t) * 0.5 * (1 + erf(d2 / sqrt(2)))\n",
    "\n",
    "    Dt1 = diff(C, t)\n",
    "    Dt2 = diff(Dt1, t)\n",
    "    Dt3 = diff(Dt2, t)\n",
    "    Dt4 = diff(Dt3, t)\n",
    "    Dt5 = diff(Dt4, t)\n",
    "    Dt6 = diff(Dt5, t)\n",
    "    \n",
    "    output0 = lambdify( (sigma, S, K, r, t), C)\n",
    "    output1 = lambdify( (sigma, S, K, r, t), Dt1)\n",
    "    output2 = lambdify( (sigma, S, K, r, t), Dt2)\n",
    "    output3 = lambdify( (sigma, S, K, r, t), Dt3)\n",
    "    output4 = lambdify( (sigma, S, K, r, t), Dt4)\n",
    "    output5 = lambdify( (sigma, S, K, r, t), Dt5)\n",
    "    output6 = lambdify( (sigma, S, K, r, t), Dt6)\n",
    "    \n",
    "    return [output0(vol, SS, KK, rr, tt), \n",
    "            output1(vol, SS, KK, rr, tt), \n",
    "            output2(vol, SS, KK, rr, tt), \n",
    "            output3(vol, SS, KK, rr, tt), \n",
    "            output4(vol, SS, KK, rr, tt), \n",
    "            output5(vol, SS, KK, rr, tt), \n",
    "            output6(vol, SS, KK, rr, tt), ]\n",
    "\n",
    "\n",
    "def return_price_greeks(vol, SS, KK, rr, tt):\n",
    "\n",
    "    S = Symbol('S', real = True)\n",
    "    K = Symbol('K', real = True)\n",
    "    r = Symbol('r', real = True)\n",
    "    t = Symbol('t', real = True)\n",
    "    sigma = Symbol('sigma', real = True)\n",
    "\n",
    "    d1 = 1 / (sigma * sqrt(t)) * (ln(S/K) + (r + sigma**2 / 2) * t)\n",
    "    d2 = d1 - sigma * sqrt(t)\n",
    "\n",
    "    C = S * 0.5 * (1 + erf(d1 / sqrt(2))) - K * exp(-r * t) * 0.5 * (1 + erf(d2 / sqrt(2)))\n",
    "\n",
    "    dS1 = diff(C, S)\n",
    "    dS2 = diff(dS1, S)\n",
    "    dS3 = diff(dS2, S)\n",
    "    dS4 = diff(dS3, S)\n",
    "    dS5 = diff(dS4, S)\n",
    "    dS6 = diff(dS5, S)\n",
    "\n",
    "    output0 = lambdify( (sigma, S, K, r, t), C)\n",
    "    output1 = lambdify( (sigma, S, K, r, t), dS1)\n",
    "    output2 = lambdify( (sigma, S, K, r, t), dS2)\n",
    "    output3 = lambdify( (sigma, S, K, r, t), dS3)\n",
    "    output4 = lambdify( (sigma, S, K, r, t), dS4)\n",
    "    output5 = lambdify( (sigma, S, K, r, t), dS5)\n",
    "    output6 = lambdify( (sigma, S, K, r, t), dS6)\n",
    "\n",
    "    return [output0(vol, SS, KK, rr, tt), \n",
    "        output1(vol, SS, KK, rr, tt), \n",
    "        output2(vol, SS, KK, rr, tt), \n",
    "        output3(vol, SS, KK, rr, tt), \n",
    "        output4(vol, SS, KK, rr, tt), \n",
    "        output5(vol, SS, KK, rr, tt), \n",
    "        output6(vol, SS, KK, rr, tt), ]"
   ]
  },
  {
   "cell_type": "markdown",
   "id": "professional-animal",
   "metadata": {},
   "source": [
    "###  Time Greeks ($\\Theta, \\mbox{etc.}$)"
   ]
  },
  {
   "cell_type": "code",
   "execution_count": 11,
   "id": "floral-traffic",
   "metadata": {},
   "outputs": [
    {
     "name": "stderr",
     "output_type": "stream",
     "text": [
      "C:\\Users\\moone\\Anaconda3\\lib\\site-packages\\ipykernel_launcher.py:3: RuntimeWarning: divide by zero encountered in true_divide\n",
      "  This is separate from the ipykernel package so we can avoid doing imports until\n"
     ]
    },
    {
     "data": {
      "text/plain": [
       "<matplotlib.legend.Legend at 0x1db9141dcf8>"
      ]
     },
     "execution_count": 11,
     "metadata": {},
     "output_type": "execute_result"
    },
    {
     "data": {
      "image/png": "[encoded data removed]",
      "text/plain": [
       "<Figure size 432x288 with 1 Axes>"
      ]
     },
     "metadata": {
      "needs_background": "light"
     },
     "output_type": "display_data"
    }
   ],
   "source": [
    "S = 100\n",
    "K = 110\n",
    "r = 0.01\n",
    "t = 1\n",
    "sigma = 0.3\n",
    "\n",
    "tspan = np.linspace(1, 0, 366)\n",
    "C = call_price(sigma, S, K, r, tspan)\n",
    "\n",
    "plt.plot(tspan, C, 'k', label = 'Black-Scholes')\n",
    "plt.xlim(1, 0)\n",
    "plt.grid(True)\n",
    "plt.xlabel('Time to Expiration (Y)')\n",
    "plt.ylabel('Call price ($)')\n",
    "\n",
    "time_greeks = return_time_greeks(sigma, S, K, r, t)\n",
    "\n",
    "C0 = time_greeks[0]\n",
    "dt1 = time_greeks[1]\n",
    "dt2 = time_greeks[2]\n",
    "dt3 = time_greeks[3]\n",
    "dt4 = time_greeks[4]\n",
    "dt5 = time_greeks[5]\n",
    "dt6 = time_greeks[6]\n",
    "\n",
    "taylor = C[0] + dt1 * (tspan - 1)\n",
    "#taylor = taylor + dt2 / np.math.factorial(2) * (tspan-1)**2\n",
    "#taylor = taylor + dt3 / np.math.factorial(3) * (tspan-1)**3\n",
    "#taylor = taylor + dt4 / np.math.factorial(4) * (tspan-1)**4\n",
    "#taylor = taylor + dt5 / np.math.factorial(5) * (tspan-1)**5\n",
    "#taylor = taylor + dt6 / np.math.factorial(6) * (tspan-1)**6\n",
    "\n",
    "plt.plot(tspan, taylor, 'y', label = 'Taylor Approx')\n",
    "plt.legend()"
   ]
  },
  {
   "cell_type": "markdown",
   "id": "constitutional-photograph",
   "metadata": {},
   "source": [
    "###  Price Greeks ($\\Delta, \\Gamma, \\mbox{ect.}$)"
   ]
  },
  {
   "cell_type": "code",
   "execution_count": 12,
   "id": "stopped-finance",
   "metadata": {},
   "outputs": [
    {
     "data": {
      "text/plain": [
       "<matplotlib.legend.Legend at 0x1db913c8940>"
      ]
     },
     "execution_count": 12,
     "metadata": {},
     "output_type": "execute_result"
    },
    {
     "data": {
      "image/png": "[encoded data removed]",
      "text/plain": [
       "<Figure size 432x288 with 1 Axes>"
      ]
     },
     "metadata": {
      "needs_background": "light"
     },
     "output_type": "display_data"
    }
   ],
   "source": [
    "Sspan = np.linspace(80, 120, 500)\n",
    "K = 110\n",
    "r = 0.01\n",
    "t = 1\n",
    "sigma = 0.3\n",
    "\n",
    "C = call_price(sigma, Sspan, K, r, t)\n",
    "\n",
    "plt.plot(Sspan, C, 'k', label = 'Black-Scholes')\n",
    "plt.xlabel('Stock Price ($)')\n",
    "plt.ylabel('Call price ($)')\n",
    "plt.grid(True)\n",
    "\n",
    "S = 100\n",
    "\n",
    "price_greeks = return_price_greeks(sigma, S, K, r, t)\n",
    "\n",
    "C0 =  price_greeks[0]\n",
    "dS1 = price_greeks[1]\n",
    "dS2 = price_greeks[2]\n",
    "dS3 = price_greeks[3]\n",
    "dS4 = price_greeks[4]\n",
    "dS5 = price_greeks[5]\n",
    "dS6 = price_greeks[6]\n",
    "\n",
    "taylor = C0 + dS1 * (Sspan - S)\n",
    "taylor = taylor + dS2 / np.math.factorial(2) * (Sspan - S)**2\n",
    "\n",
    "plt.plot(Sspan, taylor, 'y', label = 'Taylor Approx')\n",
    "plt.legend()"
   ]
  },
  {
   "cell_type": "markdown",
   "id": "prepared-maria",
   "metadata": {},
   "source": [
    "###  Price Greeks with Shorter Time Horizon"
   ]
  },
  {
   "cell_type": "code",
   "execution_count": 14,
   "id": "infinite-walker",
   "metadata": {},
   "outputs": [
    {
     "data": {
      "text/plain": [
       "<matplotlib.legend.Legend at 0x1db9157ef98>"
      ]
     },
     "execution_count": 14,
     "metadata": {},
     "output_type": "execute_result"
    },
    {
     "data": {
      "image/png": "[encoded data removed]",
      "text/plain": [
       "<Figure size 432x288 with 1 Axes>"
      ]
     },
     "metadata": {
      "needs_background": "light"
     },
     "output_type": "display_data"
    }
   ],
   "source": [
    "Sspan = np.linspace(80, 120, 500)\n",
    "K = 110\n",
    "r = 0.01\n",
    "t = 1 / 12\n",
    "sigma = 0.3\n",
    "\n",
    "C = call_price(sigma, Sspan, K, r, t)\n",
    "\n",
    "plt.plot(Sspan, C, 'k', label = 'Black-Scholes')\n",
    "plt.xlabel('Stock Price ($)')\n",
    "plt.ylabel('Call price ($)')\n",
    "plt.grid(True)\n",
    "\n",
    "S = 100\n",
    "\n",
    "price_greeks = return_price_greeks(sigma, S, K, r, t)\n",
    "\n",
    "C0 =  price_greeks[0]\n",
    "dS1 = price_greeks[1]\n",
    "dS2 = price_greeks[2]\n",
    "dS3 = price_greeks[3]\n",
    "dS4 = price_greeks[4]\n",
    "dS5 = price_greeks[5]\n",
    "dS6 = price_greeks[6]\n",
    "\n",
    "taylor = C0 + dS1 * (Sspan - S)\n",
    "#taylor = taylor + dS2 / np.math.factorial(2) * (Sspan - S)**2\n",
    "#taylor = taylor + dS3 / np.math.factorial(3) * (Sspan - S)**3\n",
    "#taylor = taylor + dS4 / np.math.factorial(4) * (Sspan - S)**4\n",
    "#taylor = taylor + dS5 / np.math.factorial(5) * (Sspan - S)**5\n",
    "#taylor = taylor + dS6 / np.math.factorial(6) * (Sspan - S)**6\n",
    "\n",
    "plt.plot(Sspan, taylor, 'y', label = 'Taylor Approx')\n",
    "plt.legend()"
   ]
  },
  {
   "cell_type": "code",
   "execution_count": null,
   "id": "appointed-clinic",
   "metadata": {},
   "outputs": [],
   "source": []
  }
 ],
 "metadata": {
  "kernelspec": {
   "display_name": "Python 3",
   "language": "python",
   "name": "python3"
  },
  "language_info": {
   "codemirror_mode": {
    "name": "ipython",
    "version": 3
   },
   "file_extension": ".py",
   "mimetype": "text/x-python",
   "name": "python",
   "nbconvert_exporter": "python",
   "pygments_lexer": "ipython3",
   "version": "3.7.1"
  }
 },
 "nbformat": 4,
 "nbformat_minor": 5
}
